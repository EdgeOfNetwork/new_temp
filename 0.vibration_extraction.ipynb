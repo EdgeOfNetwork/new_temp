{
 "cells": [
  {
   "attachments": {},
   "cell_type": "markdown",
   "metadata": {},
   "source": [
    "1.Current Feature\n",
    "========================\n",
    "\n",
    "## Time Feature \n",
    "AbsMax\n",
    "AbsMean\n",
    "P2P\n",
    "Skewness\n",
    "Kurtosis\n",
    "RMS\n",
    "CrestFactor\n",
    "ShapeFactor\n",
    "ImpulseFactor\n",
    "\n",
    "## Phase Feature \n",
    "Shift\n",
    "RS-Phase Shift\n",
    "ST-Phase Shift\n",
    "TR-Phase Shift\n",
    "Phase Level Shift\n",
    "## Frequency Feature \n",
    "FFT\n",
    "Frequency IDX(1x~4x)\n",
    "\n",
    "\n",
    "\n",
    "2.Vibration Feature\n",
    "=============================================\n",
    "\n",
    "AbsMax\n",
    "AbsMean\n",
    "P2P\n",
    "Skewness\n",
    "Kurtosis\n",
    "RMS\n",
    "CrestFactor\n",
    "ShapeFactor\n",
    "ImpulseFactor\n",
    "## Vibration Feature\n",
    "FFT\n",
    "Fequency IDX(1x~4x)"
   ]
  },
  {
   "cell_type": "code",
   "execution_count": 1,
   "metadata": {},
   "outputs": [],
   "source": [
    "import glob\n",
    "import numpy as np\n",
    "import pandas as pd\n",
    "\n",
    "import scipy\n",
    "import sklearn\n",
    "from sklearn.metrics import accuracy_score, classification_report\n",
    "from scipy.stats import skew, kurtosis"
   ]
  },
  {
   "cell_type": "code",
   "execution_count": 2,
   "metadata": {},
   "outputs": [],
   "source": [
    "class Extract_Time_Features:    \n",
    "    def __init__(self, rawTimeData):\n",
    "        self._TimeFeatures = []\n",
    "        self._rawTimeData = rawTimeData\n",
    "\n",
    "    def AbsMax(self):\n",
    "        self._absmax = np.abs(self._rawTimeData).max(axis=1)\n",
    "        return self._absmax\n",
    "    \n",
    "    def AbsMean(self):\n",
    "        self._absmean = np.abs(self._rawTimeData).mean(axis=1)\n",
    "        return self._absmean\n",
    "    \n",
    "    def P2P(self):\n",
    "        self._peak2peak = np.max(self._rawTimeData,axis=1) - np.min(self._rawTimeData,axis=1)\n",
    "        return self._peak2peak \n",
    "    \n",
    "    def Skewness(self):\n",
    "        self._skewness = skew(self._rawTimeData, axis=1, nan_policy='raise')\n",
    "        return self._skewness\n",
    "    \n",
    "    def Kurtosis(self):\n",
    "        self._kurtosis = kurtosis(self._rawTimeData, axis=1, fisher=False)\n",
    "        return self._kurtosis\n",
    "\n",
    "    def RMS(self):\n",
    "        self._rms = np.sqrt(np.sum(self._rawTimeData**2, axis=1) / self._rawTimeData.shape[1])\n",
    "        return self._rms\n",
    "    \n",
    "    def CrestFactor(self):\n",
    "        self._cresfactor = self.P2P() / self.RMS()\n",
    "        return self._cresfactor\n",
    "    \n",
    "    def ShapeFactor(self):\n",
    "        self._shapefactor = self.RMS() / self.AbsMean()\n",
    "        return self._shapefactor\n",
    "    \n",
    "    def ImpulseFactor(self):\n",
    "        self._impulsefactor = self.AbsMax() / self.AbsMean()\n",
    "        return self._impulsefactor\n",
    "\n",
    "    def Features(self):\n",
    "        # Time-domain Features #\n",
    "        self._TimeFeatures.append(self.AbsMax())        # Feature 1: Absolute Maximum \n",
    "        self._TimeFeatures.append(self.AbsMean())       # Feature 2: Absolute Mean\n",
    "        self._TimeFeatures.append(self.P2P())           # Feature 3: Peak-to-Peak\n",
    "        self._TimeFeatures.append(self.RMS())           # Feature 4: Root-mean-square\n",
    "        self._TimeFeatures.append(self.Skewness())      # Feature 5: Skewness\n",
    "        self._TimeFeatures.append(self.Kurtosis())      # Feature 6: Kurtosis\n",
    "        self._TimeFeatures.append(self.CrestFactor())   # Feature 7: Crest Factor\n",
    "        self._TimeFeatures.append(self.ShapeFactor())   # Feature 8: Shape Factor\n",
    "        self._TimeFeatures.append(self.ImpulseFactor()) # Feature 9: Impulse Factor\n",
    "                \n",
    "        return np.asarray(self._TimeFeatures)"
   ]
  },
  {
   "cell_type": "code",
   "execution_count": 3,
   "metadata": {},
   "outputs": [],
   "source": [
    "class Extract_Freq_Features:    \n",
    "    def __init__(self, rawTimeData, rpm, Fs):\n",
    "        self._FreqFeatures = []\n",
    "        # Remove bias (subtract mean by each channel) #\n",
    "        self._rawTimeData = rawTimeData - np.expand_dims(np.mean(rawTimeData,axis=1),axis=1) # Raw time data\n",
    "        \n",
    "        self._Fs = Fs                    # Sampling frequency [Hz]\n",
    "        self._rpm = rpm/60               # RPM for every second [Hz]\n",
    "       \n",
    "    def FFT(self):\n",
    "        # Perform FFT #\n",
    "        _N = self._rawTimeData.shape[1]\n",
    "        _dt = 1/self._Fs\n",
    "        _yf_temp = np.fft.fft(self._rawTimeData)\n",
    "        self._yf = np.abs(_yf_temp[:,:int(_N/2)]) / (_N/2)\n",
    "        self._xf = np.fft.fftfreq(_N, d=_dt)[:int(_N/2)]\n",
    "        \n",
    "        return self._xf, self._yf\n",
    "    \n",
    "    def Freq_IDX(self):\n",
    "        _xf,_yf = self.FFT()\n",
    "        \n",
    "        # Motor #\n",
    "        # find frequency index of 1x #\n",
    "        self._Freq_1x = self._rpm\n",
    "        self._1x_idx_Temp = abs(_xf - self._Freq_1x).argmin()\n",
    "        self._1x_idx_Temp = self._1x_idx_Temp - 2 + np.argmax(self._yf[0][np.arange(self._1x_idx_Temp-2, self._1x_idx_Temp+3)])\n",
    "        self._1x_idx = np.arange(self._1x_idx_Temp-1, self._1x_idx_Temp+2)\n",
    "\n",
    "        # find frequency index of 2x #\n",
    "        self._Freq_2x = self._xf[self._1x_idx[1]] * 2\n",
    "        self._2x_idx_Temp = abs(_xf - self._Freq_2x).argmin()\n",
    "        self._2x_idx_Temp = self._2x_idx_Temp - 5 + np.argmax(self._yf[0][np.arange(self._2x_idx_Temp-5, self._2x_idx_Temp+6)])\n",
    "        self._2x_idx = np.arange(self._2x_idx_Temp-1, self._2x_idx_Temp+2)\n",
    "        \n",
    "        # find frequency index of 3x #\n",
    "        self._Freq_3x = self._xf[self._1x_idx[1]] * 3\n",
    "        self._3x_idx_Temp = abs(_xf - self._Freq_3x).argmin()\n",
    "        self._3x_idx_Temp = self._3x_idx_Temp - 5 + np.argmax(self._yf[0][np.arange(self._3x_idx_Temp-5, self._3x_idx_Temp+6)])\n",
    "        self._3x_idx = np.arange(self._3x_idx_Temp-1, self._3x_idx_Temp+2)\n",
    "        \n",
    "        # find frequency index of 4x #\n",
    "        self._Freq_4x = self._xf[self._1x_idx[1]]  * 4\n",
    "        self._4x_idx_Temp = abs(_xf - self._Freq_4x).argmin()\n",
    "        self._4x_idx_Temp = self._4x_idx_Temp - 5 + np.argmax(self._yf[0][np.arange(self._4x_idx_Temp-5, self._4x_idx_Temp+6)])\n",
    "        self._4x_idx = np.arange(self._4x_idx_Temp-1, self._4x_idx_Temp+2)\n",
    "        \n",
    "        # Belt #\n",
    "        # find frequency index of 1x #\n",
    "        self._Freq_1x_B = self._Freq_1x - 5\n",
    "        self._1x_idx_B_Temp = abs(_xf - self._Freq_1x_B).argmin()\n",
    "        self._1x_idx_B_Temp = self._1x_idx_B_Temp - 2 + np.argmax(self._yf[0][np.arange(self._1x_idx_B_Temp-2, self._1x_idx_B_Temp+3)])\n",
    "        self._1x_idx_B = np.arange(self._1x_idx_B_Temp-1, self._1x_idx_B_Temp+2)\n",
    "\n",
    "        # find frequency index of 2x #\n",
    "        self._Freq_2x_B = self._xf[self._1x_idx_B[1]] * 2\n",
    "        self._2x_idx_B_Temp = abs(_xf - self._Freq_2x_B).argmin()\n",
    "        self._2x_idx_B_Temp = self._2x_idx_B_Temp - 5 + np.argmax(self._yf[0][np.arange(self._2x_idx_B_Temp-5, self._2x_idx_B_Temp+6)])\n",
    "        self._2x_idx_B = np.arange(self._2x_idx_B_Temp-1, self._2x_idx_B_Temp+2)\n",
    "        \n",
    "        # find frequency index of 3x #\n",
    "        self._Freq_3x_B = self._xf[self._1x_idx_B[1]] * 3\n",
    "        self._3x_idx_B_Temp = abs(_xf - self._Freq_3x_B).argmin()\n",
    "        self._3x_idx_B_Temp = self._3x_idx_B_Temp - 5 + np.argmax(self._yf[0][np.arange(self._3x_idx_B_Temp-5, self._3x_idx_B_Temp+6)])\n",
    "        self._3x_idx_B = np.arange(self._3x_idx_B_Temp-1, self._3x_idx_B_Temp+2)\n",
    "        \n",
    "        # find frequency index of 4x #\n",
    "        self._Freq_4x_B = self._xf[self._1x_idx_B[1]] * 4\n",
    "        self._4x_idx_B_Temp = abs(_xf - self._Freq_4x_B).argmin()\n",
    "        self._4x_idx_B_Temp = self._4x_idx_B_Temp - 5 + np.argmax(self._yf[0][np.arange(self._4x_idx_B_Temp-5, self._4x_idx_B_Temp+6)])\n",
    "        self._4x_idx_B = np.arange(self._4x_idx_B_Temp-1, self._4x_idx_B_Temp+2)\n",
    "        \n",
    "        \n",
    "        return (self._1x_idx, self._2x_idx, self._3x_idx, self._4x_idx,\n",
    "                self._1x_idx_B, self._2x_idx_B, self._3x_idx_B, self._4x_idx_B)\n",
    "\n",
    "    def Features(self):\n",
    "        _xf, _yf = self.FFT()\n",
    "        idx = self.Freq_IDX()\n",
    "                \n",
    "        # Freq-domain Features #\n",
    "        self._1x_Feature = np.sum(_yf[:, idx[0]], axis=1) \n",
    "        self._2x_Feature = np.sum(_yf[:, idx[1]], axis=1) \n",
    "        self._3x_Feature = np.sum(_yf[:, idx[2]], axis=1) \n",
    "        self._4x_Feature = np.sum(_yf[:, idx[3]], axis=1)\n",
    "        self._1x_Feature_B = np.sum(_yf[:, idx[4]], axis=1) \n",
    "        self._2x_Feature_B = np.sum(_yf[:, idx[5]], axis=1) \n",
    "        self._3x_Feature_B = np.sum(_yf[:, idx[6]], axis=1) \n",
    "        self._4x_Feature_B = np.sum(_yf[:, idx[7]], axis=1) \n",
    "                \n",
    "        self._FreqFeatures.append(self._1x_Feature)\n",
    "        self._FreqFeatures.append(self._2x_Feature)\n",
    "        self._FreqFeatures.append(self._3x_Feature)\n",
    "        self._FreqFeatures.append(self._4x_Feature)\n",
    "        self._FreqFeatures.append(self._1x_Feature_B)\n",
    "        self._FreqFeatures.append(self._2x_Feature_B)\n",
    "        self._FreqFeatures.append(self._3x_Feature_B)\n",
    "        self._FreqFeatures.append(self._4x_Feature_B)\n",
    "        \n",
    "        return np.asarray(self._FreqFeatures)"
   ]
  },
  {
   "cell_type": "code",
   "execution_count": 4,
   "metadata": {},
   "outputs": [],
   "source": [
    "def validation(filename):\n",
    "    vib = pd.read_csv(filename, header=None, skiprows=9)\n",
    "    vib = np.asarray(vib)[:,1:-1].transpose()\n",
    "\n",
    "    date = pd.read_csv(filename, header=None, skiprows=0, nrows=1)\n",
    "    date = date[1]\n",
    "\n",
    "    meta = pd.read_csv(filename, header=None, skiprows=4, nrows=1)\n",
    "    rpm = int(meta[2])\n",
    "\n",
    "    fs = pd.read_csv(filename, header=None, skiprows=6, nrows=1)\n",
    "    Fs = int(fs[1])\n",
    "\n",
    "    TimeFeatureExtractor = Extract_Time_Features(vib)\n",
    "    features_time = TimeFeatureExtractor.Features().flatten()\n",
    "\n",
    "    FreqFeatureExtractor = Extract_Freq_Features(vib, rpm, Fs)\n",
    "    features_freq = FreqFeatureExtractor.Features().flatten()\n",
    "\n",
    "    y = pd.read_csv(filename, header=None, skiprows=3, nrows=1)\n",
    "    y = y[1]\n",
    "    \n",
    "    vib_dataset = np.concatenate((date, features_time, features_freq, meta[3], y))\n",
    "\n",
    "    return vib_dataset"
   ]
  },
  {
   "cell_type": "markdown",
   "metadata": {},
   "source": [
    "# Vibration Training"
   ]
  },
  {
   "cell_type": "code",
   "execution_count": 9,
   "metadata": {},
   "outputs": [],
   "source": [
    "folder_path = \"C:/Users/qhrrl/CodeExamples/3.Paper/0.Dataset\"\n",
    "\n",
    "datapath = glob.glob(folder_path + \"/vib_training_2.2\" + '**/**/*.csv', recursive=True)"
   ]
  },
  {
   "cell_type": "code",
   "execution_count": 10,
   "metadata": {},
   "outputs": [
    {
     "data": {
      "text/plain": [
       "196032"
      ]
     },
     "execution_count": 10,
     "metadata": {},
     "output_type": "execute_result"
    }
   ],
   "source": [
    "len(datapath)"
   ]
  },
  {
   "cell_type": "code",
   "execution_count": 11,
   "metadata": {},
   "outputs": [],
   "source": [
    "vib_dataset_list = []\n",
    "\n",
    "for file in datapath:\n",
    "    dataset = validation(file)\n",
    "    vib_dataset_list.append(dataset)"
   ]
  },
  {
   "cell_type": "code",
   "execution_count": 12,
   "metadata": {},
   "outputs": [],
   "source": [
    "vib_dataset = pd.DataFrame(vib_dataset_list)"
   ]
  },
  {
   "cell_type": "code",
   "execution_count": 13,
   "metadata": {},
   "outputs": [],
   "source": [
    "vib_dataset.columns = [ 'Date',\n",
    "    'AbsMax', 'AbsMean', 'P2P', 'RMS', 'Skewness', 'Kurtosis', 'Crest', \n",
    "    'Shape', 'Impulse','1x', '2x', '3x', '4x', '1xB', '2xB', '3xB', '4xB',\n",
    "               'WATT', 'LABEL']"
   ]
  },
  {
   "cell_type": "code",
   "execution_count": 14,
   "metadata": {},
   "outputs": [
    {
     "data": {
      "text/html": [
       "<div>\n",
       "<style scoped>\n",
       "    .dataframe tbody tr th:only-of-type {\n",
       "        vertical-align: middle;\n",
       "    }\n",
       "\n",
       "    .dataframe tbody tr th {\n",
       "        vertical-align: top;\n",
       "    }\n",
       "\n",
       "    .dataframe thead th {\n",
       "        text-align: right;\n",
       "    }\n",
       "</style>\n",
       "<table border=\"1\" class=\"dataframe\">\n",
       "  <thead>\n",
       "    <tr style=\"text-align: right;\">\n",
       "      <th></th>\n",
       "      <th>Date</th>\n",
       "      <th>AbsMax</th>\n",
       "      <th>AbsMean</th>\n",
       "      <th>P2P</th>\n",
       "      <th>RMS</th>\n",
       "      <th>Skewness</th>\n",
       "      <th>Kurtosis</th>\n",
       "      <th>Crest</th>\n",
       "      <th>Shape</th>\n",
       "      <th>Impulse</th>\n",
       "      <th>1x</th>\n",
       "      <th>2x</th>\n",
       "      <th>3x</th>\n",
       "      <th>4x</th>\n",
       "      <th>1xB</th>\n",
       "      <th>2xB</th>\n",
       "      <th>3xB</th>\n",
       "      <th>4xB</th>\n",
       "      <th>WATT</th>\n",
       "      <th>LABEL</th>\n",
       "    </tr>\n",
       "  </thead>\n",
       "  <tbody>\n",
       "    <tr>\n",
       "      <th>0</th>\n",
       "      <td>2020-11-25 15:47:09</td>\n",
       "      <td>0.031503</td>\n",
       "      <td>0.002348</td>\n",
       "      <td>0.041003</td>\n",
       "      <td>0.002963</td>\n",
       "      <td>-0.252712</td>\n",
       "      <td>4.821787</td>\n",
       "      <td>13.839364</td>\n",
       "      <td>1.261929</td>\n",
       "      <td>13.418192</td>\n",
       "      <td>0.000168</td>\n",
       "      <td>0.000179</td>\n",
       "      <td>0.000778</td>\n",
       "      <td>0.000514</td>\n",
       "      <td>0.000215</td>\n",
       "      <td>0.000408</td>\n",
       "      <td>0.000186</td>\n",
       "      <td>0.001045</td>\n",
       "      <td>2.2</td>\n",
       "      <td>0</td>\n",
       "    </tr>\n",
       "    <tr>\n",
       "      <th>1</th>\n",
       "      <td>2020-11-25 15:47:12</td>\n",
       "      <td>0.050405</td>\n",
       "      <td>0.002355</td>\n",
       "      <td>0.061181</td>\n",
       "      <td>0.003016</td>\n",
       "      <td>-0.658560</td>\n",
       "      <td>11.017264</td>\n",
       "      <td>20.288108</td>\n",
       "      <td>1.280328</td>\n",
       "      <td>21.400306</td>\n",
       "      <td>0.000550</td>\n",
       "      <td>0.000262</td>\n",
       "      <td>0.000381</td>\n",
       "      <td>0.000484</td>\n",
       "      <td>0.000168</td>\n",
       "      <td>0.000309</td>\n",
       "      <td>0.000311</td>\n",
       "      <td>0.001069</td>\n",
       "      <td>2.2</td>\n",
       "      <td>0</td>\n",
       "    </tr>\n",
       "    <tr>\n",
       "      <th>2</th>\n",
       "      <td>2020-11-25 15:47:15</td>\n",
       "      <td>0.026258</td>\n",
       "      <td>0.002471</td>\n",
       "      <td>0.036879</td>\n",
       "      <td>0.003133</td>\n",
       "      <td>-0.281960</td>\n",
       "      <td>4.263064</td>\n",
       "      <td>11.769368</td>\n",
       "      <td>1.268231</td>\n",
       "      <td>10.627622</td>\n",
       "      <td>0.000262</td>\n",
       "      <td>0.000239</td>\n",
       "      <td>0.000797</td>\n",
       "      <td>0.000665</td>\n",
       "      <td>0.000154</td>\n",
       "      <td>0.000403</td>\n",
       "      <td>0.000160</td>\n",
       "      <td>0.001294</td>\n",
       "      <td>2.2</td>\n",
       "      <td>0</td>\n",
       "    </tr>\n",
       "  </tbody>\n",
       "</table>\n",
       "</div>"
      ],
      "text/plain": [
       "                  Date    AbsMax   AbsMean       P2P       RMS  Skewness  \\\n",
       "0  2020-11-25 15:47:09  0.031503  0.002348  0.041003  0.002963 -0.252712   \n",
       "1  2020-11-25 15:47:12  0.050405  0.002355  0.061181  0.003016 -0.658560   \n",
       "2  2020-11-25 15:47:15  0.026258  0.002471  0.036879  0.003133 -0.281960   \n",
       "\n",
       "    Kurtosis      Crest     Shape    Impulse        1x        2x        3x  \\\n",
       "0   4.821787  13.839364  1.261929  13.418192  0.000168  0.000179  0.000778   \n",
       "1  11.017264  20.288108  1.280328  21.400306  0.000550  0.000262  0.000381   \n",
       "2   4.263064  11.769368  1.268231  10.627622  0.000262  0.000239  0.000797   \n",
       "\n",
       "         4x       1xB       2xB       3xB       4xB  WATT  LABEL  \n",
       "0  0.000514  0.000215  0.000408  0.000186  0.001045   2.2      0  \n",
       "1  0.000484  0.000168  0.000309  0.000311  0.001069   2.2      0  \n",
       "2  0.000665  0.000154  0.000403  0.000160  0.001294   2.2      0  "
      ]
     },
     "execution_count": 14,
     "metadata": {},
     "output_type": "execute_result"
    }
   ],
   "source": [
    "vib_dataset.head(3)"
   ]
  },
  {
   "cell_type": "code",
   "execution_count": 15,
   "metadata": {},
   "outputs": [
    {
     "data": {
      "text/plain": [
       "196032"
      ]
     },
     "execution_count": 15,
     "metadata": {},
     "output_type": "execute_result"
    }
   ],
   "source": [
    "len(vib_dataset)"
   ]
  },
  {
   "cell_type": "code",
   "execution_count": 16,
   "metadata": {},
   "outputs": [
    {
     "data": {
      "text/plain": [
       "<AxesSubplot:xlabel='LABEL', ylabel='count'>"
      ]
     },
     "execution_count": 16,
     "metadata": {},
     "output_type": "execute_result"
    },
    {
     "data": {
      "image/png": "[encoded data removed]",
      "text/plain": [
       "<Figure size 432x288 with 1 Axes>"
      ]
     },
     "metadata": {
      "needs_background": "light"
     },
     "output_type": "display_data"
    }
   ],
   "source": [
    "import seaborn as sns\n",
    "\n",
    "sns.countplot(x='LABEL', data=vib_dataset)"
   ]
  },
  {
   "cell_type": "code",
   "execution_count": 17,
   "metadata": {},
   "outputs": [],
   "source": [
    "vib_dataset.to_csv('vib_training_all.csv', index=False)"
   ]
  },
  {
   "cell_type": "markdown",
   "metadata": {},
   "source": [
    "# Vibration validation"
   ]
  },
  {
   "cell_type": "code",
   "execution_count": 18,
   "metadata": {},
   "outputs": [],
   "source": [
    "datapath = glob.glob(folder_path + \"/vib_validation_2.2\" + '**/**/*.csv', recursive=True)"
   ]
  },
  {
   "cell_type": "code",
   "execution_count": 19,
   "metadata": {},
   "outputs": [
    {
     "data": {
      "text/plain": [
       "24522"
      ]
     },
     "execution_count": 19,
     "metadata": {},
     "output_type": "execute_result"
    }
   ],
   "source": [
    "len(datapath)"
   ]
  },
  {
   "cell_type": "code",
   "execution_count": 20,
   "metadata": {},
   "outputs": [],
   "source": [
    "vib_dataset_list_val = []\n",
    "\n",
    "for file in datapath:\n",
    "    val_dataset = validation(file)\n",
    "    vib_dataset_list_val.append(val_dataset)"
   ]
  },
  {
   "cell_type": "code",
   "execution_count": 21,
   "metadata": {},
   "outputs": [
    {
     "data": {
      "text/html": [
       "<div>\n",
       "<style scoped>\n",
       "    .dataframe tbody tr th:only-of-type {\n",
       "        vertical-align: middle;\n",
       "    }\n",
       "\n",
       "    .dataframe tbody tr th {\n",
       "        vertical-align: top;\n",
       "    }\n",
       "\n",
       "    .dataframe thead th {\n",
       "        text-align: right;\n",
       "    }\n",
       "</style>\n",
       "<table border=\"1\" class=\"dataframe\">\n",
       "  <thead>\n",
       "    <tr style=\"text-align: right;\">\n",
       "      <th></th>\n",
       "      <th>0</th>\n",
       "      <th>1</th>\n",
       "      <th>2</th>\n",
       "      <th>3</th>\n",
       "      <th>4</th>\n",
       "      <th>5</th>\n",
       "      <th>6</th>\n",
       "      <th>7</th>\n",
       "      <th>8</th>\n",
       "      <th>9</th>\n",
       "      <th>10</th>\n",
       "      <th>11</th>\n",
       "      <th>12</th>\n",
       "      <th>13</th>\n",
       "      <th>14</th>\n",
       "      <th>15</th>\n",
       "      <th>16</th>\n",
       "      <th>17</th>\n",
       "      <th>18</th>\n",
       "      <th>19</th>\n",
       "    </tr>\n",
       "  </thead>\n",
       "  <tbody>\n",
       "    <tr>\n",
       "      <th>0</th>\n",
       "      <td>2020-11-25 14:11:30</td>\n",
       "      <td>0.045103</td>\n",
       "      <td>0.002272</td>\n",
       "      <td>0.056123</td>\n",
       "      <td>0.002949</td>\n",
       "      <td>-1.052663</td>\n",
       "      <td>14.286923</td>\n",
       "      <td>19.030214</td>\n",
       "      <td>1.297919</td>\n",
       "      <td>19.849866</td>\n",
       "      <td>0.000467</td>\n",
       "      <td>0.000282</td>\n",
       "      <td>0.000256</td>\n",
       "      <td>0.000372</td>\n",
       "      <td>0.000290</td>\n",
       "      <td>0.000294</td>\n",
       "      <td>0.000198</td>\n",
       "      <td>0.000170</td>\n",
       "      <td>2.2</td>\n",
       "      <td>0</td>\n",
       "    </tr>\n",
       "    <tr>\n",
       "      <th>1</th>\n",
       "      <td>2020-11-25 14:11:33</td>\n",
       "      <td>0.034806</td>\n",
       "      <td>0.002352</td>\n",
       "      <td>0.044912</td>\n",
       "      <td>0.003002</td>\n",
       "      <td>-0.518928</td>\n",
       "      <td>6.886467</td>\n",
       "      <td>14.960807</td>\n",
       "      <td>1.276331</td>\n",
       "      <td>14.798102</td>\n",
       "      <td>0.000555</td>\n",
       "      <td>0.000243</td>\n",
       "      <td>0.000332</td>\n",
       "      <td>0.000374</td>\n",
       "      <td>0.000237</td>\n",
       "      <td>0.000355</td>\n",
       "      <td>0.000166</td>\n",
       "      <td>0.000260</td>\n",
       "      <td>2.2</td>\n",
       "      <td>0</td>\n",
       "    </tr>\n",
       "    <tr>\n",
       "      <th>2</th>\n",
       "      <td>2020-11-25 14:11:36</td>\n",
       "      <td>0.020148</td>\n",
       "      <td>0.002250</td>\n",
       "      <td>0.030580</td>\n",
       "      <td>0.002812</td>\n",
       "      <td>-0.095521</td>\n",
       "      <td>3.272939</td>\n",
       "      <td>10.873323</td>\n",
       "      <td>1.249954</td>\n",
       "      <td>8.954917</td>\n",
       "      <td>0.000608</td>\n",
       "      <td>0.000204</td>\n",
       "      <td>0.000195</td>\n",
       "      <td>0.000395</td>\n",
       "      <td>0.000230</td>\n",
       "      <td>0.000558</td>\n",
       "      <td>0.000167</td>\n",
       "      <td>0.000324</td>\n",
       "      <td>2.2</td>\n",
       "      <td>0</td>\n",
       "    </tr>\n",
       "  </tbody>\n",
       "</table>\n",
       "</div>"
      ],
      "text/plain": [
       "                    0         1         2         3         4         5   \\\n",
       "0  2020-11-25 14:11:30  0.045103  0.002272  0.056123  0.002949 -1.052663   \n",
       "1  2020-11-25 14:11:33  0.034806  0.002352  0.044912  0.003002 -0.518928   \n",
       "2  2020-11-25 14:11:36  0.020148  0.002250  0.030580  0.002812 -0.095521   \n",
       "\n",
       "          6          7         8          9         10        11        12  \\\n",
       "0  14.286923  19.030214  1.297919  19.849866  0.000467  0.000282  0.000256   \n",
       "1   6.886467  14.960807  1.276331  14.798102  0.000555  0.000243  0.000332   \n",
       "2   3.272939  10.873323  1.249954   8.954917  0.000608  0.000204  0.000195   \n",
       "\n",
       "         13        14        15        16        17   18  19  \n",
       "0  0.000372  0.000290  0.000294  0.000198  0.000170  2.2   0  \n",
       "1  0.000374  0.000237  0.000355  0.000166  0.000260  2.2   0  \n",
       "2  0.000395  0.000230  0.000558  0.000167  0.000324  2.2   0  "
      ]
     },
     "execution_count": 21,
     "metadata": {},
     "output_type": "execute_result"
    }
   ],
   "source": [
    "pd_vib_dataset = pd.DataFrame(vib_dataset_list_val)\n",
    "pd_vib_dataset.head(3)"
   ]
  },
  {
   "cell_type": "code",
   "execution_count": 22,
   "metadata": {},
   "outputs": [],
   "source": [
    "pd_vib_dataset.columns = [ 'Date',\n",
    "    'AbsMax', 'AbsMean', 'P2P', 'RMS', 'Skewness', 'Kurtosis', 'Crest', \n",
    "    'Shape', 'Impulse','1x', '2x', '3x', '4x', '1xB', '2xB', '3xB', '4xB',\n",
    "               'WATT', 'LABEL']"
   ]
  },
  {
   "cell_type": "code",
   "execution_count": 23,
   "metadata": {},
   "outputs": [
    {
     "data": {
      "text/html": [
       "<div>\n",
       "<style scoped>\n",
       "    .dataframe tbody tr th:only-of-type {\n",
       "        vertical-align: middle;\n",
       "    }\n",
       "\n",
       "    .dataframe tbody tr th {\n",
       "        vertical-align: top;\n",
       "    }\n",
       "\n",
       "    .dataframe thead th {\n",
       "        text-align: right;\n",
       "    }\n",
       "</style>\n",
       "<table border=\"1\" class=\"dataframe\">\n",
       "  <thead>\n",
       "    <tr style=\"text-align: right;\">\n",
       "      <th></th>\n",
       "      <th>Date</th>\n",
       "      <th>AbsMax</th>\n",
       "      <th>AbsMean</th>\n",
       "      <th>P2P</th>\n",
       "      <th>RMS</th>\n",
       "      <th>Skewness</th>\n",
       "      <th>Kurtosis</th>\n",
       "      <th>Crest</th>\n",
       "      <th>Shape</th>\n",
       "      <th>Impulse</th>\n",
       "      <th>1x</th>\n",
       "      <th>2x</th>\n",
       "      <th>3x</th>\n",
       "      <th>4x</th>\n",
       "      <th>1xB</th>\n",
       "      <th>2xB</th>\n",
       "      <th>3xB</th>\n",
       "      <th>4xB</th>\n",
       "      <th>WATT</th>\n",
       "      <th>LABEL</th>\n",
       "    </tr>\n",
       "  </thead>\n",
       "  <tbody>\n",
       "    <tr>\n",
       "      <th>0</th>\n",
       "      <td>2020-11-25 14:11:30</td>\n",
       "      <td>0.045103</td>\n",
       "      <td>0.002272</td>\n",
       "      <td>0.056123</td>\n",
       "      <td>0.002949</td>\n",
       "      <td>-1.052663</td>\n",
       "      <td>14.286923</td>\n",
       "      <td>19.030214</td>\n",
       "      <td>1.297919</td>\n",
       "      <td>19.849866</td>\n",
       "      <td>0.000467</td>\n",
       "      <td>0.000282</td>\n",
       "      <td>0.000256</td>\n",
       "      <td>0.000372</td>\n",
       "      <td>0.000290</td>\n",
       "      <td>0.000294</td>\n",
       "      <td>0.000198</td>\n",
       "      <td>0.000170</td>\n",
       "      <td>2.2</td>\n",
       "      <td>0</td>\n",
       "    </tr>\n",
       "    <tr>\n",
       "      <th>1</th>\n",
       "      <td>2020-11-25 14:11:33</td>\n",
       "      <td>0.034806</td>\n",
       "      <td>0.002352</td>\n",
       "      <td>0.044912</td>\n",
       "      <td>0.003002</td>\n",
       "      <td>-0.518928</td>\n",
       "      <td>6.886467</td>\n",
       "      <td>14.960807</td>\n",
       "      <td>1.276331</td>\n",
       "      <td>14.798102</td>\n",
       "      <td>0.000555</td>\n",
       "      <td>0.000243</td>\n",
       "      <td>0.000332</td>\n",
       "      <td>0.000374</td>\n",
       "      <td>0.000237</td>\n",
       "      <td>0.000355</td>\n",
       "      <td>0.000166</td>\n",
       "      <td>0.000260</td>\n",
       "      <td>2.2</td>\n",
       "      <td>0</td>\n",
       "    </tr>\n",
       "    <tr>\n",
       "      <th>2</th>\n",
       "      <td>2020-11-25 14:11:36</td>\n",
       "      <td>0.020148</td>\n",
       "      <td>0.002250</td>\n",
       "      <td>0.030580</td>\n",
       "      <td>0.002812</td>\n",
       "      <td>-0.095521</td>\n",
       "      <td>3.272939</td>\n",
       "      <td>10.873323</td>\n",
       "      <td>1.249954</td>\n",
       "      <td>8.954917</td>\n",
       "      <td>0.000608</td>\n",
       "      <td>0.000204</td>\n",
       "      <td>0.000195</td>\n",
       "      <td>0.000395</td>\n",
       "      <td>0.000230</td>\n",
       "      <td>0.000558</td>\n",
       "      <td>0.000167</td>\n",
       "      <td>0.000324</td>\n",
       "      <td>2.2</td>\n",
       "      <td>0</td>\n",
       "    </tr>\n",
       "  </tbody>\n",
       "</table>\n",
       "</div>"
      ],
      "text/plain": [
       "                  Date    AbsMax   AbsMean       P2P       RMS  Skewness  \\\n",
       "0  2020-11-25 14:11:30  0.045103  0.002272  0.056123  0.002949 -1.052663   \n",
       "1  2020-11-25 14:11:33  0.034806  0.002352  0.044912  0.003002 -0.518928   \n",
       "2  2020-11-25 14:11:36  0.020148  0.002250  0.030580  0.002812 -0.095521   \n",
       "\n",
       "    Kurtosis      Crest     Shape    Impulse        1x        2x        3x  \\\n",
       "0  14.286923  19.030214  1.297919  19.849866  0.000467  0.000282  0.000256   \n",
       "1   6.886467  14.960807  1.276331  14.798102  0.000555  0.000243  0.000332   \n",
       "2   3.272939  10.873323  1.249954   8.954917  0.000608  0.000204  0.000195   \n",
       "\n",
       "         4x       1xB       2xB       3xB       4xB  WATT  LABEL  \n",
       "0  0.000372  0.000290  0.000294  0.000198  0.000170   2.2      0  \n",
       "1  0.000374  0.000237  0.000355  0.000166  0.000260   2.2      0  \n",
       "2  0.000395  0.000230  0.000558  0.000167  0.000324   2.2      0  "
      ]
     },
     "execution_count": 23,
     "metadata": {},
     "output_type": "execute_result"
    }
   ],
   "source": [
    "pd_vib_dataset.head(3)"
   ]
  },
  {
   "cell_type": "code",
   "execution_count": 24,
   "metadata": {},
   "outputs": [
    {
     "data": {
      "text/plain": [
       "24522"
      ]
     },
     "execution_count": 24,
     "metadata": {},
     "output_type": "execute_result"
    }
   ],
   "source": [
    "len(pd_vib_dataset)"
   ]
  },
  {
   "cell_type": "code",
   "execution_count": 25,
   "metadata": {},
   "outputs": [
    {
     "data": {
      "text/plain": [
       "<AxesSubplot:xlabel='LABEL', ylabel='count'>"
      ]
     },
     "execution_count": 25,
     "metadata": {},
     "output_type": "execute_result"
    },
    {
     "data": {
      "image/png": "[encoded data removed]",
      "text/plain": [
       "<Figure size 432x288 with 1 Axes>"
      ]
     },
     "metadata": {
      "needs_background": "light"
     },
     "output_type": "display_data"
    }
   ],
   "source": [
    "import seaborn as sns\n",
    "\n",
    "sns.countplot(x='LABEL', data=pd_vib_dataset)"
   ]
  },
  {
   "cell_type": "code",
   "execution_count": 26,
   "metadata": {},
   "outputs": [],
   "source": [
    "pd_vib_dataset.to_csv('vib_validation_all.csv', index=False)"
   ]
  }
 ],
 "metadata": {
  "kernelspec": {
   "display_name": "Python 3",
   "language": "python",
   "name": "python3"
  },
  "language_info": {
   "codemirror_mode": {
    "name": "ipython",
    "version": 3
   },
   "file_extension": ".py",
   "mimetype": "text/x-python",
   "name": "python",
   "nbconvert_exporter": "python",
   "pygments_lexer": "ipython3",
   "version": "3.8.5"
  }
 },
 "nbformat": 4,
 "nbformat_minor": 4
}
