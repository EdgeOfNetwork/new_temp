{
 "cells": [
  {
   "cell_type": "markdown",
   "metadata": {
    "id": "8UHLjE1GWleD"
   },
   "source": [
    "# Current"
   ]
  },
  {
   "cell_type": "code",
   "execution_count": 1,
   "metadata": {
    "colab": {
     "base_uri": "https://localhost:8080/"
    },
    "executionInfo": {
     "elapsed": 469,
     "status": "ok",
     "timestamp": 1631025762756,
     "user": {
      "displayName": "이서영",
      "photoUrl": "",
      "userId": "08706917529998634867"
     },
     "user_tz": -540
    },
    "id": "s4LNgOxEWsRo",
    "outputId": "746290a3-502f-460d-c8b3-250d85de1b42"
   },
   "outputs": [
    {
     "name": "stdout",
     "output_type": "stream",
     "text": [
      "Drive already mounted at /content/drive; to attempt to forcibly remount, call drive.mount(\"/content/drive\", force_remount=True).\n"
     ]
    }
   ],
   "source": [
    "from google.colab import drive\n",
    "drive.mount('/content/drive')"
   ]
  },
  {
   "cell_type": "code",
   "execution_count": 45,
   "metadata": {
    "executionInfo": {
     "elapsed": 382,
     "status": "ok",
     "timestamp": 1631026857958,
     "user": {
      "displayName": "이서영",
      "photoUrl": "",
      "userId": "08706917529998634867"
     },
     "user_tz": -540
    },
    "id": "SW5bf5RIU9gR"
   },
   "outputs": [],
   "source": [
    "import numpy as np\n",
    "import pandas as pd\n",
    "import h5py\n",
    "import tensorflow as tf\n",
    "import itertools\n",
    "import seaborn as sns\n",
    "\n",
    "from string import ascii_letters\n",
    "\n",
    "from tensorflow import keras\n",
    "from tensorflow.keras import layers\n",
    "from sklearn.metrics import classification_report, confusion_matrix\n",
    "\n",
    "from sklearn.preprocessing import RobustScaler\n",
    "\n",
    "from tensorflow.keras.models import Sequential\n",
    "from tensorflow.keras.layers import LSTM, Flatten, Dense\n",
    "from tensorflow.keras.callbacks import Callback, EarlyStopping, ModelCheckpoint, ReduceLROnPlateau\n",
    "\n",
    "%matplotlib inline"
   ]
  },
  {
   "cell_type": "code",
   "execution_count": 32,
   "metadata": {
    "executionInfo": {
     "elapsed": 399,
     "status": "ok",
     "timestamp": 1631026575830,
     "user": {
      "displayName": "이서영",
      "photoUrl": "",
      "userId": "08706917529998634867"
     },
     "user_tz": -540
    },
    "id": "grzsN71AU9gU"
   },
   "outputs": [],
   "source": [
    "folder_path = \"/content/drive/MyDrive/Paper/Dataset\""
   ]
  },
  {
   "cell_type": "code",
   "execution_count": 33,
   "metadata": {
    "executionInfo": {
     "elapsed": 3245,
     "status": "ok",
     "timestamp": 1631026579381,
     "user": {
      "displayName": "이서영",
      "photoUrl": "",
      "userId": "08706917529998634867"
     },
     "user_tz": -540
    },
    "id": "5LWRki9tU9gU"
   },
   "outputs": [],
   "source": [
    "pd_tr = pd.read_csv(folder_path + '/cur_training_all.csv')\n",
    "pd_v = pd.read_csv(folder_path + '/cur_validation_all.csv')"
   ]
  },
  {
   "cell_type": "code",
   "execution_count": 34,
   "metadata": {
    "colab": {
     "base_uri": "https://localhost:8080/"
    },
    "executionInfo": {
     "elapsed": 4,
     "status": "ok",
     "timestamp": 1631026579381,
     "user": {
      "displayName": "이서영",
      "photoUrl": "",
      "userId": "08706917529998634867"
     },
     "user_tz": -540
    },
    "id": "geEsExj7U9gV",
    "outputId": "52c4a8cd-3a39-4cc6-8154-e0fba43e546b"
   },
   "outputs": [
    {
     "name": "stdout",
     "output_type": "stream",
     "text": [
      "305534\n",
      "38210\n",
      "(305534, 48)\n",
      "(38210, 48)\n"
     ]
    }
   ],
   "source": [
    "print(len(pd_tr))\n",
    "print(len(pd_v))\n",
    "print(pd_tr.shape)\n",
    "print(pd_v.shape)"
   ]
  },
  {
   "cell_type": "code",
   "execution_count": 35,
   "metadata": {
    "executionInfo": {
     "elapsed": 243,
     "status": "ok",
     "timestamp": 1631026581186,
     "user": {
      "displayName": "이서영",
      "photoUrl": "",
      "userId": "08706917529998634867"
     },
     "user_tz": -540
    },
    "id": "IqiMFhIVX0sq"
   },
   "outputs": [],
   "source": [
    "pd_tr_labels = pd_tr.iloc[:, -1]\n",
    "pd_v_labels = pd_v.iloc[:, -1]"
   ]
  },
  {
   "cell_type": "code",
   "execution_count": 36,
   "metadata": {
    "executionInfo": {
     "elapsed": 297,
     "status": "ok",
     "timestamp": 1631026582258,
     "user": {
      "displayName": "이서영",
      "photoUrl": "",
      "userId": "08706917529998634867"
     },
     "user_tz": -540
    },
    "id": "VbHUajeleuqJ"
   },
   "outputs": [],
   "source": [
    "pd_tr = pd_tr.drop(columns = ['Date','WATT','LABEL'])\n",
    "pd_v = pd_v.drop(columns = ['Date','WATT','LABEL'])"
   ]
  },
  {
   "cell_type": "code",
   "execution_count": 37,
   "metadata": {
    "executionInfo": {
     "elapsed": 400,
     "status": "ok",
     "timestamp": 1631026657171,
     "user": {
      "displayName": "이서영",
      "photoUrl": "",
      "userId": "08706917529998634867"
     },
     "user_tz": -540
    },
    "id": "kIQbc8xAajWP"
   },
   "outputs": [],
   "source": [
    "drop_corr_pd_tr = pd_tr.drop([\"R_Skewness\", \"S_Skewness\", \"T_Skewness\", \"R_Kurtosis\", \"R_Impulse\", \"ST_phase\", \"TR_phase\",\"T_Kurtosis\", \"RS_Level\"],axis=1)\n",
    "drop_corr_pd_v = pd_v.drop([\"R_Skewness\", \"S_Skewness\", \"T_Skewness\", \"R_Kurtosis\", \"R_Impulse\", \"ST_phase\", \"TR_phase\",\"T_Kurtosis\", \"RS_Level\"],axis=1)"
   ]
  },
  {
   "cell_type": "code",
   "execution_count": 46,
   "metadata": {
    "executionInfo": {
     "elapsed": 303,
     "status": "ok",
     "timestamp": 1631026863374,
     "user": {
      "displayName": "이서영",
      "photoUrl": "",
      "userId": "08706917529998634867"
     },
     "user_tz": -540
    },
    "id": "FBEyY_1doY25"
   },
   "outputs": [],
   "source": [
    "def draw_seaborn_corr(corr_data):\n",
    "  sns.set_theme(style=\"white\")\n",
    "\n",
    "  # Generate a large random dataset\n",
    "  rs = np.random.RandomState(33)\n",
    "  mask = np.triu(np.ones_like(corr_data, dtype=bool))\n",
    "\n",
    "  # Set up the matplotlib figure\n",
    "  f, ax = plt.subplots(figsize=(11, 9))\n",
    "\n",
    "  # Generate a custom diverging colormap\n",
    "  cmap = sns.diverging_palette(230, 20, as_cmap=True)\n",
    "\n",
    "  # Draw the heatmap with the mask and correct aspect ratio\n",
    "  sns.heatmap(corr_data, mask=mask, cmap=cmap, vmax=.3, center=0,\n",
    "              square=True, linewidths=.5, cbar_kws={\"shrink\": .5})"
   ]
  },
  {
   "cell_type": "code",
   "execution_count": 47,
   "metadata": {
    "executionInfo": {
     "elapsed": 4,
     "status": "ok",
     "timestamp": 1631026863812,
     "user": {
      "displayName": "이서영",
      "photoUrl": "",
      "userId": "08706917529998634867"
     },
     "user_tz": -540
    },
    "id": "1OLA2BLYxWEq"
   },
   "outputs": [],
   "source": [
    "%matplotlib inline"
   ]
  },
  {
   "cell_type": "code",
   "execution_count": 51,
   "metadata": {
    "colab": {
     "base_uri": "https://localhost:8080/",
     "height": 593
    },
    "executionInfo": {
     "elapsed": 2224,
     "status": "ok",
     "timestamp": 1631026999713,
     "user": {
      "displayName": "이서영",
      "photoUrl": "",
      "userId": "08706917529998634867"
     },
     "user_tz": -540
    },
    "id": "-ShehKpVoOa5",
    "outputId": "40fbcf0c-608a-4edc-839f-d768bb319931"
   },
   "outputs": [
    {
     "data": {
      "image/png": "[encoded data removed]",
      "text/plain": [
       "<Figure size 792x648 with 2 Axes>"
      ]
     },
     "metadata": {},
     "output_type": "display_data"
    }
   ],
   "source": [
    "corr = drop_corr_pd_tr.corr()\n",
    "draw_seaborn_corr(corr)"
   ]
  },
  {
   "cell_type": "markdown",
   "metadata": {
    "id": "3CNvJQkdU9gb"
   },
   "source": [
    "### 1.1 split data set "
   ]
  },
  {
   "cell_type": "code",
   "execution_count": 52,
   "metadata": {
    "executionInfo": {
     "elapsed": 399,
     "status": "ok",
     "timestamp": 1631027029333,
     "user": {
      "displayName": "이서영",
      "photoUrl": "",
      "userId": "08706917529998634867"
     },
     "user_tz": -540
    },
    "id": "crkEVeIkU9gb"
   },
   "outputs": [],
   "source": [
    "from sklearn.model_selection import train_test_split\n",
    "\n",
    "x_train, x_test, y_train, y_test = train_test_split(pd_tr, pd_tr_labels, test_size=0.2, random_state=42)"
   ]
  },
  {
   "cell_type": "markdown",
   "metadata": {
    "id": "vxSlCCYhU9gc"
   },
   "source": [
    "### 1.2. Validation"
   ]
  },
  {
   "cell_type": "code",
   "execution_count": 53,
   "metadata": {
    "colab": {
     "base_uri": "https://localhost:8080/"
    },
    "executionInfo": {
     "elapsed": 502,
     "status": "ok",
     "timestamp": 1631027031720,
     "user": {
      "displayName": "이서영",
      "photoUrl": "",
      "userId": "08706917529998634867"
     },
     "user_tz": -540
    },
    "id": "T84lBMBlU9gc",
    "outputId": "14b7c5eb-136c-4419-faac-e574a2cedb34"
   },
   "outputs": [
    {
     "name": "stdout",
     "output_type": "stream",
     "text": [
      "(244427, 45)\n",
      "(244427,)\n",
      "==================================================\n",
      "(61107, 45)\n",
      "(61107,)\n",
      "==================================================\n",
      "(38210, 45)\n",
      "(38210,)\n"
     ]
    }
   ],
   "source": [
    "print(x_train.shape)\n",
    "print(y_train.shape)\n",
    "print(\"=\"*50)\n",
    "print(x_test.shape)\n",
    "print(y_test.shape)\n",
    "print(\"=\"*50)\n",
    "x_valid = pd_v\n",
    "y_valid = pd_v_labels\n",
    "\n",
    "print(x_valid.shape)\n",
    "print(y_valid.shape)"
   ]
  },
  {
   "cell_type": "markdown",
   "metadata": {
    "id": "_QInKiOGU9gc"
   },
   "source": [
    "### 1.3 normalize"
   ]
  },
  {
   "cell_type": "markdown",
   "metadata": {
    "id": "hzCplfn4U9gc"
   },
   "source": [
    "주제가 피쳐에 대한 강건함이므로, 스케일러에 대한 고민도 해야할 것이다."
   ]
  },
  {
   "cell_type": "markdown",
   "metadata": {
    "id": "7AoTzR3AU9gd"
   },
   "source": [
    "본 데이터는 Multivariate이며, 1개의 Channel만 갖는다. 우리는 multivariate variable with one channel 형태로 바꿔주고자 하며, 이는 아래와 같다."
   ]
  },
  {
   "cell_type": "code",
   "execution_count": 54,
   "metadata": {
    "colab": {
     "base_uri": "https://localhost:8080/"
    },
    "executionInfo": {
     "elapsed": 243,
     "status": "ok",
     "timestamp": 1631027040155,
     "user": {
      "displayName": "이서영",
      "photoUrl": "",
      "userId": "08706917529998634867"
     },
     "user_tz": -540
    },
    "id": "-8CAcv6eU9gd",
    "outputId": "90026a77-2fa2-44dc-e74c-b1d44548735a"
   },
   "outputs": [
    {
     "name": "stdout",
     "output_type": "stream",
     "text": [
      "x_train_exp의 형태: (244427, 45, 1)\n",
      "y_train_exp의 형태: (244427,)\n",
      "==================================================\n",
      "x_valid_exp의 형태: (38210, 45, 1)\n",
      "y_valid_exp의 형태: (38210,)\n",
      "==================================================\n",
      "x_test_exp의 형태: (61107, 45, 1)\n",
      "y_test_exp의 형태: (61107,)\n"
     ]
    }
   ],
   "source": [
    "# CNN, RNN 모델의 입력 변수는 채널 축 1개 차원을 확장시킨 3D Tensor이다.\n",
    "# 즉 아래 CNN, RNN 모델은 x_train, x_valid, x_test를 입력 변수로 넣지 않고, \n",
    "# x_train_exp, x_valid_exp, x_test_exp을 넣는다. \n",
    "x_train_exp = np.expand_dims(x_train, -1)  # 채널 축 1개 차원을 확장 시킨(Expand) X_train\n",
    "x_valid_exp = np.expand_dims(x_valid, -1)  # 채널 축 1개 차원을 확장 시킨(Expand) X_vaild \n",
    "x_test_exp = np.expand_dims(x_test, -1)  # 채널 축 1개 차원을 확장 시킨(Expand) X_test\n",
    "\n",
    "# 위와 동일한 코드\n",
    "# x_train_exp = x_train.reshape((x_train.shape[0], x_train.shape[1], 1))\n",
    "# x_valid_exp = x_train.reshape((x_valid.shape[0], x_valid.shape[1], 1))\n",
    "# x_test_exp = x_test.reshape((x_test.shape[0], x_test.shape[1], 1))\n",
    "\n",
    "print(\"x_train_exp의 형태:\", x_train_exp.shape)\n",
    "print(\"y_train_exp의 형태:\", y_train.shape)\n",
    "\n",
    "print(\"=\" * 50)\n",
    "\n",
    "print(\"x_valid_exp의 형태:\", x_valid_exp.shape)\n",
    "print(\"y_valid_exp의 형태:\", y_valid.shape)\n",
    "\n",
    "print(\"=\" * 50)\n",
    "\n",
    "print(\"x_test_exp의 형태:\", x_test_exp.shape)\n",
    "print(\"y_test_exp의 형태:\", y_test.shape)"
   ]
  },
  {
   "cell_type": "code",
   "execution_count": 55,
   "metadata": {
    "colab": {
     "base_uri": "https://localhost:8080/"
    },
    "executionInfo": {
     "elapsed": 529,
     "status": "ok",
     "timestamp": 1631027043785,
     "user": {
      "displayName": "이서영",
      "photoUrl": "",
      "userId": "08706917529998634867"
     },
     "user_tz": -540
    },
    "id": "ZLbSrCjQU9ge",
    "outputId": "970baa23-ff51-49a3-9f94-93c45db198f1"
   },
   "outputs": [
    {
     "data": {
      "text/plain": [
       "5"
      ]
     },
     "execution_count": 55,
     "metadata": {},
     "output_type": "execute_result"
    }
   ],
   "source": [
    "num_classes = len(np.unique(np.concatenate((y_train, y_test), axis=0)))\n",
    "num_classes"
   ]
  },
  {
   "cell_type": "markdown",
   "metadata": {
    "id": "hULRW40eU9ge"
   },
   "source": [
    "# 3. LSTM"
   ]
  },
  {
   "cell_type": "code",
   "execution_count": 56,
   "metadata": {
    "executionInfo": {
     "elapsed": 3,
     "status": "ok",
     "timestamp": 1631027045829,
     "user": {
      "displayName": "이서영",
      "photoUrl": "",
      "userId": "08706917529998634867"
     },
     "user_tz": -540
    },
    "id": "MW6ZQnx5sk2f"
   },
   "outputs": [],
   "source": [
    "def make_lstm_model():\n",
    "  model=Sequential()\n",
    "  model.add(LSTM(units=256, return_sequences=True))\n",
    "  model.add(Flatten())\n",
    "  model.add(Dense(100, activation='relu'))\n",
    "  model. add(Dense(5, activation='softmax'))\n",
    "  return model"
   ]
  },
  {
   "cell_type": "code",
   "execution_count": 57,
   "metadata": {
    "executionInfo": {
     "elapsed": 4,
     "status": "ok",
     "timestamp": 1631027045830,
     "user": {
      "displayName": "이서영",
      "photoUrl": "",
      "userId": "08706917529998634867"
     },
     "user_tz": -540
    },
    "id": "_xmvYspCspwK"
   },
   "outputs": [],
   "source": [
    "lstm = make_lstm_model()"
   ]
  },
  {
   "cell_type": "code",
   "execution_count": 58,
   "metadata": {
    "executionInfo": {
     "elapsed": 3,
     "status": "ok",
     "timestamp": 1631027046605,
     "user": {
      "displayName": "이서영",
      "photoUrl": "",
      "userId": "08706917529998634867"
     },
     "user_tz": -540
    },
    "id": "Gby9Q6J6U9gf"
   },
   "outputs": [],
   "source": [
    "EPOCHS = 300\n",
    "BATCH_SIZE = 64"
   ]
  },
  {
   "cell_type": "code",
   "execution_count": 59,
   "metadata": {
    "executionInfo": {
     "elapsed": 3,
     "status": "ok",
     "timestamp": 1631027047400,
     "user": {
      "displayName": "이서영",
      "photoUrl": "",
      "userId": "08706917529998634867"
     },
     "user_tz": -540
    },
    "id": "hWqA1KBSss-c"
   },
   "outputs": [],
   "source": [
    "lstm.compile(loss=\"sparse_categorical_crossentropy\", \n",
    "                  optimizer='adam', \n",
    "                  metrics=[\"accuracy\"]\n",
    "                 )"
   ]
  },
  {
   "cell_type": "code",
   "execution_count": 60,
   "metadata": {
    "executionInfo": {
     "elapsed": 391,
     "status": "ok",
     "timestamp": 1631027049404,
     "user": {
      "displayName": "이서영",
      "photoUrl": "",
      "userId": "08706917529998634867"
     },
     "user_tz": -540
    },
    "id": "0O2Esx10U9gf"
   },
   "outputs": [],
   "source": [
    "callbacks = [ModelCheckpoint(folder_path + '/best_model.h5',\n",
    "                             monitor='val_loss',\n",
    "                             save_best_only=True),\n",
    "             ReduceLROnPlateau(\n",
    "                 monitor=\"val_loss\", factor=0.5, patience=20, min_lr=0.0001\n",
    "                 ),\n",
    "             EarlyStopping(monitor=\"val_loss\", patience=10, verbose=1)\n",
    "             ]"
   ]
  },
  {
   "cell_type": "code",
   "execution_count": 61,
   "metadata": {
    "colab": {
     "base_uri": "https://localhost:8080/"
    },
    "executionInfo": {
     "elapsed": 601667,
     "status": "ok",
     "timestamp": 1631027651860,
     "user": {
      "displayName": "이서영",
      "photoUrl": "",
      "userId": "08706917529998634867"
     },
     "user_tz": -540
    },
    "id": "hRjoFArwsy38",
    "outputId": "6d5f8852-2d24-4fe9-b24f-4adc92ed87a3"
   },
   "outputs": [
    {
     "name": "stdout",
     "output_type": "stream",
     "text": [
      "Epoch 1/300\n",
      "3820/3820 [==============================] - 22s 5ms/step - loss: 0.2631 - accuracy: 0.9030 - val_loss: 0.2940 - val_accuracy: 0.8925\n",
      "Epoch 2/300\n",
      "3820/3820 [==============================] - 20s 5ms/step - loss: 0.1204 - accuracy: 0.9547 - val_loss: 0.2575 - val_accuracy: 0.8976\n",
      "Epoch 3/300\n",
      "3820/3820 [==============================] - 21s 5ms/step - loss: 0.0993 - accuracy: 0.9630 - val_loss: 0.2511 - val_accuracy: 0.9229\n",
      "Epoch 4/300\n",
      "3820/3820 [==============================] - 20s 5ms/step - loss: 0.0851 - accuracy: 0.9684 - val_loss: 0.2267 - val_accuracy: 0.9317\n",
      "Epoch 5/300\n",
      "3820/3820 [==============================] - 21s 5ms/step - loss: 0.0766 - accuracy: 0.9719 - val_loss: 0.3409 - val_accuracy: 0.8867\n",
      "Epoch 6/300\n",
      "3820/3820 [==============================] - 20s 5ms/step - loss: 0.0715 - accuracy: 0.9735 - val_loss: 0.4261 - val_accuracy: 0.8971\n",
      "Epoch 7/300\n",
      "3820/3820 [==============================] - 20s 5ms/step - loss: 0.0662 - accuracy: 0.9759 - val_loss: 0.4951 - val_accuracy: 0.8794\n",
      "Epoch 8/300\n",
      "3820/3820 [==============================] - 21s 5ms/step - loss: 0.0600 - accuracy: 0.9777 - val_loss: 0.4358 - val_accuracy: 0.9047\n",
      "Epoch 9/300\n",
      "3820/3820 [==============================] - 20s 5ms/step - loss: 0.0567 - accuracy: 0.9788 - val_loss: 0.2844 - val_accuracy: 0.9134\n",
      "Epoch 10/300\n",
      "3820/3820 [==============================] - 20s 5ms/step - loss: 0.0531 - accuracy: 0.9805 - val_loss: 0.2151 - val_accuracy: 0.9233\n",
      "Epoch 11/300\n",
      "3820/3820 [==============================] - 20s 5ms/step - loss: 0.0502 - accuracy: 0.9816 - val_loss: 0.3196 - val_accuracy: 0.9119\n",
      "Epoch 12/300\n",
      "3820/3820 [==============================] - 20s 5ms/step - loss: 0.0496 - accuracy: 0.9817 - val_loss: 0.2831 - val_accuracy: 0.9186\n",
      "Epoch 13/300\n",
      "3820/3820 [==============================] - 21s 5ms/step - loss: 0.0464 - accuracy: 0.9830 - val_loss: 0.3116 - val_accuracy: 0.9258\n",
      "Epoch 14/300\n",
      "3820/3820 [==============================] - 20s 5ms/step - loss: 0.0442 - accuracy: 0.9837 - val_loss: 0.3836 - val_accuracy: 0.9266\n",
      "Epoch 15/300\n",
      "3820/3820 [==============================] - 20s 5ms/step - loss: 0.0427 - accuracy: 0.9842 - val_loss: 0.3217 - val_accuracy: 0.9132\n",
      "Epoch 16/300\n",
      "3820/3820 [==============================] - 20s 5ms/step - loss: 0.0429 - accuracy: 0.9844 - val_loss: 0.4493 - val_accuracy: 0.9154\n",
      "Epoch 17/300\n",
      "3820/3820 [==============================] - 20s 5ms/step - loss: 0.0405 - accuracy: 0.9853 - val_loss: 0.3655 - val_accuracy: 0.9202\n",
      "Epoch 18/300\n",
      "3820/3820 [==============================] - 20s 5ms/step - loss: 0.0387 - accuracy: 0.9860 - val_loss: 0.3372 - val_accuracy: 0.9324\n",
      "Epoch 19/300\n",
      "3820/3820 [==============================] - 20s 5ms/step - loss: 0.0380 - accuracy: 0.9862 - val_loss: 0.2088 - val_accuracy: 0.9320\n",
      "Epoch 20/300\n",
      "3820/3820 [==============================] - 20s 5ms/step - loss: 0.0374 - accuracy: 0.9865 - val_loss: 0.3196 - val_accuracy: 0.9266\n",
      "Epoch 21/300\n",
      "3820/3820 [==============================] - 20s 5ms/step - loss: 0.0353 - accuracy: 0.9870 - val_loss: 0.2335 - val_accuracy: 0.9292\n",
      "Epoch 22/300\n",
      "3820/3820 [==============================] - 21s 5ms/step - loss: 0.0348 - accuracy: 0.9874 - val_loss: 0.3713 - val_accuracy: 0.9154\n",
      "Epoch 23/300\n",
      "3820/3820 [==============================] - 21s 5ms/step - loss: 0.0339 - accuracy: 0.9876 - val_loss: 0.3473 - val_accuracy: 0.9329\n",
      "Epoch 24/300\n",
      "3820/3820 [==============================] - 20s 5ms/step - loss: 0.0344 - accuracy: 0.9874 - val_loss: 0.3327 - val_accuracy: 0.9186\n",
      "Epoch 25/300\n",
      "3820/3820 [==============================] - 20s 5ms/step - loss: 0.0336 - accuracy: 0.9879 - val_loss: 0.4363 - val_accuracy: 0.9199\n",
      "Epoch 26/300\n",
      "3820/3820 [==============================] - 21s 5ms/step - loss: 0.0336 - accuracy: 0.9878 - val_loss: 0.3183 - val_accuracy: 0.9128\n",
      "Epoch 27/300\n",
      "3820/3820 [==============================] - 21s 5ms/step - loss: 0.0315 - accuracy: 0.9884 - val_loss: 0.2547 - val_accuracy: 0.9330\n",
      "Epoch 28/300\n",
      "3820/3820 [==============================] - 21s 5ms/step - loss: 0.0320 - accuracy: 0.9884 - val_loss: 0.4787 - val_accuracy: 0.9156\n",
      "Epoch 29/300\n",
      "3820/3820 [==============================] - 21s 5ms/step - loss: 0.0301 - accuracy: 0.9891 - val_loss: 0.2318 - val_accuracy: 0.9288\n",
      "Epoch 00029: early stopping\n"
     ]
    }
   ],
   "source": [
    "history = lstm.fit(\n",
    "    x_train_exp,\n",
    "    y_train,\n",
    "    batch_size=BATCH_SIZE,\n",
    "    epochs=EPOCHS,\n",
    "    callbacks=callbacks,\n",
    "    validation_data=(x_valid_exp, y_valid),\n",
    "    verbose=1\n",
    ")"
   ]
  },
  {
   "cell_type": "code",
   "execution_count": 62,
   "metadata": {
    "colab": {
     "base_uri": "https://localhost:8080/"
    },
    "executionInfo": {
     "elapsed": 5041,
     "status": "ok",
     "timestamp": 1631027656893,
     "user": {
      "displayName": "이서영",
      "photoUrl": "",
      "userId": "08706917529998634867"
     },
     "user_tz": -540
    },
    "id": "jrJsmJOAurbX",
    "outputId": "efe472db-0612-495a-d53f-87ac1322fa46"
   },
   "outputs": [
    {
     "name": "stdout",
     "output_type": "stream",
     "text": [
      "1910/1910 [==============================] - 5s 3ms/step - loss: 0.0277 - accuracy: 0.9897\n",
      "\n",
      "Test accuracy 0.9897229671478271\n",
      "\n",
      "Test loss 0.027718115597963333\n",
      "accuracy: 98.97%\n"
     ]
    }
   ],
   "source": [
    "scores = lstm.evaluate(x_test_exp, y_test)\n",
    "\n",
    "print(\"\\n\"\"Test accuracy\", scores[1])\n",
    "print(\"\\n\"\"Test loss\", scores[0])\n",
    "print(\"%s: %.2f%%\" % (lstm.metrics_names[1], scores[1]*100))"
   ]
  },
  {
   "cell_type": "code",
   "execution_count": 255,
   "metadata": {
    "executionInfo": {
     "elapsed": 409,
     "status": "ok",
     "timestamp": 1631025420080,
     "user": {
      "displayName": "이서영",
      "photoUrl": "",
      "userId": "08706917529998634867"
     },
     "user_tz": -540
    },
    "id": "hJHpZfYnU9gg"
   },
   "outputs": [],
   "source": [
    "def draw_confusion_matrix(model, xt, yt, model_name):\n",
    "    Y_pred = model.predict(xt)\n",
    "    if model_name in [\"cnn\", \"lstm\"]:\n",
    "        y_pred = np.argmax(Y_pred, axis=1)\n",
    "    else: y_pred = Y_pred\n",
    "    plt.figure(figsize=(5,5))\n",
    "    cm = confusion_matrix(yt, y_pred)\n",
    "    plt.imshow(cm, interpolation='nearest', cmap=plt.cm.Blues)\n",
    "    plt.title(\"Confusion Matrix\")\n",
    "    plt.colorbar()\n",
    "    tick_marks = np.arange(2)\n",
    "    plt.xticks(tick_marks, ['False', 'True'], rotation=45)\n",
    "    plt.yticks(tick_marks, ['False', 'True'])\n",
    "    thresh = cm.max()/1.2\n",
    "    normalize = False\n",
    "    fmt = '.2f' if normalize else 'd'\n",
    "    for i,j in itertools.product(range(cm.shape[0]), range(cm.shape[1])):\n",
    "        plt.text(j,i, format(cm[i,j], fmt), \n",
    "                 horizontalalignment=\"center\", \n",
    "                 color=\"white\" if cm[i,j] > thresh else \"black\", \n",
    "                 fontsize=12)\n",
    "    plt.ylabel(\"Actual Label\")\n",
    "    plt.xlabel(\"Predicted Label\")\n",
    "    plt.tight_layout()\n",
    "    plt.savefig(folder_path + '/{}_cm.png'.format(model_name), dpi=100, bbox_inches='tight')  # 그림 저장\n",
    "    plt.show()\n",
    "    print(classification_report(yt, y_pred))"
   ]
  },
  {
   "cell_type": "code",
   "execution_count": 256,
   "metadata": {
    "executionInfo": {
     "elapsed": 2,
     "status": "ok",
     "timestamp": 1631025420081,
     "user": {
      "displayName": "이서영",
      "photoUrl": "",
      "userId": "08706917529998634867"
     },
     "user_tz": -540
    },
    "id": "YY5atMqZU9gg"
   },
   "outputs": [],
   "source": [
    "from sklearn.metrics import roc_curve, auc\n",
    "\n",
    "def draw_roc(model,xt, yt, model_name):\n",
    "    Y_pred = model.predict(xt)\n",
    "    if model_name in [\"cnn\", \"lstm\"]:\n",
    "        y_pred = np.argmax(Y_pred, axis=1)\n",
    "    else: y_pred = Y_pred\n",
    "    fpr, tpr, thr = roc_curve(yt, y_pred)\n",
    "    roc_auc = auc(fpr, tpr)\n",
    "    plt.figure()\n",
    "    lw = 2\n",
    "    plt.plot(fpr, tpr, color='darkorange',\n",
    "             lw=lw, label='ROC curve (area = %0.2f)' % roc_auc)\n",
    "    plt.plot([0, 1], [0, 1], color='navy', lw=lw, linestyle='--')\n",
    "    plt.xlim([0.0, 1.0])\n",
    "    plt.ylim([0.0, 1.05])\n",
    "    plt.xlabel('False Positive Rate')\n",
    "    plt.ylabel('True Positive Rate')\n",
    "    plt.title('Receiver operating characteristic {};'.format(model_name))\n",
    "    plt.legend(loc=\"lower right\")\n",
    "    plt.ion()\n",
    "    plt.tight_layout()\n",
    "    plt.savefig(folder_path + '/{}_roc.png'.format(model_name), dpi=100, bbox_inches='tight')  # 그림 저장\n",
    "    plt.show()"
   ]
  },
  {
   "cell_type": "code",
   "execution_count": 257,
   "metadata": {
    "executionInfo": {
     "elapsed": 1,
     "status": "ok",
     "timestamp": 1631025420475,
     "user": {
      "displayName": "이서영",
      "photoUrl": "",
      "userId": "08706917529998634867"
     },
     "user_tz": -540
    },
    "id": "iChaWyOeU9gg"
   },
   "outputs": [],
   "source": [
    "def plot_loss_graph(history, pic_name):\n",
    "    plt.figure()\n",
    "    plt.plot(history.history['loss'])\n",
    "    plt.plot(history.history[\"val_loss\"])\n",
    "    plt.title(\"Training & Validation Loss\")\n",
    "    plt.ylabel(\"loss\", fontsize=\"large\")\n",
    "    plt.xlabel(\"epoch\", fontsize=\"large\")\n",
    "    plt.legend([\"train\", \"validation\"], loc=\"best\")\n",
    "    plt.tight_layout()\n",
    "    plt.savefig(folder_path + '/{}.png'.format(pic_name), dpi=100, bbox_inches='tight')  # 그림 저장\n",
    "    plt.show()\n",
    "    plt.close()"
   ]
  },
  {
   "cell_type": "code",
   "execution_count": 258,
   "metadata": {
    "executionInfo": {
     "elapsed": 2,
     "status": "ok",
     "timestamp": 1631025420856,
     "user": {
      "displayName": "이서영",
      "photoUrl": "",
      "userId": "08706917529998634867"
     },
     "user_tz": -540
    },
    "id": "PyQ3Ylo7U9gg"
   },
   "outputs": [],
   "source": [
    "def plot_prediction_graph(history, pic_name):\n",
    "    plt.figure()\n",
    "    plt.plot(history.history[\"sparse_categorical_accuracy\"])\n",
    "    plt.plot(history.history[\"val_\" + \"sparse_categorical_accuracy\"])\n",
    "    plt.title(\"model \" + \"Prediction Accuracy\")\n",
    "    plt.ylabel(\"sparse_categorical_accuracy\", fontsize=\"large\")\n",
    "    plt.xlabel(\"epoch\", fontsize=\"large\")\n",
    "    plt.legend([\"train\", \"validation\"], loc=\"best\")\n",
    "    plt.tight_layout()\n",
    "    plt.savefig(folder_path + '/{}.png'.format(pic_name), dpi=100, bbox_inches='tight')  # 그림 저장\n",
    "    plt.show()\n",
    "    plt.close()"
   ]
  },
  {
   "cell_type": "code",
   "execution_count": 263,
   "metadata": {
    "colab": {
     "base_uri": "https://localhost:8080/",
     "height": 474
    },
    "executionInfo": {
     "elapsed": 2718,
     "status": "ok",
     "timestamp": 1631025435277,
     "user": {
      "displayName": "이서영",
      "photoUrl": "",
      "userId": "08706917529998634867"
     },
     "user_tz": -540
    },
    "id": "CSuOdgEcU9gh",
    "outputId": "991e62dc-aee2-41bf-89bd-990a9a2b354a"
   },
   "outputs": [
    {
     "data": {
      "image/png": "[encoded data removed]",
      "text/plain": [
       "<Figure size 216x216 with 2 Axes>"
      ]
     },
     "metadata": {},
     "output_type": "display_data"
    },
    {
     "name": "stdout",
     "output_type": "stream",
     "text": [
      "              precision    recall  f1-score   support\n",
      "\n",
      "           0       0.78      0.97      0.86     43755\n",
      "           1       0.05      0.00      0.00      3218\n",
      "           2       0.95      0.05      0.09      3605\n",
      "           3       0.00      0.00      0.00      5749\n",
      "           4       0.01      0.02      0.01      4780\n",
      "\n",
      "    accuracy                           0.70     61107\n",
      "   macro avg       0.36      0.21      0.19     61107\n",
      "weighted avg       0.62      0.70      0.62     61107\n",
      "\n"
     ]
    },
    {
     "name": "stderr",
     "output_type": "stream",
     "text": [
      "/usr/local/lib/python3.7/dist-packages/sklearn/metrics/_classification.py:1272: UndefinedMetricWarning: Precision and F-score are ill-defined and being set to 0.0 in labels with no predicted samples. Use `zero_division` parameter to control this behavior.\n",
      "  _warn_prf(average, modifier, msg_start, len(result))\n"
     ]
    }
   ],
   "source": [
    "draw_confusion_matrix(cnn, x_test_exp, y_test, \"cnn\")"
   ]
  },
  {
   "cell_type": "code",
   "execution_count": 260,
   "metadata": {
    "colab": {
     "base_uri": "https://localhost:8080/",
     "height": 172
    },
    "executionInfo": {
     "elapsed": 4,
     "status": "error",
     "timestamp": 1631025421572,
     "user": {
      "displayName": "이서영",
      "photoUrl": "",
      "userId": "08706917529998634867"
     },
     "user_tz": -540
    },
    "id": "Bx4JWapkU9gh",
    "outputId": "a46c4cdf-165b-4be6-95a0-b755449fa6eb"
   },
   "outputs": [
    {
     "ename": "NameError",
     "evalue": "ignored",
     "output_type": "error",
     "traceback": [
      "\u001b[0;31m---------------------------------------------------------------------------\u001b[0m",
      "\u001b[0;31mNameError\u001b[0m                                 Traceback (most recent call last)",
      "\u001b[0;32m<ipython-input-260-521b9a9513be>\u001b[0m in \u001b[0;36m<module>\u001b[0;34m()\u001b[0m\n\u001b[0;32m----> 1\u001b[0;31m \u001b[0mdraw_roc\u001b[0m\u001b[0;34m(\u001b[0m\u001b[0mlstm\u001b[0m\u001b[0;34m,\u001b[0m \u001b[0mx_test_exp\u001b[0m\u001b[0;34m,\u001b[0m \u001b[0my_test\u001b[0m\u001b[0;34m,\u001b[0m \u001b[0;34m\"lstm\"\u001b[0m\u001b[0;34m)\u001b[0m\u001b[0;34m\u001b[0m\u001b[0;34m\u001b[0m\u001b[0m\n\u001b[0m",
      "\u001b[0;31mNameError\u001b[0m: name 'lstm' is not defined"
     ]
    }
   ],
   "source": [
    "draw_roc(lstm, x_test_exp, y_test, \"lstm\")"
   ]
  },
  {
   "cell_type": "code",
   "execution_count": 261,
   "metadata": {
    "colab": {
     "base_uri": "https://localhost:8080/",
     "height": 172
    },
    "executionInfo": {
     "elapsed": 7,
     "status": "error",
     "timestamp": 1631025422064,
     "user": {
      "displayName": "이서영",
      "photoUrl": "",
      "userId": "08706917529998634867"
     },
     "user_tz": -540
    },
    "id": "RCol1ISeU9gh",
    "outputId": "73e42bf4-c68c-407b-eb5d-7243e6eb88b4"
   },
   "outputs": [
    {
     "ename": "NameError",
     "evalue": "ignored",
     "output_type": "error",
     "traceback": [
      "\u001b[0;31m---------------------------------------------------------------------------\u001b[0m",
      "\u001b[0;31mNameError\u001b[0m                                 Traceback (most recent call last)",
      "\u001b[0;32m<ipython-input-261-7300e701e7a9>\u001b[0m in \u001b[0;36m<module>\u001b[0;34m()\u001b[0m\n\u001b[0;32m----> 1\u001b[0;31m \u001b[0mplot_loss_graph\u001b[0m\u001b[0;34m(\u001b[0m\u001b[0mlstm\u001b[0m\u001b[0;34m,\u001b[0m \u001b[0;34m\"lstm\"\u001b[0m\u001b[0;34m)\u001b[0m\u001b[0;34m\u001b[0m\u001b[0;34m\u001b[0m\u001b[0m\n\u001b[0m",
      "\u001b[0;31mNameError\u001b[0m: name 'lstm' is not defined"
     ]
    }
   ],
   "source": [
    "plot_loss_graph(lstm, \"lstm\")"
   ]
  },
  {
   "cell_type": "code",
   "execution_count": null,
   "metadata": {
    "id": "T9C7waGkU9gh"
   },
   "outputs": [],
   "source": [
    "plot_prediction_graph(lstm, \"lstm\")"
   ]
  },
  {
   "cell_type": "code",
   "execution_count": null,
   "metadata": {
    "id": "zYXGHgHzU9gh"
   },
   "outputs": [],
   "source": []
  }
 ],
 "metadata": {
  "accelerator": "GPU",
  "colab": {
   "collapsed_sections": [],
   "machine_shape": "hm",
   "name": "3.lstm_feature_selection.ipynb",
   "provenance": []
  },
  "kernelspec": {
   "display_name": "Python 3",
   "language": "python",
   "name": "python3"
  },
  "language_info": {
   "codemirror_mode": {
    "name": "ipython",
    "version": 3
   },
   "file_extension": ".py",
   "mimetype": "text/x-python",
   "name": "python",
   "nbconvert_exporter": "python",
   "pygments_lexer": "ipython3",
   "version": "3.8.5"
  }
 },
 "nbformat": 4,
 "nbformat_minor": 1
}
