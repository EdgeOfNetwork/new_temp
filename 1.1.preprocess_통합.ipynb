{
 "cells": [
  {
   "cell_type": "code",
   "execution_count": 2,
   "metadata": {},
   "outputs": [],
   "source": [
    "import numpy as np\n",
    "import pandas as pd\n",
    "\n",
    "import matplotlib.pyplot as plt"
   ]
  },
  {
   "cell_type": "markdown",
   "metadata": {},
   "source": [
    "# 1. cur과 vib의 통합"
   ]
  },
  {
   "cell_type": "code",
   "execution_count": 4,
   "metadata": {},
   "outputs": [
    {
     "name": "stdout",
     "output_type": "stream",
     "text": [
      "36768 <class 'pandas.core.frame.DataFrame'>\n",
      "24487\n",
      "4599\n",
      "3064\n"
     ]
    }
   ],
   "source": [
    "cur_normal = pd.read_csv('2.2kW_cur_L-DSF-01_training_with_label.csv')\n",
    "vib_normal = pd.read_csv('2.2kW_vib_L-DSF-01_training_with_label.csv')\n",
    "cur_validation = pd.read_csv('2.2kW_cur_L-DSF-01_validation_with_label.csv')\n",
    "vib_validation = pd.read_csv('2.2kW_vib_L-DSF-01_validation_with_label.csv')\n",
    "\n",
    "print(len(cur_normal), type(cur_normal))\n",
    "print(len(vib_normal))\n",
    "print(len(cur_validation))\n",
    "print(len(vib_validation))"
   ]
  },
  {
   "cell_type": "code",
   "execution_count": 5,
   "metadata": {},
   "outputs": [],
   "source": [
    "np_cur_normal = cur_normal.to_numpy()\n",
    "np_vib_normal = vib_normal.to_numpy()\n",
    "np_cur_validation = cur_validation.to_numpy()\n",
    "np_vib_validation = vib_validation.to_numpy()"
   ]
  },
  {
   "cell_type": "markdown",
   "metadata": {},
   "source": [
    "# Extract Labels"
   ]
  },
  {
   "cell_type": "code",
   "execution_count": 6,
   "metadata": {},
   "outputs": [
    {
     "name": "stdout",
     "output_type": "stream",
     "text": [
      "<class 'numpy.ndarray'> [0 0 0 ... 3 3 3]\n",
      "[0 0 0 ... 3 3 3]\n",
      "[0 0 0 ... 3 3 3]\n",
      "[0 0 0 ... 3 3 3]\n"
     ]
    }
   ],
   "source": [
    "normal_cur_labels = np_cur_normal[:,-1]\n",
    "normal_vib_labels = np_vib_normal[:,-1]\n",
    "val_cur_labels = np_cur_validation[:, -1]\n",
    "val_vib_labels = np_vib_validation[:, -1]\n",
    "\n",
    "print(type(normal_cur_labels),normal_cur_labels)\n",
    "print(normal_vib_labels)\n",
    "print(val_cur_labels)\n",
    "print(val_vib_labels)"
   ]
  },
  {
   "cell_type": "code",
   "execution_count": 7,
   "metadata": {},
   "outputs": [],
   "source": [
    "cur_normal_dropped = cur_normal.drop(columns = ['Date','WATT','LABEL'])\n",
    "vib_normal_dropped = vib_normal.drop(columns = ['Date','WATT','LABEL'])\n",
    "cur_validation_dropped = cur_validation.drop(columns = ['Date','WATT','LABEL'])\n",
    "vib_validation_dropped = vib_validation.drop(columns = ['Date','WATT','LABEL'])"
   ]
  },
  {
   "cell_type": "code",
   "execution_count": 8,
   "metadata": {},
   "outputs": [
    {
     "data": {
      "text/html": [
       "<div>\n",
       "<style scoped>\n",
       "    .dataframe tbody tr th:only-of-type {\n",
       "        vertical-align: middle;\n",
       "    }\n",
       "\n",
       "    .dataframe tbody tr th {\n",
       "        vertical-align: top;\n",
       "    }\n",
       "\n",
       "    .dataframe thead th {\n",
       "        text-align: right;\n",
       "    }\n",
       "</style>\n",
       "<table border=\"1\" class=\"dataframe\">\n",
       "  <thead>\n",
       "    <tr style=\"text-align: right;\">\n",
       "      <th></th>\n",
       "      <th>R_AbsMax</th>\n",
       "      <th>S_AbsMax</th>\n",
       "      <th>T_AbsMax</th>\n",
       "      <th>R_AbsMean</th>\n",
       "      <th>S_AbsMean</th>\n",
       "      <th>T_AbsMean</th>\n",
       "      <th>R_P2P</th>\n",
       "      <th>S_P2P</th>\n",
       "      <th>T_P2P</th>\n",
       "      <th>R_RMS</th>\n",
       "      <th>...</th>\n",
       "      <th>T_1x</th>\n",
       "      <th>R_2x</th>\n",
       "      <th>S_2x</th>\n",
       "      <th>T_2x</th>\n",
       "      <th>R_3x</th>\n",
       "      <th>S_3x</th>\n",
       "      <th>T_3x</th>\n",
       "      <th>R_4x</th>\n",
       "      <th>S_4x</th>\n",
       "      <th>T_4x</th>\n",
       "    </tr>\n",
       "  </thead>\n",
       "  <tbody>\n",
       "    <tr>\n",
       "      <th>0</th>\n",
       "      <td>3.403320</td>\n",
       "      <td>3.123047</td>\n",
       "      <td>4.043945</td>\n",
       "      <td>2.057587</td>\n",
       "      <td>1.889543</td>\n",
       "      <td>2.245951</td>\n",
       "      <td>6.726562</td>\n",
       "      <td>6.166016</td>\n",
       "      <td>7.607422</td>\n",
       "      <td>2.296682</td>\n",
       "      <td>...</td>\n",
       "      <td>0.014614</td>\n",
       "      <td>3.282771</td>\n",
       "      <td>3.058104</td>\n",
       "      <td>3.579351</td>\n",
       "      <td>0.022117</td>\n",
       "      <td>0.019693</td>\n",
       "      <td>0.023455</td>\n",
       "      <td>0.031669</td>\n",
       "      <td>0.027953</td>\n",
       "      <td>0.024256</td>\n",
       "    </tr>\n",
       "    <tr>\n",
       "      <th>1</th>\n",
       "      <td>3.283203</td>\n",
       "      <td>3.083008</td>\n",
       "      <td>4.003906</td>\n",
       "      <td>2.059709</td>\n",
       "      <td>1.883498</td>\n",
       "      <td>2.254960</td>\n",
       "      <td>6.526367</td>\n",
       "      <td>6.005859</td>\n",
       "      <td>7.487305</td>\n",
       "      <td>2.287841</td>\n",
       "      <td>...</td>\n",
       "      <td>0.015374</td>\n",
       "      <td>3.433224</td>\n",
       "      <td>3.183656</td>\n",
       "      <td>3.761500</td>\n",
       "      <td>0.013864</td>\n",
       "      <td>0.011091</td>\n",
       "      <td>0.014099</td>\n",
       "      <td>0.030992</td>\n",
       "      <td>0.039196</td>\n",
       "      <td>0.035626</td>\n",
       "    </tr>\n",
       "    <tr>\n",
       "      <th>2</th>\n",
       "      <td>3.283203</td>\n",
       "      <td>3.083008</td>\n",
       "      <td>3.963867</td>\n",
       "      <td>2.059209</td>\n",
       "      <td>1.884539</td>\n",
       "      <td>2.255280</td>\n",
       "      <td>6.526367</td>\n",
       "      <td>6.085938</td>\n",
       "      <td>7.407227</td>\n",
       "      <td>2.288444</td>\n",
       "      <td>...</td>\n",
       "      <td>0.019783</td>\n",
       "      <td>3.432319</td>\n",
       "      <td>3.184894</td>\n",
       "      <td>3.755824</td>\n",
       "      <td>0.022333</td>\n",
       "      <td>0.019714</td>\n",
       "      <td>0.020837</td>\n",
       "      <td>0.024400</td>\n",
       "      <td>0.026358</td>\n",
       "      <td>0.023356</td>\n",
       "    </tr>\n",
       "  </tbody>\n",
       "</table>\n",
       "<p>3 rows × 45 columns</p>\n",
       "</div>"
      ],
      "text/plain": [
       "   R_AbsMax  S_AbsMax  T_AbsMax  R_AbsMean  S_AbsMean  T_AbsMean     R_P2P  \\\n",
       "0  3.403320  3.123047  4.043945   2.057587   1.889543   2.245951  6.726562   \n",
       "1  3.283203  3.083008  4.003906   2.059709   1.883498   2.254960  6.526367   \n",
       "2  3.283203  3.083008  3.963867   2.059209   1.884539   2.255280  6.526367   \n",
       "\n",
       "      S_P2P     T_P2P     R_RMS  ...      T_1x      R_2x      S_2x      T_2x  \\\n",
       "0  6.166016  7.607422  2.296682  ...  0.014614  3.282771  3.058104  3.579351   \n",
       "1  6.005859  7.487305  2.287841  ...  0.015374  3.433224  3.183656  3.761500   \n",
       "2  6.085938  7.407227  2.288444  ...  0.019783  3.432319  3.184894  3.755824   \n",
       "\n",
       "       R_3x      S_3x      T_3x      R_4x      S_4x      T_4x  \n",
       "0  0.022117  0.019693  0.023455  0.031669  0.027953  0.024256  \n",
       "1  0.013864  0.011091  0.014099  0.030992  0.039196  0.035626  \n",
       "2  0.022333  0.019714  0.020837  0.024400  0.026358  0.023356  \n",
       "\n",
       "[3 rows x 45 columns]"
      ]
     },
     "execution_count": 8,
     "metadata": {},
     "output_type": "execute_result"
    }
   ],
   "source": [
    "cur_normal_dropped.head(3)"
   ]
  },
  {
   "cell_type": "code",
   "execution_count": 9,
   "metadata": {},
   "outputs": [
    {
     "data": {
      "text/html": [
       "<div>\n",
       "<style scoped>\n",
       "    .dataframe tbody tr th:only-of-type {\n",
       "        vertical-align: middle;\n",
       "    }\n",
       "\n",
       "    .dataframe tbody tr th {\n",
       "        vertical-align: top;\n",
       "    }\n",
       "\n",
       "    .dataframe thead th {\n",
       "        text-align: right;\n",
       "    }\n",
       "</style>\n",
       "<table border=\"1\" class=\"dataframe\">\n",
       "  <thead>\n",
       "    <tr style=\"text-align: right;\">\n",
       "      <th></th>\n",
       "      <th>AbsMax</th>\n",
       "      <th>AbsMean</th>\n",
       "      <th>P2P</th>\n",
       "      <th>RMS</th>\n",
       "      <th>Skewness</th>\n",
       "      <th>Kurtosis</th>\n",
       "      <th>Crest</th>\n",
       "      <th>Shape</th>\n",
       "      <th>Impulse</th>\n",
       "      <th>1x</th>\n",
       "      <th>2x</th>\n",
       "      <th>3x</th>\n",
       "      <th>4x</th>\n",
       "      <th>1xB</th>\n",
       "      <th>2xB</th>\n",
       "      <th>3xB</th>\n",
       "      <th>4xB</th>\n",
       "    </tr>\n",
       "  </thead>\n",
       "  <tbody>\n",
       "    <tr>\n",
       "      <th>0</th>\n",
       "      <td>0.052886</td>\n",
       "      <td>0.004459</td>\n",
       "      <td>0.071972</td>\n",
       "      <td>0.005718</td>\n",
       "      <td>-0.438530</td>\n",
       "      <td>4.491689</td>\n",
       "      <td>12.587725</td>\n",
       "      <td>1.282149</td>\n",
       "      <td>11.859366</td>\n",
       "      <td>0.001678</td>\n",
       "      <td>0.002248</td>\n",
       "      <td>0.001469</td>\n",
       "      <td>0.002217</td>\n",
       "      <td>0.000414</td>\n",
       "      <td>0.000677</td>\n",
       "      <td>0.000280</td>\n",
       "      <td>0.000264</td>\n",
       "    </tr>\n",
       "    <tr>\n",
       "      <th>1</th>\n",
       "      <td>0.045940</td>\n",
       "      <td>0.004400</td>\n",
       "      <td>0.065973</td>\n",
       "      <td>0.005704</td>\n",
       "      <td>-0.610259</td>\n",
       "      <td>5.239334</td>\n",
       "      <td>11.566962</td>\n",
       "      <td>1.296319</td>\n",
       "      <td>10.441389</td>\n",
       "      <td>0.002351</td>\n",
       "      <td>0.001282</td>\n",
       "      <td>0.001054</td>\n",
       "      <td>0.002149</td>\n",
       "      <td>0.001089</td>\n",
       "      <td>0.000716</td>\n",
       "      <td>0.000539</td>\n",
       "      <td>0.000422</td>\n",
       "    </tr>\n",
       "    <tr>\n",
       "      <th>2</th>\n",
       "      <td>0.065577</td>\n",
       "      <td>0.004383</td>\n",
       "      <td>0.083307</td>\n",
       "      <td>0.005693</td>\n",
       "      <td>-0.770679</td>\n",
       "      <td>7.921089</td>\n",
       "      <td>14.634132</td>\n",
       "      <td>1.298942</td>\n",
       "      <td>14.963328</td>\n",
       "      <td>0.001837</td>\n",
       "      <td>0.001834</td>\n",
       "      <td>0.000904</td>\n",
       "      <td>0.002094</td>\n",
       "      <td>0.000756</td>\n",
       "      <td>0.000304</td>\n",
       "      <td>0.000474</td>\n",
       "      <td>0.000251</td>\n",
       "    </tr>\n",
       "  </tbody>\n",
       "</table>\n",
       "</div>"
      ],
      "text/plain": [
       "     AbsMax   AbsMean       P2P       RMS  Skewness  Kurtosis      Crest  \\\n",
       "0  0.052886  0.004459  0.071972  0.005718 -0.438530  4.491689  12.587725   \n",
       "1  0.045940  0.004400  0.065973  0.005704 -0.610259  5.239334  11.566962   \n",
       "2  0.065577  0.004383  0.083307  0.005693 -0.770679  7.921089  14.634132   \n",
       "\n",
       "      Shape    Impulse        1x        2x        3x        4x       1xB  \\\n",
       "0  1.282149  11.859366  0.001678  0.002248  0.001469  0.002217  0.000414   \n",
       "1  1.296319  10.441389  0.002351  0.001282  0.001054  0.002149  0.001089   \n",
       "2  1.298942  14.963328  0.001837  0.001834  0.000904  0.002094  0.000756   \n",
       "\n",
       "        2xB       3xB       4xB  \n",
       "0  0.000677  0.000280  0.000264  \n",
       "1  0.000716  0.000539  0.000422  \n",
       "2  0.000304  0.000474  0.000251  "
      ]
     },
     "execution_count": 9,
     "metadata": {},
     "output_type": "execute_result"
    }
   ],
   "source": [
    "vib_normal_dropped.head(3)"
   ]
  },
  {
   "cell_type": "code",
   "execution_count": 13,
   "metadata": {},
   "outputs": [
    {
     "name": "stdout",
     "output_type": "stream",
     "text": [
      "<class 'pandas.core.frame.DataFrame'>\n",
      "RangeIndex: 36768 entries, 0 to 36767\n",
      "Data columns (total 45 columns):\n",
      " #   Column      Non-Null Count  Dtype  \n",
      "---  ------      --------------  -----  \n",
      " 0   R_AbsMax    36768 non-null  float64\n",
      " 1   S_AbsMax    36768 non-null  float64\n",
      " 2   T_AbsMax    36768 non-null  float64\n",
      " 3   R_AbsMean   36768 non-null  float64\n",
      " 4   S_AbsMean   36768 non-null  float64\n",
      " 5   T_AbsMean   36768 non-null  float64\n",
      " 6   R_P2P       36768 non-null  float64\n",
      " 7   S_P2P       36768 non-null  float64\n",
      " 8   T_P2P       36768 non-null  float64\n",
      " 9   R_RMS       36768 non-null  float64\n",
      " 10  S_RMS       36768 non-null  float64\n",
      " 11  T_RMS       36768 non-null  float64\n",
      " 12  R_Skewness  36768 non-null  float64\n",
      " 13  S_Skewness  36768 non-null  float64\n",
      " 14  T_Skewness  36768 non-null  float64\n",
      " 15  R_Kurtosis  36768 non-null  float64\n",
      " 16  S_Kurtosis  36768 non-null  float64\n",
      " 17  T_Kurtosis  36768 non-null  float64\n",
      " 18  R_Crest     36768 non-null  float64\n",
      " 19  S_Crest     36768 non-null  float64\n",
      " 20  T_Crest     36768 non-null  float64\n",
      " 21  R_Shape     36768 non-null  float64\n",
      " 22  S_Shape     36768 non-null  float64\n",
      " 23  T_Shape     36768 non-null  float64\n",
      " 24  R_Impulse   36768 non-null  float64\n",
      " 25  S_Impulse   36768 non-null  float64\n",
      " 26  T_Impulse   36768 non-null  float64\n",
      " 27  RS_phase    36768 non-null  float64\n",
      " 28  ST_phase    36768 non-null  float64\n",
      " 29  TR_phase    36768 non-null  float64\n",
      " 30  RS_Level    36768 non-null  float64\n",
      " 31  ST_Level    36768 non-null  float64\n",
      " 32  TR_Level    36768 non-null  float64\n",
      " 33  R_1x        36768 non-null  float64\n",
      " 34  S_1x        36768 non-null  float64\n",
      " 35  T_1x        36768 non-null  float64\n",
      " 36  R_2x        36768 non-null  float64\n",
      " 37  S_2x        36768 non-null  float64\n",
      " 38  T_2x        36768 non-null  float64\n",
      " 39  R_3x        36768 non-null  float64\n",
      " 40  S_3x        36768 non-null  float64\n",
      " 41  T_3x        36768 non-null  float64\n",
      " 42  R_4x        36768 non-null  float64\n",
      " 43  S_4x        36768 non-null  float64\n",
      " 44  T_4x        36768 non-null  float64\n",
      "dtypes: float64(45)\n",
      "memory usage: 12.6 MB\n"
     ]
    }
   ],
   "source": [
    "cur_normal_dropped.info()"
   ]
  },
  {
   "cell_type": "code",
   "execution_count": 14,
   "metadata": {},
   "outputs": [
    {
     "name": "stdout",
     "output_type": "stream",
     "text": [
      "<class 'pandas.core.frame.DataFrame'>\n",
      "RangeIndex: 24487 entries, 0 to 24486\n",
      "Data columns (total 17 columns):\n",
      " #   Column    Non-Null Count  Dtype  \n",
      "---  ------    --------------  -----  \n",
      " 0   AbsMax    24487 non-null  float64\n",
      " 1   AbsMean   24487 non-null  float64\n",
      " 2   P2P       24487 non-null  float64\n",
      " 3   RMS       24487 non-null  float64\n",
      " 4   Skewness  24487 non-null  float64\n",
      " 5   Kurtosis  24487 non-null  float64\n",
      " 6   Crest     24487 non-null  float64\n",
      " 7   Shape     24487 non-null  float64\n",
      " 8   Impulse   24487 non-null  float64\n",
      " 9   1x        24487 non-null  float64\n",
      " 10  2x        24487 non-null  float64\n",
      " 11  3x        24487 non-null  float64\n",
      " 12  4x        24487 non-null  float64\n",
      " 13  1xB       24487 non-null  float64\n",
      " 14  2xB       24487 non-null  float64\n",
      " 15  3xB       24487 non-null  float64\n",
      " 16  4xB       24487 non-null  float64\n",
      "dtypes: float64(17)\n",
      "memory usage: 3.2 MB\n"
     ]
    }
   ],
   "source": [
    "vib_normal_dropped.info()"
   ]
  },
  {
   "cell_type": "code",
   "execution_count": 11,
   "metadata": {},
   "outputs": [
    {
     "name": "stdout",
     "output_type": "stream",
     "text": [
      "(36768, 45)\n",
      "(24487, 17)\n"
     ]
    }
   ],
   "source": [
    "print(cur_normal_dropped.shape)\n",
    "print(vib_normal_dropped.shape)"
   ]
  },
  {
   "cell_type": "code",
   "execution_count": null,
   "metadata": {},
   "outputs": [],
   "source": []
  },
  {
   "cell_type": "code",
   "execution_count": 8,
   "metadata": {},
   "outputs": [],
   "source": [
    "cur_normal_dropped_np = cur_normal_dropped.to_numpy()\n",
    "vib_normal_dropped_np = vib_normal_dropped.to_numpy()\n",
    "cur_validation_dropped_np = cur_validation_dropped.to_numpy()\n",
    "vib_validation_dropped_np = vib_validation_dropped.to_numpy()"
   ]
  },
  {
   "cell_type": "code",
   "execution_count": 10,
   "metadata": {},
   "outputs": [],
   "source": [
    "from sklearn.model_selection import train_test_split\n",
    "\n",
    "x_train, x_test, y_train, y_test = train_test_split(cur_normal_dropped_np, normal_cur_labels, stratify=normal_cur_labels, test_size=0.2, random_state=42)"
   ]
  },
  {
   "cell_type": "code",
   "execution_count": 11,
   "metadata": {},
   "outputs": [
    {
     "name": "stdout",
     "output_type": "stream",
     "text": [
      "(29414, 45)\n",
      "(7354, 45)\n",
      "==================================================\n",
      "(29414,)\n",
      "(7354,)\n",
      "==================================================\n",
      "(4599, 45)\n",
      "(4599,)\n"
     ]
    }
   ],
   "source": [
    "print(x_train.shape)\n",
    "print(x_test.shape)\n",
    "\n",
    "print(\"=\"*50)\n",
    "\n",
    "print(y_train.shape)\n",
    "print(y_test.shape)\n",
    "\n",
    "print(\"=\"*50)\n",
    "\n",
    "x_valid = cur_validation_dropped_np\n",
    "y_valid = val_cur_labels\n",
    "\n",
    "print(x_valid.shape)\n",
    "print(y_valid.shape)"
   ]
  },
  {
   "cell_type": "markdown",
   "metadata": {},
   "source": [
    "# 일단 Normalize는 하지 말아보자"
   ]
  },
  {
   "cell_type": "markdown",
   "metadata": {},
   "source": [
    "시각화 1. 데이터 불균형 확인"
   ]
  },
  {
   "cell_type": "code",
   "execution_count": 13,
   "metadata": {},
   "outputs": [
    {
     "data": {
      "text/plain": [
       "array([0, 3], dtype=object)"
      ]
     },
     "execution_count": 13,
     "metadata": {},
     "output_type": "execute_result"
    }
   ],
   "source": [
    "classes = np.unique(np.concatenate((y_train, y_test), axis=0))  # classes = array([-1,  1])\n",
    "classes"
   ]
  },
  {
   "cell_type": "code",
   "execution_count": 22,
   "metadata": {},
   "outputs": [
    {
     "data": {
      "image/png": "[encoded data removed]",
      "text/plain": [
       "<Figure size 576x288 with 3 Axes>"
      ]
     },
     "metadata": {
      "needs_background": "light"
     },
     "output_type": "display_data"
    }
   ],
   "source": [
    "# Class의 종류 확인: 정상 1, 비정상 -1\n",
    "x = np.arange(len(classes))  # Plot의 X축의 개수 구하기\n",
    "#labels = [\"Abnormal\", \"Normal\"]   # Plot의 X축의 이름 구하기\n",
    "labels = [\"Normal\", \"Shaft misalignment\"]   # Plot의 X축의 이름 구하기\n",
    "\n",
    "values_train = [(y_train == i).sum() for i in classes]  # Train 데이터의 정상/비정상 각 총 개수\n",
    "values_valid = [(y_valid == i).sum() for i in classes]  # Test 데이터의 정상/비정상 각 총 개수\n",
    "values_test = [(y_test == i).sum() for i in classes]  # Test 데이터의 정상/비정상 각 총 개수\n",
    "\n",
    "plt.figure(figsize=(8,4))  # Plot 틀(Figure)의 Size 설정 (5X3)\n",
    "\n",
    "plt.subplot(1,3,1)   # Plot 틀(Figure) 내 3개의 subplot 중 첫 번째(왼쪽) 지정\n",
    "plt.title(\"Training Data\")  # subplot 제목\n",
    "plt.bar(x, values_train, width=0.6, color=[\"red\", \"blue\"])  # Train 데이터의 정상/비정상 개수 BarPlot\n",
    "plt.ylim([0, 30000])\n",
    "plt.xticks(x, labels)  # X축에 변수 기입\n",
    "\n",
    "plt.subplot(1,3,2)  # Plot 틀(Figure) 내 3개의 subplot 중 두 번째(가운데) 지정\n",
    "plt.title(\"Validation Data\")\n",
    "plt.bar(x, values_valid, width=0.6, color=[\"red\", \"blue\"])  # Test 데이터의 정상/비정상 개수 BarPlot\n",
    "plt.ylim([0, 5000])\n",
    "plt.xticks(x, labels)  \n",
    "\n",
    "plt.subplot(1,3,3)  # Plot 틀(Figure) 내 3개의 subplot 중 세 번째(오른쪽) 지정\n",
    "plt.title(\"Test Data\")\n",
    "plt.bar(x, values_test, width=0.6, color=[\"red\", \"blue\"])  # Test 데이터의 정상/비정상 개수 BarPlot\n",
    "plt.ylim([0, 8000])\n",
    "plt.xticks(x, labels)\n",
    "\n",
    "plt.tight_layout()  # 그림 저장\n",
    "plt.savefig('data_imbalance.png', dpi=100, bbox_inches='tight')  # 그림 저장\n",
    "plt.show()  # 그림 출력"
   ]
  },
  {
   "cell_type": "markdown",
   "metadata": {},
   "source": [
    "시각화2 .특정 시간에서의 시계열 샘플을 플롯"
   ]
  },
  {
   "cell_type": "markdown",
   "metadata": {},
   "source": [
    "# Validation도 Scale을 맞춰줘야겠지??"
   ]
  },
  {
   "cell_type": "markdown",
   "metadata": {},
   "source": [
    "# 2. normalize"
   ]
  },
  {
   "cell_type": "code",
   "execution_count": 47,
   "metadata": {},
   "outputs": [],
   "source": [
    "from sklearn.preprocessing import StandardScaler\n",
    "from sklearn.preprocessing import RobustScaler\n",
    "\n",
    "# Standard Scaler를 적용하고 싶을 경우 아래 Code를 실행\n",
    "\n",
    "stder = StandardScaler()\n",
    "stder.fit(x_train)\n",
    "\n",
    "x_train = stder.transform(x_train)\n",
    "x_valid = stder.transform(x_valid)\n",
    "\n",
    "# Robust Scaler를 적용하고 싶을 경우 아래 주석을 해제하고 Code를 실행\n",
    "\n",
    "# rscaler = RobustScaler() \n",
    "# rscaler.fit(x_train)\n",
    "# x_train = rscaler.transform(x_train)\n",
    "# x_valid = rscaler.transform(x_valid)"
   ]
  },
  {
   "cell_type": "markdown",
   "metadata": {},
   "source": [
    "본 데이터는 Multivariate이며, 1개의 Channel만 갖는다. 우리는 multivariate variable with one channel 형태로 바꿔주고자 하며, 이는 아래와 같다."
   ]
  },
  {
   "cell_type": "code",
   "execution_count": 48,
   "metadata": {},
   "outputs": [
    {
     "name": "stdout",
     "output_type": "stream",
     "text": [
      "x_train_exp의 형태: (29414, 45, 1)\n",
      "x_valid_exp의 형태: (4599, 45, 1)\n",
      "x_test_exp의 형태: (7354, 45, 1)\n"
     ]
    }
   ],
   "source": [
    "# CNN, RNN 모델의 입력 변수는 채널 축 1개 차원을 확장시킨 3D Tensor이다.\n",
    "# 즉 아래 CNN, RNN 모델은 x_train, x_valid, x_test를 입력 변수로 넣지 않고, \n",
    "# x_train_exp, x_valid_exp, x_test_exp을 넣는다. \n",
    "x_train_exp = np.expand_dims(x_train, -1)  # 채널 축 1개 차원을 확장 시킨(Expand) X_train\n",
    "x_valid_exp = np.expand_dims(x_valid, -1)  # 채널 축 1개 차원을 확장 시킨(Expand) X_vaild \n",
    "x_test_exp = np.expand_dims(x_test, -1)  # 채널 축 1개 차원을 확장 시킨(Expand) X_test\n",
    "\n",
    "# 위와 동일한 코드\n",
    "# x_train_exp = x_train.reshape((x_train.shape[0], x_train.shape[1], 1))\n",
    "# x_valid_exp = x_train.reshape((x_valid.shape[0], x_valid.shape[1], 1))\n",
    "# x_test_exp = x_test.reshape((x_test.shape[0], x_test.shape[1], 1))\n",
    "\n",
    "print(\"x_train_exp의 형태:\", x_train_exp.shape)\n",
    "print(\"x_valid_exp의 형태:\", x_valid_exp.shape)\n",
    "print(\"x_test_exp의 형태:\", x_test_exp.shape)"
   ]
  },
  {
   "cell_type": "markdown",
   "metadata": {},
   "source": [
    "label (비정상 -1 또는 정상 1) 값을 Positive Value로 바꿔준다."
   ]
  },
  {
   "cell_type": "code",
   "execution_count": 63,
   "metadata": {},
   "outputs": [
    {
     "data": {
      "text/plain": [
       "numpy.ndarray"
      ]
     },
     "execution_count": 63,
     "metadata": {},
     "output_type": "execute_result"
    }
   ],
   "source": [
    "type(y_train)"
   ]
  },
  {
   "cell_type": "code",
   "execution_count": 65,
   "metadata": {},
   "outputs": [],
   "source": [
    "# y_train[y_train == -1] = 0\n",
    "# y_valid[y_valid == -1] = 0\n",
    "# y_test[y_test == -1] = 0\n",
    "y_train[y_train == 3] = 1\n",
    "y_train = y_train.astype('int')\n",
    "y_valid[y_valid == 3] = 1\n",
    "y_valid = y_valid.astype('int')\n",
    "y_test[y_test == 3] = 1\n",
    "y_test = y_test.astype('int')"
   ]
  },
  {
   "cell_type": "code",
   "execution_count": 66,
   "metadata": {},
   "outputs": [
    {
     "name": "stdout",
     "output_type": "stream",
     "text": [
      "[0 1 1 ... 0 1 1]\n"
     ]
    }
   ],
   "source": [
    "print(y_train)"
   ]
  },
  {
   "cell_type": "markdown",
   "metadata": {},
   "source": [
    "비정상 3 -> 1로 마크?? 이 이작업이 꼭 필요할까?"
   ]
  },
  {
   "cell_type": "code",
   "execution_count": 50,
   "metadata": {},
   "outputs": [
    {
     "data": {
      "text/plain": [
       "2"
      ]
     },
     "execution_count": 50,
     "metadata": {},
     "output_type": "execute_result"
    }
   ],
   "source": [
    "num_classes = len(np.unique(np.concatenate((y_train, y_test), axis=0)))\n",
    "num_classes"
   ]
  },
  {
   "cell_type": "markdown",
   "metadata": {},
   "source": [
    "# 모델구축, 로지스틱 회귀"
   ]
  },
  {
   "cell_type": "markdown",
   "metadata": {},
   "source": [
    "1. 로지스틱 회귀로 문제 해결 "
   ]
  },
  {
   "cell_type": "code",
   "execution_count": 67,
   "metadata": {},
   "outputs": [],
   "source": [
    "from sklearn.linear_model import LogisticRegression\n",
    "\n",
    "clf_lr_1 = LogisticRegression(penalty='l2',\n",
    "                         tol=0.0001, \n",
    "                         C=1, \n",
    "                         fit_intercept=True, \n",
    "                         intercept_scaling=1, \n",
    "                         random_state=2, \n",
    "                         solver='lbfgs', \n",
    "                         max_iter=1000,\n",
    "                         multi_class='auto',\n",
    "                         verbose=0)"
   ]
  },
  {
   "cell_type": "code",
   "execution_count": 68,
   "metadata": {},
   "outputs": [],
   "source": [
    "x_train_lr = np.concatenate((x_train, x_valid), axis=0)  # 로지스틱 회귀 학습용 데이터\n",
    "y_train_lr = np.concatenate((y_train, y_valid), axis=0)  # 로지스틱 회귀 테스트용 데이터"
   ]
  },
  {
   "cell_type": "code",
   "execution_count": 69,
   "metadata": {},
   "outputs": [
    {
     "name": "stdout",
     "output_type": "stream",
     "text": [
      "[[-0.45620424  0.02795789 -0.31167784 ... -0.19067947 -0.09230915\n",
      "  -0.06799548]\n",
      " [ 0.47273721  0.23174399  0.65784982 ... -0.76493598 -0.51591107\n",
      "  -0.65871389]\n",
      " [-0.38653363 -0.45603411 -0.04909743 ... -0.37383163 -0.26102343\n",
      "  -0.29077006]\n",
      " ...\n",
      " [ 0.28694892 -0.37961432 -0.1500899  ... -0.08884138 -0.25235227\n",
      "  -0.42474281]\n",
      " [ 0.28694892 -0.17582822 -0.1500899  ... -0.3041877  -0.41399564\n",
      "  -0.38198629]\n",
      " [ 0.10116063 -0.17582822 -0.1500899  ...  1.27789068  1.30838831\n",
      "   1.32614217]]\n"
     ]
    }
   ],
   "source": [
    "print(x_train_lr)"
   ]
  },
  {
   "cell_type": "code",
   "execution_count": 70,
   "metadata": {},
   "outputs": [
    {
     "data": {
      "text/plain": [
       "LogisticRegression(C=1, max_iter=1000, random_state=2)"
      ]
     },
     "execution_count": 70,
     "metadata": {},
     "output_type": "execute_result"
    }
   ],
   "source": [
    "clf_lr_1.fit(x_train_lr, y_train_lr)"
   ]
  },
  {
   "cell_type": "code",
   "execution_count": null,
   "metadata": {},
   "outputs": [],
   "source": [
    "y_pred = clf_lr_1.predict(x_test)\n",
    "y_pred_proba = clf_lr_1.predict_proba(x_test)"
   ]
  },
  {
   "cell_type": "code",
   "execution_count": null,
   "metadata": {},
   "outputs": [],
   "source": [
    "score = clf_lr_1.score(x_test, y_test)\n",
    "print(\"%s: %.2f%%\" % (\"Logistic Regression Prediction Rate\", score*100))"
   ]
  },
  {
   "cell_type": "markdown",
   "metadata": {},
   "source": [
    "2. XGBoost"
   ]
  },
  {
   "cell_type": "code",
   "execution_count": 71,
   "metadata": {},
   "outputs": [],
   "source": [
    "#!pip install xgboost\n",
    "from xgboost import XGBClassifier\n",
    "\n",
    "\"\"\"\n",
    "# 반드시 튜닝해야할 파라미터는  min_child_weight / max_depth / gamma\n",
    "\"\"\"\n",
    "\n",
    "xgb = XGBClassifier(\n",
    "    learning_rate=0.1, \n",
    "    n_estimators=500, \n",
    "    max_depth=5,\n",
    "    min_child_weight=3, \n",
    "    gamma=0.2, \n",
    "    subsample=0.6, \n",
    "    colsample_bytree=1.0,\n",
    "    objective='binary:logistic', \n",
    "    nthread=4, \n",
    "    scale_pos_weight=1, \n",
    "    seed=27)"
   ]
  },
  {
   "cell_type": "code",
   "execution_count": 72,
   "metadata": {},
   "outputs": [
    {
     "ename": "KeyboardInterrupt",
     "evalue": "",
     "output_type": "error",
     "traceback": [
      "\u001b[1;31m---------------------------------------------------------------------------\u001b[0m",
      "\u001b[1;31mKeyboardInterrupt\u001b[0m                         Traceback (most recent call last)",
      "\u001b[1;32m<ipython-input-72-ec70a0bcf328>\u001b[0m in \u001b[0;36m<module>\u001b[1;34m\u001b[0m\n\u001b[0;32m     16\u001b[0m                     \u001b[0mscoring\u001b[0m\u001b[1;33m=\u001b[0m\u001b[1;34m\"neg_log_loss\"\u001b[0m\u001b[1;33m,\u001b[0m\u001b[1;33m\u001b[0m\u001b[1;33m\u001b[0m\u001b[0m\n\u001b[0;32m     17\u001b[0m                     cv=5)\n\u001b[1;32m---> 18\u001b[1;33m grid.fit(\n\u001b[0m\u001b[0;32m     19\u001b[0m     \u001b[0mx_train\u001b[0m\u001b[1;33m.\u001b[0m\u001b[0msqueeze\u001b[0m\u001b[1;33m(\u001b[0m\u001b[1;33m)\u001b[0m\u001b[1;33m,\u001b[0m\u001b[1;33m\u001b[0m\u001b[1;33m\u001b[0m\u001b[0m\n\u001b[0;32m     20\u001b[0m     \u001b[0my_train\u001b[0m\u001b[1;33m,\u001b[0m\u001b[1;33m\u001b[0m\u001b[1;33m\u001b[0m\u001b[0m\n",
      "\u001b[1;32m~\\anaconda3\\lib\\site-packages\\sklearn\\utils\\validation.py\u001b[0m in \u001b[0;36minner_f\u001b[1;34m(*args, **kwargs)\u001b[0m\n\u001b[0;32m     70\u001b[0m                           FutureWarning)\n\u001b[0;32m     71\u001b[0m         \u001b[0mkwargs\u001b[0m\u001b[1;33m.\u001b[0m\u001b[0mupdate\u001b[0m\u001b[1;33m(\u001b[0m\u001b[1;33m{\u001b[0m\u001b[0mk\u001b[0m\u001b[1;33m:\u001b[0m \u001b[0marg\u001b[0m \u001b[1;32mfor\u001b[0m \u001b[0mk\u001b[0m\u001b[1;33m,\u001b[0m \u001b[0marg\u001b[0m \u001b[1;32min\u001b[0m \u001b[0mzip\u001b[0m\u001b[1;33m(\u001b[0m\u001b[0msig\u001b[0m\u001b[1;33m.\u001b[0m\u001b[0mparameters\u001b[0m\u001b[1;33m,\u001b[0m \u001b[0margs\u001b[0m\u001b[1;33m)\u001b[0m\u001b[1;33m}\u001b[0m\u001b[1;33m)\u001b[0m\u001b[1;33m\u001b[0m\u001b[1;33m\u001b[0m\u001b[0m\n\u001b[1;32m---> 72\u001b[1;33m         \u001b[1;32mreturn\u001b[0m \u001b[0mf\u001b[0m\u001b[1;33m(\u001b[0m\u001b[1;33m**\u001b[0m\u001b[0mkwargs\u001b[0m\u001b[1;33m)\u001b[0m\u001b[1;33m\u001b[0m\u001b[1;33m\u001b[0m\u001b[0m\n\u001b[0m\u001b[0;32m     73\u001b[0m     \u001b[1;32mreturn\u001b[0m \u001b[0minner_f\u001b[0m\u001b[1;33m\u001b[0m\u001b[1;33m\u001b[0m\u001b[0m\n\u001b[0;32m     74\u001b[0m \u001b[1;33m\u001b[0m\u001b[0m\n",
      "\u001b[1;32m~\\anaconda3\\lib\\site-packages\\sklearn\\model_selection\\_search.py\u001b[0m in \u001b[0;36mfit\u001b[1;34m(self, X, y, groups, **fit_params)\u001b[0m\n\u001b[0;32m    734\u001b[0m                 \u001b[1;32mreturn\u001b[0m \u001b[0mresults\u001b[0m\u001b[1;33m\u001b[0m\u001b[1;33m\u001b[0m\u001b[0m\n\u001b[0;32m    735\u001b[0m \u001b[1;33m\u001b[0m\u001b[0m\n\u001b[1;32m--> 736\u001b[1;33m             \u001b[0mself\u001b[0m\u001b[1;33m.\u001b[0m\u001b[0m_run_search\u001b[0m\u001b[1;33m(\u001b[0m\u001b[0mevaluate_candidates\u001b[0m\u001b[1;33m)\u001b[0m\u001b[1;33m\u001b[0m\u001b[1;33m\u001b[0m\u001b[0m\n\u001b[0m\u001b[0;32m    737\u001b[0m \u001b[1;33m\u001b[0m\u001b[0m\n\u001b[0;32m    738\u001b[0m         \u001b[1;31m# For multi-metric evaluation, store the best_index_, best_params_ and\u001b[0m\u001b[1;33m\u001b[0m\u001b[1;33m\u001b[0m\u001b[1;33m\u001b[0m\u001b[0m\n",
      "\u001b[1;32m~\\anaconda3\\lib\\site-packages\\sklearn\\model_selection\\_search.py\u001b[0m in \u001b[0;36m_run_search\u001b[1;34m(self, evaluate_candidates)\u001b[0m\n\u001b[0;32m   1186\u001b[0m     \u001b[1;32mdef\u001b[0m \u001b[0m_run_search\u001b[0m\u001b[1;33m(\u001b[0m\u001b[0mself\u001b[0m\u001b[1;33m,\u001b[0m \u001b[0mevaluate_candidates\u001b[0m\u001b[1;33m)\u001b[0m\u001b[1;33m:\u001b[0m\u001b[1;33m\u001b[0m\u001b[1;33m\u001b[0m\u001b[0m\n\u001b[0;32m   1187\u001b[0m         \u001b[1;34m\"\"\"Search all candidates in param_grid\"\"\"\u001b[0m\u001b[1;33m\u001b[0m\u001b[1;33m\u001b[0m\u001b[0m\n\u001b[1;32m-> 1188\u001b[1;33m         \u001b[0mevaluate_candidates\u001b[0m\u001b[1;33m(\u001b[0m\u001b[0mParameterGrid\u001b[0m\u001b[1;33m(\u001b[0m\u001b[0mself\u001b[0m\u001b[1;33m.\u001b[0m\u001b[0mparam_grid\u001b[0m\u001b[1;33m)\u001b[0m\u001b[1;33m)\u001b[0m\u001b[1;33m\u001b[0m\u001b[1;33m\u001b[0m\u001b[0m\n\u001b[0m\u001b[0;32m   1189\u001b[0m \u001b[1;33m\u001b[0m\u001b[0m\n\u001b[0;32m   1190\u001b[0m \u001b[1;33m\u001b[0m\u001b[0m\n",
      "\u001b[1;32m~\\anaconda3\\lib\\site-packages\\sklearn\\model_selection\\_search.py\u001b[0m in \u001b[0;36mevaluate_candidates\u001b[1;34m(candidate_params)\u001b[0m\n\u001b[0;32m    706\u001b[0m                               n_splits, n_candidates, n_candidates * n_splits))\n\u001b[0;32m    707\u001b[0m \u001b[1;33m\u001b[0m\u001b[0m\n\u001b[1;32m--> 708\u001b[1;33m                 out = parallel(delayed(_fit_and_score)(clone(base_estimator),\n\u001b[0m\u001b[0;32m    709\u001b[0m                                                        \u001b[0mX\u001b[0m\u001b[1;33m,\u001b[0m \u001b[0my\u001b[0m\u001b[1;33m,\u001b[0m\u001b[1;33m\u001b[0m\u001b[1;33m\u001b[0m\u001b[0m\n\u001b[0;32m    710\u001b[0m                                                        \u001b[0mtrain\u001b[0m\u001b[1;33m=\u001b[0m\u001b[0mtrain\u001b[0m\u001b[1;33m,\u001b[0m \u001b[0mtest\u001b[0m\u001b[1;33m=\u001b[0m\u001b[0mtest\u001b[0m\u001b[1;33m,\u001b[0m\u001b[1;33m\u001b[0m\u001b[1;33m\u001b[0m\u001b[0m\n",
      "\u001b[1;32m~\\anaconda3\\lib\\site-packages\\joblib\\parallel.py\u001b[0m in \u001b[0;36m__call__\u001b[1;34m(self, iterable)\u001b[0m\n\u001b[0;32m   1059\u001b[0m \u001b[1;33m\u001b[0m\u001b[0m\n\u001b[0;32m   1060\u001b[0m             \u001b[1;32mwith\u001b[0m \u001b[0mself\u001b[0m\u001b[1;33m.\u001b[0m\u001b[0m_backend\u001b[0m\u001b[1;33m.\u001b[0m\u001b[0mretrieval_context\u001b[0m\u001b[1;33m(\u001b[0m\u001b[1;33m)\u001b[0m\u001b[1;33m:\u001b[0m\u001b[1;33m\u001b[0m\u001b[1;33m\u001b[0m\u001b[0m\n\u001b[1;32m-> 1061\u001b[1;33m                 \u001b[0mself\u001b[0m\u001b[1;33m.\u001b[0m\u001b[0mretrieve\u001b[0m\u001b[1;33m(\u001b[0m\u001b[1;33m)\u001b[0m\u001b[1;33m\u001b[0m\u001b[1;33m\u001b[0m\u001b[0m\n\u001b[0m\u001b[0;32m   1062\u001b[0m             \u001b[1;31m# Make sure that we get a last message telling us we are done\u001b[0m\u001b[1;33m\u001b[0m\u001b[1;33m\u001b[0m\u001b[1;33m\u001b[0m\u001b[0m\n\u001b[0;32m   1063\u001b[0m             \u001b[0melapsed_time\u001b[0m \u001b[1;33m=\u001b[0m \u001b[0mtime\u001b[0m\u001b[1;33m.\u001b[0m\u001b[0mtime\u001b[0m\u001b[1;33m(\u001b[0m\u001b[1;33m)\u001b[0m \u001b[1;33m-\u001b[0m \u001b[0mself\u001b[0m\u001b[1;33m.\u001b[0m\u001b[0m_start_time\u001b[0m\u001b[1;33m\u001b[0m\u001b[1;33m\u001b[0m\u001b[0m\n",
      "\u001b[1;32m~\\anaconda3\\lib\\site-packages\\joblib\\parallel.py\u001b[0m in \u001b[0;36mretrieve\u001b[1;34m(self)\u001b[0m\n\u001b[0;32m    938\u001b[0m             \u001b[1;32mtry\u001b[0m\u001b[1;33m:\u001b[0m\u001b[1;33m\u001b[0m\u001b[1;33m\u001b[0m\u001b[0m\n\u001b[0;32m    939\u001b[0m                 \u001b[1;32mif\u001b[0m \u001b[0mgetattr\u001b[0m\u001b[1;33m(\u001b[0m\u001b[0mself\u001b[0m\u001b[1;33m.\u001b[0m\u001b[0m_backend\u001b[0m\u001b[1;33m,\u001b[0m \u001b[1;34m'supports_timeout'\u001b[0m\u001b[1;33m,\u001b[0m \u001b[1;32mFalse\u001b[0m\u001b[1;33m)\u001b[0m\u001b[1;33m:\u001b[0m\u001b[1;33m\u001b[0m\u001b[1;33m\u001b[0m\u001b[0m\n\u001b[1;32m--> 940\u001b[1;33m                     \u001b[0mself\u001b[0m\u001b[1;33m.\u001b[0m\u001b[0m_output\u001b[0m\u001b[1;33m.\u001b[0m\u001b[0mextend\u001b[0m\u001b[1;33m(\u001b[0m\u001b[0mjob\u001b[0m\u001b[1;33m.\u001b[0m\u001b[0mget\u001b[0m\u001b[1;33m(\u001b[0m\u001b[0mtimeout\u001b[0m\u001b[1;33m=\u001b[0m\u001b[0mself\u001b[0m\u001b[1;33m.\u001b[0m\u001b[0mtimeout\u001b[0m\u001b[1;33m)\u001b[0m\u001b[1;33m)\u001b[0m\u001b[1;33m\u001b[0m\u001b[1;33m\u001b[0m\u001b[0m\n\u001b[0m\u001b[0;32m    941\u001b[0m                 \u001b[1;32melse\u001b[0m\u001b[1;33m:\u001b[0m\u001b[1;33m\u001b[0m\u001b[1;33m\u001b[0m\u001b[0m\n\u001b[0;32m    942\u001b[0m                     \u001b[0mself\u001b[0m\u001b[1;33m.\u001b[0m\u001b[0m_output\u001b[0m\u001b[1;33m.\u001b[0m\u001b[0mextend\u001b[0m\u001b[1;33m(\u001b[0m\u001b[0mjob\u001b[0m\u001b[1;33m.\u001b[0m\u001b[0mget\u001b[0m\u001b[1;33m(\u001b[0m\u001b[1;33m)\u001b[0m\u001b[1;33m)\u001b[0m\u001b[1;33m\u001b[0m\u001b[1;33m\u001b[0m\u001b[0m\n",
      "\u001b[1;32m~\\anaconda3\\lib\\site-packages\\joblib\\_parallel_backends.py\u001b[0m in \u001b[0;36mwrap_future_result\u001b[1;34m(future, timeout)\u001b[0m\n\u001b[0;32m    540\u001b[0m         AsyncResults.get from multiprocessing.\"\"\"\n\u001b[0;32m    541\u001b[0m         \u001b[1;32mtry\u001b[0m\u001b[1;33m:\u001b[0m\u001b[1;33m\u001b[0m\u001b[1;33m\u001b[0m\u001b[0m\n\u001b[1;32m--> 542\u001b[1;33m             \u001b[1;32mreturn\u001b[0m \u001b[0mfuture\u001b[0m\u001b[1;33m.\u001b[0m\u001b[0mresult\u001b[0m\u001b[1;33m(\u001b[0m\u001b[0mtimeout\u001b[0m\u001b[1;33m=\u001b[0m\u001b[0mtimeout\u001b[0m\u001b[1;33m)\u001b[0m\u001b[1;33m\u001b[0m\u001b[1;33m\u001b[0m\u001b[0m\n\u001b[0m\u001b[0;32m    543\u001b[0m         \u001b[1;32mexcept\u001b[0m \u001b[0mCfTimeoutError\u001b[0m \u001b[1;32mas\u001b[0m \u001b[0me\u001b[0m\u001b[1;33m:\u001b[0m\u001b[1;33m\u001b[0m\u001b[1;33m\u001b[0m\u001b[0m\n\u001b[0;32m    544\u001b[0m             \u001b[1;32mraise\u001b[0m \u001b[0mTimeoutError\u001b[0m \u001b[1;32mfrom\u001b[0m \u001b[0me\u001b[0m\u001b[1;33m\u001b[0m\u001b[1;33m\u001b[0m\u001b[0m\n",
      "\u001b[1;32m~\\anaconda3\\lib\\concurrent\\futures\\_base.py\u001b[0m in \u001b[0;36mresult\u001b[1;34m(self, timeout)\u001b[0m\n\u001b[0;32m    432\u001b[0m                 \u001b[1;32mreturn\u001b[0m \u001b[0mself\u001b[0m\u001b[1;33m.\u001b[0m\u001b[0m__get_result\u001b[0m\u001b[1;33m(\u001b[0m\u001b[1;33m)\u001b[0m\u001b[1;33m\u001b[0m\u001b[1;33m\u001b[0m\u001b[0m\n\u001b[0;32m    433\u001b[0m \u001b[1;33m\u001b[0m\u001b[0m\n\u001b[1;32m--> 434\u001b[1;33m             \u001b[0mself\u001b[0m\u001b[1;33m.\u001b[0m\u001b[0m_condition\u001b[0m\u001b[1;33m.\u001b[0m\u001b[0mwait\u001b[0m\u001b[1;33m(\u001b[0m\u001b[0mtimeout\u001b[0m\u001b[1;33m)\u001b[0m\u001b[1;33m\u001b[0m\u001b[1;33m\u001b[0m\u001b[0m\n\u001b[0m\u001b[0;32m    435\u001b[0m \u001b[1;33m\u001b[0m\u001b[0m\n\u001b[0;32m    436\u001b[0m             \u001b[1;32mif\u001b[0m \u001b[0mself\u001b[0m\u001b[1;33m.\u001b[0m\u001b[0m_state\u001b[0m \u001b[1;32min\u001b[0m \u001b[1;33m[\u001b[0m\u001b[0mCANCELLED\u001b[0m\u001b[1;33m,\u001b[0m \u001b[0mCANCELLED_AND_NOTIFIED\u001b[0m\u001b[1;33m]\u001b[0m\u001b[1;33m:\u001b[0m\u001b[1;33m\u001b[0m\u001b[1;33m\u001b[0m\u001b[0m\n",
      "\u001b[1;32m~\\anaconda3\\lib\\threading.py\u001b[0m in \u001b[0;36mwait\u001b[1;34m(self, timeout)\u001b[0m\n\u001b[0;32m    300\u001b[0m         \u001b[1;32mtry\u001b[0m\u001b[1;33m:\u001b[0m    \u001b[1;31m# restore state no matter what (e.g., KeyboardInterrupt)\u001b[0m\u001b[1;33m\u001b[0m\u001b[1;33m\u001b[0m\u001b[0m\n\u001b[0;32m    301\u001b[0m             \u001b[1;32mif\u001b[0m \u001b[0mtimeout\u001b[0m \u001b[1;32mis\u001b[0m \u001b[1;32mNone\u001b[0m\u001b[1;33m:\u001b[0m\u001b[1;33m\u001b[0m\u001b[1;33m\u001b[0m\u001b[0m\n\u001b[1;32m--> 302\u001b[1;33m                 \u001b[0mwaiter\u001b[0m\u001b[1;33m.\u001b[0m\u001b[0macquire\u001b[0m\u001b[1;33m(\u001b[0m\u001b[1;33m)\u001b[0m\u001b[1;33m\u001b[0m\u001b[1;33m\u001b[0m\u001b[0m\n\u001b[0m\u001b[0;32m    303\u001b[0m                 \u001b[0mgotit\u001b[0m \u001b[1;33m=\u001b[0m \u001b[1;32mTrue\u001b[0m\u001b[1;33m\u001b[0m\u001b[1;33m\u001b[0m\u001b[0m\n\u001b[0;32m    304\u001b[0m             \u001b[1;32melse\u001b[0m\u001b[1;33m:\u001b[0m\u001b[1;33m\u001b[0m\u001b[1;33m\u001b[0m\u001b[0m\n",
      "\u001b[1;31mKeyboardInterrupt\u001b[0m: "
     ]
    }
   ],
   "source": [
    "from sklearn.model_selection import GridSearchCV\n",
    "\n",
    "# grid search를 하고 싶을 경우 아래 Code를 주석 해제\n",
    "\n",
    "parameters = {\n",
    "    \"learning_rate\" : [0.1, 0.01, 0.001, 0.0001],\n",
    "   #\"eta\"    : [0.05, 0.10, 0.15, 0.20, 0.25, 0.30 ] ,\n",
    "    \"max_depth\"        : [ 3, 4, 5, 6, 8, 10, 12, 15],\n",
    "      \"min_child_weight\" : [ 1, 3, 5, 7 ],\n",
    "      \"gamma\"            : [ 0.0, 0.1, 0.2 , 0.3, 0.4],\n",
    "      \"colsample_bytree\" : [ 0.3, 0.4, 0.5 , 0.7 ]\n",
    "      }\n",
    "\n",
    "grid = GridSearchCV(xgb,\n",
    "                    parameters, n_jobs=4,\n",
    "                    scoring=\"neg_log_loss\",\n",
    "                    cv=5)\n",
    "grid.fit(\n",
    "    x_train.squeeze(), \n",
    "    y_train, \n",
    "    eval_metric=\"auc\", \n",
    "    eval_set=[(x_train, y_train), (x_valid, y_valid)], \n",
    "    verbose=True)"
   ]
  },
  {
   "cell_type": "code",
   "execution_count": null,
   "metadata": {},
   "outputs": [],
   "source": [
    "print('Start Training')\n",
    "xgb.fit(\n",
    "    x_train, \n",
    "    y_train, \n",
    "    eval_metric= ['auc', 'error'],\n",
    "    eval_set=[(x_train, y_train), (x_valid, y_valid)], \n",
    "    verbose=True\n",
    ")"
   ]
  },
  {
   "cell_type": "markdown",
   "metadata": {},
   "source": [
    "# 3. RNN으로 구현"
   ]
  },
  {
   "cell_type": "code",
   "execution_count": 73,
   "metadata": {},
   "outputs": [],
   "source": [
    "from tensorflow.keras.models import Sequential\n",
    "from tensorflow.keras.layers import LSTM, Flatten, Dense\n",
    "\n",
    "def make_rnn_model():\n",
    "    model = Sequential()\n",
    "    model.add(LSTM(units=256, return_sequences=True))\n",
    "    model.add(Flatten())\n",
    "    model.add(Dense(100, activation='relu'))\n",
    "    model.add(Dense(2, activation='softmax'))\n",
    "    return model\n",
    "\n",
    "rnn_model = make_rnn_model()"
   ]
  },
  {
   "cell_type": "code",
   "execution_count": 78,
   "metadata": {},
   "outputs": [],
   "source": [
    "import h5py\n",
    "from tensorflow.keras.callbacks import Callback, EarlyStopping, ModelCheckpoint, ReduceLROnPlateau"
   ]
  },
  {
   "cell_type": "code",
   "execution_count": 79,
   "metadata": {},
   "outputs": [],
   "source": [
    "EPOCHS = 100\n",
    "BATCH_SIZE = 64"
   ]
  },
  {
   "cell_type": "code",
   "execution_count": 80,
   "metadata": {},
   "outputs": [],
   "source": [
    "rnn_model.compile(loss=\"sparse_categorical_crossentropy\", \n",
    "                  optimizer='adam', \n",
    "                  metrics=[\"sparse_categorical_accuracy\"]\n",
    "                 )"
   ]
  },
  {
   "cell_type": "code",
   "execution_count": 81,
   "metadata": {},
   "outputs": [],
   "source": [
    "# callbacks = [ModelCheckpoint('rnn_best_model.h5', \n",
    "#                              monitor='val_loss',\n",
    "#                              save_best_only=True),\n",
    "#              ReduceLROnPlateau(\n",
    "#                  monitor=\"val_loss\", factor=0.5, patience=20, min_lr=0.0001\n",
    "#                  ),\n",
    "#              EarlyStopping(monitor=\"val_loss\", patience=10, verbose=1)\n",
    "#              ]"
   ]
  },
  {
   "cell_type": "code",
   "execution_count": 83,
   "metadata": {},
   "outputs": [
    {
     "name": "stdout",
     "output_type": "stream",
     "text": [
      "Epoch 1/100\n",
      "460/460 [==============================] - 38s 82ms/step - loss: 0.0105 - sparse_categorical_accuracy: 0.9961 - val_loss: 0.0556 - val_sparse_categorical_accuracy: 0.9824\n",
      "Epoch 2/100\n",
      "460/460 [==============================] - 41s 88ms/step - loss: 0.0094 - sparse_categorical_accuracy: 0.9962 - val_loss: 0.0435 - val_sparse_categorical_accuracy: 0.9846\n",
      "Epoch 3/100\n",
      "460/460 [==============================] - 40s 87ms/step - loss: 0.0081 - sparse_categorical_accuracy: 0.9971 - val_loss: 0.0366 - val_sparse_categorical_accuracy: 0.9876\n",
      "Epoch 4/100\n",
      "460/460 [==============================] - 39s 84ms/step - loss: 0.0073 - sparse_categorical_accuracy: 0.9975 - val_loss: 0.0777 - val_sparse_categorical_accuracy: 0.9761\n",
      "Epoch 5/100\n",
      "460/460 [==============================] - 38s 83ms/step - loss: 0.0071 - sparse_categorical_accuracy: 0.9973 - val_loss: 0.0484 - val_sparse_categorical_accuracy: 0.9843\n",
      "Epoch 6/100\n",
      "460/460 [==============================] - 38s 83ms/step - loss: 0.0067 - sparse_categorical_accuracy: 0.9973 - val_loss: 0.0598 - val_sparse_categorical_accuracy: 0.9843\n",
      "Epoch 7/100\n",
      "460/460 [==============================] - 39s 85ms/step - loss: 0.0063 - sparse_categorical_accuracy: 0.9977 - val_loss: 0.1025 - val_sparse_categorical_accuracy: 0.9774\n",
      "Epoch 8/100\n",
      "460/460 [==============================] - 38s 83ms/step - loss: 0.0060 - sparse_categorical_accuracy: 0.9977 - val_loss: 0.0373 - val_sparse_categorical_accuracy: 0.9900\n",
      "Epoch 9/100\n",
      "460/460 [==============================] - 39s 85ms/step - loss: 0.0059 - sparse_categorical_accuracy: 0.9979 - val_loss: 0.0439 - val_sparse_categorical_accuracy: 0.9870\n",
      "Epoch 10/100\n",
      "460/460 [==============================] - 39s 85ms/step - loss: 0.0054 - sparse_categorical_accuracy: 0.9977 - val_loss: 0.0407 - val_sparse_categorical_accuracy: 0.9876\n",
      "Epoch 11/100\n",
      "460/460 [==============================] - 39s 86ms/step - loss: 0.0048 - sparse_categorical_accuracy: 0.9982 - val_loss: 0.0640 - val_sparse_categorical_accuracy: 0.9824\n",
      "Epoch 12/100\n",
      "460/460 [==============================] - 38s 84ms/step - loss: 0.0045 - sparse_categorical_accuracy: 0.9984 - val_loss: 0.0491 - val_sparse_categorical_accuracy: 0.9841\n",
      "Epoch 13/100\n",
      "460/460 [==============================] - 40s 86ms/step - loss: 0.0041 - sparse_categorical_accuracy: 0.9985 - val_loss: 0.0610 - val_sparse_categorical_accuracy: 0.9843\n",
      "Epoch 14/100\n",
      "460/460 [==============================] - 39s 85ms/step - loss: 0.0043 - sparse_categorical_accuracy: 0.9985 - val_loss: 0.0517 - val_sparse_categorical_accuracy: 0.9852\n",
      "Epoch 15/100\n",
      "460/460 [==============================] - 38s 83ms/step - loss: 0.0029 - sparse_categorical_accuracy: 0.9990 - val_loss: 0.0510 - val_sparse_categorical_accuracy: 0.9846\n",
      "Epoch 16/100\n",
      "460/460 [==============================] - 39s 85ms/step - loss: 0.0055 - sparse_categorical_accuracy: 0.9983 - val_loss: 0.0303 - val_sparse_categorical_accuracy: 0.9904\n",
      "Epoch 17/100\n",
      "460/460 [==============================] - 38s 83ms/step - loss: 0.0024 - sparse_categorical_accuracy: 0.9993 - val_loss: 0.0689 - val_sparse_categorical_accuracy: 0.9850\n",
      "Epoch 18/100\n",
      "460/460 [==============================] - 39s 84ms/step - loss: 0.0034 - sparse_categorical_accuracy: 0.9989 - val_loss: 0.0881 - val_sparse_categorical_accuracy: 0.9828\n",
      "Epoch 19/100\n",
      "460/460 [==============================] - 39s 85ms/step - loss: 0.0029 - sparse_categorical_accuracy: 0.9990 - val_loss: 0.0645 - val_sparse_categorical_accuracy: 0.9848\n",
      "Epoch 20/100\n",
      "460/460 [==============================] - 38s 83ms/step - loss: 0.0024 - sparse_categorical_accuracy: 0.9992 - val_loss: 0.0331 - val_sparse_categorical_accuracy: 0.9924\n",
      "Epoch 21/100\n",
      "460/460 [==============================] - 38s 83ms/step - loss: 0.0022 - sparse_categorical_accuracy: 0.9994 - val_loss: 0.1169 - val_sparse_categorical_accuracy: 0.9800\n",
      "Epoch 22/100\n",
      "460/460 [==============================] - 40s 86ms/step - loss: 0.0042 - sparse_categorical_accuracy: 0.9985 - val_loss: 0.0664 - val_sparse_categorical_accuracy: 0.9859\n",
      "Epoch 23/100\n",
      "460/460 [==============================] - 38s 83ms/step - loss: 0.0035 - sparse_categorical_accuracy: 0.9989 - val_loss: 0.0490 - val_sparse_categorical_accuracy: 0.9893\n",
      "Epoch 24/100\n",
      "460/460 [==============================] - 39s 85ms/step - loss: 0.0026 - sparse_categorical_accuracy: 0.9992 - val_loss: 0.0444 - val_sparse_categorical_accuracy: 0.9880\n",
      "Epoch 25/100\n",
      "460/460 [==============================] - 40s 86ms/step - loss: 0.0011 - sparse_categorical_accuracy: 0.9997 - val_loss: 0.0646 - val_sparse_categorical_accuracy: 0.9850\n",
      "Epoch 26/100\n",
      " 41/460 [=>............................] - ETA: 35s - loss: 8.5461e-04 - sparse_categorical_accuracy: 1.0000"
     ]
    },
    {
     "ename": "KeyboardInterrupt",
     "evalue": "",
     "output_type": "error",
     "traceback": [
      "\u001b[1;31m---------------------------------------------------------------------------\u001b[0m",
      "\u001b[1;31mKeyboardInterrupt\u001b[0m                         Traceback (most recent call last)",
      "\u001b[1;32m<ipython-input-83-23b288512c45>\u001b[0m in \u001b[0;36m<module>\u001b[1;34m\u001b[0m\n\u001b[1;32m----> 1\u001b[1;33m history_rnn = rnn_model.fit(\n\u001b[0m\u001b[0;32m      2\u001b[0m     \u001b[0mx_train_exp\u001b[0m\u001b[1;33m,\u001b[0m\u001b[1;33m\u001b[0m\u001b[1;33m\u001b[0m\u001b[0m\n\u001b[0;32m      3\u001b[0m     \u001b[0my_train\u001b[0m\u001b[1;33m,\u001b[0m\u001b[1;33m\u001b[0m\u001b[1;33m\u001b[0m\u001b[0m\n\u001b[0;32m      4\u001b[0m     \u001b[0mbatch_size\u001b[0m\u001b[1;33m=\u001b[0m\u001b[0mbatch_size\u001b[0m\u001b[1;33m,\u001b[0m\u001b[1;33m\u001b[0m\u001b[1;33m\u001b[0m\u001b[0m\n\u001b[0;32m      5\u001b[0m     \u001b[0mepochs\u001b[0m\u001b[1;33m=\u001b[0m\u001b[0mepochs\u001b[0m\u001b[1;33m,\u001b[0m\u001b[1;33m\u001b[0m\u001b[1;33m\u001b[0m\u001b[0m\n",
      "\u001b[1;32m~\\anaconda3\\lib\\site-packages\\tensorflow\\python\\keras\\engine\\training.py\u001b[0m in \u001b[0;36mfit\u001b[1;34m(self, x, y, batch_size, epochs, verbose, callbacks, validation_split, validation_data, shuffle, class_weight, sample_weight, initial_epoch, steps_per_epoch, validation_steps, validation_batch_size, validation_freq, max_queue_size, workers, use_multiprocessing)\u001b[0m\n\u001b[0;32m   1181\u001b[0m                 _r=1):\n\u001b[0;32m   1182\u001b[0m               \u001b[0mcallbacks\u001b[0m\u001b[1;33m.\u001b[0m\u001b[0mon_train_batch_begin\u001b[0m\u001b[1;33m(\u001b[0m\u001b[0mstep\u001b[0m\u001b[1;33m)\u001b[0m\u001b[1;33m\u001b[0m\u001b[1;33m\u001b[0m\u001b[0m\n\u001b[1;32m-> 1183\u001b[1;33m               \u001b[0mtmp_logs\u001b[0m \u001b[1;33m=\u001b[0m \u001b[0mself\u001b[0m\u001b[1;33m.\u001b[0m\u001b[0mtrain_function\u001b[0m\u001b[1;33m(\u001b[0m\u001b[0miterator\u001b[0m\u001b[1;33m)\u001b[0m\u001b[1;33m\u001b[0m\u001b[1;33m\u001b[0m\u001b[0m\n\u001b[0m\u001b[0;32m   1184\u001b[0m               \u001b[1;32mif\u001b[0m \u001b[0mdata_handler\u001b[0m\u001b[1;33m.\u001b[0m\u001b[0mshould_sync\u001b[0m\u001b[1;33m:\u001b[0m\u001b[1;33m\u001b[0m\u001b[1;33m\u001b[0m\u001b[0m\n\u001b[0;32m   1185\u001b[0m                 \u001b[0mcontext\u001b[0m\u001b[1;33m.\u001b[0m\u001b[0masync_wait\u001b[0m\u001b[1;33m(\u001b[0m\u001b[1;33m)\u001b[0m\u001b[1;33m\u001b[0m\u001b[1;33m\u001b[0m\u001b[0m\n",
      "\u001b[1;32m~\\anaconda3\\lib\\site-packages\\tensorflow\\python\\eager\\def_function.py\u001b[0m in \u001b[0;36m__call__\u001b[1;34m(self, *args, **kwds)\u001b[0m\n\u001b[0;32m    887\u001b[0m \u001b[1;33m\u001b[0m\u001b[0m\n\u001b[0;32m    888\u001b[0m       \u001b[1;32mwith\u001b[0m \u001b[0mOptionalXlaContext\u001b[0m\u001b[1;33m(\u001b[0m\u001b[0mself\u001b[0m\u001b[1;33m.\u001b[0m\u001b[0m_jit_compile\u001b[0m\u001b[1;33m)\u001b[0m\u001b[1;33m:\u001b[0m\u001b[1;33m\u001b[0m\u001b[1;33m\u001b[0m\u001b[0m\n\u001b[1;32m--> 889\u001b[1;33m         \u001b[0mresult\u001b[0m \u001b[1;33m=\u001b[0m \u001b[0mself\u001b[0m\u001b[1;33m.\u001b[0m\u001b[0m_call\u001b[0m\u001b[1;33m(\u001b[0m\u001b[1;33m*\u001b[0m\u001b[0margs\u001b[0m\u001b[1;33m,\u001b[0m \u001b[1;33m**\u001b[0m\u001b[0mkwds\u001b[0m\u001b[1;33m)\u001b[0m\u001b[1;33m\u001b[0m\u001b[1;33m\u001b[0m\u001b[0m\n\u001b[0m\u001b[0;32m    890\u001b[0m \u001b[1;33m\u001b[0m\u001b[0m\n\u001b[0;32m    891\u001b[0m       \u001b[0mnew_tracing_count\u001b[0m \u001b[1;33m=\u001b[0m \u001b[0mself\u001b[0m\u001b[1;33m.\u001b[0m\u001b[0mexperimental_get_tracing_count\u001b[0m\u001b[1;33m(\u001b[0m\u001b[1;33m)\u001b[0m\u001b[1;33m\u001b[0m\u001b[1;33m\u001b[0m\u001b[0m\n",
      "\u001b[1;32m~\\anaconda3\\lib\\site-packages\\tensorflow\\python\\eager\\def_function.py\u001b[0m in \u001b[0;36m_call\u001b[1;34m(self, *args, **kwds)\u001b[0m\n\u001b[0;32m    915\u001b[0m       \u001b[1;31m# In this case we have created variables on the first call, so we run the\u001b[0m\u001b[1;33m\u001b[0m\u001b[1;33m\u001b[0m\u001b[1;33m\u001b[0m\u001b[0m\n\u001b[0;32m    916\u001b[0m       \u001b[1;31m# defunned version which is guaranteed to never create variables.\u001b[0m\u001b[1;33m\u001b[0m\u001b[1;33m\u001b[0m\u001b[1;33m\u001b[0m\u001b[0m\n\u001b[1;32m--> 917\u001b[1;33m       \u001b[1;32mreturn\u001b[0m \u001b[0mself\u001b[0m\u001b[1;33m.\u001b[0m\u001b[0m_stateless_fn\u001b[0m\u001b[1;33m(\u001b[0m\u001b[1;33m*\u001b[0m\u001b[0margs\u001b[0m\u001b[1;33m,\u001b[0m \u001b[1;33m**\u001b[0m\u001b[0mkwds\u001b[0m\u001b[1;33m)\u001b[0m  \u001b[1;31m# pylint: disable=not-callable\u001b[0m\u001b[1;33m\u001b[0m\u001b[1;33m\u001b[0m\u001b[0m\n\u001b[0m\u001b[0;32m    918\u001b[0m     \u001b[1;32melif\u001b[0m \u001b[0mself\u001b[0m\u001b[1;33m.\u001b[0m\u001b[0m_stateful_fn\u001b[0m \u001b[1;32mis\u001b[0m \u001b[1;32mnot\u001b[0m \u001b[1;32mNone\u001b[0m\u001b[1;33m:\u001b[0m\u001b[1;33m\u001b[0m\u001b[1;33m\u001b[0m\u001b[0m\n\u001b[0;32m    919\u001b[0m       \u001b[1;31m# Release the lock early so that multiple threads can perform the call\u001b[0m\u001b[1;33m\u001b[0m\u001b[1;33m\u001b[0m\u001b[1;33m\u001b[0m\u001b[0m\n",
      "\u001b[1;32m~\\anaconda3\\lib\\site-packages\\tensorflow\\python\\eager\\function.py\u001b[0m in \u001b[0;36m__call__\u001b[1;34m(self, *args, **kwargs)\u001b[0m\n\u001b[0;32m   3021\u001b[0m       (graph_function,\n\u001b[0;32m   3022\u001b[0m        filtered_flat_args) = self._maybe_define_function(args, kwargs)\n\u001b[1;32m-> 3023\u001b[1;33m     return graph_function._call_flat(\n\u001b[0m\u001b[0;32m   3024\u001b[0m         filtered_flat_args, captured_inputs=graph_function.captured_inputs)  # pylint: disable=protected-access\n\u001b[0;32m   3025\u001b[0m \u001b[1;33m\u001b[0m\u001b[0m\n",
      "\u001b[1;32m~\\anaconda3\\lib\\site-packages\\tensorflow\\python\\eager\\function.py\u001b[0m in \u001b[0;36m_call_flat\u001b[1;34m(self, args, captured_inputs, cancellation_manager)\u001b[0m\n\u001b[0;32m   1958\u001b[0m         and executing_eagerly):\n\u001b[0;32m   1959\u001b[0m       \u001b[1;31m# No tape is watching; skip to running the function.\u001b[0m\u001b[1;33m\u001b[0m\u001b[1;33m\u001b[0m\u001b[1;33m\u001b[0m\u001b[0m\n\u001b[1;32m-> 1960\u001b[1;33m       return self._build_call_outputs(self._inference_function.call(\n\u001b[0m\u001b[0;32m   1961\u001b[0m           ctx, args, cancellation_manager=cancellation_manager))\n\u001b[0;32m   1962\u001b[0m     forward_backward = self._select_forward_and_backward_functions(\n",
      "\u001b[1;32m~\\anaconda3\\lib\\site-packages\\tensorflow\\python\\eager\\function.py\u001b[0m in \u001b[0;36mcall\u001b[1;34m(self, ctx, args, cancellation_manager)\u001b[0m\n\u001b[0;32m    589\u001b[0m       \u001b[1;32mwith\u001b[0m \u001b[0m_InterpolateFunctionError\u001b[0m\u001b[1;33m(\u001b[0m\u001b[0mself\u001b[0m\u001b[1;33m)\u001b[0m\u001b[1;33m:\u001b[0m\u001b[1;33m\u001b[0m\u001b[1;33m\u001b[0m\u001b[0m\n\u001b[0;32m    590\u001b[0m         \u001b[1;32mif\u001b[0m \u001b[0mcancellation_manager\u001b[0m \u001b[1;32mis\u001b[0m \u001b[1;32mNone\u001b[0m\u001b[1;33m:\u001b[0m\u001b[1;33m\u001b[0m\u001b[1;33m\u001b[0m\u001b[0m\n\u001b[1;32m--> 591\u001b[1;33m           outputs = execute.execute(\n\u001b[0m\u001b[0;32m    592\u001b[0m               \u001b[0mstr\u001b[0m\u001b[1;33m(\u001b[0m\u001b[0mself\u001b[0m\u001b[1;33m.\u001b[0m\u001b[0msignature\u001b[0m\u001b[1;33m.\u001b[0m\u001b[0mname\u001b[0m\u001b[1;33m)\u001b[0m\u001b[1;33m,\u001b[0m\u001b[1;33m\u001b[0m\u001b[1;33m\u001b[0m\u001b[0m\n\u001b[0;32m    593\u001b[0m               \u001b[0mnum_outputs\u001b[0m\u001b[1;33m=\u001b[0m\u001b[0mself\u001b[0m\u001b[1;33m.\u001b[0m\u001b[0m_num_outputs\u001b[0m\u001b[1;33m,\u001b[0m\u001b[1;33m\u001b[0m\u001b[1;33m\u001b[0m\u001b[0m\n",
      "\u001b[1;32m~\\anaconda3\\lib\\site-packages\\tensorflow\\python\\eager\\execute.py\u001b[0m in \u001b[0;36mquick_execute\u001b[1;34m(op_name, num_outputs, inputs, attrs, ctx, name)\u001b[0m\n\u001b[0;32m     57\u001b[0m   \u001b[1;32mtry\u001b[0m\u001b[1;33m:\u001b[0m\u001b[1;33m\u001b[0m\u001b[1;33m\u001b[0m\u001b[0m\n\u001b[0;32m     58\u001b[0m     \u001b[0mctx\u001b[0m\u001b[1;33m.\u001b[0m\u001b[0mensure_initialized\u001b[0m\u001b[1;33m(\u001b[0m\u001b[1;33m)\u001b[0m\u001b[1;33m\u001b[0m\u001b[1;33m\u001b[0m\u001b[0m\n\u001b[1;32m---> 59\u001b[1;33m     tensors = pywrap_tfe.TFE_Py_Execute(ctx._handle, device_name, op_name,\n\u001b[0m\u001b[0;32m     60\u001b[0m                                         inputs, attrs, num_outputs)\n\u001b[0;32m     61\u001b[0m   \u001b[1;32mexcept\u001b[0m \u001b[0mcore\u001b[0m\u001b[1;33m.\u001b[0m\u001b[0m_NotOkStatusException\u001b[0m \u001b[1;32mas\u001b[0m \u001b[0me\u001b[0m\u001b[1;33m:\u001b[0m\u001b[1;33m\u001b[0m\u001b[1;33m\u001b[0m\u001b[0m\n",
      "\u001b[1;31mKeyboardInterrupt\u001b[0m: "
     ]
    }
   ],
   "source": [
    "history_rnn = rnn_model.fit(\n",
    "    x_train_exp,\n",
    "    y_train,\n",
    "    batch_size=batch_size,\n",
    "    epochs=epochs,\n",
    "    #callbacks=callbacks,\n",
    "    validation_data=(x_valid_exp, y_valid),\n",
    "    verbose=1\n",
    ")"
   ]
  },
  {
   "cell_type": "code",
   "execution_count": null,
   "metadata": {},
   "outputs": [],
   "source": [
    "# from tensorflow.keras.models import load_model\n",
    "\n",
    "# rnn_model = tf.keras.models.load_model(\"rnn_best_model.h5\")\n",
    "# scores = rnn_model.evaluate(x_test_exp, y_test)\n",
    "\n",
    "# print(\"\\n\"\"Test accuracy\", scores[1])\n",
    "# print(\"\\n\"\"Test loss\", scores[0])\n",
    "# print(\"%s: %.2f%%\" % (rnn_model.metrics_names[1], scores[1]*100))"
   ]
  },
  {
   "cell_type": "code",
   "execution_count": null,
   "metadata": {},
   "outputs": [],
   "source": [
    "rnn_model = history_rnn\n",
    "scores = rnn_model.evaluate(x_test_exp, y_test)\n",
    "\n",
    "print(\"\\n\"\"Test accuracy\", scores[1])\n",
    "print(\"\\n\"\"Test loss\", scores[0])\n",
    "print(\"%s: %.2f%%\" % (rnn_model.metrics_names[1], scores[1]*100))"
   ]
  },
  {
   "cell_type": "code",
   "execution_count": null,
   "metadata": {},
   "outputs": [],
   "source": [
    "draw_confusion_matrix(rnn_model, x_test_exp, y_test, \"rnn\")"
   ]
  },
  {
   "cell_type": "code",
   "execution_count": null,
   "metadata": {},
   "outputs": [],
   "source": [
    "draw_roc(rnn_model, x_test_exp, y_test, \"rnn\")"
   ]
  },
  {
   "cell_type": "code",
   "execution_count": null,
   "metadata": {},
   "outputs": [],
   "source": [
    "plot_loss_graph(history_rnn, \"rnn\")"
   ]
  },
  {
   "cell_type": "code",
   "execution_count": null,
   "metadata": {},
   "outputs": [],
   "source": [
    "plot_prediction_graph(history_rnn, \"rnn\")"
   ]
  },
  {
   "cell_type": "code",
   "execution_count": null,
   "metadata": {},
   "outputs": [],
   "source": []
  }
 ],
 "metadata": {
  "kernelspec": {
   "display_name": "Python 3",
   "language": "python",
   "name": "python3"
  },
  "language_info": {
   "codemirror_mode": {
    "name": "ipython",
    "version": 3
   },
   "file_extension": ".py",
   "mimetype": "text/x-python",
   "name": "python",
   "nbconvert_exporter": "python",
   "pygments_lexer": "ipython3",
   "version": "3.8.5"
  }
 },
 "nbformat": 4,
 "nbformat_minor": 4
}
