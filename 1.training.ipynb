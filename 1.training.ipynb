{
 "cells": [
  {
   "cell_type": "code",
   "execution_count": 1,
   "metadata": {},
   "outputs": [],
   "source": [
    "import numpy as np\n",
    "import pandas as pd\n",
    "\n",
    "import tensorflow as tf\n",
    "from tensorflow import keras\n",
    "from tensorflow.keras import layers"
   ]
  },
  {
   "cell_type": "code",
   "execution_count": 2,
   "metadata": {},
   "outputs": [],
   "source": [
    "folder_path = \"C:/Users/qhrrl/CodeExamples/3.Paper/0.Dataset\""
   ]
  },
  {
   "cell_type": "code",
   "execution_count": 4,
   "metadata": {},
   "outputs": [],
   "source": [
    "pd_cur_train = pd.read_csv(folder_path + '/cur_training_all.csv')\n",
    "pd_vib_train = pd.read_csv(folder_path + '/vib_training_all.csv')\n",
    "pd_cur_val = pd.read_csv(folder_path + '/cur_validation_all.csv')\n",
    "pd_vib_val = pd.read_csv(folder_path + '/vib_validation_all.csv')"
   ]
  },
  {
   "cell_type": "code",
   "execution_count": 6,
   "metadata": {},
   "outputs": [
    {
     "name": "stdout",
     "output_type": "stream",
     "text": [
      "305534\n",
      "38210\n",
      "==================================================\n",
      "196032\n",
      "24522\n"
     ]
    }
   ],
   "source": [
    "print(len(pd_cur_train))\n",
    "print(len(pd_cur_val))\n",
    "print(\"=\" * 50)\n",
    "print(len(pd_vib_train))\n",
    "print(len(pd_vib_val))"
   ]
  },
  {
   "cell_type": "code",
   "execution_count": 7,
   "metadata": {},
   "outputs": [
    {
     "data": {
      "text/html": [
       "<div>\n",
       "<style scoped>\n",
       "    .dataframe tbody tr th:only-of-type {\n",
       "        vertical-align: middle;\n",
       "    }\n",
       "\n",
       "    .dataframe tbody tr th {\n",
       "        vertical-align: top;\n",
       "    }\n",
       "\n",
       "    .dataframe thead th {\n",
       "        text-align: right;\n",
       "    }\n",
       "</style>\n",
       "<table border=\"1\" class=\"dataframe\">\n",
       "  <thead>\n",
       "    <tr style=\"text-align: right;\">\n",
       "      <th></th>\n",
       "      <th>Date</th>\n",
       "      <th>R_AbsMax</th>\n",
       "      <th>S_AbsMax</th>\n",
       "      <th>T_AbsMax</th>\n",
       "      <th>R_AbsMean</th>\n",
       "      <th>S_AbsMean</th>\n",
       "      <th>T_AbsMean</th>\n",
       "      <th>R_P2P</th>\n",
       "      <th>S_P2P</th>\n",
       "      <th>T_P2P</th>\n",
       "      <th>...</th>\n",
       "      <th>S_2x</th>\n",
       "      <th>T_2x</th>\n",
       "      <th>R_3x</th>\n",
       "      <th>S_3x</th>\n",
       "      <th>T_3x</th>\n",
       "      <th>R_4x</th>\n",
       "      <th>S_4x</th>\n",
       "      <th>T_4x</th>\n",
       "      <th>WATT</th>\n",
       "      <th>LABEL</th>\n",
       "    </tr>\n",
       "  </thead>\n",
       "  <tbody>\n",
       "    <tr>\n",
       "      <th>0</th>\n",
       "      <td>2020-11-13 07:43:41</td>\n",
       "      <td>3.643555</td>\n",
       "      <td>3.883789</td>\n",
       "      <td>4.124023</td>\n",
       "      <td>2.152260</td>\n",
       "      <td>2.154582</td>\n",
       "      <td>2.290735</td>\n",
       "      <td>7.126953</td>\n",
       "      <td>7.527344</td>\n",
       "      <td>7.687500</td>\n",
       "      <td>...</td>\n",
       "      <td>3.553066</td>\n",
       "      <td>3.763136</td>\n",
       "      <td>0.021705</td>\n",
       "      <td>0.023957</td>\n",
       "      <td>0.020911</td>\n",
       "      <td>0.057528</td>\n",
       "      <td>0.057195</td>\n",
       "      <td>0.057517</td>\n",
       "      <td>2.2</td>\n",
       "      <td>0</td>\n",
       "    </tr>\n",
       "    <tr>\n",
       "      <th>1</th>\n",
       "      <td>2020-11-13 07:43:41</td>\n",
       "      <td>3.643555</td>\n",
       "      <td>3.803711</td>\n",
       "      <td>4.164062</td>\n",
       "      <td>2.161249</td>\n",
       "      <td>2.163811</td>\n",
       "      <td>2.301946</td>\n",
       "      <td>7.126953</td>\n",
       "      <td>7.447266</td>\n",
       "      <td>7.727539</td>\n",
       "      <td>...</td>\n",
       "      <td>3.533756</td>\n",
       "      <td>3.747315</td>\n",
       "      <td>0.009876</td>\n",
       "      <td>0.010175</td>\n",
       "      <td>0.010687</td>\n",
       "      <td>0.011616</td>\n",
       "      <td>0.013211</td>\n",
       "      <td>0.010941</td>\n",
       "      <td>2.2</td>\n",
       "      <td>0</td>\n",
       "    </tr>\n",
       "    <tr>\n",
       "      <th>2</th>\n",
       "      <td>2020-11-13 07:43:41</td>\n",
       "      <td>3.683594</td>\n",
       "      <td>3.803711</td>\n",
       "      <td>4.164062</td>\n",
       "      <td>2.152920</td>\n",
       "      <td>2.151939</td>\n",
       "      <td>2.289333</td>\n",
       "      <td>7.166992</td>\n",
       "      <td>7.367188</td>\n",
       "      <td>7.727539</td>\n",
       "      <td>...</td>\n",
       "      <td>3.519853</td>\n",
       "      <td>3.728701</td>\n",
       "      <td>0.017622</td>\n",
       "      <td>0.011568</td>\n",
       "      <td>0.014016</td>\n",
       "      <td>0.012954</td>\n",
       "      <td>0.016530</td>\n",
       "      <td>0.011328</td>\n",
       "      <td>2.2</td>\n",
       "      <td>0</td>\n",
       "    </tr>\n",
       "  </tbody>\n",
       "</table>\n",
       "<p>3 rows × 48 columns</p>\n",
       "</div>"
      ],
      "text/plain": [
       "                  Date  R_AbsMax  S_AbsMax  T_AbsMax  R_AbsMean  S_AbsMean  \\\n",
       "0  2020-11-13 07:43:41  3.643555  3.883789  4.124023   2.152260   2.154582   \n",
       "1  2020-11-13 07:43:41  3.643555  3.803711  4.164062   2.161249   2.163811   \n",
       "2  2020-11-13 07:43:41  3.683594  3.803711  4.164062   2.152920   2.151939   \n",
       "\n",
       "   T_AbsMean     R_P2P     S_P2P     T_P2P  ...      S_2x      T_2x      R_3x  \\\n",
       "0   2.290735  7.126953  7.527344  7.687500  ...  3.553066  3.763136  0.021705   \n",
       "1   2.301946  7.126953  7.447266  7.727539  ...  3.533756  3.747315  0.009876   \n",
       "2   2.289333  7.166992  7.367188  7.727539  ...  3.519853  3.728701  0.017622   \n",
       "\n",
       "       S_3x      T_3x      R_4x      S_4x      T_4x  WATT  LABEL  \n",
       "0  0.023957  0.020911  0.057528  0.057195  0.057517   2.2      0  \n",
       "1  0.010175  0.010687  0.011616  0.013211  0.010941   2.2      0  \n",
       "2  0.011568  0.014016  0.012954  0.016530  0.011328   2.2      0  \n",
       "\n",
       "[3 rows x 48 columns]"
      ]
     },
     "execution_count": 7,
     "metadata": {},
     "output_type": "execute_result"
    }
   ],
   "source": [
    "pd_cur_train.head(3)"
   ]
  },
  {
   "cell_type": "code",
   "execution_count": 8,
   "metadata": {},
   "outputs": [
    {
     "data": {
      "text/html": [
       "<div>\n",
       "<style scoped>\n",
       "    .dataframe tbody tr th:only-of-type {\n",
       "        vertical-align: middle;\n",
       "    }\n",
       "\n",
       "    .dataframe tbody tr th {\n",
       "        vertical-align: top;\n",
       "    }\n",
       "\n",
       "    .dataframe thead th {\n",
       "        text-align: right;\n",
       "    }\n",
       "</style>\n",
       "<table border=\"1\" class=\"dataframe\">\n",
       "  <thead>\n",
       "    <tr style=\"text-align: right;\">\n",
       "      <th></th>\n",
       "      <th>Date</th>\n",
       "      <th>AbsMax</th>\n",
       "      <th>AbsMean</th>\n",
       "      <th>P2P</th>\n",
       "      <th>RMS</th>\n",
       "      <th>Skewness</th>\n",
       "      <th>Kurtosis</th>\n",
       "      <th>Crest</th>\n",
       "      <th>Shape</th>\n",
       "      <th>Impulse</th>\n",
       "      <th>1x</th>\n",
       "      <th>2x</th>\n",
       "      <th>3x</th>\n",
       "      <th>4x</th>\n",
       "      <th>1xB</th>\n",
       "      <th>2xB</th>\n",
       "      <th>3xB</th>\n",
       "      <th>4xB</th>\n",
       "      <th>WATT</th>\n",
       "      <th>LABEL</th>\n",
       "    </tr>\n",
       "  </thead>\n",
       "  <tbody>\n",
       "    <tr>\n",
       "      <th>0</th>\n",
       "      <td>2020-11-25 15:47:09</td>\n",
       "      <td>0.031503</td>\n",
       "      <td>0.002348</td>\n",
       "      <td>0.041003</td>\n",
       "      <td>0.002963</td>\n",
       "      <td>-0.252712</td>\n",
       "      <td>4.821787</td>\n",
       "      <td>13.839364</td>\n",
       "      <td>1.261929</td>\n",
       "      <td>13.418192</td>\n",
       "      <td>0.000168</td>\n",
       "      <td>0.000179</td>\n",
       "      <td>0.000778</td>\n",
       "      <td>0.000514</td>\n",
       "      <td>0.000215</td>\n",
       "      <td>0.000408</td>\n",
       "      <td>0.000186</td>\n",
       "      <td>0.001045</td>\n",
       "      <td>2.2</td>\n",
       "      <td>0</td>\n",
       "    </tr>\n",
       "    <tr>\n",
       "      <th>1</th>\n",
       "      <td>2020-11-25 15:47:12</td>\n",
       "      <td>0.050405</td>\n",
       "      <td>0.002355</td>\n",
       "      <td>0.061181</td>\n",
       "      <td>0.003016</td>\n",
       "      <td>-0.658560</td>\n",
       "      <td>11.017264</td>\n",
       "      <td>20.288108</td>\n",
       "      <td>1.280328</td>\n",
       "      <td>21.400306</td>\n",
       "      <td>0.000550</td>\n",
       "      <td>0.000262</td>\n",
       "      <td>0.000381</td>\n",
       "      <td>0.000484</td>\n",
       "      <td>0.000168</td>\n",
       "      <td>0.000309</td>\n",
       "      <td>0.000311</td>\n",
       "      <td>0.001069</td>\n",
       "      <td>2.2</td>\n",
       "      <td>0</td>\n",
       "    </tr>\n",
       "    <tr>\n",
       "      <th>2</th>\n",
       "      <td>2020-11-25 15:47:15</td>\n",
       "      <td>0.026258</td>\n",
       "      <td>0.002471</td>\n",
       "      <td>0.036879</td>\n",
       "      <td>0.003133</td>\n",
       "      <td>-0.281960</td>\n",
       "      <td>4.263064</td>\n",
       "      <td>11.769368</td>\n",
       "      <td>1.268231</td>\n",
       "      <td>10.627622</td>\n",
       "      <td>0.000262</td>\n",
       "      <td>0.000239</td>\n",
       "      <td>0.000797</td>\n",
       "      <td>0.000665</td>\n",
       "      <td>0.000154</td>\n",
       "      <td>0.000403</td>\n",
       "      <td>0.000160</td>\n",
       "      <td>0.001294</td>\n",
       "      <td>2.2</td>\n",
       "      <td>0</td>\n",
       "    </tr>\n",
       "  </tbody>\n",
       "</table>\n",
       "</div>"
      ],
      "text/plain": [
       "                  Date    AbsMax   AbsMean       P2P       RMS  Skewness  \\\n",
       "0  2020-11-25 15:47:09  0.031503  0.002348  0.041003  0.002963 -0.252712   \n",
       "1  2020-11-25 15:47:12  0.050405  0.002355  0.061181  0.003016 -0.658560   \n",
       "2  2020-11-25 15:47:15  0.026258  0.002471  0.036879  0.003133 -0.281960   \n",
       "\n",
       "    Kurtosis      Crest     Shape    Impulse        1x        2x        3x  \\\n",
       "0   4.821787  13.839364  1.261929  13.418192  0.000168  0.000179  0.000778   \n",
       "1  11.017264  20.288108  1.280328  21.400306  0.000550  0.000262  0.000381   \n",
       "2   4.263064  11.769368  1.268231  10.627622  0.000262  0.000239  0.000797   \n",
       "\n",
       "         4x       1xB       2xB       3xB       4xB  WATT  LABEL  \n",
       "0  0.000514  0.000215  0.000408  0.000186  0.001045   2.2      0  \n",
       "1  0.000484  0.000168  0.000309  0.000311  0.001069   2.2      0  \n",
       "2  0.000665  0.000154  0.000403  0.000160  0.001294   2.2      0  "
      ]
     },
     "execution_count": 8,
     "metadata": {},
     "output_type": "execute_result"
    }
   ],
   "source": [
    "pd_vib_train.head(3)"
   ]
  },
  {
   "cell_type": "code",
   "execution_count": 9,
   "metadata": {},
   "outputs": [],
   "source": [
    "np_cur_train = pd_cur_train.to_numpy()\n",
    "np_cur_val = pd_cur_val.to_numpy()\n",
    "\n",
    "np_vib_train = pd_vib_train.to_numpy()\n",
    "np_vib_val = pd_vib_val.to_numpy()"
   ]
  },
  {
   "cell_type": "markdown",
   "metadata": {},
   "source": [
    "# Extract Labels"
   ]
  },
  {
   "cell_type": "code",
   "execution_count": 10,
   "metadata": {},
   "outputs": [
    {
     "name": "stdout",
     "output_type": "stream",
     "text": [
      "[0 0 0 ... 0 0 0]\n",
      "[0 0 0 ... 0 0 0]\n",
      "[0 0 0 ... 0 0 0]\n",
      "[0 0 0 ... 0 0 0]\n"
     ]
    }
   ],
   "source": [
    "cur_train_labels = np_cur_train[:,-1]\n",
    "cur_val_labels = np_cur_val[:, -1]\n",
    "\n",
    "vib_train_labels = np_vib_train[:,-1]\n",
    "vib_val_labels = np_vib_val[:, -1]\n",
    "\n",
    "print(cur_train_labels)\n",
    "print(cur_val_labels)\n",
    "print(vib_train_labels)\n",
    "print(vib_val_labels)"
   ]
  },
  {
   "cell_type": "code",
   "execution_count": 12,
   "metadata": {},
   "outputs": [
    {
     "data": {
      "text/plain": [
       "1.1105537884348748"
      ]
     },
     "execution_count": 12,
     "metadata": {},
     "output_type": "execute_result"
    }
   ],
   "source": [
    "np.mean(vib_val_labels)"
   ]
  },
  {
   "cell_type": "code",
   "execution_count": 13,
   "metadata": {},
   "outputs": [],
   "source": [
    "pd_cur_train = pd_cur_train.drop(columns = ['Date','WATT','LABEL'])\n",
    "pd_cur_val = pd_cur_val.drop(columns = ['Date','WATT','LABEL'])\n",
    "\n",
    "pd_vib_train = pd_vib_train.drop(columns = ['Date','WATT','LABEL'])\n",
    "pd_vib_val = pd_vib_val.drop(columns = ['Date','WATT','LABEL'])"
   ]
  },
  {
   "cell_type": "markdown",
   "metadata": {},
   "source": [
    "# 딥러닝 용 데이터로 전처리"
   ]
  },
  {
   "cell_type": "code",
   "execution_count": 14,
   "metadata": {},
   "outputs": [
    {
     "data": {
      "text/html": [
       "<div>\n",
       "<style scoped>\n",
       "    .dataframe tbody tr th:only-of-type {\n",
       "        vertical-align: middle;\n",
       "    }\n",
       "\n",
       "    .dataframe tbody tr th {\n",
       "        vertical-align: top;\n",
       "    }\n",
       "\n",
       "    .dataframe thead th {\n",
       "        text-align: right;\n",
       "    }\n",
       "</style>\n",
       "<table border=\"1\" class=\"dataframe\">\n",
       "  <thead>\n",
       "    <tr style=\"text-align: right;\">\n",
       "      <th></th>\n",
       "      <th>R_AbsMax</th>\n",
       "      <th>S_AbsMax</th>\n",
       "      <th>T_AbsMax</th>\n",
       "      <th>R_AbsMean</th>\n",
       "      <th>S_AbsMean</th>\n",
       "      <th>T_AbsMean</th>\n",
       "      <th>R_P2P</th>\n",
       "      <th>S_P2P</th>\n",
       "      <th>T_P2P</th>\n",
       "      <th>R_RMS</th>\n",
       "      <th>...</th>\n",
       "      <th>T_1x</th>\n",
       "      <th>R_2x</th>\n",
       "      <th>S_2x</th>\n",
       "      <th>T_2x</th>\n",
       "      <th>R_3x</th>\n",
       "      <th>S_3x</th>\n",
       "      <th>T_3x</th>\n",
       "      <th>R_4x</th>\n",
       "      <th>S_4x</th>\n",
       "      <th>T_4x</th>\n",
       "    </tr>\n",
       "  </thead>\n",
       "  <tbody>\n",
       "    <tr>\n",
       "      <th>0</th>\n",
       "      <td>3.643555</td>\n",
       "      <td>3.883789</td>\n",
       "      <td>4.124023</td>\n",
       "      <td>2.152260</td>\n",
       "      <td>2.154582</td>\n",
       "      <td>2.290735</td>\n",
       "      <td>7.126953</td>\n",
       "      <td>7.527344</td>\n",
       "      <td>7.687500</td>\n",
       "      <td>2.393055</td>\n",
       "      <td>...</td>\n",
       "      <td>0.003780</td>\n",
       "      <td>3.536451</td>\n",
       "      <td>3.553066</td>\n",
       "      <td>3.763136</td>\n",
       "      <td>0.021705</td>\n",
       "      <td>0.023957</td>\n",
       "      <td>0.020911</td>\n",
       "      <td>0.057528</td>\n",
       "      <td>0.057195</td>\n",
       "      <td>0.057517</td>\n",
       "    </tr>\n",
       "    <tr>\n",
       "      <th>1</th>\n",
       "      <td>3.643555</td>\n",
       "      <td>3.803711</td>\n",
       "      <td>4.164062</td>\n",
       "      <td>2.161249</td>\n",
       "      <td>2.163811</td>\n",
       "      <td>2.301946</td>\n",
       "      <td>7.126953</td>\n",
       "      <td>7.447266</td>\n",
       "      <td>7.727539</td>\n",
       "      <td>2.405001</td>\n",
       "      <td>...</td>\n",
       "      <td>0.012369</td>\n",
       "      <td>3.521399</td>\n",
       "      <td>3.533756</td>\n",
       "      <td>3.747315</td>\n",
       "      <td>0.009876</td>\n",
       "      <td>0.010175</td>\n",
       "      <td>0.010687</td>\n",
       "      <td>0.011616</td>\n",
       "      <td>0.013211</td>\n",
       "      <td>0.010941</td>\n",
       "    </tr>\n",
       "    <tr>\n",
       "      <th>2</th>\n",
       "      <td>3.683594</td>\n",
       "      <td>3.803711</td>\n",
       "      <td>4.164062</td>\n",
       "      <td>2.152920</td>\n",
       "      <td>2.151939</td>\n",
       "      <td>2.289333</td>\n",
       "      <td>7.166992</td>\n",
       "      <td>7.367188</td>\n",
       "      <td>7.727539</td>\n",
       "      <td>2.394561</td>\n",
       "      <td>...</td>\n",
       "      <td>0.012448</td>\n",
       "      <td>3.506221</td>\n",
       "      <td>3.519853</td>\n",
       "      <td>3.728701</td>\n",
       "      <td>0.017622</td>\n",
       "      <td>0.011568</td>\n",
       "      <td>0.014016</td>\n",
       "      <td>0.012954</td>\n",
       "      <td>0.016530</td>\n",
       "      <td>0.011328</td>\n",
       "    </tr>\n",
       "  </tbody>\n",
       "</table>\n",
       "<p>3 rows × 45 columns</p>\n",
       "</div>"
      ],
      "text/plain": [
       "   R_AbsMax  S_AbsMax  T_AbsMax  R_AbsMean  S_AbsMean  T_AbsMean     R_P2P  \\\n",
       "0  3.643555  3.883789  4.124023   2.152260   2.154582   2.290735  7.126953   \n",
       "1  3.643555  3.803711  4.164062   2.161249   2.163811   2.301946  7.126953   \n",
       "2  3.683594  3.803711  4.164062   2.152920   2.151939   2.289333  7.166992   \n",
       "\n",
       "      S_P2P     T_P2P     R_RMS  ...      T_1x      R_2x      S_2x      T_2x  \\\n",
       "0  7.527344  7.687500  2.393055  ...  0.003780  3.536451  3.553066  3.763136   \n",
       "1  7.447266  7.727539  2.405001  ...  0.012369  3.521399  3.533756  3.747315   \n",
       "2  7.367188  7.727539  2.394561  ...  0.012448  3.506221  3.519853  3.728701   \n",
       "\n",
       "       R_3x      S_3x      T_3x      R_4x      S_4x      T_4x  \n",
       "0  0.021705  0.023957  0.020911  0.057528  0.057195  0.057517  \n",
       "1  0.009876  0.010175  0.010687  0.011616  0.013211  0.010941  \n",
       "2  0.017622  0.011568  0.014016  0.012954  0.016530  0.011328  \n",
       "\n",
       "[3 rows x 45 columns]"
      ]
     },
     "execution_count": 14,
     "metadata": {},
     "output_type": "execute_result"
    }
   ],
   "source": [
    "pd_cur_train.head(3)"
   ]
  },
  {
   "cell_type": "code",
   "execution_count": 15,
   "metadata": {},
   "outputs": [
    {
     "data": {
      "text/html": [
       "<div>\n",
       "<style scoped>\n",
       "    .dataframe tbody tr th:only-of-type {\n",
       "        vertical-align: middle;\n",
       "    }\n",
       "\n",
       "    .dataframe tbody tr th {\n",
       "        vertical-align: top;\n",
       "    }\n",
       "\n",
       "    .dataframe thead th {\n",
       "        text-align: right;\n",
       "    }\n",
       "</style>\n",
       "<table border=\"1\" class=\"dataframe\">\n",
       "  <thead>\n",
       "    <tr style=\"text-align: right;\">\n",
       "      <th></th>\n",
       "      <th>AbsMax</th>\n",
       "      <th>AbsMean</th>\n",
       "      <th>P2P</th>\n",
       "      <th>RMS</th>\n",
       "      <th>Skewness</th>\n",
       "      <th>Kurtosis</th>\n",
       "      <th>Crest</th>\n",
       "      <th>Shape</th>\n",
       "      <th>Impulse</th>\n",
       "      <th>1x</th>\n",
       "      <th>2x</th>\n",
       "      <th>3x</th>\n",
       "      <th>4x</th>\n",
       "      <th>1xB</th>\n",
       "      <th>2xB</th>\n",
       "      <th>3xB</th>\n",
       "      <th>4xB</th>\n",
       "    </tr>\n",
       "  </thead>\n",
       "  <tbody>\n",
       "    <tr>\n",
       "      <th>0</th>\n",
       "      <td>0.031503</td>\n",
       "      <td>0.002348</td>\n",
       "      <td>0.041003</td>\n",
       "      <td>0.002963</td>\n",
       "      <td>-0.252712</td>\n",
       "      <td>4.821787</td>\n",
       "      <td>13.839364</td>\n",
       "      <td>1.261929</td>\n",
       "      <td>13.418192</td>\n",
       "      <td>0.000168</td>\n",
       "      <td>0.000179</td>\n",
       "      <td>0.000778</td>\n",
       "      <td>0.000514</td>\n",
       "      <td>0.000215</td>\n",
       "      <td>0.000408</td>\n",
       "      <td>0.000186</td>\n",
       "      <td>0.001045</td>\n",
       "    </tr>\n",
       "    <tr>\n",
       "      <th>1</th>\n",
       "      <td>0.050405</td>\n",
       "      <td>0.002355</td>\n",
       "      <td>0.061181</td>\n",
       "      <td>0.003016</td>\n",
       "      <td>-0.658560</td>\n",
       "      <td>11.017264</td>\n",
       "      <td>20.288108</td>\n",
       "      <td>1.280328</td>\n",
       "      <td>21.400306</td>\n",
       "      <td>0.000550</td>\n",
       "      <td>0.000262</td>\n",
       "      <td>0.000381</td>\n",
       "      <td>0.000484</td>\n",
       "      <td>0.000168</td>\n",
       "      <td>0.000309</td>\n",
       "      <td>0.000311</td>\n",
       "      <td>0.001069</td>\n",
       "    </tr>\n",
       "    <tr>\n",
       "      <th>2</th>\n",
       "      <td>0.026258</td>\n",
       "      <td>0.002471</td>\n",
       "      <td>0.036879</td>\n",
       "      <td>0.003133</td>\n",
       "      <td>-0.281960</td>\n",
       "      <td>4.263064</td>\n",
       "      <td>11.769368</td>\n",
       "      <td>1.268231</td>\n",
       "      <td>10.627622</td>\n",
       "      <td>0.000262</td>\n",
       "      <td>0.000239</td>\n",
       "      <td>0.000797</td>\n",
       "      <td>0.000665</td>\n",
       "      <td>0.000154</td>\n",
       "      <td>0.000403</td>\n",
       "      <td>0.000160</td>\n",
       "      <td>0.001294</td>\n",
       "    </tr>\n",
       "  </tbody>\n",
       "</table>\n",
       "</div>"
      ],
      "text/plain": [
       "     AbsMax   AbsMean       P2P       RMS  Skewness   Kurtosis      Crest  \\\n",
       "0  0.031503  0.002348  0.041003  0.002963 -0.252712   4.821787  13.839364   \n",
       "1  0.050405  0.002355  0.061181  0.003016 -0.658560  11.017264  20.288108   \n",
       "2  0.026258  0.002471  0.036879  0.003133 -0.281960   4.263064  11.769368   \n",
       "\n",
       "      Shape    Impulse        1x        2x        3x        4x       1xB  \\\n",
       "0  1.261929  13.418192  0.000168  0.000179  0.000778  0.000514  0.000215   \n",
       "1  1.280328  21.400306  0.000550  0.000262  0.000381  0.000484  0.000168   \n",
       "2  1.268231  10.627622  0.000262  0.000239  0.000797  0.000665  0.000154   \n",
       "\n",
       "        2xB       3xB       4xB  \n",
       "0  0.000408  0.000186  0.001045  \n",
       "1  0.000309  0.000311  0.001069  \n",
       "2  0.000403  0.000160  0.001294  "
      ]
     },
     "execution_count": 15,
     "metadata": {},
     "output_type": "execute_result"
    }
   ],
   "source": [
    "pd_vib_train.head(3)"
   ]
  },
  {
   "cell_type": "code",
   "execution_count": 16,
   "metadata": {},
   "outputs": [],
   "source": [
    "cur_train = pd_cur_train.to_numpy()\n",
    "cur_val = pd_cur_val.to_numpy()\n",
    "\n",
    "vib_train = pd_vib_train.to_numpy()\n",
    "vib_val = pd_vib_val.to_numpy()"
   ]
  },
  {
   "cell_type": "markdown",
   "metadata": {},
   "source": [
    "# 1. Current"
   ]
  },
  {
   "cell_type": "markdown",
   "metadata": {},
   "source": [
    "## 1.1 Data"
   ]
  },
  {
   "cell_type": "markdown",
   "metadata": {},
   "source": [
    "### 1.1 split data set "
   ]
  },
  {
   "cell_type": "code",
   "execution_count": 210,
   "metadata": {},
   "outputs": [],
   "source": [
    "from sklearn.model_selection import train_test_split\n",
    "\n",
    "x_train, x_test, y_train, y_test = train_test_split(cur_train, cur_train_labels, stratify=cur_train_labels, test_size=0.2, random_state=42)"
   ]
  },
  {
   "cell_type": "markdown",
   "metadata": {},
   "source": [
    "### 1.2. Validation"
   ]
  },
  {
   "cell_type": "code",
   "execution_count": 211,
   "metadata": {},
   "outputs": [
    {
     "name": "stdout",
     "output_type": "stream",
     "text": [
      "(244427, 45)\n",
      "(61107, 45)\n",
      "==================================================\n",
      "(244427,)\n",
      "(61107,)\n",
      "==================================================\n",
      "(38210, 45)\n",
      "(24522,)\n"
     ]
    }
   ],
   "source": [
    "print(x_train.shape)\n",
    "print(x_test.shape)\n",
    "\n",
    "print(\"=\"*50)\n",
    "\n",
    "print(y_train.shape)\n",
    "print(y_test.shape)\n",
    "\n",
    "print(\"=\"*50)\n",
    "\n",
    "x_valid = cur_val\n",
    "y_valid = vib_val_labels\n",
    "\n",
    "print(x_valid.shape)\n",
    "print(y_valid.shape)"
   ]
  },
  {
   "cell_type": "markdown",
   "metadata": {},
   "source": [
    "### 1.3 normalize"
   ]
  },
  {
   "cell_type": "code",
   "execution_count": 212,
   "metadata": {},
   "outputs": [],
   "source": [
    "from sklearn.preprocessing import StandardScaler\n",
    "from sklearn.preprocessing import RobustScaler\n",
    "\n",
    "# Standard Scaler를 적용하고 싶을 경우 아래 Code를 실행\n",
    "\n",
    "stder = StandardScaler()\n",
    "stder.fit(x_train)\n",
    "\n",
    "x_train = stder.transform(x_train)\n",
    "x_valid = stder.transform(x_valid)\n",
    "\n",
    "# Robust Scaler를 적용하고 싶을 경우 아래 주석을 해제하고 Code를 실행\n",
    "\n",
    "# rscaler = RobustScaler() \n",
    "# rscaler.fit(x_train)\n",
    "# x_train = rscaler.transform(x_train)\n",
    "# x_valid = rscaler.transform(x_valid)"
   ]
  },
  {
   "cell_type": "markdown",
   "metadata": {},
   "source": [
    "주제가 피쳐에 대한 강건함이므로, 스케일러에 대한 고민도 해야할 것이다."
   ]
  },
  {
   "cell_type": "markdown",
   "metadata": {},
   "source": [
    "본 데이터는 Multivariate이며, 1개의 Channel만 갖는다. 우리는 multivariate variable with one channel 형태로 바꿔주고자 하며, 이는 아래와 같다."
   ]
  },
  {
   "cell_type": "code",
   "execution_count": 213,
   "metadata": {},
   "outputs": [
    {
     "name": "stdout",
     "output_type": "stream",
     "text": [
      "x_train_exp의 형태: (244427, 45, 1)\n",
      "x_valid_exp의 형태: (38210, 45, 1)\n",
      "x_test_exp의 형태: (61107, 45, 1)\n"
     ]
    }
   ],
   "source": [
    "# CNN, RNN 모델의 입력 변수는 채널 축 1개 차원을 확장시킨 3D Tensor이다.\n",
    "# 즉 아래 CNN, RNN 모델은 x_train, x_valid, x_test를 입력 변수로 넣지 않고, \n",
    "# x_train_exp, x_valid_exp, x_test_exp을 넣는다. \n",
    "x_train_exp = np.expand_dims(x_train, -1)  # 채널 축 1개 차원을 확장 시킨(Expand) X_train\n",
    "x_valid_exp = np.expand_dims(x_valid, -1)  # 채널 축 1개 차원을 확장 시킨(Expand) X_vaild \n",
    "x_test_exp = np.expand_dims(x_test, -1)  # 채널 축 1개 차원을 확장 시킨(Expand) X_test\n",
    "\n",
    "# 위와 동일한 코드\n",
    "# x_train_exp = x_train.reshape((x_train.shape[0], x_train.shape[1], 1))\n",
    "# x_valid_exp = x_train.reshape((x_valid.shape[0], x_valid.shape[1], 1))\n",
    "# x_test_exp = x_test.reshape((x_test.shape[0], x_test.shape[1], 1))\n",
    "\n",
    "print(\"x_train_exp의 형태:\", x_train_exp.shape)\n",
    "print(\"x_valid_exp의 형태:\", x_valid_exp.shape)\n",
    "print(\"x_test_exp의 형태:\", x_test_exp.shape)"
   ]
  },
  {
   "cell_type": "code",
   "execution_count": 214,
   "metadata": {},
   "outputs": [
    {
     "data": {
      "text/plain": [
       "numpy.ndarray"
      ]
     },
     "execution_count": 214,
     "metadata": {},
     "output_type": "execute_result"
    }
   ],
   "source": [
    "type(y_train)"
   ]
  },
  {
   "cell_type": "code",
   "execution_count": 215,
   "metadata": {},
   "outputs": [],
   "source": [
    "# y_train = y_train.astype('int')\n",
    "# y_valid = y_valid.astype('int')\n",
    "# y_test = y_test.astype('int')\n",
    "\n",
    "y_train = tf.stack(y_train)\n",
    "y_valid = tf.stack(y_valid)\n",
    "y_test = tf.stack(y_test)"
   ]
  },
  {
   "cell_type": "code",
   "execution_count": 217,
   "metadata": {},
   "outputs": [
    {
     "name": "stdout",
     "output_type": "stream",
     "text": [
      "tf.Tensor([0 0 0 ... 3 2 0], shape=(244427,), dtype=int32)\n",
      "tf.Tensor([0 0 0 ... 0 0 0], shape=(24522,), dtype=int32)\n",
      "tf.Tensor([0 0 0 ... 0 2 2], shape=(61107,), dtype=int32)\n"
     ]
    }
   ],
   "source": [
    "print(y_train)\n",
    "print(y_valid)\n",
    "print(y_test)"
   ]
  },
  {
   "cell_type": "code",
   "execution_count": 218,
   "metadata": {},
   "outputs": [
    {
     "data": {
      "text/plain": [
       "5"
      ]
     },
     "execution_count": 218,
     "metadata": {},
     "output_type": "execute_result"
    }
   ],
   "source": [
    "num_classes = len(np.unique(np.concatenate((y_train, y_test), axis=0)))\n",
    "num_classes"
   ]
  },
  {
   "cell_type": "code",
   "execution_count": 219,
   "metadata": {},
   "outputs": [
    {
     "data": {
      "text/plain": [
       "(244427, 45, 1)"
      ]
     },
     "execution_count": 219,
     "metadata": {},
     "output_type": "execute_result"
    }
   ],
   "source": [
    "x_train_exp.shape"
   ]
  },
  {
   "cell_type": "code",
   "execution_count": 220,
   "metadata": {},
   "outputs": [
    {
     "data": {
      "text/plain": [
       "TensorShape([244427])"
      ]
     },
     "execution_count": 220,
     "metadata": {},
     "output_type": "execute_result"
    }
   ],
   "source": [
    "y_train.shape"
   ]
  },
  {
   "cell_type": "markdown",
   "metadata": {},
   "source": [
    "# 3. LSTM"
   ]
  },
  {
   "cell_type": "code",
   "execution_count": 221,
   "metadata": {},
   "outputs": [],
   "source": [
    "import h5py\n",
    "\n",
    "from tensorflow.keras.callbacks import Callback, EarlyStopping, ModelCheckpoint, ReduceLROnPlateau\n",
    "from tensorflow.keras.models import Sequential\n",
    "from tensorflow.keras.layers import LSTM, Flatten, Dense\n",
    "\n",
    "def make_lstm_model():\n",
    "    model = Sequential()\n",
    "    model.add(LSTM(units=256, return_sequences=True))\n",
    "    model.add(Flatten())\n",
    "    model.add(Dense(100, activation='relu'))\n",
    "    model.add(Dense(5, activation='softmax'))\n",
    "    return model"
   ]
  },
  {
   "cell_type": "code",
   "execution_count": 222,
   "metadata": {},
   "outputs": [],
   "source": [
    "lstm = make_lstm_model()"
   ]
  },
  {
   "cell_type": "code",
   "execution_count": 223,
   "metadata": {},
   "outputs": [],
   "source": [
    "lstm.build(x_train_exp.shape)"
   ]
  },
  {
   "cell_type": "code",
   "execution_count": 224,
   "metadata": {},
   "outputs": [
    {
     "name": "stdout",
     "output_type": "stream",
     "text": [
      "Model: \"sequential_13\"\n",
      "_________________________________________________________________\n",
      "Layer (type)                 Output Shape              Param #   \n",
      "=================================================================\n",
      "lstm_13 (LSTM)               (244427, 45, 256)         264192    \n",
      "_________________________________________________________________\n",
      "flatten_13 (Flatten)         (244427, 11520)           0         \n",
      "_________________________________________________________________\n",
      "dense_26 (Dense)             (244427, 100)             1152100   \n",
      "_________________________________________________________________\n",
      "dense_27 (Dense)             (244427, 5)               505       \n",
      "=================================================================\n",
      "Total params: 1,416,797\n",
      "Trainable params: 1,416,797\n",
      "Non-trainable params: 0\n",
      "_________________________________________________________________\n"
     ]
    }
   ],
   "source": [
    "lstm.summary()"
   ]
  },
  {
   "cell_type": "code",
   "execution_count": 225,
   "metadata": {},
   "outputs": [],
   "source": [
    "EPOCHS = 100\n",
    "BATCH_SIZE = 64"
   ]
  },
  {
   "cell_type": "code",
   "execution_count": 226,
   "metadata": {},
   "outputs": [],
   "source": [
    "lstm.compile(loss=\"sparse_categorical_crossentropy\", \n",
    "                  optimizer='adam', \n",
    "                  metrics=[\"accuracy\"]\n",
    "                 )"
   ]
  },
  {
   "cell_type": "code",
   "execution_count": 227,
   "metadata": {},
   "outputs": [],
   "source": [
    "callbacks = [ModelCheckpoint('lstm_best_model.h5', \n",
    "                             monitor='val_loss',\n",
    "                             save_best_only=True),\n",
    "             ReduceLROnPlateau(\n",
    "                 monitor=\"val_loss\", factor=0.5, patience=20, min_lr=0.0001\n",
    "                 ),\n",
    "             EarlyStopping(monitor=\"val_loss\", patience=10, verbose=1)\n",
    "             ]"
   ]
  },
  {
   "cell_type": "code",
   "execution_count": 228,
   "metadata": {},
   "outputs": [],
   "source": [
    "df = tf.stack(y_train)\n",
    "y_train = tf.stack(df)"
   ]
  },
  {
   "cell_type": "code",
   "execution_count": 229,
   "metadata": {},
   "outputs": [
    {
     "data": {
      "text/plain": [
       "<tf.Tensor: shape=(244427,), dtype=int32, numpy=array([0, 0, 0, ..., 3, 2, 0])>"
      ]
     },
     "execution_count": 229,
     "metadata": {},
     "output_type": "execute_result"
    }
   ],
   "source": [
    "y_train"
   ]
  },
  {
   "cell_type": "code",
   "execution_count": 230,
   "metadata": {},
   "outputs": [
    {
     "name": "stdout",
     "output_type": "stream",
     "text": [
      "Epoch 1/100\n",
      "3819/3820 [============================>.] - ETA: 0s - loss: 0.1143 - accuracy: 0.9574"
     ]
    },
    {
     "ename": "ValueError",
     "evalue": "Data cardinality is ambiguous:\n  x sizes: 38210\n  y sizes: 24522\nMake sure all arrays contain the same number of samples.",
     "output_type": "error",
     "traceback": [
      "\u001b[1;31m---------------------------------------------------------------------------\u001b[0m",
      "\u001b[1;31mValueError\u001b[0m                                Traceback (most recent call last)",
      "\u001b[1;32m<ipython-input-230-c2c25860e876>\u001b[0m in \u001b[0;36m<module>\u001b[1;34m\u001b[0m\n\u001b[1;32m----> 1\u001b[1;33m history = lstm.fit(\n\u001b[0m\u001b[0;32m      2\u001b[0m     \u001b[0mx_train_exp\u001b[0m\u001b[1;33m,\u001b[0m\u001b[1;33m\u001b[0m\u001b[1;33m\u001b[0m\u001b[0m\n\u001b[0;32m      3\u001b[0m     \u001b[0my_train\u001b[0m\u001b[1;33m,\u001b[0m\u001b[1;33m\u001b[0m\u001b[1;33m\u001b[0m\u001b[0m\n\u001b[0;32m      4\u001b[0m     \u001b[0mbatch_size\u001b[0m\u001b[1;33m=\u001b[0m\u001b[0mBATCH_SIZE\u001b[0m\u001b[1;33m,\u001b[0m\u001b[1;33m\u001b[0m\u001b[1;33m\u001b[0m\u001b[0m\n\u001b[0;32m      5\u001b[0m     \u001b[0mepochs\u001b[0m\u001b[1;33m=\u001b[0m\u001b[0mEPOCHS\u001b[0m\u001b[1;33m,\u001b[0m\u001b[1;33m\u001b[0m\u001b[1;33m\u001b[0m\u001b[0m\n",
      "\u001b[1;32m~\\anaconda3\\lib\\site-packages\\tensorflow\\python\\keras\\engine\\training.py\u001b[0m in \u001b[0;36mfit\u001b[1;34m(self, x, y, batch_size, epochs, verbose, callbacks, validation_split, validation_data, shuffle, class_weight, sample_weight, initial_epoch, steps_per_epoch, validation_steps, validation_batch_size, validation_freq, max_queue_size, workers, use_multiprocessing)\u001b[0m\n\u001b[0;32m   1199\u001b[0m           \u001b[1;31m# Create data_handler for evaluation and cache it.\u001b[0m\u001b[1;33m\u001b[0m\u001b[1;33m\u001b[0m\u001b[1;33m\u001b[0m\u001b[0m\n\u001b[0;32m   1200\u001b[0m           \u001b[1;32mif\u001b[0m \u001b[0mgetattr\u001b[0m\u001b[1;33m(\u001b[0m\u001b[0mself\u001b[0m\u001b[1;33m,\u001b[0m \u001b[1;34m'_eval_data_handler'\u001b[0m\u001b[1;33m,\u001b[0m \u001b[1;32mNone\u001b[0m\u001b[1;33m)\u001b[0m \u001b[1;32mis\u001b[0m \u001b[1;32mNone\u001b[0m\u001b[1;33m:\u001b[0m\u001b[1;33m\u001b[0m\u001b[1;33m\u001b[0m\u001b[0m\n\u001b[1;32m-> 1201\u001b[1;33m             self._eval_data_handler = data_adapter.get_data_handler(\n\u001b[0m\u001b[0;32m   1202\u001b[0m                 \u001b[0mx\u001b[0m\u001b[1;33m=\u001b[0m\u001b[0mval_x\u001b[0m\u001b[1;33m,\u001b[0m\u001b[1;33m\u001b[0m\u001b[1;33m\u001b[0m\u001b[0m\n\u001b[0;32m   1203\u001b[0m                 \u001b[0my\u001b[0m\u001b[1;33m=\u001b[0m\u001b[0mval_y\u001b[0m\u001b[1;33m,\u001b[0m\u001b[1;33m\u001b[0m\u001b[1;33m\u001b[0m\u001b[0m\n",
      "\u001b[1;32m~\\anaconda3\\lib\\site-packages\\tensorflow\\python\\keras\\engine\\data_adapter.py\u001b[0m in \u001b[0;36mget_data_handler\u001b[1;34m(*args, **kwargs)\u001b[0m\n\u001b[0;32m   1362\u001b[0m   \u001b[1;32mif\u001b[0m \u001b[0mgetattr\u001b[0m\u001b[1;33m(\u001b[0m\u001b[0mkwargs\u001b[0m\u001b[1;33m[\u001b[0m\u001b[1;34m\"model\"\u001b[0m\u001b[1;33m]\u001b[0m\u001b[1;33m,\u001b[0m \u001b[1;34m\"_cluster_coordinator\"\u001b[0m\u001b[1;33m,\u001b[0m \u001b[1;32mNone\u001b[0m\u001b[1;33m)\u001b[0m\u001b[1;33m:\u001b[0m\u001b[1;33m\u001b[0m\u001b[1;33m\u001b[0m\u001b[0m\n\u001b[0;32m   1363\u001b[0m     \u001b[1;32mreturn\u001b[0m \u001b[0m_ClusterCoordinatorDataHandler\u001b[0m\u001b[1;33m(\u001b[0m\u001b[1;33m*\u001b[0m\u001b[0margs\u001b[0m\u001b[1;33m,\u001b[0m \u001b[1;33m**\u001b[0m\u001b[0mkwargs\u001b[0m\u001b[1;33m)\u001b[0m\u001b[1;33m\u001b[0m\u001b[1;33m\u001b[0m\u001b[0m\n\u001b[1;32m-> 1364\u001b[1;33m   \u001b[1;32mreturn\u001b[0m \u001b[0mDataHandler\u001b[0m\u001b[1;33m(\u001b[0m\u001b[1;33m*\u001b[0m\u001b[0margs\u001b[0m\u001b[1;33m,\u001b[0m \u001b[1;33m**\u001b[0m\u001b[0mkwargs\u001b[0m\u001b[1;33m)\u001b[0m\u001b[1;33m\u001b[0m\u001b[1;33m\u001b[0m\u001b[0m\n\u001b[0m\u001b[0;32m   1365\u001b[0m \u001b[1;33m\u001b[0m\u001b[0m\n\u001b[0;32m   1366\u001b[0m \u001b[1;33m\u001b[0m\u001b[0m\n",
      "\u001b[1;32m~\\anaconda3\\lib\\site-packages\\tensorflow\\python\\keras\\engine\\data_adapter.py\u001b[0m in \u001b[0;36m__init__\u001b[1;34m(self, x, y, sample_weight, batch_size, steps_per_epoch, initial_epoch, epochs, shuffle, class_weight, max_queue_size, workers, use_multiprocessing, model, steps_per_execution, distribute)\u001b[0m\n\u001b[0;32m   1152\u001b[0m     \u001b[0madapter_cls\u001b[0m \u001b[1;33m=\u001b[0m \u001b[0mselect_data_adapter\u001b[0m\u001b[1;33m(\u001b[0m\u001b[0mx\u001b[0m\u001b[1;33m,\u001b[0m \u001b[0my\u001b[0m\u001b[1;33m)\u001b[0m\u001b[1;33m\u001b[0m\u001b[1;33m\u001b[0m\u001b[0m\n\u001b[0;32m   1153\u001b[0m     \u001b[0mself\u001b[0m\u001b[1;33m.\u001b[0m\u001b[0m_verify_data_adapter_compatibility\u001b[0m\u001b[1;33m(\u001b[0m\u001b[0madapter_cls\u001b[0m\u001b[1;33m)\u001b[0m\u001b[1;33m\u001b[0m\u001b[1;33m\u001b[0m\u001b[0m\n\u001b[1;32m-> 1154\u001b[1;33m     self._adapter = adapter_cls(\n\u001b[0m\u001b[0;32m   1155\u001b[0m         \u001b[0mx\u001b[0m\u001b[1;33m,\u001b[0m\u001b[1;33m\u001b[0m\u001b[1;33m\u001b[0m\u001b[0m\n\u001b[0;32m   1156\u001b[0m         \u001b[0my\u001b[0m\u001b[1;33m,\u001b[0m\u001b[1;33m\u001b[0m\u001b[1;33m\u001b[0m\u001b[0m\n",
      "\u001b[1;32m~\\anaconda3\\lib\\site-packages\\tensorflow\\python\\keras\\engine\\data_adapter.py\u001b[0m in \u001b[0;36m__init__\u001b[1;34m(self, x, y, sample_weights, sample_weight_modes, batch_size, epochs, steps, shuffle, **kwargs)\u001b[0m\n\u001b[0;32m    256\u001b[0m \u001b[1;33m\u001b[0m\u001b[0m\n\u001b[0;32m    257\u001b[0m     \u001b[0mnum_samples\u001b[0m \u001b[1;33m=\u001b[0m \u001b[0mset\u001b[0m\u001b[1;33m(\u001b[0m\u001b[0mint\u001b[0m\u001b[1;33m(\u001b[0m\u001b[0mi\u001b[0m\u001b[1;33m.\u001b[0m\u001b[0mshape\u001b[0m\u001b[1;33m[\u001b[0m\u001b[1;36m0\u001b[0m\u001b[1;33m]\u001b[0m\u001b[1;33m)\u001b[0m \u001b[1;32mfor\u001b[0m \u001b[0mi\u001b[0m \u001b[1;32min\u001b[0m \u001b[0mnest\u001b[0m\u001b[1;33m.\u001b[0m\u001b[0mflatten\u001b[0m\u001b[1;33m(\u001b[0m\u001b[0minputs\u001b[0m\u001b[1;33m)\u001b[0m\u001b[1;33m)\u001b[0m\u001b[1;33m.\u001b[0m\u001b[0mpop\u001b[0m\u001b[1;33m(\u001b[0m\u001b[1;33m)\u001b[0m\u001b[1;33m\u001b[0m\u001b[1;33m\u001b[0m\u001b[0m\n\u001b[1;32m--> 258\u001b[1;33m     \u001b[0m_check_data_cardinality\u001b[0m\u001b[1;33m(\u001b[0m\u001b[0minputs\u001b[0m\u001b[1;33m)\u001b[0m\u001b[1;33m\u001b[0m\u001b[1;33m\u001b[0m\u001b[0m\n\u001b[0m\u001b[0;32m    259\u001b[0m \u001b[1;33m\u001b[0m\u001b[0m\n\u001b[0;32m    260\u001b[0m     \u001b[1;31m# If batch_size is not passed but steps is, calculate from the input data.\u001b[0m\u001b[1;33m\u001b[0m\u001b[1;33m\u001b[0m\u001b[1;33m\u001b[0m\u001b[0m\n",
      "\u001b[1;32m~\\anaconda3\\lib\\site-packages\\tensorflow\\python\\keras\\engine\\data_adapter.py\u001b[0m in \u001b[0;36m_check_data_cardinality\u001b[1;34m(data)\u001b[0m\n\u001b[0;32m   1628\u001b[0m           label, \", \".join(str(i.shape[0]) for i in nest.flatten(single_data)))\n\u001b[0;32m   1629\u001b[0m     \u001b[0mmsg\u001b[0m \u001b[1;33m+=\u001b[0m \u001b[1;34m\"Make sure all arrays contain the same number of samples.\"\u001b[0m\u001b[1;33m\u001b[0m\u001b[1;33m\u001b[0m\u001b[0m\n\u001b[1;32m-> 1630\u001b[1;33m     \u001b[1;32mraise\u001b[0m \u001b[0mValueError\u001b[0m\u001b[1;33m(\u001b[0m\u001b[0mmsg\u001b[0m\u001b[1;33m)\u001b[0m\u001b[1;33m\u001b[0m\u001b[1;33m\u001b[0m\u001b[0m\n\u001b[0m\u001b[0;32m   1631\u001b[0m \u001b[1;33m\u001b[0m\u001b[0m\n\u001b[0;32m   1632\u001b[0m \u001b[1;33m\u001b[0m\u001b[0m\n",
      "\u001b[1;31mValueError\u001b[0m: Data cardinality is ambiguous:\n  x sizes: 38210\n  y sizes: 24522\nMake sure all arrays contain the same number of samples."
     ]
    }
   ],
   "source": [
    "history = lstm.fit(\n",
    "    x_train_exp,\n",
    "    y_train,\n",
    "    batch_size=BATCH_SIZE,\n",
    "    epochs=EPOCHS,\n",
    "    callbacks=callbacks,\n",
    "    validation_data=(x_valid_exp, y_valid),\n",
    "    verbose=1\n",
    ")"
   ]
  },
  {
   "cell_type": "code",
   "execution_count": null,
   "metadata": {},
   "outputs": [],
   "source": [
    "lstm = history\n",
    "scores = lstm.evaluate(x_test_exp, y_test)\n",
    "\n",
    "print(\"\\n\"\"Test accuracy\", scores[1])\n",
    "print(\"\\n\"\"Test loss\", scores[0])\n",
    "print(\"%s: %.2f%%\" % (rnn_model.metrics_names[1], scores[1]*100))"
   ]
  },
  {
   "cell_type": "code",
   "execution_count": null,
   "metadata": {},
   "outputs": [],
   "source": [
    "draw_confusion_matrix(lstm, x_test_exp, y_test, \"lstm\")"
   ]
  },
  {
   "cell_type": "code",
   "execution_count": null,
   "metadata": {},
   "outputs": [],
   "source": [
    "draw_roc(lstm, x_test_exp, y_test, \"lstm\")"
   ]
  },
  {
   "cell_type": "code",
   "execution_count": null,
   "metadata": {},
   "outputs": [],
   "source": [
    "plot_loss_graph(lstm, \"lstm\")"
   ]
  },
  {
   "cell_type": "code",
   "execution_count": null,
   "metadata": {},
   "outputs": [],
   "source": [
    "plot_prediction_graph(lstm, \"lstm\")"
   ]
  }
 ],
 "metadata": {
  "kernelspec": {
   "display_name": "Python 3",
   "language": "python",
   "name": "python3"
  },
  "language_info": {
   "codemirror_mode": {
    "name": "ipython",
    "version": 3
   },
   "file_extension": ".py",
   "mimetype": "text/x-python",
   "name": "python",
   "nbconvert_exporter": "python",
   "pygments_lexer": "ipython3",
   "version": "3.8.5"
  }
 },
 "nbformat": 4,
 "nbformat_minor": 4
}
