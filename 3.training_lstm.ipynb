{
 "cells": [
  {
   "cell_type": "code",
   "execution_count": 1,
   "metadata": {},
   "outputs": [],
   "source": [
    "import numpy as np\n",
    "import pandas as pd\n",
    "\n",
    "import tensorflow as tf\n",
    "from tensorflow import keras\n",
    "from tensorflow.keras import layers"
   ]
  },
  {
   "cell_type": "code",
   "execution_count": 2,
   "metadata": {},
   "outputs": [],
   "source": [
    "folder_path = \"C:/Users/qhrrl/CodeExamples/3.Paper/0.Dataset\""
   ]
  },
  {
   "cell_type": "code",
   "execution_count": 3,
   "metadata": {},
   "outputs": [],
   "source": [
    "pd_cur_train = pd.read_csv(folder_path + '/cur_training_all.csv')\n",
    "pd_cur_val = pd.read_csv(folder_path + '/cur_validation_all.csv')"
   ]
  },
  {
   "cell_type": "code",
   "execution_count": 6,
   "metadata": {},
   "outputs": [
    {
     "name": "stdout",
     "output_type": "stream",
     "text": [
      "305534\n",
      "38210\n"
     ]
    }
   ],
   "source": [
    "print(len(pd_cur_train))\n",
    "print(len(pd_cur_val))"
   ]
  },
  {
   "cell_type": "code",
   "execution_count": 7,
   "metadata": {},
   "outputs": [
    {
     "data": {
      "text/html": [
       "<div>\n",
       "<style scoped>\n",
       "    .dataframe tbody tr th:only-of-type {\n",
       "        vertical-align: middle;\n",
       "    }\n",
       "\n",
       "    .dataframe tbody tr th {\n",
       "        vertical-align: top;\n",
       "    }\n",
       "\n",
       "    .dataframe thead th {\n",
       "        text-align: right;\n",
       "    }\n",
       "</style>\n",
       "<table border=\"1\" class=\"dataframe\">\n",
       "  <thead>\n",
       "    <tr style=\"text-align: right;\">\n",
       "      <th></th>\n",
       "      <th>Date</th>\n",
       "      <th>R_AbsMax</th>\n",
       "      <th>S_AbsMax</th>\n",
       "      <th>T_AbsMax</th>\n",
       "      <th>R_AbsMean</th>\n",
       "      <th>S_AbsMean</th>\n",
       "      <th>T_AbsMean</th>\n",
       "      <th>R_P2P</th>\n",
       "      <th>S_P2P</th>\n",
       "      <th>T_P2P</th>\n",
       "      <th>...</th>\n",
       "      <th>S_2x</th>\n",
       "      <th>T_2x</th>\n",
       "      <th>R_3x</th>\n",
       "      <th>S_3x</th>\n",
       "      <th>T_3x</th>\n",
       "      <th>R_4x</th>\n",
       "      <th>S_4x</th>\n",
       "      <th>T_4x</th>\n",
       "      <th>WATT</th>\n",
       "      <th>LABEL</th>\n",
       "    </tr>\n",
       "  </thead>\n",
       "  <tbody>\n",
       "    <tr>\n",
       "      <th>0</th>\n",
       "      <td>2020-11-13 07:43:41</td>\n",
       "      <td>3.643555</td>\n",
       "      <td>3.883789</td>\n",
       "      <td>4.124023</td>\n",
       "      <td>2.152260</td>\n",
       "      <td>2.154582</td>\n",
       "      <td>2.290735</td>\n",
       "      <td>7.126953</td>\n",
       "      <td>7.527344</td>\n",
       "      <td>7.687500</td>\n",
       "      <td>...</td>\n",
       "      <td>3.553066</td>\n",
       "      <td>3.763136</td>\n",
       "      <td>0.021705</td>\n",
       "      <td>0.023957</td>\n",
       "      <td>0.020911</td>\n",
       "      <td>0.057528</td>\n",
       "      <td>0.057195</td>\n",
       "      <td>0.057517</td>\n",
       "      <td>2.2</td>\n",
       "      <td>0</td>\n",
       "    </tr>\n",
       "    <tr>\n",
       "      <th>1</th>\n",
       "      <td>2020-11-13 07:43:41</td>\n",
       "      <td>3.643555</td>\n",
       "      <td>3.803711</td>\n",
       "      <td>4.164062</td>\n",
       "      <td>2.161249</td>\n",
       "      <td>2.163811</td>\n",
       "      <td>2.301946</td>\n",
       "      <td>7.126953</td>\n",
       "      <td>7.447266</td>\n",
       "      <td>7.727539</td>\n",
       "      <td>...</td>\n",
       "      <td>3.533756</td>\n",
       "      <td>3.747315</td>\n",
       "      <td>0.009876</td>\n",
       "      <td>0.010175</td>\n",
       "      <td>0.010687</td>\n",
       "      <td>0.011616</td>\n",
       "      <td>0.013211</td>\n",
       "      <td>0.010941</td>\n",
       "      <td>2.2</td>\n",
       "      <td>0</td>\n",
       "    </tr>\n",
       "    <tr>\n",
       "      <th>2</th>\n",
       "      <td>2020-11-13 07:43:41</td>\n",
       "      <td>3.683594</td>\n",
       "      <td>3.803711</td>\n",
       "      <td>4.164062</td>\n",
       "      <td>2.152920</td>\n",
       "      <td>2.151939</td>\n",
       "      <td>2.289333</td>\n",
       "      <td>7.166992</td>\n",
       "      <td>7.367188</td>\n",
       "      <td>7.727539</td>\n",
       "      <td>...</td>\n",
       "      <td>3.519853</td>\n",
       "      <td>3.728701</td>\n",
       "      <td>0.017622</td>\n",
       "      <td>0.011568</td>\n",
       "      <td>0.014016</td>\n",
       "      <td>0.012954</td>\n",
       "      <td>0.016530</td>\n",
       "      <td>0.011328</td>\n",
       "      <td>2.2</td>\n",
       "      <td>0</td>\n",
       "    </tr>\n",
       "  </tbody>\n",
       "</table>\n",
       "<p>3 rows × 48 columns</p>\n",
       "</div>"
      ],
      "text/plain": [
       "                  Date  R_AbsMax  S_AbsMax  T_AbsMax  R_AbsMean  S_AbsMean  \\\n",
       "0  2020-11-13 07:43:41  3.643555  3.883789  4.124023   2.152260   2.154582   \n",
       "1  2020-11-13 07:43:41  3.643555  3.803711  4.164062   2.161249   2.163811   \n",
       "2  2020-11-13 07:43:41  3.683594  3.803711  4.164062   2.152920   2.151939   \n",
       "\n",
       "   T_AbsMean     R_P2P     S_P2P     T_P2P  ...      S_2x      T_2x      R_3x  \\\n",
       "0   2.290735  7.126953  7.527344  7.687500  ...  3.553066  3.763136  0.021705   \n",
       "1   2.301946  7.126953  7.447266  7.727539  ...  3.533756  3.747315  0.009876   \n",
       "2   2.289333  7.166992  7.367188  7.727539  ...  3.519853  3.728701  0.017622   \n",
       "\n",
       "       S_3x      T_3x      R_4x      S_4x      T_4x  WATT  LABEL  \n",
       "0  0.023957  0.020911  0.057528  0.057195  0.057517   2.2      0  \n",
       "1  0.010175  0.010687  0.011616  0.013211  0.010941   2.2      0  \n",
       "2  0.011568  0.014016  0.012954  0.016530  0.011328   2.2      0  \n",
       "\n",
       "[3 rows x 48 columns]"
      ]
     },
     "execution_count": 7,
     "metadata": {},
     "output_type": "execute_result"
    }
   ],
   "source": [
    "pd_cur_train.head(3)"
   ]
  },
  {
   "cell_type": "code",
   "execution_count": 10,
   "metadata": {},
   "outputs": [],
   "source": [
    "np_cur_train = pd_cur_train.to_numpy()\n",
    "np_cur_val = pd_cur_val.to_numpy()"
   ]
  },
  {
   "cell_type": "markdown",
   "metadata": {},
   "source": [
    "# Extract Labels"
   ]
  },
  {
   "cell_type": "code",
   "execution_count": 11,
   "metadata": {},
   "outputs": [
    {
     "name": "stdout",
     "output_type": "stream",
     "text": [
      "[0 0 0 ... 0 0 0]\n",
      "[0 0 0 ... 0 0 0]\n"
     ]
    }
   ],
   "source": [
    "cur_train_labels = np_cur_train[:,-1]\n",
    "cur_val_labels = np_cur_val[:, -1]\n",
    "print(cur_train_labels)\n",
    "print(cur_val_labels)"
   ]
  },
  {
   "cell_type": "code",
   "execution_count": 12,
   "metadata": {},
   "outputs": [],
   "source": [
    "pd_cur_train = pd_cur_train.drop(columns = ['Date','WATT','LABEL'])\n",
    "pd_cur_val = pd_cur_val.drop(columns = ['Date','WATT','LABEL'])"
   ]
  },
  {
   "cell_type": "markdown",
   "metadata": {},
   "source": [
    "# 딥러닝 용 데이터로 전처리"
   ]
  },
  {
   "cell_type": "code",
   "execution_count": 13,
   "metadata": {},
   "outputs": [
    {
     "data": {
      "text/html": [
       "<div>\n",
       "<style scoped>\n",
       "    .dataframe tbody tr th:only-of-type {\n",
       "        vertical-align: middle;\n",
       "    }\n",
       "\n",
       "    .dataframe tbody tr th {\n",
       "        vertical-align: top;\n",
       "    }\n",
       "\n",
       "    .dataframe thead th {\n",
       "        text-align: right;\n",
       "    }\n",
       "</style>\n",
       "<table border=\"1\" class=\"dataframe\">\n",
       "  <thead>\n",
       "    <tr style=\"text-align: right;\">\n",
       "      <th></th>\n",
       "      <th>R_AbsMax</th>\n",
       "      <th>S_AbsMax</th>\n",
       "      <th>T_AbsMax</th>\n",
       "      <th>R_AbsMean</th>\n",
       "      <th>S_AbsMean</th>\n",
       "      <th>T_AbsMean</th>\n",
       "      <th>R_P2P</th>\n",
       "      <th>S_P2P</th>\n",
       "      <th>T_P2P</th>\n",
       "      <th>R_RMS</th>\n",
       "      <th>...</th>\n",
       "      <th>T_1x</th>\n",
       "      <th>R_2x</th>\n",
       "      <th>S_2x</th>\n",
       "      <th>T_2x</th>\n",
       "      <th>R_3x</th>\n",
       "      <th>S_3x</th>\n",
       "      <th>T_3x</th>\n",
       "      <th>R_4x</th>\n",
       "      <th>S_4x</th>\n",
       "      <th>T_4x</th>\n",
       "    </tr>\n",
       "  </thead>\n",
       "  <tbody>\n",
       "    <tr>\n",
       "      <th>0</th>\n",
       "      <td>3.643555</td>\n",
       "      <td>3.883789</td>\n",
       "      <td>4.124023</td>\n",
       "      <td>2.152260</td>\n",
       "      <td>2.154582</td>\n",
       "      <td>2.290735</td>\n",
       "      <td>7.126953</td>\n",
       "      <td>7.527344</td>\n",
       "      <td>7.687500</td>\n",
       "      <td>2.393055</td>\n",
       "      <td>...</td>\n",
       "      <td>0.003780</td>\n",
       "      <td>3.536451</td>\n",
       "      <td>3.553066</td>\n",
       "      <td>3.763136</td>\n",
       "      <td>0.021705</td>\n",
       "      <td>0.023957</td>\n",
       "      <td>0.020911</td>\n",
       "      <td>0.057528</td>\n",
       "      <td>0.057195</td>\n",
       "      <td>0.057517</td>\n",
       "    </tr>\n",
       "    <tr>\n",
       "      <th>1</th>\n",
       "      <td>3.643555</td>\n",
       "      <td>3.803711</td>\n",
       "      <td>4.164062</td>\n",
       "      <td>2.161249</td>\n",
       "      <td>2.163811</td>\n",
       "      <td>2.301946</td>\n",
       "      <td>7.126953</td>\n",
       "      <td>7.447266</td>\n",
       "      <td>7.727539</td>\n",
       "      <td>2.405001</td>\n",
       "      <td>...</td>\n",
       "      <td>0.012369</td>\n",
       "      <td>3.521399</td>\n",
       "      <td>3.533756</td>\n",
       "      <td>3.747315</td>\n",
       "      <td>0.009876</td>\n",
       "      <td>0.010175</td>\n",
       "      <td>0.010687</td>\n",
       "      <td>0.011616</td>\n",
       "      <td>0.013211</td>\n",
       "      <td>0.010941</td>\n",
       "    </tr>\n",
       "    <tr>\n",
       "      <th>2</th>\n",
       "      <td>3.683594</td>\n",
       "      <td>3.803711</td>\n",
       "      <td>4.164062</td>\n",
       "      <td>2.152920</td>\n",
       "      <td>2.151939</td>\n",
       "      <td>2.289333</td>\n",
       "      <td>7.166992</td>\n",
       "      <td>7.367188</td>\n",
       "      <td>7.727539</td>\n",
       "      <td>2.394561</td>\n",
       "      <td>...</td>\n",
       "      <td>0.012448</td>\n",
       "      <td>3.506221</td>\n",
       "      <td>3.519853</td>\n",
       "      <td>3.728701</td>\n",
       "      <td>0.017622</td>\n",
       "      <td>0.011568</td>\n",
       "      <td>0.014016</td>\n",
       "      <td>0.012954</td>\n",
       "      <td>0.016530</td>\n",
       "      <td>0.011328</td>\n",
       "    </tr>\n",
       "  </tbody>\n",
       "</table>\n",
       "<p>3 rows × 45 columns</p>\n",
       "</div>"
      ],
      "text/plain": [
       "   R_AbsMax  S_AbsMax  T_AbsMax  R_AbsMean  S_AbsMean  T_AbsMean     R_P2P  \\\n",
       "0  3.643555  3.883789  4.124023   2.152260   2.154582   2.290735  7.126953   \n",
       "1  3.643555  3.803711  4.164062   2.161249   2.163811   2.301946  7.126953   \n",
       "2  3.683594  3.803711  4.164062   2.152920   2.151939   2.289333  7.166992   \n",
       "\n",
       "      S_P2P     T_P2P     R_RMS  ...      T_1x      R_2x      S_2x      T_2x  \\\n",
       "0  7.527344  7.687500  2.393055  ...  0.003780  3.536451  3.553066  3.763136   \n",
       "1  7.447266  7.727539  2.405001  ...  0.012369  3.521399  3.533756  3.747315   \n",
       "2  7.367188  7.727539  2.394561  ...  0.012448  3.506221  3.519853  3.728701   \n",
       "\n",
       "       R_3x      S_3x      T_3x      R_4x      S_4x      T_4x  \n",
       "0  0.021705  0.023957  0.020911  0.057528  0.057195  0.057517  \n",
       "1  0.009876  0.010175  0.010687  0.011616  0.013211  0.010941  \n",
       "2  0.017622  0.011568  0.014016  0.012954  0.016530  0.011328  \n",
       "\n",
       "[3 rows x 45 columns]"
      ]
     },
     "execution_count": 13,
     "metadata": {},
     "output_type": "execute_result"
    }
   ],
   "source": [
    "pd_cur_train.head(3)"
   ]
  },
  {
   "cell_type": "code",
   "execution_count": 14,
   "metadata": {},
   "outputs": [],
   "source": [
    "cur_train = pd_cur_train.to_numpy()\n",
    "cur_val = pd_cur_val.to_numpy()"
   ]
  },
  {
   "cell_type": "markdown",
   "metadata": {},
   "source": [
    "# 1. Current"
   ]
  },
  {
   "cell_type": "markdown",
   "metadata": {},
   "source": [
    "## 1.1 Data"
   ]
  },
  {
   "cell_type": "markdown",
   "metadata": {},
   "source": [
    "### 1.1 split data set "
   ]
  },
  {
   "cell_type": "code",
   "execution_count": 15,
   "metadata": {},
   "outputs": [],
   "source": [
    "from sklearn.model_selection import train_test_split\n",
    "\n",
    "x_train, x_test, y_train, y_test = train_test_split(cur_train, cur_train_labels, test_size=0.2, random_state=42)"
   ]
  },
  {
   "cell_type": "markdown",
   "metadata": {},
   "source": [
    "### 1.2. Validation"
   ]
  },
  {
   "cell_type": "code",
   "execution_count": 16,
   "metadata": {},
   "outputs": [
    {
     "name": "stdout",
     "output_type": "stream",
     "text": [
      "(244427, 45)\n",
      "(244427,)\n",
      "==================================================\n",
      "(61107, 45)\n",
      "(61107,)\n",
      "==================================================\n",
      "(38210, 45)\n",
      "(38210,)\n"
     ]
    }
   ],
   "source": [
    "print(x_train.shape)\n",
    "print(y_train.shape)\n",
    "print(\"=\"*50)\n",
    "print(x_test.shape)\n",
    "print(y_test.shape)\n",
    "print(\"=\"*50)\n",
    "x_valid = cur_val\n",
    "y_valid = cur_val_labels\n",
    "\n",
    "print(x_valid.shape)\n",
    "print(y_valid.shape)"
   ]
  },
  {
   "cell_type": "markdown",
   "metadata": {},
   "source": [
    "### 1.3 normalize"
   ]
  },
  {
   "cell_type": "code",
   "execution_count": 17,
   "metadata": {},
   "outputs": [],
   "source": [
    "from sklearn.preprocessing import StandardScaler\n",
    "from sklearn.preprocessing import RobustScaler\n",
    "\n",
    "# Standard Scaler를 적용하고 싶을 경우 아래 Code를 실행\n",
    "\n",
    "stder = StandardScaler()\n",
    "stder.fit(x_train)\n",
    "\n",
    "x_train = stder.transform(x_train)\n",
    "x_valid = stder.transform(x_valid)\n",
    "x_test = stder.transform(x_test)\n",
    "\n",
    "# Robust Scaler를 적용하고 싶을 경우 아래 주석을 해제하고 Code를 실행\n",
    "\n",
    "# rscaler = RobustScaler() \n",
    "# rscaler.fit(x_train)\n",
    "# x_train = rscaler.transform(x_train)\n",
    "# x_valid = rscaler.transform(x_valid)"
   ]
  },
  {
   "cell_type": "markdown",
   "metadata": {},
   "source": [
    "주제가 피쳐에 대한 강건함이므로, 스케일러에 대한 고민도 해야할 것이다."
   ]
  },
  {
   "cell_type": "markdown",
   "metadata": {},
   "source": [
    "본 데이터는 Multivariate이며, 1개의 Channel만 갖는다. 우리는 multivariate variable with one channel 형태로 바꿔주고자 하며, 이는 아래와 같다."
   ]
  },
  {
   "cell_type": "code",
   "execution_count": null,
   "metadata": {},
   "outputs": [],
   "source": [
    "# CNN, RNN 모델의 입력 변수는 채널 축 1개 차원을 확장시킨 3D Tensor이다.\n",
    "# 즉 아래 CNN, RNN 모델은 x_train, x_valid, x_test를 입력 변수로 넣지 않고, \n",
    "# x_train_exp, x_valid_exp, x_test_exp을 넣는다. \n",
    "x_train_exp = np.expand_dims(x_train, -1)  # 채널 축 1개 차원을 확장 시킨(Expand) X_train\n",
    "x_valid_exp = np.expand_dims(x_valid, -1)  # 채널 축 1개 차원을 확장 시킨(Expand) X_vaild \n",
    "x_test_exp = np.expand_dims(x_test, -1)  # 채널 축 1개 차원을 확장 시킨(Expand) X_test\n",
    "\n",
    "# 위와 동일한 코드\n",
    "# x_train_exp = x_train.reshape((x_train.shape[0], x_train.shape[1], 1))\n",
    "# x_valid_exp = x_train.reshape((x_valid.shape[0], x_valid.shape[1], 1))\n",
    "# x_test_exp = x_test.reshape((x_test.shape[0], x_test.shape[1], 1))\n",
    "\n",
    "print(\"x_train_exp의 형태:\", x_train_exp.shape)\n",
    "print(\"y_train_exp의 형태:\", y_train.shape)\n",
    "\n",
    "print(\"=\" * 50)\n",
    "\n",
    "print(\"x_valid_exp의 형태:\", x_valid_exp.shape)\n",
    "print(\"y_valid_exp의 형태:\", y_valid.shape)\n",
    "\n",
    "print(\"=\" * 50)\n",
    "\n",
    "print(\"x_test_exp의 형태:\", x_test_exp.shape)\n",
    "print(\"y_test_exp의 형태:\", y_test.shape)"
   ]
  },
  {
   "cell_type": "code",
   "execution_count": null,
   "metadata": {},
   "outputs": [],
   "source": [
    "# y_train = y_train.astype('int')\n",
    "# y_valid = y_valid.astype('int')\n",
    "# y_test = y_test.astype('int')\n",
    "\n",
    "y_train = tf.stack(y_train)\n",
    "y_valid = tf.stack(y_valid)\n",
    "y_test = tf.stack(y_test)"
   ]
  },
  {
   "cell_type": "code",
   "execution_count": null,
   "metadata": {},
   "outputs": [],
   "source": [
    "print(y_train)\n",
    "print(y_valid)\n",
    "print(y_test)"
   ]
  },
  {
   "cell_type": "code",
   "execution_count": null,
   "metadata": {},
   "outputs": [],
   "source": [
    "num_classes = len(np.unique(np.concatenate((y_train, y_test), axis=0)))\n",
    "num_classes"
   ]
  },
  {
   "cell_type": "code",
   "execution_count": null,
   "metadata": {},
   "outputs": [],
   "source": [
    "x_train_exp.shape"
   ]
  },
  {
   "cell_type": "code",
   "execution_count": 5,
   "metadata": {},
   "outputs": [
    {
     "ename": "NameError",
     "evalue": "name 'y_train' is not defined",
     "output_type": "error",
     "traceback": [
      "\u001b[1;31m---------------------------------------------------------------------------\u001b[0m",
      "\u001b[1;31mNameError\u001b[0m                                 Traceback (most recent call last)",
      "\u001b[1;32m<ipython-input-5-30602697b5a7>\u001b[0m in \u001b[0;36m<module>\u001b[1;34m\u001b[0m\n\u001b[1;32m----> 1\u001b[1;33m \u001b[0my_train\u001b[0m\u001b[1;33m.\u001b[0m\u001b[0mshape\u001b[0m\u001b[1;33m\u001b[0m\u001b[1;33m\u001b[0m\u001b[0m\n\u001b[0m",
      "\u001b[1;31mNameError\u001b[0m: name 'y_train' is not defined"
     ]
    }
   ],
   "source": [
    "y_train.shape"
   ]
  },
  {
   "cell_type": "markdown",
   "metadata": {},
   "source": [
    "# 3. LSTM"
   ]
  },
  {
   "cell_type": "code",
   "execution_count": 105,
   "metadata": {},
   "outputs": [],
   "source": [
    "import h5py\n",
    "\n",
    "from tensorflow.keras.callbacks import Callback, EarlyStopping, ModelCheckpoint, ReduceLROnPlateau\n",
    "from tensorflow.keras.models import Sequential\n",
    "from tensorflow.keras.layers import LSTM, Flatten, Dense\n",
    "\n",
    "def make_lstm_model():\n",
    "    model = Sequential()\n",
    "    model.add(LSTM(units=256, return_sequences=True))\n",
    "    model.add(Flatten())\n",
    "    model.add(Dense(100, activation='relu'))\n",
    "    model.add(Dense(5, activation='softmax'))\n",
    "    return model"
   ]
  },
  {
   "cell_type": "code",
   "execution_count": 106,
   "metadata": {},
   "outputs": [],
   "source": [
    "lstm = make_lstm_model()"
   ]
  },
  {
   "cell_type": "code",
   "execution_count": 107,
   "metadata": {},
   "outputs": [],
   "source": [
    "lstm.build(x_train_exp.shape)"
   ]
  },
  {
   "cell_type": "code",
   "execution_count": 108,
   "metadata": {},
   "outputs": [
    {
     "name": "stdout",
     "output_type": "stream",
     "text": [
      "Model: \"sequential_2\"\n",
      "_________________________________________________________________\n",
      "Layer (type)                 Output Shape              Param #   \n",
      "=================================================================\n",
      "lstm_2 (LSTM)                (244427, 45, 256)         264192    \n",
      "_________________________________________________________________\n",
      "flatten_2 (Flatten)          (244427, 11520)           0         \n",
      "_________________________________________________________________\n",
      "dense_4 (Dense)              (244427, 100)             1152100   \n",
      "_________________________________________________________________\n",
      "dense_5 (Dense)              (244427, 5)               505       \n",
      "=================================================================\n",
      "Total params: 1,416,797\n",
      "Trainable params: 1,416,797\n",
      "Non-trainable params: 0\n",
      "_________________________________________________________________\n"
     ]
    }
   ],
   "source": [
    "lstm.summary()"
   ]
  },
  {
   "cell_type": "code",
   "execution_count": 127,
   "metadata": {},
   "outputs": [],
   "source": [
    "EPOCHS = 20\n",
    "BATCH_SIZE = 64"
   ]
  },
  {
   "cell_type": "code",
   "execution_count": 128,
   "metadata": {},
   "outputs": [],
   "source": [
    "lstm.compile(loss=\"sparse_categorical_crossentropy\", \n",
    "                  optimizer='adam', \n",
    "                  metrics=[\"accuracy\"]\n",
    "                 )"
   ]
  },
  {
   "cell_type": "code",
   "execution_count": 129,
   "metadata": {},
   "outputs": [],
   "source": [
    "# callbacks = [ModelCheckpoint(folder_path + '/lstm_best_model.h5', \n",
    "#                              monitor='val_loss',\n",
    "#                              save_best_only=True),\n",
    "#              ReduceLROnPlateau(\n",
    "#                  monitor=\"val_loss\", factor=0.5, patience=20, min_lr=0.0001\n",
    "#                  ),\n",
    "#              EarlyStopping(monitor=\"val_loss\", patience=10, verbose=1)\n",
    "#              ]"
   ]
  },
  {
   "cell_type": "code",
   "execution_count": 130,
   "metadata": {},
   "outputs": [],
   "source": [
    "df = tf.stack(y_train)\n",
    "y_train = tf.stack(df)"
   ]
  },
  {
   "cell_type": "code",
   "execution_count": 131,
   "metadata": {},
   "outputs": [
    {
     "name": "stdout",
     "output_type": "stream",
     "text": [
      "Epoch 1/20\n",
      "3820/3820 [==============================] - 347s 90ms/step - loss: 0.0084 - accuracy: 0.9970 - val_loss: 0.9898 - val_accuracy: 0.9343\n",
      "Epoch 2/20\n",
      "3820/3820 [==============================] - 351s 92ms/step - loss: 0.0081 - accuracy: 0.9970 - val_loss: 0.9740 - val_accuracy: 0.9366\n",
      "Epoch 3/20\n",
      "3820/3820 [==============================] - 348s 91ms/step - loss: 0.0082 - accuracy: 0.9970 - val_loss: 1.1942 - val_accuracy: 0.9370\n",
      "Epoch 4/20\n",
      " 898/3820 [======>.......................] - ETA: 4:19 - loss: 0.0074 - accuracy: 0.9974"
     ]
    },
    {
     "ename": "KeyboardInterrupt",
     "evalue": "",
     "output_type": "error",
     "traceback": [
      "\u001b[1;31m---------------------------------------------------------------------------\u001b[0m",
      "\u001b[1;31mKeyboardInterrupt\u001b[0m                         Traceback (most recent call last)",
      "\u001b[1;32m<ipython-input-131-8b57ce73bc53>\u001b[0m in \u001b[0;36m<module>\u001b[1;34m\u001b[0m\n\u001b[1;32m----> 1\u001b[1;33m history = lstm.fit(\n\u001b[0m\u001b[0;32m      2\u001b[0m     \u001b[0mx_train_exp\u001b[0m\u001b[1;33m,\u001b[0m\u001b[1;33m\u001b[0m\u001b[1;33m\u001b[0m\u001b[0m\n\u001b[0;32m      3\u001b[0m     \u001b[0my_train\u001b[0m\u001b[1;33m,\u001b[0m\u001b[1;33m\u001b[0m\u001b[1;33m\u001b[0m\u001b[0m\n\u001b[0;32m      4\u001b[0m     \u001b[0mbatch_size\u001b[0m\u001b[1;33m=\u001b[0m\u001b[0mBATCH_SIZE\u001b[0m\u001b[1;33m,\u001b[0m\u001b[1;33m\u001b[0m\u001b[1;33m\u001b[0m\u001b[0m\n\u001b[0;32m      5\u001b[0m     \u001b[0mepochs\u001b[0m\u001b[1;33m=\u001b[0m\u001b[0mEPOCHS\u001b[0m\u001b[1;33m,\u001b[0m\u001b[1;33m\u001b[0m\u001b[1;33m\u001b[0m\u001b[0m\n",
      "\u001b[1;32m~\\anaconda3\\lib\\site-packages\\tensorflow\\python\\keras\\engine\\training.py\u001b[0m in \u001b[0;36mfit\u001b[1;34m(self, x, y, batch_size, epochs, verbose, callbacks, validation_split, validation_data, shuffle, class_weight, sample_weight, initial_epoch, steps_per_epoch, validation_steps, validation_batch_size, validation_freq, max_queue_size, workers, use_multiprocessing)\u001b[0m\n\u001b[0;32m   1181\u001b[0m                 _r=1):\n\u001b[0;32m   1182\u001b[0m               \u001b[0mcallbacks\u001b[0m\u001b[1;33m.\u001b[0m\u001b[0mon_train_batch_begin\u001b[0m\u001b[1;33m(\u001b[0m\u001b[0mstep\u001b[0m\u001b[1;33m)\u001b[0m\u001b[1;33m\u001b[0m\u001b[1;33m\u001b[0m\u001b[0m\n\u001b[1;32m-> 1183\u001b[1;33m               \u001b[0mtmp_logs\u001b[0m \u001b[1;33m=\u001b[0m \u001b[0mself\u001b[0m\u001b[1;33m.\u001b[0m\u001b[0mtrain_function\u001b[0m\u001b[1;33m(\u001b[0m\u001b[0miterator\u001b[0m\u001b[1;33m)\u001b[0m\u001b[1;33m\u001b[0m\u001b[1;33m\u001b[0m\u001b[0m\n\u001b[0m\u001b[0;32m   1184\u001b[0m               \u001b[1;32mif\u001b[0m \u001b[0mdata_handler\u001b[0m\u001b[1;33m.\u001b[0m\u001b[0mshould_sync\u001b[0m\u001b[1;33m:\u001b[0m\u001b[1;33m\u001b[0m\u001b[1;33m\u001b[0m\u001b[0m\n\u001b[0;32m   1185\u001b[0m                 \u001b[0mcontext\u001b[0m\u001b[1;33m.\u001b[0m\u001b[0masync_wait\u001b[0m\u001b[1;33m(\u001b[0m\u001b[1;33m)\u001b[0m\u001b[1;33m\u001b[0m\u001b[1;33m\u001b[0m\u001b[0m\n",
      "\u001b[1;32m~\\anaconda3\\lib\\site-packages\\tensorflow\\python\\eager\\def_function.py\u001b[0m in \u001b[0;36m__call__\u001b[1;34m(self, *args, **kwds)\u001b[0m\n\u001b[0;32m    887\u001b[0m \u001b[1;33m\u001b[0m\u001b[0m\n\u001b[0;32m    888\u001b[0m       \u001b[1;32mwith\u001b[0m \u001b[0mOptionalXlaContext\u001b[0m\u001b[1;33m(\u001b[0m\u001b[0mself\u001b[0m\u001b[1;33m.\u001b[0m\u001b[0m_jit_compile\u001b[0m\u001b[1;33m)\u001b[0m\u001b[1;33m:\u001b[0m\u001b[1;33m\u001b[0m\u001b[1;33m\u001b[0m\u001b[0m\n\u001b[1;32m--> 889\u001b[1;33m         \u001b[0mresult\u001b[0m \u001b[1;33m=\u001b[0m \u001b[0mself\u001b[0m\u001b[1;33m.\u001b[0m\u001b[0m_call\u001b[0m\u001b[1;33m(\u001b[0m\u001b[1;33m*\u001b[0m\u001b[0margs\u001b[0m\u001b[1;33m,\u001b[0m \u001b[1;33m**\u001b[0m\u001b[0mkwds\u001b[0m\u001b[1;33m)\u001b[0m\u001b[1;33m\u001b[0m\u001b[1;33m\u001b[0m\u001b[0m\n\u001b[0m\u001b[0;32m    890\u001b[0m \u001b[1;33m\u001b[0m\u001b[0m\n\u001b[0;32m    891\u001b[0m       \u001b[0mnew_tracing_count\u001b[0m \u001b[1;33m=\u001b[0m \u001b[0mself\u001b[0m\u001b[1;33m.\u001b[0m\u001b[0mexperimental_get_tracing_count\u001b[0m\u001b[1;33m(\u001b[0m\u001b[1;33m)\u001b[0m\u001b[1;33m\u001b[0m\u001b[1;33m\u001b[0m\u001b[0m\n",
      "\u001b[1;32m~\\anaconda3\\lib\\site-packages\\tensorflow\\python\\eager\\def_function.py\u001b[0m in \u001b[0;36m_call\u001b[1;34m(self, *args, **kwds)\u001b[0m\n\u001b[0;32m    915\u001b[0m       \u001b[1;31m# In this case we have created variables on the first call, so we run the\u001b[0m\u001b[1;33m\u001b[0m\u001b[1;33m\u001b[0m\u001b[1;33m\u001b[0m\u001b[0m\n\u001b[0;32m    916\u001b[0m       \u001b[1;31m# defunned version which is guaranteed to never create variables.\u001b[0m\u001b[1;33m\u001b[0m\u001b[1;33m\u001b[0m\u001b[1;33m\u001b[0m\u001b[0m\n\u001b[1;32m--> 917\u001b[1;33m       \u001b[1;32mreturn\u001b[0m \u001b[0mself\u001b[0m\u001b[1;33m.\u001b[0m\u001b[0m_stateless_fn\u001b[0m\u001b[1;33m(\u001b[0m\u001b[1;33m*\u001b[0m\u001b[0margs\u001b[0m\u001b[1;33m,\u001b[0m \u001b[1;33m**\u001b[0m\u001b[0mkwds\u001b[0m\u001b[1;33m)\u001b[0m  \u001b[1;31m# pylint: disable=not-callable\u001b[0m\u001b[1;33m\u001b[0m\u001b[1;33m\u001b[0m\u001b[0m\n\u001b[0m\u001b[0;32m    918\u001b[0m     \u001b[1;32melif\u001b[0m \u001b[0mself\u001b[0m\u001b[1;33m.\u001b[0m\u001b[0m_stateful_fn\u001b[0m \u001b[1;32mis\u001b[0m \u001b[1;32mnot\u001b[0m \u001b[1;32mNone\u001b[0m\u001b[1;33m:\u001b[0m\u001b[1;33m\u001b[0m\u001b[1;33m\u001b[0m\u001b[0m\n\u001b[0;32m    919\u001b[0m       \u001b[1;31m# Release the lock early so that multiple threads can perform the call\u001b[0m\u001b[1;33m\u001b[0m\u001b[1;33m\u001b[0m\u001b[1;33m\u001b[0m\u001b[0m\n",
      "\u001b[1;32m~\\anaconda3\\lib\\site-packages\\tensorflow\\python\\eager\\function.py\u001b[0m in \u001b[0;36m__call__\u001b[1;34m(self, *args, **kwargs)\u001b[0m\n\u001b[0;32m   3021\u001b[0m       (graph_function,\n\u001b[0;32m   3022\u001b[0m        filtered_flat_args) = self._maybe_define_function(args, kwargs)\n\u001b[1;32m-> 3023\u001b[1;33m     return graph_function._call_flat(\n\u001b[0m\u001b[0;32m   3024\u001b[0m         filtered_flat_args, captured_inputs=graph_function.captured_inputs)  # pylint: disable=protected-access\n\u001b[0;32m   3025\u001b[0m \u001b[1;33m\u001b[0m\u001b[0m\n",
      "\u001b[1;32m~\\anaconda3\\lib\\site-packages\\tensorflow\\python\\eager\\function.py\u001b[0m in \u001b[0;36m_call_flat\u001b[1;34m(self, args, captured_inputs, cancellation_manager)\u001b[0m\n\u001b[0;32m   1958\u001b[0m         and executing_eagerly):\n\u001b[0;32m   1959\u001b[0m       \u001b[1;31m# No tape is watching; skip to running the function.\u001b[0m\u001b[1;33m\u001b[0m\u001b[1;33m\u001b[0m\u001b[1;33m\u001b[0m\u001b[0m\n\u001b[1;32m-> 1960\u001b[1;33m       return self._build_call_outputs(self._inference_function.call(\n\u001b[0m\u001b[0;32m   1961\u001b[0m           ctx, args, cancellation_manager=cancellation_manager))\n\u001b[0;32m   1962\u001b[0m     forward_backward = self._select_forward_and_backward_functions(\n",
      "\u001b[1;32m~\\anaconda3\\lib\\site-packages\\tensorflow\\python\\eager\\function.py\u001b[0m in \u001b[0;36mcall\u001b[1;34m(self, ctx, args, cancellation_manager)\u001b[0m\n\u001b[0;32m    589\u001b[0m       \u001b[1;32mwith\u001b[0m \u001b[0m_InterpolateFunctionError\u001b[0m\u001b[1;33m(\u001b[0m\u001b[0mself\u001b[0m\u001b[1;33m)\u001b[0m\u001b[1;33m:\u001b[0m\u001b[1;33m\u001b[0m\u001b[1;33m\u001b[0m\u001b[0m\n\u001b[0;32m    590\u001b[0m         \u001b[1;32mif\u001b[0m \u001b[0mcancellation_manager\u001b[0m \u001b[1;32mis\u001b[0m \u001b[1;32mNone\u001b[0m\u001b[1;33m:\u001b[0m\u001b[1;33m\u001b[0m\u001b[1;33m\u001b[0m\u001b[0m\n\u001b[1;32m--> 591\u001b[1;33m           outputs = execute.execute(\n\u001b[0m\u001b[0;32m    592\u001b[0m               \u001b[0mstr\u001b[0m\u001b[1;33m(\u001b[0m\u001b[0mself\u001b[0m\u001b[1;33m.\u001b[0m\u001b[0msignature\u001b[0m\u001b[1;33m.\u001b[0m\u001b[0mname\u001b[0m\u001b[1;33m)\u001b[0m\u001b[1;33m,\u001b[0m\u001b[1;33m\u001b[0m\u001b[1;33m\u001b[0m\u001b[0m\n\u001b[0;32m    593\u001b[0m               \u001b[0mnum_outputs\u001b[0m\u001b[1;33m=\u001b[0m\u001b[0mself\u001b[0m\u001b[1;33m.\u001b[0m\u001b[0m_num_outputs\u001b[0m\u001b[1;33m,\u001b[0m\u001b[1;33m\u001b[0m\u001b[1;33m\u001b[0m\u001b[0m\n",
      "\u001b[1;32m~\\anaconda3\\lib\\site-packages\\tensorflow\\python\\eager\\execute.py\u001b[0m in \u001b[0;36mquick_execute\u001b[1;34m(op_name, num_outputs, inputs, attrs, ctx, name)\u001b[0m\n\u001b[0;32m     57\u001b[0m   \u001b[1;32mtry\u001b[0m\u001b[1;33m:\u001b[0m\u001b[1;33m\u001b[0m\u001b[1;33m\u001b[0m\u001b[0m\n\u001b[0;32m     58\u001b[0m     \u001b[0mctx\u001b[0m\u001b[1;33m.\u001b[0m\u001b[0mensure_initialized\u001b[0m\u001b[1;33m(\u001b[0m\u001b[1;33m)\u001b[0m\u001b[1;33m\u001b[0m\u001b[1;33m\u001b[0m\u001b[0m\n\u001b[1;32m---> 59\u001b[1;33m     tensors = pywrap_tfe.TFE_Py_Execute(ctx._handle, device_name, op_name,\n\u001b[0m\u001b[0;32m     60\u001b[0m                                         inputs, attrs, num_outputs)\n\u001b[0;32m     61\u001b[0m   \u001b[1;32mexcept\u001b[0m \u001b[0mcore\u001b[0m\u001b[1;33m.\u001b[0m\u001b[0m_NotOkStatusException\u001b[0m \u001b[1;32mas\u001b[0m \u001b[0me\u001b[0m\u001b[1;33m:\u001b[0m\u001b[1;33m\u001b[0m\u001b[1;33m\u001b[0m\u001b[0m\n",
      "\u001b[1;31mKeyboardInterrupt\u001b[0m: "
     ]
    }
   ],
   "source": [
    "history = lstm.fit(\n",
    "    x_train_exp,\n",
    "    y_train,\n",
    "    batch_size=BATCH_SIZE,\n",
    "    epochs=EPOCHS,\n",
    "    #callbacks=callbacks,\n",
    "    validation_data=(x_valid_exp, y_valid),\n",
    "    verbose=1\n",
    ")"
   ]
  },
  {
   "cell_type": "code",
   "execution_count": null,
   "metadata": {},
   "outputs": [],
   "source": [
    ".#lstm = history\n",
    "scores = lstm.evaluate(x_test_exp, y_test)\n",
    "\n",
    "print(\"\\n\"\"Test accuracy\", scores[1])\n",
    "print(\"\\n\"\"Test loss\", scores[0])\n",
    "print(\"%s: %.2f%%\" % (lstm.metrics_names[1], scores[1]*100))"
   ]
  },
  {
   "cell_type": "code",
   "execution_count": null,
   "metadata": {},
   "outputs": [],
   "source": [
    "from sklearn.metrics import classification_report, confusion_matrix\n",
    "import itertools\n",
    "\n",
    "def draw_confusion_matrix(model, xt, yt, model_name):\n",
    "    Y_pred = model.predict(xt)\n",
    "    if model_name in [\"cnn\", \"lstm\"]:\n",
    "        y_pred = np.argmax(Y_pred, axis=1)\n",
    "    else: y_pred = Y_pred\n",
    "    plt.figure(figsize=(3,3))\n",
    "    cm = confusion_matrix(yt, y_pred)\n",
    "    plt.imshow(cm, interpolation='nearest', cmap=plt.cm.Blues)\n",
    "    plt.title(\"Confusion Matrix\")\n",
    "    plt.colorbar()\n",
    "    tick_marks = np.arange(2)\n",
    "    plt.xticks(tick_marks, ['False', 'True'], rotation=45)\n",
    "    plt.yticks(tick_marks, ['False', 'True'])\n",
    "    thresh = cm.max()/1.2\n",
    "    normalize = False\n",
    "    fmt = '.2f' if normalize else 'd'\n",
    "    for i,j in itertools.product(range(cm.shape[0]), range(cm.shape[1])):\n",
    "        plt.text(j,i, format(cm[i,j], fmt), \n",
    "                 horizontalalignment=\"center\", \n",
    "                 color=\"white\" if cm[i,j] > thresh else \"black\", \n",
    "                 fontsize=12)\n",
    "    plt.ylabel(\"Actual Label\")\n",
    "    plt.xlabel(\"Predicted Label\")\n",
    "    plt.tight_layout()\n",
    "    plt.savefig(folder_path + '/{}_cm.png'.format(model_name), dpi=100, bbox_inches='tight')  # 그림 저장\n",
    "    plt.show()\n",
    "    print(classification_report(yt, y_pred))"
   ]
  },
  {
   "cell_type": "code",
   "execution_count": null,
   "metadata": {},
   "outputs": [],
   "source": [
    "from sklearn.metrics import roc_curve, auc\n",
    "\n",
    "def draw_roc(model,xt, yt, model_name):\n",
    "    Y_pred = model.predict(xt)\n",
    "    if model_name in [\"cnn\", \"lstm\"]:\n",
    "        y_pred = np.argmax(Y_pred, axis=1)\n",
    "    else: y_pred = Y_pred\n",
    "    fpr, tpr, thr = roc_curve(yt, y_pred)\n",
    "    roc_auc = auc(fpr, tpr)\n",
    "    plt.figure()\n",
    "    lw = 2\n",
    "    plt.plot(fpr, tpr, color='darkorange',\n",
    "             lw=lw, label='ROC curve (area = %0.2f)' % roc_auc)\n",
    "    plt.plot([0, 1], [0, 1], color='navy', lw=lw, linestyle='--')\n",
    "    plt.xlim([0.0, 1.0])\n",
    "    plt.ylim([0.0, 1.05])\n",
    "    plt.xlabel('False Positive Rate')\n",
    "    plt.ylabel('True Positive Rate')\n",
    "    plt.title('Receiver operating characteristic {};'.format(model_name))\n",
    "    plt.legend(loc=\"lower right\")\n",
    "    plt.ion()\n",
    "    plt.tight_layout()\n",
    "    plt.savefig(folder_path + '/{}_roc.png'.format(model_name), dpi=100, bbox_inches='tight')  # 그림 저장\n",
    "    plt.show()"
   ]
  },
  {
   "cell_type": "code",
   "execution_count": null,
   "metadata": {},
   "outputs": [],
   "source": [
    "def plot_loss_graph(history, pic_name):\n",
    "    plt.figure()\n",
    "    plt.plot(history.history['loss'])\n",
    "    plt.plot(history.history[\"val_loss\"])\n",
    "    plt.title(\"Training & Validation Loss\")\n",
    "    plt.ylabel(\"loss\", fontsize=\"large\")\n",
    "    plt.xlabel(\"epoch\", fontsize=\"large\")\n",
    "    plt.legend([\"train\", \"validation\"], loc=\"best\")\n",
    "    plt.tight_layout()\n",
    "    plt.savefig(folder_path + '/{}.png'.format(pic_name), dpi=100, bbox_inches='tight')  # 그림 저장\n",
    "    plt.show()\n",
    "    plt.close()"
   ]
  },
  {
   "cell_type": "code",
   "execution_count": null,
   "metadata": {},
   "outputs": [],
   "source": [
    "def plot_prediction_graph(history, pic_name):\n",
    "    plt.figure()\n",
    "    plt.plot(history.history[\"sparse_categorical_accuracy\"])\n",
    "    plt.plot(history.history[\"val_\" + \"sparse_categorical_accuracy\"])\n",
    "    plt.title(\"model \" + \"Prediction Accuracy\")\n",
    "    plt.ylabel(\"sparse_categorical_accuracy\", fontsize=\"large\")\n",
    "    plt.xlabel(\"epoch\", fontsize=\"large\")\n",
    "    plt.legend([\"train\", \"validation\"], loc=\"best\")\n",
    "    plt.tight_layout()\n",
    "    plt.savefig(folder_path + '/{}.png'.format(pic_name), dpi=100, bbox_inches='tight')  # 그림 저장\n",
    "    plt.show()\n",
    "    plt.close()"
   ]
  },
  {
   "cell_type": "code",
   "execution_count": null,
   "metadata": {},
   "outputs": [],
   "source": [
    "draw_confusion_matrix(lstm, x_test_exp, y_test, \"lstm\")"
   ]
  },
  {
   "cell_type": "code",
   "execution_count": null,
   "metadata": {},
   "outputs": [],
   "source": [
    "draw_roc(lstm, x_test_exp, y_test, \"lstm\")"
   ]
  },
  {
   "cell_type": "code",
   "execution_count": null,
   "metadata": {},
   "outputs": [],
   "source": [
    "plot_loss_graph(lstm, \"lstm\")"
   ]
  },
  {
   "cell_type": "code",
   "execution_count": null,
   "metadata": {},
   "outputs": [],
   "source": [
    "plot_prediction_graph(lstm, \"lstm\")"
   ]
  },
  {
   "cell_type": "code",
   "execution_count": null,
   "metadata": {},
   "outputs": [],
   "source": []
  }
 ],
 "metadata": {
  "kernelspec": {
   "display_name": "Python 3",
   "language": "python",
   "name": "python3"
  },
  "language_info": {
   "codemirror_mode": {
    "name": "ipython",
    "version": 3
   },
   "file_extension": ".py",
   "mimetype": "text/x-python",
   "name": "python",
   "nbconvert_exporter": "python",
   "pygments_lexer": "ipython3",
   "version": "3.8.5"
  }
 },
 "nbformat": 4,
 "nbformat_minor": 4
}
