{
 "cells": [
  {
   "cell_type": "markdown",
   "metadata": {},
   "source": [
    "# Current"
   ]
  },
  {
   "cell_type": "code",
   "execution_count": 1,
   "metadata": {},
   "outputs": [],
   "source": [
    "import numpy as np\n",
    "import pandas as pd\n",
    "\n",
    "import matplotlib.pyplot as plt"
   ]
  },
  {
   "cell_type": "code",
   "execution_count": 2,
   "metadata": {},
   "outputs": [],
   "source": [
    "folder_path = \"C:/Users/qhrrl/CodeExamples/3.Paper/0.Dataset\""
   ]
  },
  {
   "cell_type": "code",
   "execution_count": 3,
   "metadata": {},
   "outputs": [],
   "source": [
    "pd_cur_train_origin = pd.read_csv(folder_path + '/cur_training_all.csv')\n",
    "pd_cur_val_origin = pd.read_csv(folder_path + '/cur_validation_all.csv')"
   ]
  },
  {
   "cell_type": "code",
   "execution_count": 4,
   "metadata": {},
   "outputs": [
    {
     "name": "stdout",
     "output_type": "stream",
     "text": [
      "(305534, 48)\n",
      "305534\n",
      "38210\n"
     ]
    }
   ],
   "source": [
    "print(pd_cur_train_origin.shape)\n",
    "print(len(pd_cur_train_origin))\n",
    "print(len(pd_cur_val_origin))"
   ]
  },
  {
   "cell_type": "code",
   "execution_count": 5,
   "metadata": {},
   "outputs": [],
   "source": [
    "np_cur_train = pd_cur_train_origin.to_numpy()\n",
    "np_cur_val = pd_cur_val_origin.to_numpy()"
   ]
  },
  {
   "cell_type": "markdown",
   "metadata": {},
   "source": [
    "# Extract Labels"
   ]
  },
  {
   "cell_type": "code",
   "execution_count": 6,
   "metadata": {},
   "outputs": [],
   "source": [
    "train_labels = np_cur_train[:,-1]\n",
    "val_labels = np_cur_val[:, -1]"
   ]
  },
  {
   "cell_type": "code",
   "execution_count": 7,
   "metadata": {},
   "outputs": [],
   "source": [
    "pd_cur_train = pd_cur_train_origin.drop(columns = ['Date','WATT','LABEL'])\n",
    "pd_cur_val = pd_cur_val_origin.drop(columns = ['Date','WATT','LABEL'])"
   ]
  },
  {
   "cell_type": "code",
   "execution_count": 8,
   "metadata": {},
   "outputs": [],
   "source": [
    "np_cur_train = pd_cur_train.to_numpy()\n",
    "np_cur_val = pd_cur_val.to_numpy()"
   ]
  },
  {
   "cell_type": "markdown",
   "metadata": {},
   "source": [
    "# 1. Current"
   ]
  },
  {
   "cell_type": "code",
   "execution_count": 9,
   "metadata": {},
   "outputs": [],
   "source": [
    "from sklearn.model_selection import train_test_split\n",
    "\n",
    "x_train, x_test, y_train, y_test = train_test_split(np_cur_train, train_labels, stratify=train_labels, test_size=0.2, random_state=42)"
   ]
  },
  {
   "cell_type": "code",
   "execution_count": 10,
   "metadata": {},
   "outputs": [
    {
     "name": "stdout",
     "output_type": "stream",
     "text": [
      "(244427, 45)\n",
      "(61107, 45)\n",
      "==================================================\n",
      "(244427,)\n",
      "(61107,)\n",
      "==================================================\n",
      "(38210, 45)\n",
      "(38210,)\n"
     ]
    }
   ],
   "source": [
    "print(x_train.shape)\n",
    "print(x_test.shape)\n",
    "\n",
    "print(\"=\"*50)\n",
    "\n",
    "print(y_train.shape)\n",
    "print(y_test.shape)\n",
    "\n",
    "print(\"=\"*50)\n",
    "\n",
    "x_valid = np_cur_val\n",
    "y_valid = val_labels\n",
    "\n",
    "print(x_valid.shape)\n",
    "print(y_valid.shape)"
   ]
  },
  {
   "cell_type": "markdown",
   "metadata": {},
   "source": [
    "# 1. 시각화"
   ]
  },
  {
   "cell_type": "markdown",
   "metadata": {},
   "source": [
    "# 100%"
   ]
  },
  {
   "cell_type": "markdown",
   "metadata": {},
   "source": [
    "## 1.1 데이터 status 확인"
   ]
  },
  {
   "cell_type": "code",
   "execution_count": 107,
   "metadata": {},
   "outputs": [
    {
     "data": {
      "text/plain": [
       "array([0, 1, 2, 3, 4], dtype=object)"
      ]
     },
     "execution_count": 107,
     "metadata": {},
     "output_type": "execute_result"
    }
   ],
   "source": [
    "classes = np.unique(np.concatenate((y_train, y_test), axis=0))  # classes = array([-1,  1])\n",
    "classes"
   ]
  },
  {
   "cell_type": "code",
   "execution_count": 108,
   "metadata": {},
   "outputs": [
    {
     "data": {
      "image/png": "[encoded data removed]",
      "text/plain": [
       "<Figure size 1080x576 with 3 Axes>"
      ]
     },
     "metadata": {
      "needs_background": "light"
     },
     "output_type": "display_data"
    }
   ],
   "source": [
    "x = np.arange(len(classes))  # Plot의 X축의 개수 구하기\n",
    "\n",
    "labels = [\"Normal\", \"AF\", \"BL\", \"SF\", \"BF\"]   # Plot의 X축의 이름 구하기\n",
    "\n",
    "values_train = [(y_train == i).sum() for i in classes]  # Train 데이터의 정상/비정상 각 총 개수\n",
    "values_valid = [(y_valid == i).sum() for i in classes]  # Test 데이터의 정상/비정상 각 총 개수\n",
    "values_test = [(y_test == i).sum() for i in classes]  # Test 데이터의 정상/비정상 각 총 개수\n",
    "\n",
    "plt.figure(figsize=(15,8))  # Plot 틀(Figure)의 Size 설정 (5X3)\n",
    "\n",
    "plt.subplot(1,3,1)   # Plot 틀(Figure) 내 3개의 subplot 중 첫 번째(왼쪽) 지정\n",
    "plt.title(\"Training Data\")  # subplot 제목\n",
    "plt.bar(x, values_train, width=0.6, color=[\"lightcoral\", \"wheat\",\"turquoise\",\"lightblue\",\"plum\"])  # Train 데이터의 정상/비정상 개수 BarPlot\n",
    "plt.ylim([0, 30000])\n",
    "plt.xticks(x, labels)  # X축에 변수 기입\n",
    "\n",
    "plt.subplot(1,3,2)  # Plot 틀(Figure) 내 3개의 subplot 중 두 번째(가운데) 지정\n",
    "plt.title(\"Validation Data\")\n",
    "plt.bar(x, values_valid, width=0.6,color=[\"lightcoral\", \"wheat\",\"turquoise\",\"lightblue\",\"plum\"])  # Test 데이터의 정상/비정상 개수 BarPlot\n",
    "plt.ylim([0, 5000])\n",
    "plt.xticks(x, labels)  \n",
    "\n",
    "plt.subplot(1,3,3)  # Plot 틀(Figure) 내 3개의 subplot 중 세 번째(오른쪽) 지정\n",
    "plt.title(\"Test Data\")\n",
    "plt.bar(x, values_test, width=0.6, color=[\"lightcoral\", \"wheat\",\"turquoise\",\"lightblue\",\"plum\"])  # Test 데이터의 정상/비정상 개수 BarPlot\n",
    "plt.ylim([0, 8000])\n",
    "plt.xticks(x, labels)\n",
    "\n",
    "plt.tight_layout()  # 그림 저장\n",
    "plt.savefig('./imgs/100%_data_status.png', dpi=100, bbox_inches='tight')  # 그림 저장\n",
    "plt.show()  # 그림 출력"
   ]
  },
  {
   "cell_type": "code",
   "execution_count": null,
   "metadata": {},
   "outputs": [],
   "source": [
    "class AdjustingNumber():\n",
    "    def __init__(self):\n",
    "        pass\n",
    "    def "
   ]
  },
  {
   "cell_type": "code",
   "execution_count": null,
   "metadata": {},
   "outputs": [],
   "source": [
    "def "
   ]
  },
  {
   "cell_type": "markdown",
   "metadata": {},
   "source": [
    "## 1.2 99 : 1 으로 데이터 숫자 조정"
   ]
  },
  {
   "cell_type": "code",
   "execution_count": 109,
   "metadata": {},
   "outputs": [
    {
     "name": "stdout",
     "output_type": "stream",
     "text": [
      "(305534, 48)\n",
      "(38210, 48)\n"
     ]
    }
   ],
   "source": [
    "print(pd_cur_train_origin.shape)\n",
    "print(pd_cur_val_origin.shape)"
   ]
  },
  {
   "cell_type": "code",
   "execution_count": 110,
   "metadata": {},
   "outputs": [],
   "source": [
    "lb_t_1 = [] # label_training_1\n",
    "lb_t_2 = []\n",
    "lb_t_3 = []\n",
    "lb_t_4 = []\n",
    "\n",
    "lb_v_1 = []\n",
    "lb_v_2 = []\n",
    "lb_v_3 = []\n",
    "lb_v_4 = []"
   ]
  },
  {
   "cell_type": "code",
   "execution_count": 111,
   "metadata": {},
   "outputs": [],
   "source": [
    "np_tr_99 = pd_cur_train_origin.to_numpy()\n",
    "np_v_99 = pd_cur_val_origin.to_numpy()"
   ]
  },
  {
   "cell_type": "code",
   "execution_count": 112,
   "metadata": {},
   "outputs": [],
   "source": [
    "def label_extract(data):\n",
    "    lb_1 = []\n",
    "    lb_2 = []\n",
    "    lb_3 = []\n",
    "    lb_4 = []\n",
    "    lb_0 = []\n",
    "    for i in data:\n",
    "        if i[:][-1] == 1:\n",
    "            lb_1.append(i)\n",
    "        elif i[:][-1] == 2:\n",
    "            lb_2.append(i)\n",
    "        elif i[:][-1] == 3:\n",
    "            lb_3.append(i)\n",
    "        elif i[:][-1] == 4:\n",
    "            lb_4.append(i)\n",
    "        elif i[:][-1] == 0:\n",
    "            lb_0.append(i)\n",
    "    return lb_1, lb_2, lb_3, lb_4, lb_0"
   ]
  },
  {
   "cell_type": "code",
   "execution_count": 113,
   "metadata": {},
   "outputs": [],
   "source": [
    "lb_t_1, lb_t_2, lb_t_3, lb_t_4, lb_t_0 = label_extract(np_tr_99)\n",
    "lb_v_1, lb_v_2, lb_v_3, lb_v_4, lb_v_0 = label_extract(np_v_99)"
   ]
  },
  {
   "cell_type": "code",
   "execution_count": 114,
   "metadata": {},
   "outputs": [
    {
     "name": "stdout",
     "output_type": "stream",
     "text": [
      "True\n",
      "True\n"
     ]
    }
   ],
   "source": [
    "print((len(pd_cur_train_origin)) == (len(lb_t_1) + len(lb_t_2)+len(lb_t_3) + len(lb_t_4) + len(lb_t_0)))\n",
    "print((len(pd_cur_val_origin)) == (len(lb_v_1) + len(lb_v_2)+len(lb_v_3) + len(lb_v_4) + len(lb_v_0)))"
   ]
  },
  {
   "cell_type": "code",
   "execution_count": 115,
   "metadata": {},
   "outputs": [
    {
     "name": "stdout",
     "output_type": "stream",
     "text": [
      "2181.94\n"
     ]
    }
   ],
   "source": [
    "print(len(lb_t_0) * 0.01)"
   ]
  },
  {
   "cell_type": "markdown",
   "metadata": {},
   "source": [
    "반올림해서 0.4 제거 후 30553 중에서 4개의 유형으로 쪼개야 하니 "
   ]
  },
  {
   "cell_type": "code",
   "execution_count": 116,
   "metadata": {},
   "outputs": [
    {
     "name": "stdout",
     "output_type": "stream",
     "text": [
      "545\n"
     ]
    }
   ],
   "source": [
    "split_n = int(len(lb_t_0) * 0.01 / 4)\n",
    "print(split_n)"
   ]
  },
  {
   "cell_type": "markdown",
   "metadata": {},
   "source": [
    "각 데이터 당, 545 개 씩 추출을 해야한다."
   ]
  },
  {
   "cell_type": "code",
   "execution_count": 117,
   "metadata": {},
   "outputs": [],
   "source": [
    "import random\n",
    "\n",
    "lb_t_1 = random.sample(lb_t_1, split_n)\n",
    "lb_t_2 = random.sample(lb_t_2, split_n)\n",
    "lb_t_3 = random.sample(lb_t_3, split_n)\n",
    "lb_t_4 = random.sample(lb_t_4, split_n)"
   ]
  },
  {
   "cell_type": "code",
   "execution_count": 118,
   "metadata": {},
   "outputs": [
    {
     "name": "stdout",
     "output_type": "stream",
     "text": [
      "545\n"
     ]
    }
   ],
   "source": [
    "print(len(lb_t_1))"
   ]
  },
  {
   "cell_type": "code",
   "execution_count": 119,
   "metadata": {},
   "outputs": [
    {
     "name": "stdout",
     "output_type": "stream",
     "text": [
      "2181.94\n",
      "2180\n"
     ]
    }
   ],
   "source": [
    "# 비교해보자 \n",
    "print(len(lb_t_0) * 0.01)\n",
    "print(len(lb_t_1) + len(lb_t_2)+len(lb_t_3) + len(lb_t_4))"
   ]
  },
  {
   "cell_type": "markdown",
   "metadata": {},
   "source": [
    "다시 붙여주자 "
   ]
  },
  {
   "cell_type": "code",
   "execution_count": 120,
   "metadata": {},
   "outputs": [],
   "source": [
    "pd_lb_t_0 = pd.DataFrame(lb_t_0)\n",
    "pd_lb_t_1 = pd.DataFrame(lb_t_1)\n",
    "pd_lb_t_2 = pd.DataFrame(lb_t_2)\n",
    "pd_lb_t_3 = pd.DataFrame(lb_t_3)\n",
    "pd_lb_t_4 = pd.DataFrame(lb_t_4)\n",
    "\n",
    "cur_train_99 = pd.concat([pd_lb_t_0, pd_lb_t_1, pd_lb_t_2, pd_lb_t_3, pd_lb_t_4], axis=0)"
   ]
  },
  {
   "cell_type": "code",
   "execution_count": 121,
   "metadata": {},
   "outputs": [
    {
     "data": {
      "text/html": [
       "<div>\n",
       "<style scoped>\n",
       "    .dataframe tbody tr th:only-of-type {\n",
       "        vertical-align: middle;\n",
       "    }\n",
       "\n",
       "    .dataframe tbody tr th {\n",
       "        vertical-align: top;\n",
       "    }\n",
       "\n",
       "    .dataframe thead th {\n",
       "        text-align: right;\n",
       "    }\n",
       "</style>\n",
       "<table border=\"1\" class=\"dataframe\">\n",
       "  <thead>\n",
       "    <tr style=\"text-align: right;\">\n",
       "      <th></th>\n",
       "      <th>0</th>\n",
       "      <th>1</th>\n",
       "      <th>2</th>\n",
       "      <th>3</th>\n",
       "      <th>4</th>\n",
       "      <th>5</th>\n",
       "      <th>6</th>\n",
       "      <th>7</th>\n",
       "      <th>8</th>\n",
       "      <th>9</th>\n",
       "      <th>...</th>\n",
       "      <th>38</th>\n",
       "      <th>39</th>\n",
       "      <th>40</th>\n",
       "      <th>41</th>\n",
       "      <th>42</th>\n",
       "      <th>43</th>\n",
       "      <th>44</th>\n",
       "      <th>45</th>\n",
       "      <th>46</th>\n",
       "      <th>47</th>\n",
       "    </tr>\n",
       "  </thead>\n",
       "  <tbody>\n",
       "    <tr>\n",
       "      <th>0</th>\n",
       "      <td>2020-11-13 07:43:41</td>\n",
       "      <td>3.643555</td>\n",
       "      <td>3.883789</td>\n",
       "      <td>4.124023</td>\n",
       "      <td>2.152260</td>\n",
       "      <td>2.154582</td>\n",
       "      <td>2.290735</td>\n",
       "      <td>7.126953</td>\n",
       "      <td>7.527344</td>\n",
       "      <td>7.687500</td>\n",
       "      <td>...</td>\n",
       "      <td>3.553066</td>\n",
       "      <td>3.763136</td>\n",
       "      <td>0.021705</td>\n",
       "      <td>0.023957</td>\n",
       "      <td>0.020911</td>\n",
       "      <td>0.057528</td>\n",
       "      <td>0.057195</td>\n",
       "      <td>0.057517</td>\n",
       "      <td>2.2</td>\n",
       "      <td>0</td>\n",
       "    </tr>\n",
       "    <tr>\n",
       "      <th>1</th>\n",
       "      <td>2020-11-13 07:43:41</td>\n",
       "      <td>3.643555</td>\n",
       "      <td>3.803711</td>\n",
       "      <td>4.164062</td>\n",
       "      <td>2.161249</td>\n",
       "      <td>2.163811</td>\n",
       "      <td>2.301946</td>\n",
       "      <td>7.126953</td>\n",
       "      <td>7.447266</td>\n",
       "      <td>7.727539</td>\n",
       "      <td>...</td>\n",
       "      <td>3.533756</td>\n",
       "      <td>3.747315</td>\n",
       "      <td>0.009876</td>\n",
       "      <td>0.010175</td>\n",
       "      <td>0.010687</td>\n",
       "      <td>0.011616</td>\n",
       "      <td>0.013211</td>\n",
       "      <td>0.010941</td>\n",
       "      <td>2.2</td>\n",
       "      <td>0</td>\n",
       "    </tr>\n",
       "    <tr>\n",
       "      <th>2</th>\n",
       "      <td>2020-11-13 07:43:41</td>\n",
       "      <td>3.683594</td>\n",
       "      <td>3.803711</td>\n",
       "      <td>4.164062</td>\n",
       "      <td>2.152920</td>\n",
       "      <td>2.151939</td>\n",
       "      <td>2.289333</td>\n",
       "      <td>7.166992</td>\n",
       "      <td>7.367188</td>\n",
       "      <td>7.727539</td>\n",
       "      <td>...</td>\n",
       "      <td>3.519853</td>\n",
       "      <td>3.728701</td>\n",
       "      <td>0.017622</td>\n",
       "      <td>0.011568</td>\n",
       "      <td>0.014016</td>\n",
       "      <td>0.012954</td>\n",
       "      <td>0.016530</td>\n",
       "      <td>0.011328</td>\n",
       "      <td>2.2</td>\n",
       "      <td>0</td>\n",
       "    </tr>\n",
       "    <tr>\n",
       "      <th>3</th>\n",
       "      <td>2020-11-13 07:44:42</td>\n",
       "      <td>3.553467</td>\n",
       "      <td>3.753662</td>\n",
       "      <td>3.993896</td>\n",
       "      <td>2.134172</td>\n",
       "      <td>2.111470</td>\n",
       "      <td>2.258483</td>\n",
       "      <td>6.966797</td>\n",
       "      <td>7.247070</td>\n",
       "      <td>7.487305</td>\n",
       "      <td>...</td>\n",
       "      <td>3.359254</td>\n",
       "      <td>3.581625</td>\n",
       "      <td>0.011735</td>\n",
       "      <td>0.008646</td>\n",
       "      <td>0.012069</td>\n",
       "      <td>0.008928</td>\n",
       "      <td>0.008072</td>\n",
       "      <td>0.006405</td>\n",
       "      <td>2.2</td>\n",
       "      <td>0</td>\n",
       "    </tr>\n",
       "    <tr>\n",
       "      <th>4</th>\n",
       "      <td>2020-11-13 07:44:42</td>\n",
       "      <td>3.593506</td>\n",
       "      <td>3.713623</td>\n",
       "      <td>4.073975</td>\n",
       "      <td>2.137425</td>\n",
       "      <td>2.114743</td>\n",
       "      <td>2.260646</td>\n",
       "      <td>7.006836</td>\n",
       "      <td>7.247070</td>\n",
       "      <td>7.607422</td>\n",
       "      <td>...</td>\n",
       "      <td>3.354816</td>\n",
       "      <td>3.573826</td>\n",
       "      <td>0.007737</td>\n",
       "      <td>0.006841</td>\n",
       "      <td>0.007718</td>\n",
       "      <td>0.011826</td>\n",
       "      <td>0.016674</td>\n",
       "      <td>0.015070</td>\n",
       "      <td>2.2</td>\n",
       "      <td>0</td>\n",
       "    </tr>\n",
       "    <tr>\n",
       "      <th>...</th>\n",
       "      <td>...</td>\n",
       "      <td>...</td>\n",
       "      <td>...</td>\n",
       "      <td>...</td>\n",
       "      <td>...</td>\n",
       "      <td>...</td>\n",
       "      <td>...</td>\n",
       "      <td>...</td>\n",
       "      <td>...</td>\n",
       "      <td>...</td>\n",
       "      <td>...</td>\n",
       "      <td>...</td>\n",
       "      <td>...</td>\n",
       "      <td>...</td>\n",
       "      <td>...</td>\n",
       "      <td>...</td>\n",
       "      <td>...</td>\n",
       "      <td>...</td>\n",
       "      <td>...</td>\n",
       "      <td>...</td>\n",
       "      <td>...</td>\n",
       "    </tr>\n",
       "    <tr>\n",
       "      <th>540</th>\n",
       "      <td>2020-11-07 03:13:14</td>\n",
       "      <td>4.033936</td>\n",
       "      <td>4.294189</td>\n",
       "      <td>4.194092</td>\n",
       "      <td>2.397589</td>\n",
       "      <td>2.465625</td>\n",
       "      <td>2.425016</td>\n",
       "      <td>8.007812</td>\n",
       "      <td>8.568359</td>\n",
       "      <td>8.328125</td>\n",
       "      <td>...</td>\n",
       "      <td>3.902610</td>\n",
       "      <td>3.798646</td>\n",
       "      <td>0.032300</td>\n",
       "      <td>0.030071</td>\n",
       "      <td>0.032492</td>\n",
       "      <td>0.033725</td>\n",
       "      <td>0.022434</td>\n",
       "      <td>0.018605</td>\n",
       "      <td>2.2</td>\n",
       "      <td>4</td>\n",
       "    </tr>\n",
       "    <tr>\n",
       "      <th>541</th>\n",
       "      <td>2021-01-30 14:07:54</td>\n",
       "      <td>4.043945</td>\n",
       "      <td>4.364258</td>\n",
       "      <td>4.083984</td>\n",
       "      <td>2.158866</td>\n",
       "      <td>2.250416</td>\n",
       "      <td>2.147936</td>\n",
       "      <td>7.887695</td>\n",
       "      <td>8.208008</td>\n",
       "      <td>7.807617</td>\n",
       "      <td>...</td>\n",
       "      <td>3.625128</td>\n",
       "      <td>3.450163</td>\n",
       "      <td>0.028192</td>\n",
       "      <td>0.029124</td>\n",
       "      <td>0.032243</td>\n",
       "      <td>0.010171</td>\n",
       "      <td>0.005139</td>\n",
       "      <td>0.008097</td>\n",
       "      <td>2.2</td>\n",
       "      <td>4</td>\n",
       "    </tr>\n",
       "    <tr>\n",
       "      <th>542</th>\n",
       "      <td>2020-11-06 23:19:07</td>\n",
       "      <td>4.234131</td>\n",
       "      <td>4.554443</td>\n",
       "      <td>4.494385</td>\n",
       "      <td>2.420001</td>\n",
       "      <td>2.512211</td>\n",
       "      <td>2.449229</td>\n",
       "      <td>8.448242</td>\n",
       "      <td>9.048828</td>\n",
       "      <td>8.848633</td>\n",
       "      <td>...</td>\n",
       "      <td>4.272649</td>\n",
       "      <td>4.129838</td>\n",
       "      <td>0.035321</td>\n",
       "      <td>0.034757</td>\n",
       "      <td>0.034172</td>\n",
       "      <td>0.027232</td>\n",
       "      <td>0.025861</td>\n",
       "      <td>0.037477</td>\n",
       "      <td>2.2</td>\n",
       "      <td>4</td>\n",
       "    </tr>\n",
       "    <tr>\n",
       "      <th>543</th>\n",
       "      <td>2021-01-25 13:21:11</td>\n",
       "      <td>4.199097</td>\n",
       "      <td>4.439331</td>\n",
       "      <td>4.159058</td>\n",
       "      <td>2.160803</td>\n",
       "      <td>2.228754</td>\n",
       "      <td>2.110304</td>\n",
       "      <td>8.167969</td>\n",
       "      <td>8.448242</td>\n",
       "      <td>7.927734</td>\n",
       "      <td>...</td>\n",
       "      <td>3.795615</td>\n",
       "      <td>3.580923</td>\n",
       "      <td>0.036073</td>\n",
       "      <td>0.031376</td>\n",
       "      <td>0.034660</td>\n",
       "      <td>0.007270</td>\n",
       "      <td>0.020582</td>\n",
       "      <td>0.008401</td>\n",
       "      <td>2.2</td>\n",
       "      <td>4</td>\n",
       "    </tr>\n",
       "    <tr>\n",
       "      <th>544</th>\n",
       "      <td>2021-01-21 20:07:04</td>\n",
       "      <td>3.963867</td>\n",
       "      <td>4.324219</td>\n",
       "      <td>4.164062</td>\n",
       "      <td>2.155803</td>\n",
       "      <td>2.299984</td>\n",
       "      <td>2.172379</td>\n",
       "      <td>7.767578</td>\n",
       "      <td>8.288086</td>\n",
       "      <td>7.847656</td>\n",
       "      <td>...</td>\n",
       "      <td>3.732902</td>\n",
       "      <td>3.507760</td>\n",
       "      <td>0.034215</td>\n",
       "      <td>0.036395</td>\n",
       "      <td>0.033007</td>\n",
       "      <td>0.011686</td>\n",
       "      <td>0.023810</td>\n",
       "      <td>0.008149</td>\n",
       "      <td>2.2</td>\n",
       "      <td>4</td>\n",
       "    </tr>\n",
       "  </tbody>\n",
       "</table>\n",
       "<p>220374 rows × 48 columns</p>\n",
       "</div>"
      ],
      "text/plain": [
       "                      0         1         2         3         4         5   \\\n",
       "0    2020-11-13 07:43:41  3.643555  3.883789  4.124023  2.152260  2.154582   \n",
       "1    2020-11-13 07:43:41  3.643555  3.803711  4.164062  2.161249  2.163811   \n",
       "2    2020-11-13 07:43:41  3.683594  3.803711  4.164062  2.152920  2.151939   \n",
       "3    2020-11-13 07:44:42  3.553467  3.753662  3.993896  2.134172  2.111470   \n",
       "4    2020-11-13 07:44:42  3.593506  3.713623  4.073975  2.137425  2.114743   \n",
       "..                   ...       ...       ...       ...       ...       ...   \n",
       "540  2020-11-07 03:13:14  4.033936  4.294189  4.194092  2.397589  2.465625   \n",
       "541  2021-01-30 14:07:54  4.043945  4.364258  4.083984  2.158866  2.250416   \n",
       "542  2020-11-06 23:19:07  4.234131  4.554443  4.494385  2.420001  2.512211   \n",
       "543  2021-01-25 13:21:11  4.199097  4.439331  4.159058  2.160803  2.228754   \n",
       "544  2021-01-21 20:07:04  3.963867  4.324219  4.164062  2.155803  2.299984   \n",
       "\n",
       "           6         7         8         9   ...        38        39  \\\n",
       "0    2.290735  7.126953  7.527344  7.687500  ...  3.553066  3.763136   \n",
       "1    2.301946  7.126953  7.447266  7.727539  ...  3.533756  3.747315   \n",
       "2    2.289333  7.166992  7.367188  7.727539  ...  3.519853  3.728701   \n",
       "3    2.258483  6.966797  7.247070  7.487305  ...  3.359254  3.581625   \n",
       "4    2.260646  7.006836  7.247070  7.607422  ...  3.354816  3.573826   \n",
       "..        ...       ...       ...       ...  ...       ...       ...   \n",
       "540  2.425016  8.007812  8.568359  8.328125  ...  3.902610  3.798646   \n",
       "541  2.147936  7.887695  8.208008  7.807617  ...  3.625128  3.450163   \n",
       "542  2.449229  8.448242  9.048828  8.848633  ...  4.272649  4.129838   \n",
       "543  2.110304  8.167969  8.448242  7.927734  ...  3.795615  3.580923   \n",
       "544  2.172379  7.767578  8.288086  7.847656  ...  3.732902  3.507760   \n",
       "\n",
       "           40        41        42        43        44        45   46  47  \n",
       "0    0.021705  0.023957  0.020911  0.057528  0.057195  0.057517  2.2   0  \n",
       "1    0.009876  0.010175  0.010687  0.011616  0.013211  0.010941  2.2   0  \n",
       "2    0.017622  0.011568  0.014016  0.012954  0.016530  0.011328  2.2   0  \n",
       "3    0.011735  0.008646  0.012069  0.008928  0.008072  0.006405  2.2   0  \n",
       "4    0.007737  0.006841  0.007718  0.011826  0.016674  0.015070  2.2   0  \n",
       "..        ...       ...       ...       ...       ...       ...  ...  ..  \n",
       "540  0.032300  0.030071  0.032492  0.033725  0.022434  0.018605  2.2   4  \n",
       "541  0.028192  0.029124  0.032243  0.010171  0.005139  0.008097  2.2   4  \n",
       "542  0.035321  0.034757  0.034172  0.027232  0.025861  0.037477  2.2   4  \n",
       "543  0.036073  0.031376  0.034660  0.007270  0.020582  0.008401  2.2   4  \n",
       "544  0.034215  0.036395  0.033007  0.011686  0.023810  0.008149  2.2   4  \n",
       "\n",
       "[220374 rows x 48 columns]"
      ]
     },
     "execution_count": 121,
     "metadata": {},
     "output_type": "execute_result"
    }
   ],
   "source": [
    "cur_train_99"
   ]
  },
  {
   "cell_type": "code",
   "execution_count": 122,
   "metadata": {},
   "outputs": [],
   "source": [
    "cur_train_99.columns = [\n",
    "        'Date',\n",
    "        'R_AbsMax', 'S_AbsMax', 'T_AbsMax', 'R_AbsMean', 'S_AbsMean','T_AbsMean',\n",
    "        'R_P2P', 'S_P2P', 'T_P2P', 'R_RMS', 'S_RMS', 'T_RMS', \n",
    "        'R_Skewness', 'S_Skewness', 'T_Skewness', 'R_Kurtosis', 'S_Kurtosis', 'T_Kurtosis',\n",
    "        'R_Crest', 'S_Crest', 'T_Crest', 'R_Shape', 'S_Shape', 'T_Shape',\n",
    "        'R_Impulse', 'S_Impulse', 'T_Impulse',\n",
    "        'RS_phase', 'ST_phase', 'TR_phase', 'RS_Level', 'ST_Level', 'TR_Level',\n",
    "        'R_1x', 'S_1x', 'T_1x', 'R_2x', 'S_2x', 'T_2x',\n",
    "        'R_3x', 'S_3x', 'T_3x', 'R_4x', 'S_4x', 'T_4x',\n",
    "        'WATT','LABEL'\n",
    "        ]"
   ]
  },
  {
   "cell_type": "code",
   "execution_count": 123,
   "metadata": {},
   "outputs": [
    {
     "data": {
      "text/html": [
       "<div>\n",
       "<style scoped>\n",
       "    .dataframe tbody tr th:only-of-type {\n",
       "        vertical-align: middle;\n",
       "    }\n",
       "\n",
       "    .dataframe tbody tr th {\n",
       "        vertical-align: top;\n",
       "    }\n",
       "\n",
       "    .dataframe thead th {\n",
       "        text-align: right;\n",
       "    }\n",
       "</style>\n",
       "<table border=\"1\" class=\"dataframe\">\n",
       "  <thead>\n",
       "    <tr style=\"text-align: right;\">\n",
       "      <th></th>\n",
       "      <th>Date</th>\n",
       "      <th>R_AbsMax</th>\n",
       "      <th>S_AbsMax</th>\n",
       "      <th>T_AbsMax</th>\n",
       "      <th>R_AbsMean</th>\n",
       "      <th>S_AbsMean</th>\n",
       "      <th>T_AbsMean</th>\n",
       "      <th>R_P2P</th>\n",
       "      <th>S_P2P</th>\n",
       "      <th>T_P2P</th>\n",
       "      <th>...</th>\n",
       "      <th>S_2x</th>\n",
       "      <th>T_2x</th>\n",
       "      <th>R_3x</th>\n",
       "      <th>S_3x</th>\n",
       "      <th>T_3x</th>\n",
       "      <th>R_4x</th>\n",
       "      <th>S_4x</th>\n",
       "      <th>T_4x</th>\n",
       "      <th>WATT</th>\n",
       "      <th>LABEL</th>\n",
       "    </tr>\n",
       "  </thead>\n",
       "  <tbody>\n",
       "    <tr>\n",
       "      <th>0</th>\n",
       "      <td>2020-11-13 07:43:41</td>\n",
       "      <td>3.643555</td>\n",
       "      <td>3.883789</td>\n",
       "      <td>4.124023</td>\n",
       "      <td>2.152260</td>\n",
       "      <td>2.154582</td>\n",
       "      <td>2.290735</td>\n",
       "      <td>7.126953</td>\n",
       "      <td>7.527344</td>\n",
       "      <td>7.687500</td>\n",
       "      <td>...</td>\n",
       "      <td>3.553066</td>\n",
       "      <td>3.763136</td>\n",
       "      <td>0.021705</td>\n",
       "      <td>0.023957</td>\n",
       "      <td>0.020911</td>\n",
       "      <td>0.057528</td>\n",
       "      <td>0.057195</td>\n",
       "      <td>0.057517</td>\n",
       "      <td>2.2</td>\n",
       "      <td>0</td>\n",
       "    </tr>\n",
       "    <tr>\n",
       "      <th>1</th>\n",
       "      <td>2020-11-13 07:43:41</td>\n",
       "      <td>3.643555</td>\n",
       "      <td>3.803711</td>\n",
       "      <td>4.164062</td>\n",
       "      <td>2.161249</td>\n",
       "      <td>2.163811</td>\n",
       "      <td>2.301946</td>\n",
       "      <td>7.126953</td>\n",
       "      <td>7.447266</td>\n",
       "      <td>7.727539</td>\n",
       "      <td>...</td>\n",
       "      <td>3.533756</td>\n",
       "      <td>3.747315</td>\n",
       "      <td>0.009876</td>\n",
       "      <td>0.010175</td>\n",
       "      <td>0.010687</td>\n",
       "      <td>0.011616</td>\n",
       "      <td>0.013211</td>\n",
       "      <td>0.010941</td>\n",
       "      <td>2.2</td>\n",
       "      <td>0</td>\n",
       "    </tr>\n",
       "    <tr>\n",
       "      <th>2</th>\n",
       "      <td>2020-11-13 07:43:41</td>\n",
       "      <td>3.683594</td>\n",
       "      <td>3.803711</td>\n",
       "      <td>4.164062</td>\n",
       "      <td>2.152920</td>\n",
       "      <td>2.151939</td>\n",
       "      <td>2.289333</td>\n",
       "      <td>7.166992</td>\n",
       "      <td>7.367188</td>\n",
       "      <td>7.727539</td>\n",
       "      <td>...</td>\n",
       "      <td>3.519853</td>\n",
       "      <td>3.728701</td>\n",
       "      <td>0.017622</td>\n",
       "      <td>0.011568</td>\n",
       "      <td>0.014016</td>\n",
       "      <td>0.012954</td>\n",
       "      <td>0.016530</td>\n",
       "      <td>0.011328</td>\n",
       "      <td>2.2</td>\n",
       "      <td>0</td>\n",
       "    </tr>\n",
       "  </tbody>\n",
       "</table>\n",
       "<p>3 rows × 48 columns</p>\n",
       "</div>"
      ],
      "text/plain": [
       "                  Date  R_AbsMax  S_AbsMax  T_AbsMax  R_AbsMean  S_AbsMean  \\\n",
       "0  2020-11-13 07:43:41  3.643555  3.883789  4.124023   2.152260   2.154582   \n",
       "1  2020-11-13 07:43:41  3.643555  3.803711  4.164062   2.161249   2.163811   \n",
       "2  2020-11-13 07:43:41  3.683594  3.803711  4.164062   2.152920   2.151939   \n",
       "\n",
       "   T_AbsMean     R_P2P     S_P2P     T_P2P  ...      S_2x      T_2x      R_3x  \\\n",
       "0   2.290735  7.126953  7.527344  7.687500  ...  3.553066  3.763136  0.021705   \n",
       "1   2.301946  7.126953  7.447266  7.727539  ...  3.533756  3.747315  0.009876   \n",
       "2   2.289333  7.166992  7.367188  7.727539  ...  3.519853  3.728701  0.017622   \n",
       "\n",
       "       S_3x      T_3x      R_4x      S_4x      T_4x  WATT  LABEL  \n",
       "0  0.023957  0.020911  0.057528  0.057195  0.057517   2.2      0  \n",
       "1  0.010175  0.010687  0.011616  0.013211  0.010941   2.2      0  \n",
       "2  0.011568  0.014016  0.012954  0.016530  0.011328   2.2      0  \n",
       "\n",
       "[3 rows x 48 columns]"
      ]
     },
     "execution_count": 123,
     "metadata": {},
     "output_type": "execute_result"
    }
   ],
   "source": [
    "cur_train_99.head(3)"
   ]
  },
  {
   "cell_type": "markdown",
   "metadata": {},
   "source": [
    "# CUR ____ TR"
   ]
  },
  {
   "cell_type": "code",
   "execution_count": 124,
   "metadata": {},
   "outputs": [
    {
     "name": "stdout",
     "output_type": "stream",
     "text": [
      "38210\n",
      "38210\n"
     ]
    }
   ],
   "source": [
    "print(len(pd_cur_val_origin))\n",
    "print(len(lb_v_1) + len(lb_v_2)+len(lb_v_3) + len(lb_v_4) + len(lb_v_0))"
   ]
  },
  {
   "cell_type": "code",
   "execution_count": 125,
   "metadata": {},
   "outputs": [
    {
     "name": "stdout",
     "output_type": "stream",
     "text": [
      "68\n"
     ]
    }
   ],
   "source": [
    "split_n = int((len(lb_v_0) * 0.01) / 4)\n",
    "print(split_n)"
   ]
  },
  {
   "cell_type": "code",
   "execution_count": 126,
   "metadata": {},
   "outputs": [],
   "source": [
    "lb_v_1 = random.sample(lb_v_1, split_n)\n",
    "lb_v_2 = random.sample(lb_v_2, split_n)\n",
    "lb_v_3 = random.sample(lb_v_3, split_n)\n",
    "lb_v_4 = random.sample(lb_v_4, split_n)"
   ]
  },
  {
   "cell_type": "code",
   "execution_count": 127,
   "metadata": {},
   "outputs": [
    {
     "data": {
      "text/plain": [
       "68"
      ]
     },
     "execution_count": 127,
     "metadata": {},
     "output_type": "execute_result"
    }
   ],
   "source": [
    "len(lb_v_1)"
   ]
  },
  {
   "cell_type": "code",
   "execution_count": 128,
   "metadata": {},
   "outputs": [
    {
     "name": "stdout",
     "output_type": "stream",
     "text": [
      "272.85\n",
      "272\n"
     ]
    }
   ],
   "source": [
    "# 비교해보자 \n",
    "print(len(lb_v_0) * 0.01)\n",
    "print(len(lb_v_1) + len(lb_v_2)+len(lb_v_3) + len(lb_v_4))"
   ]
  },
  {
   "cell_type": "code",
   "execution_count": 129,
   "metadata": {},
   "outputs": [],
   "source": [
    "pd_lb_v_0 = pd.DataFrame(lb_v_0)\n",
    "pd_lb_v_1 = pd.DataFrame(lb_v_1)\n",
    "pd_lb_v_2 = pd.DataFrame(lb_v_2)\n",
    "pd_lb_v_3 = pd.DataFrame(lb_v_3)\n",
    "pd_lb_v_4 = pd.DataFrame(lb_v_4)\n",
    "\n",
    "cur_val_99 = pd.concat([pd_lb_v_0, pd_lb_v_1, pd_lb_v_2, pd_lb_v_3, pd_lb_v_4], axis=0)"
   ]
  },
  {
   "cell_type": "code",
   "execution_count": 130,
   "metadata": {},
   "outputs": [
    {
     "data": {
      "text/html": [
       "<div>\n",
       "<style scoped>\n",
       "    .dataframe tbody tr th:only-of-type {\n",
       "        vertical-align: middle;\n",
       "    }\n",
       "\n",
       "    .dataframe tbody tr th {\n",
       "        vertical-align: top;\n",
       "    }\n",
       "\n",
       "    .dataframe thead th {\n",
       "        text-align: right;\n",
       "    }\n",
       "</style>\n",
       "<table border=\"1\" class=\"dataframe\">\n",
       "  <thead>\n",
       "    <tr style=\"text-align: right;\">\n",
       "      <th></th>\n",
       "      <th>0</th>\n",
       "      <th>1</th>\n",
       "      <th>2</th>\n",
       "      <th>3</th>\n",
       "      <th>4</th>\n",
       "      <th>5</th>\n",
       "      <th>6</th>\n",
       "      <th>7</th>\n",
       "      <th>8</th>\n",
       "      <th>9</th>\n",
       "      <th>...</th>\n",
       "      <th>38</th>\n",
       "      <th>39</th>\n",
       "      <th>40</th>\n",
       "      <th>41</th>\n",
       "      <th>42</th>\n",
       "      <th>43</th>\n",
       "      <th>44</th>\n",
       "      <th>45</th>\n",
       "      <th>46</th>\n",
       "      <th>47</th>\n",
       "    </tr>\n",
       "  </thead>\n",
       "  <tbody>\n",
       "    <tr>\n",
       "      <th>0</th>\n",
       "      <td>2020-11-04 20:12:54</td>\n",
       "      <td>3.793701</td>\n",
       "      <td>3.793701</td>\n",
       "      <td>4.154053</td>\n",
       "      <td>2.205342</td>\n",
       "      <td>2.169747</td>\n",
       "      <td>2.309003</td>\n",
       "      <td>7.327148</td>\n",
       "      <td>7.447266</td>\n",
       "      <td>7.727539</td>\n",
       "      <td>...</td>\n",
       "      <td>3.417413</td>\n",
       "      <td>3.626784</td>\n",
       "      <td>0.011671</td>\n",
       "      <td>0.012673</td>\n",
       "      <td>0.015285</td>\n",
       "      <td>0.014712</td>\n",
       "      <td>0.013995</td>\n",
       "      <td>0.008425</td>\n",
       "      <td>2.2</td>\n",
       "      <td>0</td>\n",
       "    </tr>\n",
       "    <tr>\n",
       "      <th>1</th>\n",
       "      <td>2020-11-04 20:12:54</td>\n",
       "      <td>3.673584</td>\n",
       "      <td>3.793701</td>\n",
       "      <td>4.154053</td>\n",
       "      <td>2.201408</td>\n",
       "      <td>2.165643</td>\n",
       "      <td>2.310865</td>\n",
       "      <td>7.207031</td>\n",
       "      <td>7.367188</td>\n",
       "      <td>7.687500</td>\n",
       "      <td>...</td>\n",
       "      <td>3.443414</td>\n",
       "      <td>3.666574</td>\n",
       "      <td>0.007045</td>\n",
       "      <td>0.007379</td>\n",
       "      <td>0.006799</td>\n",
       "      <td>0.006815</td>\n",
       "      <td>0.015612</td>\n",
       "      <td>0.010616</td>\n",
       "      <td>2.2</td>\n",
       "      <td>0</td>\n",
       "    </tr>\n",
       "    <tr>\n",
       "      <th>2</th>\n",
       "      <td>2020-11-04 20:12:54</td>\n",
       "      <td>3.673584</td>\n",
       "      <td>3.833740</td>\n",
       "      <td>4.154053</td>\n",
       "      <td>2.197003</td>\n",
       "      <td>2.162560</td>\n",
       "      <td>2.308042</td>\n",
       "      <td>7.207031</td>\n",
       "      <td>7.407227</td>\n",
       "      <td>7.727539</td>\n",
       "      <td>...</td>\n",
       "      <td>3.443272</td>\n",
       "      <td>3.664395</td>\n",
       "      <td>0.013236</td>\n",
       "      <td>0.011662</td>\n",
       "      <td>0.011017</td>\n",
       "      <td>0.014893</td>\n",
       "      <td>0.014687</td>\n",
       "      <td>0.008664</td>\n",
       "      <td>2.2</td>\n",
       "      <td>0</td>\n",
       "    </tr>\n",
       "    <tr>\n",
       "      <th>3</th>\n",
       "      <td>2020-11-04 20:13:52</td>\n",
       "      <td>3.803711</td>\n",
       "      <td>3.803711</td>\n",
       "      <td>4.164062</td>\n",
       "      <td>2.205392</td>\n",
       "      <td>2.169797</td>\n",
       "      <td>2.309413</td>\n",
       "      <td>7.327148</td>\n",
       "      <td>7.447266</td>\n",
       "      <td>7.727539</td>\n",
       "      <td>...</td>\n",
       "      <td>3.417413</td>\n",
       "      <td>3.626784</td>\n",
       "      <td>0.011671</td>\n",
       "      <td>0.012673</td>\n",
       "      <td>0.015285</td>\n",
       "      <td>0.014712</td>\n",
       "      <td>0.013995</td>\n",
       "      <td>0.008425</td>\n",
       "      <td>2.2</td>\n",
       "      <td>0</td>\n",
       "    </tr>\n",
       "    <tr>\n",
       "      <th>4</th>\n",
       "      <td>2020-11-04 20:13:52</td>\n",
       "      <td>3.683594</td>\n",
       "      <td>3.803711</td>\n",
       "      <td>4.164062</td>\n",
       "      <td>2.201448</td>\n",
       "      <td>2.165733</td>\n",
       "      <td>2.311195</td>\n",
       "      <td>7.207031</td>\n",
       "      <td>7.367188</td>\n",
       "      <td>7.687500</td>\n",
       "      <td>...</td>\n",
       "      <td>3.443414</td>\n",
       "      <td>3.666574</td>\n",
       "      <td>0.007045</td>\n",
       "      <td>0.007379</td>\n",
       "      <td>0.006799</td>\n",
       "      <td>0.006815</td>\n",
       "      <td>0.015612</td>\n",
       "      <td>0.010616</td>\n",
       "      <td>2.2</td>\n",
       "      <td>0</td>\n",
       "    </tr>\n",
       "    <tr>\n",
       "      <th>...</th>\n",
       "      <td>...</td>\n",
       "      <td>...</td>\n",
       "      <td>...</td>\n",
       "      <td>...</td>\n",
       "      <td>...</td>\n",
       "      <td>...</td>\n",
       "      <td>...</td>\n",
       "      <td>...</td>\n",
       "      <td>...</td>\n",
       "      <td>...</td>\n",
       "      <td>...</td>\n",
       "      <td>...</td>\n",
       "      <td>...</td>\n",
       "      <td>...</td>\n",
       "      <td>...</td>\n",
       "      <td>...</td>\n",
       "      <td>...</td>\n",
       "      <td>...</td>\n",
       "      <td>...</td>\n",
       "      <td>...</td>\n",
       "      <td>...</td>\n",
       "    </tr>\n",
       "    <tr>\n",
       "      <th>63</th>\n",
       "      <td>2021-01-20 12:52:25</td>\n",
       "      <td>4.038940</td>\n",
       "      <td>4.319214</td>\n",
       "      <td>3.878784</td>\n",
       "      <td>2.195942</td>\n",
       "      <td>2.277137</td>\n",
       "      <td>2.138111</td>\n",
       "      <td>7.887695</td>\n",
       "      <td>8.087891</td>\n",
       "      <td>7.367188</td>\n",
       "      <td>...</td>\n",
       "      <td>3.669950</td>\n",
       "      <td>3.428202</td>\n",
       "      <td>0.029198</td>\n",
       "      <td>0.032240</td>\n",
       "      <td>0.034296</td>\n",
       "      <td>0.009194</td>\n",
       "      <td>0.009900</td>\n",
       "      <td>0.009302</td>\n",
       "      <td>2.2</td>\n",
       "      <td>4</td>\n",
       "    </tr>\n",
       "    <tr>\n",
       "      <th>64</th>\n",
       "      <td>2020-11-04 06:19:57</td>\n",
       "      <td>4.154053</td>\n",
       "      <td>4.394287</td>\n",
       "      <td>4.374268</td>\n",
       "      <td>2.380763</td>\n",
       "      <td>2.431192</td>\n",
       "      <td>2.396728</td>\n",
       "      <td>8.288086</td>\n",
       "      <td>8.688477</td>\n",
       "      <td>8.688477</td>\n",
       "      <td>...</td>\n",
       "      <td>3.969910</td>\n",
       "      <td>3.888483</td>\n",
       "      <td>0.017612</td>\n",
       "      <td>0.018606</td>\n",
       "      <td>0.014572</td>\n",
       "      <td>0.015888</td>\n",
       "      <td>0.009842</td>\n",
       "      <td>0.015826</td>\n",
       "      <td>2.2</td>\n",
       "      <td>4</td>\n",
       "    </tr>\n",
       "    <tr>\n",
       "      <th>65</th>\n",
       "      <td>2020-11-06 01:18:18</td>\n",
       "      <td>4.144043</td>\n",
       "      <td>4.384277</td>\n",
       "      <td>4.384277</td>\n",
       "      <td>2.411433</td>\n",
       "      <td>2.457077</td>\n",
       "      <td>2.412434</td>\n",
       "      <td>8.288086</td>\n",
       "      <td>8.728516</td>\n",
       "      <td>8.568359</td>\n",
       "      <td>...</td>\n",
       "      <td>3.880025</td>\n",
       "      <td>3.776680</td>\n",
       "      <td>0.024243</td>\n",
       "      <td>0.023855</td>\n",
       "      <td>0.023777</td>\n",
       "      <td>0.024182</td>\n",
       "      <td>0.021696</td>\n",
       "      <td>0.025457</td>\n",
       "      <td>2.2</td>\n",
       "      <td>4</td>\n",
       "    </tr>\n",
       "    <tr>\n",
       "      <th>66</th>\n",
       "      <td>2021-01-20 17:18:57</td>\n",
       "      <td>4.204102</td>\n",
       "      <td>4.404297</td>\n",
       "      <td>4.164062</td>\n",
       "      <td>2.160868</td>\n",
       "      <td>2.239585</td>\n",
       "      <td>2.120008</td>\n",
       "      <td>8.167969</td>\n",
       "      <td>8.328125</td>\n",
       "      <td>7.967773</td>\n",
       "      <td>...</td>\n",
       "      <td>3.665963</td>\n",
       "      <td>3.455095</td>\n",
       "      <td>0.027946</td>\n",
       "      <td>0.031548</td>\n",
       "      <td>0.029994</td>\n",
       "      <td>0.007724</td>\n",
       "      <td>0.007157</td>\n",
       "      <td>0.006435</td>\n",
       "      <td>2.2</td>\n",
       "      <td>4</td>\n",
       "    </tr>\n",
       "    <tr>\n",
       "      <th>67</th>\n",
       "      <td>2020-11-04 20:13:13</td>\n",
       "      <td>4.124023</td>\n",
       "      <td>4.524414</td>\n",
       "      <td>4.324219</td>\n",
       "      <td>2.458078</td>\n",
       "      <td>2.507787</td>\n",
       "      <td>2.477958</td>\n",
       "      <td>8.167969</td>\n",
       "      <td>8.848633</td>\n",
       "      <td>8.648438</td>\n",
       "      <td>...</td>\n",
       "      <td>3.970521</td>\n",
       "      <td>3.900717</td>\n",
       "      <td>0.014993</td>\n",
       "      <td>0.009248</td>\n",
       "      <td>0.011786</td>\n",
       "      <td>0.039055</td>\n",
       "      <td>0.018480</td>\n",
       "      <td>0.028537</td>\n",
       "      <td>2.2</td>\n",
       "      <td>4</td>\n",
       "    </tr>\n",
       "  </tbody>\n",
       "</table>\n",
       "<p>27557 rows × 48 columns</p>\n",
       "</div>"
      ],
      "text/plain": [
       "                     0         1         2         3         4         5   \\\n",
       "0   2020-11-04 20:12:54  3.793701  3.793701  4.154053  2.205342  2.169747   \n",
       "1   2020-11-04 20:12:54  3.673584  3.793701  4.154053  2.201408  2.165643   \n",
       "2   2020-11-04 20:12:54  3.673584  3.833740  4.154053  2.197003  2.162560   \n",
       "3   2020-11-04 20:13:52  3.803711  3.803711  4.164062  2.205392  2.169797   \n",
       "4   2020-11-04 20:13:52  3.683594  3.803711  4.164062  2.201448  2.165733   \n",
       "..                  ...       ...       ...       ...       ...       ...   \n",
       "63  2021-01-20 12:52:25  4.038940  4.319214  3.878784  2.195942  2.277137   \n",
       "64  2020-11-04 06:19:57  4.154053  4.394287  4.374268  2.380763  2.431192   \n",
       "65  2020-11-06 01:18:18  4.144043  4.384277  4.384277  2.411433  2.457077   \n",
       "66  2021-01-20 17:18:57  4.204102  4.404297  4.164062  2.160868  2.239585   \n",
       "67  2020-11-04 20:13:13  4.124023  4.524414  4.324219  2.458078  2.507787   \n",
       "\n",
       "          6         7         8         9   ...        38        39        40  \\\n",
       "0   2.309003  7.327148  7.447266  7.727539  ...  3.417413  3.626784  0.011671   \n",
       "1   2.310865  7.207031  7.367188  7.687500  ...  3.443414  3.666574  0.007045   \n",
       "2   2.308042  7.207031  7.407227  7.727539  ...  3.443272  3.664395  0.013236   \n",
       "3   2.309413  7.327148  7.447266  7.727539  ...  3.417413  3.626784  0.011671   \n",
       "4   2.311195  7.207031  7.367188  7.687500  ...  3.443414  3.666574  0.007045   \n",
       "..       ...       ...       ...       ...  ...       ...       ...       ...   \n",
       "63  2.138111  7.887695  8.087891  7.367188  ...  3.669950  3.428202  0.029198   \n",
       "64  2.396728  8.288086  8.688477  8.688477  ...  3.969910  3.888483  0.017612   \n",
       "65  2.412434  8.288086  8.728516  8.568359  ...  3.880025  3.776680  0.024243   \n",
       "66  2.120008  8.167969  8.328125  7.967773  ...  3.665963  3.455095  0.027946   \n",
       "67  2.477958  8.167969  8.848633  8.648438  ...  3.970521  3.900717  0.014993   \n",
       "\n",
       "          41        42        43        44        45   46  47  \n",
       "0   0.012673  0.015285  0.014712  0.013995  0.008425  2.2   0  \n",
       "1   0.007379  0.006799  0.006815  0.015612  0.010616  2.2   0  \n",
       "2   0.011662  0.011017  0.014893  0.014687  0.008664  2.2   0  \n",
       "3   0.012673  0.015285  0.014712  0.013995  0.008425  2.2   0  \n",
       "4   0.007379  0.006799  0.006815  0.015612  0.010616  2.2   0  \n",
       "..       ...       ...       ...       ...       ...  ...  ..  \n",
       "63  0.032240  0.034296  0.009194  0.009900  0.009302  2.2   4  \n",
       "64  0.018606  0.014572  0.015888  0.009842  0.015826  2.2   4  \n",
       "65  0.023855  0.023777  0.024182  0.021696  0.025457  2.2   4  \n",
       "66  0.031548  0.029994  0.007724  0.007157  0.006435  2.2   4  \n",
       "67  0.009248  0.011786  0.039055  0.018480  0.028537  2.2   4  \n",
       "\n",
       "[27557 rows x 48 columns]"
      ]
     },
     "execution_count": 130,
     "metadata": {},
     "output_type": "execute_result"
    }
   ],
   "source": [
    "cur_val_99"
   ]
  },
  {
   "cell_type": "code",
   "execution_count": 131,
   "metadata": {},
   "outputs": [],
   "source": [
    "cur_val_99.columns = [\n",
    "        'Date',\n",
    "        'R_AbsMax', 'S_AbsMax', 'T_AbsMax', 'R_AbsMean', 'S_AbsMean','T_AbsMean',\n",
    "        'R_P2P', 'S_P2P', 'T_P2P', 'R_RMS', 'S_RMS', 'T_RMS', \n",
    "        'R_Skewness', 'S_Skewness', 'T_Skewness', 'R_Kurtosis', 'S_Kurtosis', 'T_Kurtosis',\n",
    "        'R_Crest', 'S_Crest', 'T_Crest', 'R_Shape', 'S_Shape', 'T_Shape',\n",
    "        'R_Impulse', 'S_Impulse', 'T_Impulse',\n",
    "        'RS_phase', 'ST_phase', 'TR_phase', 'RS_Level', 'ST_Level', 'TR_Level',\n",
    "        'R_1x', 'S_1x', 'T_1x', 'R_2x', 'S_2x', 'T_2x',\n",
    "        'R_3x', 'S_3x', 'T_3x', 'R_4x', 'S_4x', 'T_4x',\n",
    "        'WATT','LABEL'\n",
    "        ]"
   ]
  },
  {
   "cell_type": "code",
   "execution_count": 132,
   "metadata": {},
   "outputs": [
    {
     "data": {
      "text/html": [
       "<div>\n",
       "<style scoped>\n",
       "    .dataframe tbody tr th:only-of-type {\n",
       "        vertical-align: middle;\n",
       "    }\n",
       "\n",
       "    .dataframe tbody tr th {\n",
       "        vertical-align: top;\n",
       "    }\n",
       "\n",
       "    .dataframe thead th {\n",
       "        text-align: right;\n",
       "    }\n",
       "</style>\n",
       "<table border=\"1\" class=\"dataframe\">\n",
       "  <thead>\n",
       "    <tr style=\"text-align: right;\">\n",
       "      <th></th>\n",
       "      <th>Date</th>\n",
       "      <th>R_AbsMax</th>\n",
       "      <th>S_AbsMax</th>\n",
       "      <th>T_AbsMax</th>\n",
       "      <th>R_AbsMean</th>\n",
       "      <th>S_AbsMean</th>\n",
       "      <th>T_AbsMean</th>\n",
       "      <th>R_P2P</th>\n",
       "      <th>S_P2P</th>\n",
       "      <th>T_P2P</th>\n",
       "      <th>...</th>\n",
       "      <th>S_2x</th>\n",
       "      <th>T_2x</th>\n",
       "      <th>R_3x</th>\n",
       "      <th>S_3x</th>\n",
       "      <th>T_3x</th>\n",
       "      <th>R_4x</th>\n",
       "      <th>S_4x</th>\n",
       "      <th>T_4x</th>\n",
       "      <th>WATT</th>\n",
       "      <th>LABEL</th>\n",
       "    </tr>\n",
       "  </thead>\n",
       "  <tbody>\n",
       "    <tr>\n",
       "      <th>0</th>\n",
       "      <td>2020-11-04 20:12:54</td>\n",
       "      <td>3.793701</td>\n",
       "      <td>3.793701</td>\n",
       "      <td>4.154053</td>\n",
       "      <td>2.205342</td>\n",
       "      <td>2.169747</td>\n",
       "      <td>2.309003</td>\n",
       "      <td>7.327148</td>\n",
       "      <td>7.447266</td>\n",
       "      <td>7.727539</td>\n",
       "      <td>...</td>\n",
       "      <td>3.417413</td>\n",
       "      <td>3.626784</td>\n",
       "      <td>0.011671</td>\n",
       "      <td>0.012673</td>\n",
       "      <td>0.015285</td>\n",
       "      <td>0.014712</td>\n",
       "      <td>0.013995</td>\n",
       "      <td>0.008425</td>\n",
       "      <td>2.2</td>\n",
       "      <td>0</td>\n",
       "    </tr>\n",
       "    <tr>\n",
       "      <th>1</th>\n",
       "      <td>2020-11-04 20:12:54</td>\n",
       "      <td>3.673584</td>\n",
       "      <td>3.793701</td>\n",
       "      <td>4.154053</td>\n",
       "      <td>2.201408</td>\n",
       "      <td>2.165643</td>\n",
       "      <td>2.310865</td>\n",
       "      <td>7.207031</td>\n",
       "      <td>7.367188</td>\n",
       "      <td>7.687500</td>\n",
       "      <td>...</td>\n",
       "      <td>3.443414</td>\n",
       "      <td>3.666574</td>\n",
       "      <td>0.007045</td>\n",
       "      <td>0.007379</td>\n",
       "      <td>0.006799</td>\n",
       "      <td>0.006815</td>\n",
       "      <td>0.015612</td>\n",
       "      <td>0.010616</td>\n",
       "      <td>2.2</td>\n",
       "      <td>0</td>\n",
       "    </tr>\n",
       "    <tr>\n",
       "      <th>2</th>\n",
       "      <td>2020-11-04 20:12:54</td>\n",
       "      <td>3.673584</td>\n",
       "      <td>3.833740</td>\n",
       "      <td>4.154053</td>\n",
       "      <td>2.197003</td>\n",
       "      <td>2.162560</td>\n",
       "      <td>2.308042</td>\n",
       "      <td>7.207031</td>\n",
       "      <td>7.407227</td>\n",
       "      <td>7.727539</td>\n",
       "      <td>...</td>\n",
       "      <td>3.443272</td>\n",
       "      <td>3.664395</td>\n",
       "      <td>0.013236</td>\n",
       "      <td>0.011662</td>\n",
       "      <td>0.011017</td>\n",
       "      <td>0.014893</td>\n",
       "      <td>0.014687</td>\n",
       "      <td>0.008664</td>\n",
       "      <td>2.2</td>\n",
       "      <td>0</td>\n",
       "    </tr>\n",
       "  </tbody>\n",
       "</table>\n",
       "<p>3 rows × 48 columns</p>\n",
       "</div>"
      ],
      "text/plain": [
       "                  Date  R_AbsMax  S_AbsMax  T_AbsMax  R_AbsMean  S_AbsMean  \\\n",
       "0  2020-11-04 20:12:54  3.793701  3.793701  4.154053   2.205342   2.169747   \n",
       "1  2020-11-04 20:12:54  3.673584  3.793701  4.154053   2.201408   2.165643   \n",
       "2  2020-11-04 20:12:54  3.673584  3.833740  4.154053   2.197003   2.162560   \n",
       "\n",
       "   T_AbsMean     R_P2P     S_P2P     T_P2P  ...      S_2x      T_2x      R_3x  \\\n",
       "0   2.309003  7.327148  7.447266  7.727539  ...  3.417413  3.626784  0.011671   \n",
       "1   2.310865  7.207031  7.367188  7.687500  ...  3.443414  3.666574  0.007045   \n",
       "2   2.308042  7.207031  7.407227  7.727539  ...  3.443272  3.664395  0.013236   \n",
       "\n",
       "       S_3x      T_3x      R_4x      S_4x      T_4x  WATT  LABEL  \n",
       "0  0.012673  0.015285  0.014712  0.013995  0.008425   2.2      0  \n",
       "1  0.007379  0.006799  0.006815  0.015612  0.010616   2.2      0  \n",
       "2  0.011662  0.011017  0.014893  0.014687  0.008664   2.2      0  \n",
       "\n",
       "[3 rows x 48 columns]"
      ]
     },
     "execution_count": 132,
     "metadata": {},
     "output_type": "execute_result"
    }
   ],
   "source": [
    "cur_val_99.head(3)"
   ]
  },
  {
   "cell_type": "code",
   "execution_count": 133,
   "metadata": {},
   "outputs": [
    {
     "name": "stdout",
     "output_type": "stream",
     "text": [
      "(220374, 48)\n",
      "(27557, 48)\n"
     ]
    }
   ],
   "source": [
    "print(cur_train_99.shape)\n",
    "print(cur_val_99.shape)"
   ]
  },
  {
   "cell_type": "code",
   "execution_count": 134,
   "metadata": {},
   "outputs": [],
   "source": [
    "pd_cur_tr_99 = cur_train_99.drop(columns = ['Date','WATT','LABEL'])\n",
    "pd_cur_val_99 = cur_val_99.drop(columns = ['Date','WATT','LABEL'])\n",
    "\n",
    "np_cur_tr_99 = pd_cur_tr_99.to_numpy()\n",
    "np_cur_val_99 = pd_cur_val_99.to_numpy()"
   ]
  },
  {
   "cell_type": "code",
   "execution_count": 135,
   "metadata": {},
   "outputs": [],
   "source": [
    "#라벨 추출\n",
    "np_tr_99 = cur_train_99.to_numpy()\n",
    "np_vl_99 = cur_val_99.to_numpy()"
   ]
  },
  {
   "cell_type": "code",
   "execution_count": 136,
   "metadata": {},
   "outputs": [
    {
     "name": "stdout",
     "output_type": "stream",
     "text": [
      "[0 0 0 ... 4 4 4]\n",
      "[0 0 0 ... 4 4 4]\n"
     ]
    }
   ],
   "source": [
    "tr_lb_99 = np_tr_99[:,-1]\n",
    "v_lb_99 = np_vl_99[:, -1]\n",
    "\n",
    "print(cur_tr_lb_99)\n",
    "print(cur_vl_lb_99)"
   ]
  },
  {
   "cell_type": "code",
   "execution_count": 137,
   "metadata": {},
   "outputs": [],
   "source": [
    "x_train_99, x_test_99, y_train_99, y_test_99 = train_test_split(np_tr_99, tr_lb_99, stratify= tr_lb_99, test_size=0.2, random_state=42)"
   ]
  },
  {
   "cell_type": "code",
   "execution_count": 138,
   "metadata": {},
   "outputs": [
    {
     "name": "stdout",
     "output_type": "stream",
     "text": [
      "(176299, 48)\n",
      "(44075, 48)\n",
      "==================================================\n",
      "(176299,)\n",
      "(44075,)\n",
      "==================================================\n",
      "(27557, 45)\n",
      "(27557,)\n"
     ]
    }
   ],
   "source": [
    "print(x_train_99.shape)\n",
    "print(x_test_99.shape)\n",
    "\n",
    "print(\"=\"*50)\n",
    "\n",
    "print(y_train_99.shape)\n",
    "print(y_test_99.shape)\n",
    "\n",
    "print(\"=\"*50)\n",
    "\n",
    "x_valid = np_cur_val_99\n",
    "y_valid = v_lb_99\n",
    "\n",
    "print(x_valid.shape)\n",
    "print(y_valid.shape)"
   ]
  },
  {
   "cell_type": "code",
   "execution_count": 139,
   "metadata": {},
   "outputs": [
    {
     "data": {
      "image/png": "[encoded data removed]",
      "text/plain": [
       "<Figure size 1080x576 with 3 Axes>"
      ]
     },
     "metadata": {
      "needs_background": "light"
     },
     "output_type": "display_data"
    }
   ],
   "source": [
    "x = np.arange(len(classes))  # Plot의 X축의 개수 구하기\n",
    "\n",
    "labels = [\"Normal\", \"AF\", \"BL\", \"SF\", \"BF\"]   # Plot의 X축의 이름 구하기\n",
    "\n",
    "values_train = [(y_train_99 == i).sum() for i in classes]  # Train 데이터의 정상/비정상 각 총 개수\n",
    "values_valid = [(y_valid == i).sum() for i in classes]  # Test 데이터의 정상/비정상 각 총 개수\n",
    "values_test = [(y_test_99 == i).sum() for i in classes]  # Test 데이터의 정상/비정상 각 총 개수\n",
    "\n",
    "plt.figure(figsize=(15,8))  # Plot 틀(Figure)의 Size 설정 (5X3)\n",
    "\n",
    "plt.subplot(1,3,1)   # Plot 틀(Figure) 내 3개의 subplot 중 첫 번째(왼쪽) 지정\n",
    "plt.title(\"Training Data\")  # subplot 제목\n",
    "plt.bar(x, values_train, width=0.6, color=[\"lightcoral\", \"wheat\",\"turquoise\",\"lightblue\",\"plum\"])  # Train 데이터의 정상/비정상 개수 BarPlot\n",
    "plt.ylim([0, 30000])\n",
    "plt.xticks(x, labels)  # X축에 변수 기입\n",
    "\n",
    "plt.subplot(1,3,2)  # Plot 틀(Figure) 내 3개의 subplot 중 두 번째(가운데) 지정\n",
    "plt.title(\"Validation Data\")\n",
    "plt.bar(x, values_valid, width=0.6,color=[\"lightcoral\", \"wheat\",\"turquoise\",\"lightblue\",\"plum\"])  # Test 데이터의 정상/비정상 개수 BarPlot\n",
    "plt.ylim([0, 5000])\n",
    "plt.xticks(x, labels)  \n",
    "\n",
    "plt.subplot(1,3,3)  # Plot 틀(Figure) 내 3개의 subplot 중 세 번째(오른쪽) 지정\n",
    "plt.title(\"Test Data\")\n",
    "plt.bar(x, values_test, width=0.6, color=[\"lightcoral\", \"wheat\",\"turquoise\",\"lightblue\",\"plum\"])  # Test 데이터의 정상/비정상 개수 BarPlot\n",
    "plt.ylim([0, 8000])\n",
    "plt.xticks(x, labels)\n",
    "\n",
    "plt.tight_layout()  # 그림 저장\n",
    "plt.savefig('./imgs/99%_data_status.png', dpi=100, bbox_inches='tight')  # 그림 저장\n",
    "plt.show()  # 그림 출력"
   ]
  },
  {
   "cell_type": "code",
   "execution_count": null,
   "metadata": {},
   "outputs": [],
   "source": []
  }
 ],
 "metadata": {
  "kernelspec": {
   "display_name": "Python 3",
   "language": "python",
   "name": "python3"
  },
  "language_info": {
   "codemirror_mode": {
    "name": "ipython",
    "version": 3
   },
   "file_extension": ".py",
   "mimetype": "text/x-python",
   "name": "python",
   "nbconvert_exporter": "python",
   "pygments_lexer": "ipython3",
   "version": "3.8.5"
  }
 },
 "nbformat": 4,
 "nbformat_minor": 4
}
