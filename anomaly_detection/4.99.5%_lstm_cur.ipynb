{
 "cells": [
  {
   "cell_type": "markdown",
   "metadata": {
    "id": "eLHFgONk7yWh"
   },
   "source": [
    "# Current"
   ]
  },
  {
   "cell_type": "code",
   "execution_count": 6,
   "metadata": {
    "colab": {
     "base_uri": "https://localhost:8080/"
    },
    "executionInfo": {
     "elapsed": 437,
     "status": "ok",
     "timestamp": 1631030075093,
     "user": {
      "displayName": "이서영",
      "photoUrl": "",
      "userId": "08706917529998634867"
     },
     "user_tz": -540
    },
    "id": "v1e5SfSA9tnv",
    "outputId": "0e3a7886-f362-47b9-b76a-9b6d71419fc3"
   },
   "outputs": [
    {
     "name": "stdout",
     "output_type": "stream",
     "text": [
      "Drive already mounted at /content/drive; to attempt to forcibly remount, call drive.mount(\"/content/drive\", force_remount=True).\n"
     ]
    }
   ],
   "source": [
    "# from google.colab import drive\n",
    "# drive.mount('/content/drive')"
   ]
  },
  {
   "cell_type": "code",
   "execution_count": 1,
   "metadata": {
    "executionInfo": {
     "elapsed": 429,
     "status": "ok",
     "timestamp": 1631031690049,
     "user": {
      "displayName": "이서영",
      "photoUrl": "",
      "userId": "08706917529998634867"
     },
     "user_tz": -540
    },
    "id": "jIFuiXWc7yWl"
   },
   "outputs": [],
   "source": [
    "import warnings\n",
    "warnings.filterwarnings('ignore')\n",
    "\n",
    "import numpy as np  \n",
    "import pandas as pd \n",
    "from numpy import ma\n",
    "import pandas as pd\n",
    "import math\n",
    "import matplotlib\n",
    "import matplotlib.pyplot as plt\n",
    "from matplotlib.pyplot import figure\n",
    "from matplotlib import ticker, cm\n",
    "import matplotlib.gridspec as gridspec\n",
    "import matplotlib.colors as colors\n",
    "%matplotlib inline\n",
    "\n",
    "import seaborn as sns\n",
    "\n",
    "from scipy.stats import multivariate_normal\n",
    "from sklearn.metrics import f1_score, confusion_matrix, classification_report, precision_recall_fscore_support\n",
    "from sklearn.preprocessing import StandardScaler\n",
    "from sklearn.model_selection import train_test_split\n",
    "from scipy.stats import multivariate_normal\n",
    "from sklearn import preprocessing\n",
    "from sklearn.preprocessing import MinMaxScaler \n",
    "\n",
    "from keras import layers\n",
    "from keras.models import Sequential\n",
    "from keras.layers import Flatten, Dense\n",
    "from keras.layers import Embedding\n",
    "from keras.utils import np_utils, to_categorical\n",
    "from keras.datasets import imdb\n",
    "\n",
    "\n",
    "#from keras import preprocessing\n",
    "from keras.preprocessing.text import Tokenizer\n",
    "from keras.preprocessing.sequence import pad_sequences\n",
    "from keras import models, regularizers, layers, optimizers, losses, metrics\n",
    "from keras.optimizers import Adam\n",
    "\n",
    "from keras.callbacks import Callback,ModelCheckpoint\n",
    "from keras.models import Sequential,load_model\n",
    "from keras.layers import Dense, Dropout, GlobalAveragePooling1D\n",
    "from keras.wrappers.scikit_learn import KerasClassifier\n",
    "import keras.backend as K\n",
    "\n",
    "\n",
    "\n",
    "import os\n",
    "for dirname, _, filenames in os.walk('/kaggle/input'):\n",
    "    for filename in filenames:\n",
    "        print(os.path.join(dirname, filename))"
   ]
  },
  {
   "cell_type": "code",
   "execution_count": 2,
   "metadata": {
    "executionInfo": {
     "elapsed": 2950,
     "status": "ok",
     "timestamp": 1631031692997,
     "user": {
      "displayName": "이서영",
      "photoUrl": "",
      "userId": "08706917529998634867"
     },
     "user_tz": -540
    },
    "id": "42D8aUtB7yWm"
   },
   "outputs": [],
   "source": [
    "#folder_path = \"/content/drive/MyDrive/Paper/Dataset\"\n",
    "folder_path = \"C:/Users/qhrrl/CodeExamples/3.Paper/anomaly_detection/\"\n",
    "\n",
    "df = pd.read_csv(folder_path + \"TimeSeries.csv\")"
   ]
  },
  {
   "cell_type": "code",
   "execution_count": 3,
   "metadata": {
    "colab": {
     "base_uri": "https://localhost:8080/"
    },
    "executionInfo": {
     "elapsed": 7,
     "status": "ok",
     "timestamp": 1631031692998,
     "user": {
      "displayName": "이서영",
      "photoUrl": "",
      "userId": "08706917529998634867"
     },
     "user_tz": -540
    },
    "id": "HmpSFD107yWn",
    "outputId": "849e10a2-6568-47c4-d8bf-eb33651d5731"
   },
   "outputs": [
    {
     "name": "stdout",
     "output_type": "stream",
     "text": [
      "509632\n",
      "(509632, 11)\n"
     ]
    }
   ],
   "source": [
    "print(len(df))\n",
    "print(df.shape)"
   ]
  },
  {
   "cell_type": "code",
   "execution_count": 4,
   "metadata": {},
   "outputs": [
    {
     "data": {
      "text/html": [
       "<div>\n",
       "<style scoped>\n",
       "    .dataframe tbody tr th:only-of-type {\n",
       "        vertical-align: middle;\n",
       "    }\n",
       "\n",
       "    .dataframe tbody tr th {\n",
       "        vertical-align: top;\n",
       "    }\n",
       "\n",
       "    .dataframe thead th {\n",
       "        text-align: right;\n",
       "    }\n",
       "</style>\n",
       "<table border=\"1\" class=\"dataframe\">\n",
       "  <thead>\n",
       "    <tr style=\"text-align: right;\">\n",
       "      <th></th>\n",
       "      <th>v1</th>\n",
       "      <th>v2</th>\n",
       "      <th>v3</th>\n",
       "      <th>v4</th>\n",
       "      <th>v5</th>\n",
       "      <th>v6</th>\n",
       "      <th>v7</th>\n",
       "      <th>v8</th>\n",
       "      <th>v9</th>\n",
       "      <th>v10</th>\n",
       "      <th>v11</th>\n",
       "    </tr>\n",
       "  </thead>\n",
       "  <tbody>\n",
       "    <tr>\n",
       "      <th>0</th>\n",
       "      <td>-2.00</td>\n",
       "      <td>1.51</td>\n",
       "      <td>10.14</td>\n",
       "      <td>0.0</td>\n",
       "      <td>0.0</td>\n",
       "      <td>0.0</td>\n",
       "      <td>-15.78</td>\n",
       "      <td>-22.31</td>\n",
       "      <td>-11.70</td>\n",
       "      <td>-13.57</td>\n",
       "      <td>92.95</td>\n",
       "    </tr>\n",
       "    <tr>\n",
       "      <th>1</th>\n",
       "      <td>-2.00</td>\n",
       "      <td>1.51</td>\n",
       "      <td>10.13</td>\n",
       "      <td>0.0</td>\n",
       "      <td>0.0</td>\n",
       "      <td>0.0</td>\n",
       "      <td>-16.86</td>\n",
       "      <td>-23.38</td>\n",
       "      <td>-10.31</td>\n",
       "      <td>-13.57</td>\n",
       "      <td>92.95</td>\n",
       "    </tr>\n",
       "    <tr>\n",
       "      <th>2</th>\n",
       "      <td>-2.00</td>\n",
       "      <td>1.51</td>\n",
       "      <td>10.13</td>\n",
       "      <td>0.0</td>\n",
       "      <td>0.0</td>\n",
       "      <td>0.0</td>\n",
       "      <td>-16.86</td>\n",
       "      <td>-23.38</td>\n",
       "      <td>-10.31</td>\n",
       "      <td>-13.57</td>\n",
       "      <td>92.95</td>\n",
       "    </tr>\n",
       "    <tr>\n",
       "      <th>3</th>\n",
       "      <td>-1.99</td>\n",
       "      <td>1.51</td>\n",
       "      <td>10.17</td>\n",
       "      <td>0.0</td>\n",
       "      <td>0.0</td>\n",
       "      <td>0.0</td>\n",
       "      <td>-16.86</td>\n",
       "      <td>-23.38</td>\n",
       "      <td>-10.31</td>\n",
       "      <td>-13.57</td>\n",
       "      <td>92.95</td>\n",
       "    </tr>\n",
       "    <tr>\n",
       "      <th>4</th>\n",
       "      <td>-1.99</td>\n",
       "      <td>1.51</td>\n",
       "      <td>10.17</td>\n",
       "      <td>0.0</td>\n",
       "      <td>0.0</td>\n",
       "      <td>0.0</td>\n",
       "      <td>-16.86</td>\n",
       "      <td>-23.38</td>\n",
       "      <td>-10.31</td>\n",
       "      <td>-13.57</td>\n",
       "      <td>92.95</td>\n",
       "    </tr>\n",
       "    <tr>\n",
       "      <th>...</th>\n",
       "      <td>...</td>\n",
       "      <td>...</td>\n",
       "      <td>...</td>\n",
       "      <td>...</td>\n",
       "      <td>...</td>\n",
       "      <td>...</td>\n",
       "      <td>...</td>\n",
       "      <td>...</td>\n",
       "      <td>...</td>\n",
       "      <td>...</td>\n",
       "      <td>...</td>\n",
       "    </tr>\n",
       "    <tr>\n",
       "      <th>509627</th>\n",
       "      <td>-8.27</td>\n",
       "      <td>-11.98</td>\n",
       "      <td>-9.35</td>\n",
       "      <td>0.0</td>\n",
       "      <td>0.0</td>\n",
       "      <td>0.0</td>\n",
       "      <td>30.00</td>\n",
       "      <td>8.24</td>\n",
       "      <td>13.90</td>\n",
       "      <td>-7.06</td>\n",
       "      <td>-32.33</td>\n",
       "    </tr>\n",
       "    <tr>\n",
       "      <th>509628</th>\n",
       "      <td>-8.27</td>\n",
       "      <td>-12.00</td>\n",
       "      <td>-9.41</td>\n",
       "      <td>0.0</td>\n",
       "      <td>0.0</td>\n",
       "      <td>0.0</td>\n",
       "      <td>30.00</td>\n",
       "      <td>8.24</td>\n",
       "      <td>13.90</td>\n",
       "      <td>-7.07</td>\n",
       "      <td>-32.34</td>\n",
       "    </tr>\n",
       "    <tr>\n",
       "      <th>509629</th>\n",
       "      <td>-8.25</td>\n",
       "      <td>-11.98</td>\n",
       "      <td>-9.40</td>\n",
       "      <td>0.0</td>\n",
       "      <td>0.0</td>\n",
       "      <td>0.0</td>\n",
       "      <td>30.00</td>\n",
       "      <td>8.24</td>\n",
       "      <td>13.90</td>\n",
       "      <td>-7.08</td>\n",
       "      <td>-32.35</td>\n",
       "    </tr>\n",
       "    <tr>\n",
       "      <th>509630</th>\n",
       "      <td>-8.27</td>\n",
       "      <td>-12.00</td>\n",
       "      <td>-9.41</td>\n",
       "      <td>0.0</td>\n",
       "      <td>0.0</td>\n",
       "      <td>0.0</td>\n",
       "      <td>30.00</td>\n",
       "      <td>8.24</td>\n",
       "      <td>13.90</td>\n",
       "      <td>-7.09</td>\n",
       "      <td>-32.36</td>\n",
       "    </tr>\n",
       "    <tr>\n",
       "      <th>509631</th>\n",
       "      <td>-8.25</td>\n",
       "      <td>-11.98</td>\n",
       "      <td>-9.40</td>\n",
       "      <td>0.0</td>\n",
       "      <td>0.0</td>\n",
       "      <td>0.0</td>\n",
       "      <td>30.00</td>\n",
       "      <td>8.24</td>\n",
       "      <td>13.90</td>\n",
       "      <td>-7.10</td>\n",
       "      <td>-32.37</td>\n",
       "    </tr>\n",
       "  </tbody>\n",
       "</table>\n",
       "<p>509632 rows × 11 columns</p>\n",
       "</div>"
      ],
      "text/plain": [
       "          v1     v2     v3   v4   v5   v6     v7     v8     v9    v10    v11\n",
       "0      -2.00   1.51  10.14  0.0  0.0  0.0 -15.78 -22.31 -11.70 -13.57  92.95\n",
       "1      -2.00   1.51  10.13  0.0  0.0  0.0 -16.86 -23.38 -10.31 -13.57  92.95\n",
       "2      -2.00   1.51  10.13  0.0  0.0  0.0 -16.86 -23.38 -10.31 -13.57  92.95\n",
       "3      -1.99   1.51  10.17  0.0  0.0  0.0 -16.86 -23.38 -10.31 -13.57  92.95\n",
       "4      -1.99   1.51  10.17  0.0  0.0  0.0 -16.86 -23.38 -10.31 -13.57  92.95\n",
       "...      ...    ...    ...  ...  ...  ...    ...    ...    ...    ...    ...\n",
       "509627 -8.27 -11.98  -9.35  0.0  0.0  0.0  30.00   8.24  13.90  -7.06 -32.33\n",
       "509628 -8.27 -12.00  -9.41  0.0  0.0  0.0  30.00   8.24  13.90  -7.07 -32.34\n",
       "509629 -8.25 -11.98  -9.40  0.0  0.0  0.0  30.00   8.24  13.90  -7.08 -32.35\n",
       "509630 -8.27 -12.00  -9.41  0.0  0.0  0.0  30.00   8.24  13.90  -7.09 -32.36\n",
       "509631 -8.25 -11.98  -9.40  0.0  0.0  0.0  30.00   8.24  13.90  -7.10 -32.37\n",
       "\n",
       "[509632 rows x 11 columns]"
      ]
     },
     "execution_count": 4,
     "metadata": {},
     "output_type": "execute_result"
    }
   ],
   "source": [
    "df"
   ]
  },
  {
   "cell_type": "code",
   "execution_count": 176,
   "metadata": {
    "executionInfo": {
     "elapsed": 4,
     "status": "ok",
     "timestamp": 1631031692998,
     "user": {
      "displayName": "이서영",
      "photoUrl": "",
      "userId": "08706917529998634867"
     },
     "user_tz": -540
    },
    "id": "hyelfdRJ7yWo"
   },
   "outputs": [],
   "source": [
    "pd_tr_labels = pd_tr.iloc[:, -1]\n",
    "pd_v_labels = pd_v.iloc[:, -1]"
   ]
  },
  {
   "cell_type": "markdown",
   "metadata": {
    "id": "kMawF_xU7yWo"
   },
   "source": [
    "# Extract Labels"
   ]
  },
  {
   "cell_type": "code",
   "execution_count": 177,
   "metadata": {
    "executionInfo": {
     "elapsed": 3,
     "status": "ok",
     "timestamp": 1631031692998,
     "user": {
      "displayName": "이서영",
      "photoUrl": "",
      "userId": "08706917529998634867"
     },
     "user_tz": -540
    },
    "id": "ko5PRM-U7yWp"
   },
   "outputs": [],
   "source": [
    "# pd_tr = pd_tr.drop(columns = ['Date','WATT']) # 여기서 라벨을 떼면 뒤에 데이터를 못 나눈다\n",
    "# pd_v = pd_v.drop(columns = ['Date','WATT'])"
   ]
  },
  {
   "cell_type": "code",
   "execution_count": 178,
   "metadata": {
    "executionInfo": {
     "elapsed": 4,
     "status": "ok",
     "timestamp": 1631031692999,
     "user": {
      "displayName": "이서영",
      "photoUrl": "",
      "userId": "08706917529998634867"
     },
     "user_tz": -540
    },
    "id": "cbAp-1oK7yWp"
   },
   "outputs": [],
   "source": [
    "#여기말고 나누고 쳐내는게 맞겠다.\n",
    "\n",
    "# pd_tr = pd_tr.drop([\"R_Skewness\", \"S_Skewness\", \"T_Skewness\", \"R_Kurtosis\", \"R_Impulse\", \"ST_phase\", \"TR_phase\",\"T_Kurtosis\", \"RS_Level\"],axis=1)\n",
    "# pd_v = pd_v.drop([\"R_Skewness\", \"S_Skewness\", \"T_Skewness\", \"R_Kurtosis\", \"R_Impulse\", \"ST_phase\", \"TR_phase\",\"T_Kurtosis\", \"RS_Level\"],axis=1)"
   ]
  },
  {
   "cell_type": "markdown",
   "metadata": {
    "id": "E-lCckIz7yWr"
   },
   "source": [
    "# 1. Current"
   ]
  },
  {
   "cell_type": "code",
   "execution_count": 179,
   "metadata": {
    "executionInfo": {
     "elapsed": 322,
     "status": "ok",
     "timestamp": 1631031693317,
     "user": {
      "displayName": "이서영",
      "photoUrl": "",
      "userId": "08706917529998634867"
     },
     "user_tz": -540
    },
    "id": "7DVZiUaJ7yWr"
   },
   "outputs": [],
   "source": [
    "from sklearn.model_selection import train_test_split\n",
    "\n",
    "x_train, x_test, y_train, y_test = train_test_split(pd_tr, pd_tr_labels, stratify=pd_tr_labels, test_size=0.2, random_state=42)"
   ]
  },
  {
   "cell_type": "code",
   "execution_count": 180,
   "metadata": {
    "colab": {
     "base_uri": "https://localhost:8080/"
    },
    "executionInfo": {
     "elapsed": 8,
     "status": "ok",
     "timestamp": 1631031693318,
     "user": {
      "displayName": "이서영",
      "photoUrl": "",
      "userId": "08706917529998634867"
     },
     "user_tz": -540
    },
    "id": "TBfRVCLb7yWr",
    "outputId": "d6bc24a6-ac3d-4b99-a0ce-847a4440667f"
   },
   "outputs": [
    {
     "name": "stdout",
     "output_type": "stream",
     "text": [
      "(244427, 48)\n",
      "(61107, 48)\n",
      "==================================================\n",
      "(244427,)\n",
      "(61107,)\n",
      "==================================================\n",
      "(38210, 48)\n",
      "(38210,)\n"
     ]
    }
   ],
   "source": [
    "print(x_train.shape)\n",
    "print(x_test.shape)\n",
    "\n",
    "print(\"=\"*50)\n",
    "\n",
    "print(y_train.shape)\n",
    "print(y_test.shape)\n",
    "\n",
    "print(\"=\"*50)\n",
    "\n",
    "x_valid = pd_v\n",
    "y_valid = pd_v_labels\n",
    "\n",
    "print(x_valid.shape)\n",
    "print(y_valid.shape)"
   ]
  },
  {
   "cell_type": "markdown",
   "metadata": {
    "id": "_wOtQm4Y7yWt"
   },
   "source": [
    "## 1.2 99.5 : 0.5 으로 데이터 숫자 조정"
   ]
  },
  {
   "cell_type": "code",
   "execution_count": 181,
   "metadata": {
    "colab": {
     "base_uri": "https://localhost:8080/"
    },
    "executionInfo": {
     "elapsed": 5,
     "status": "ok",
     "timestamp": 1631031693318,
     "user": {
      "displayName": "이서영",
      "photoUrl": "",
      "userId": "08706917529998634867"
     },
     "user_tz": -540
    },
    "id": "wqHKPRUp7yWt",
    "outputId": "c8171e59-6c5e-4590-a85c-fbeee489d962"
   },
   "outputs": [
    {
     "name": "stdout",
     "output_type": "stream",
     "text": [
      "(305534, 48)\n",
      "(38210, 48)\n"
     ]
    }
   ],
   "source": [
    "print(pd_tr.shape)\n",
    "print(pd_v.shape)"
   ]
  },
  {
   "cell_type": "code",
   "execution_count": 182,
   "metadata": {
    "executionInfo": {
     "elapsed": 3,
     "status": "ok",
     "timestamp": 1631031693318,
     "user": {
      "displayName": "이서영",
      "photoUrl": "",
      "userId": "08706917529998634867"
     },
     "user_tz": -540
    },
    "id": "vHoeqDeR7yWu"
   },
   "outputs": [],
   "source": [
    "lb_t_1 = [] # label_training_1\n",
    "lb_t_2 = []\n",
    "lb_t_3 = []\n",
    "lb_t_4 = []\n",
    "\n",
    "lb_v_1 = []\n",
    "lb_v_2 = []\n",
    "lb_v_3 = []\n",
    "lb_v_4 = []"
   ]
  },
  {
   "cell_type": "code",
   "execution_count": 183,
   "metadata": {
    "executionInfo": {
     "elapsed": 783,
     "status": "ok",
     "timestamp": 1631031694099,
     "user": {
      "displayName": "이서영",
      "photoUrl": "",
      "userId": "08706917529998634867"
     },
     "user_tz": -540
    },
    "id": "JsDt0rSG7yWu"
   },
   "outputs": [],
   "source": [
    "np_tr_99 = pd_tr.to_numpy()\n",
    "np_v_99 = pd_v.to_numpy()"
   ]
  },
  {
   "cell_type": "code",
   "execution_count": 184,
   "metadata": {
    "executionInfo": {
     "elapsed": 2,
     "status": "ok",
     "timestamp": 1631031694099,
     "user": {
      "displayName": "이서영",
      "photoUrl": "",
      "userId": "08706917529998634867"
     },
     "user_tz": -540
    },
    "id": "e-Yq3eBY7yWu"
   },
   "outputs": [],
   "source": [
    "def label_extract(data):\n",
    "    lb_1 = []\n",
    "    lb_2 = []\n",
    "    lb_3 = []\n",
    "    lb_4 = []\n",
    "    lb_0 = []\n",
    "    for i in data:\n",
    "        if i[:][-1] == 1:\n",
    "            lb_1.append(i)\n",
    "        elif i[:][-1] == 2:\n",
    "            lb_2.append(i)\n",
    "        elif i[:][-1] == 3:\n",
    "            lb_3.append(i)\n",
    "        elif i[:][-1] == 4:\n",
    "            lb_4.append(i)\n",
    "        elif i[:][-1] == 0:\n",
    "            lb_0.append(i)\n",
    "    return lb_1, lb_2, lb_3, lb_4, lb_0"
   ]
  },
  {
   "cell_type": "code",
   "execution_count": 185,
   "metadata": {
    "executionInfo": {
     "elapsed": 631,
     "status": "ok",
     "timestamp": 1631031694729,
     "user": {
      "displayName": "이서영",
      "photoUrl": "",
      "userId": "08706917529998634867"
     },
     "user_tz": -540
    },
    "id": "SnuDaDlb7yWu"
   },
   "outputs": [],
   "source": [
    "lb_t_1, lb_t_2, lb_t_3, lb_t_4, lb_t_0 = label_extract(np_tr_99)\n",
    "lb_v_1, lb_v_2, lb_v_3, lb_v_4, lb_v_0 = label_extract(np_v_99)"
   ]
  },
  {
   "cell_type": "code",
   "execution_count": 186,
   "metadata": {
    "colab": {
     "base_uri": "https://localhost:8080/"
    },
    "executionInfo": {
     "elapsed": 14,
     "status": "ok",
     "timestamp": 1631031694729,
     "user": {
      "displayName": "이서영",
      "photoUrl": "",
      "userId": "08706917529998634867"
     },
     "user_tz": -540
    },
    "id": "rD-khm_57yWu",
    "outputId": "ff43f07f-789d-44fa-f598-9039bec266d8"
   },
   "outputs": [
    {
     "name": "stdout",
     "output_type": "stream",
     "text": [
      "True\n",
      "True\n"
     ]
    }
   ],
   "source": [
    "print((len(pd_cur_train_origin)) == (len(lb_t_1) + len(lb_t_2)+len(lb_t_3) + len(lb_t_4) + len(lb_t_0)))\n",
    "print((len(pd_cur_val_origin)) == (len(lb_v_1) + len(lb_v_2)+len(lb_v_3) + len(lb_v_4) + len(lb_v_0)))"
   ]
  },
  {
   "cell_type": "code",
   "execution_count": 187,
   "metadata": {
    "colab": {
     "base_uri": "https://localhost:8080/"
    },
    "executionInfo": {
     "elapsed": 12,
     "status": "ok",
     "timestamp": 1631031694730,
     "user": {
      "displayName": "이서영",
      "photoUrl": "",
      "userId": "08706917529998634867"
     },
     "user_tz": -540
    },
    "id": "TcuP-9wK7yWu",
    "outputId": "1a9e23e0-ede4-469e-af07-b83faf079f58"
   },
   "outputs": [
    {
     "name": "stdout",
     "output_type": "stream",
     "text": [
      "2181.94\n"
     ]
    }
   ],
   "source": [
    "print(len(lb_t_0) * 0.01)"
   ]
  },
  {
   "cell_type": "markdown",
   "metadata": {
    "id": "bUuToqtC7yWv"
   },
   "source": [
    "반올림해서 0.4 제거 후 30553 중에서 4개의 유형으로 쪼개야 하니 "
   ]
  },
  {
   "cell_type": "code",
   "execution_count": 188,
   "metadata": {
    "colab": {
     "base_uri": "https://localhost:8080/"
    },
    "executionInfo": {
     "elapsed": 10,
     "status": "ok",
     "timestamp": 1631031694730,
     "user": {
      "displayName": "이서영",
      "photoUrl": "",
      "userId": "08706917529998634867"
     },
     "user_tz": -540
    },
    "id": "LTvr_UwF7yWv",
    "outputId": "acbf2b49-5124-4511-bf7f-89f903bbdf63"
   },
   "outputs": [
    {
     "name": "stdout",
     "output_type": "stream",
     "text": [
      "545\n"
     ]
    }
   ],
   "source": [
    "split_n = int(len(lb_t_0) * 0.01 / 4)\n",
    "print(split_n)"
   ]
  },
  {
   "cell_type": "markdown",
   "metadata": {
    "id": "0tKJRnDF7yWv"
   },
   "source": [
    "각 데이터 당, 545 개 씩 추출을 해야한다."
   ]
  },
  {
   "cell_type": "code",
   "execution_count": 189,
   "metadata": {
    "executionInfo": {
     "elapsed": 8,
     "status": "ok",
     "timestamp": 1631031694730,
     "user": {
      "displayName": "이서영",
      "photoUrl": "",
      "userId": "08706917529998634867"
     },
     "user_tz": -540
    },
    "id": "yJ9NRhRX7yWv"
   },
   "outputs": [],
   "source": [
    "import random\n",
    "\n",
    "lb_t_1 = random.sample(lb_t_1, split_n)\n",
    "lb_t_2 = random.sample(lb_t_2, split_n)\n",
    "lb_t_3 = random.sample(lb_t_3, split_n)\n",
    "lb_t_4 = random.sample(lb_t_4, split_n)"
   ]
  },
  {
   "cell_type": "code",
   "execution_count": 190,
   "metadata": {
    "colab": {
     "base_uri": "https://localhost:8080/"
    },
    "executionInfo": {
     "elapsed": 9,
     "status": "ok",
     "timestamp": 1631031694731,
     "user": {
      "displayName": "이서영",
      "photoUrl": "",
      "userId": "08706917529998634867"
     },
     "user_tz": -540
    },
    "id": "2H1OrAWT7yWv",
    "outputId": "b8689a2b-f4ca-4c43-f46c-c7a4ddccbcd8"
   },
   "outputs": [
    {
     "name": "stdout",
     "output_type": "stream",
     "text": [
      "545\n"
     ]
    }
   ],
   "source": [
    "print(len(lb_t_1))"
   ]
  },
  {
   "cell_type": "code",
   "execution_count": 191,
   "metadata": {
    "colab": {
     "base_uri": "https://localhost:8080/"
    },
    "executionInfo": {
     "elapsed": 7,
     "status": "ok",
     "timestamp": 1631031694731,
     "user": {
      "displayName": "이서영",
      "photoUrl": "",
      "userId": "08706917529998634867"
     },
     "user_tz": -540
    },
    "id": "WKoLRKA57yWw",
    "outputId": "233bd161-d414-4dd4-f709-05acd97d7681"
   },
   "outputs": [
    {
     "name": "stdout",
     "output_type": "stream",
     "text": [
      "2181.94\n",
      "2180\n"
     ]
    }
   ],
   "source": [
    "# 비교해보자 \n",
    "print(len(lb_t_0) * 0.01)\n",
    "print(len(lb_t_1) + len(lb_t_2)+len(lb_t_3) + len(lb_t_4))"
   ]
  },
  {
   "cell_type": "markdown",
   "metadata": {
    "id": "9x3GpZZz7yWw"
   },
   "source": [
    "다시 붙여주자 "
   ]
  },
  {
   "cell_type": "code",
   "execution_count": 192,
   "metadata": {
    "executionInfo": {
     "elapsed": 2282,
     "status": "ok",
     "timestamp": 1631031697009,
     "user": {
      "displayName": "이서영",
      "photoUrl": "",
      "userId": "08706917529998634867"
     },
     "user_tz": -540
    },
    "id": "3XXVUjhX7yWw"
   },
   "outputs": [],
   "source": [
    "pd_lb_t_0 = pd.DataFrame(lb_t_0)\n",
    "pd_lb_t_1 = pd.DataFrame(lb_t_1)\n",
    "pd_lb_t_2 = pd.DataFrame(lb_t_2)\n",
    "pd_lb_t_3 = pd.DataFrame(lb_t_3)\n",
    "pd_lb_t_4 = pd.DataFrame(lb_t_4)\n",
    "\n",
    "cur_train_99 = pd.concat([pd_lb_t_0, pd_lb_t_1, pd_lb_t_2, pd_lb_t_3, pd_lb_t_4], axis=0)"
   ]
  },
  {
   "cell_type": "code",
   "execution_count": 193,
   "metadata": {
    "colab": {
     "base_uri": "https://localhost:8080/",
     "height": 779
    },
    "executionInfo": {
     "elapsed": 11,
     "status": "ok",
     "timestamp": 1631031697009,
     "user": {
      "displayName": "이서영",
      "photoUrl": "",
      "userId": "08706917529998634867"
     },
     "user_tz": -540
    },
    "id": "D-Wuh2227yWw",
    "outputId": "237dca5a-629b-4856-883a-7a7f6bce510e"
   },
   "outputs": [
    {
     "data": {
      "text/html": [
       "<div>\n",
       "<style scoped>\n",
       "    .dataframe tbody tr th:only-of-type {\n",
       "        vertical-align: middle;\n",
       "    }\n",
       "\n",
       "    .dataframe tbody tr th {\n",
       "        vertical-align: top;\n",
       "    }\n",
       "\n",
       "    .dataframe thead th {\n",
       "        text-align: right;\n",
       "    }\n",
       "</style>\n",
       "<table border=\"1\" class=\"dataframe\">\n",
       "  <thead>\n",
       "    <tr style=\"text-align: right;\">\n",
       "      <th></th>\n",
       "      <th>0</th>\n",
       "      <th>1</th>\n",
       "      <th>2</th>\n",
       "      <th>3</th>\n",
       "      <th>4</th>\n",
       "      <th>5</th>\n",
       "      <th>6</th>\n",
       "      <th>7</th>\n",
       "      <th>8</th>\n",
       "      <th>9</th>\n",
       "      <th>10</th>\n",
       "      <th>11</th>\n",
       "      <th>12</th>\n",
       "      <th>13</th>\n",
       "      <th>14</th>\n",
       "      <th>15</th>\n",
       "      <th>16</th>\n",
       "      <th>17</th>\n",
       "      <th>18</th>\n",
       "      <th>19</th>\n",
       "      <th>20</th>\n",
       "      <th>21</th>\n",
       "      <th>22</th>\n",
       "      <th>23</th>\n",
       "      <th>24</th>\n",
       "      <th>25</th>\n",
       "      <th>26</th>\n",
       "      <th>27</th>\n",
       "      <th>28</th>\n",
       "      <th>29</th>\n",
       "      <th>30</th>\n",
       "      <th>31</th>\n",
       "      <th>32</th>\n",
       "      <th>33</th>\n",
       "      <th>34</th>\n",
       "      <th>35</th>\n",
       "      <th>36</th>\n",
       "      <th>37</th>\n",
       "      <th>38</th>\n",
       "      <th>39</th>\n",
       "      <th>40</th>\n",
       "      <th>41</th>\n",
       "      <th>42</th>\n",
       "      <th>43</th>\n",
       "      <th>44</th>\n",
       "      <th>45</th>\n",
       "      <th>46</th>\n",
       "      <th>47</th>\n",
       "    </tr>\n",
       "  </thead>\n",
       "  <tbody>\n",
       "    <tr>\n",
       "      <th>0</th>\n",
       "      <td>2020-11-13 07:43:41</td>\n",
       "      <td>3.643555</td>\n",
       "      <td>3.883789</td>\n",
       "      <td>4.124023</td>\n",
       "      <td>2.152260</td>\n",
       "      <td>2.154582</td>\n",
       "      <td>2.290735</td>\n",
       "      <td>7.126953</td>\n",
       "      <td>7.527344</td>\n",
       "      <td>7.687500</td>\n",
       "      <td>2.393055</td>\n",
       "      <td>2.405278</td>\n",
       "      <td>2.559434</td>\n",
       "      <td>0.003421</td>\n",
       "      <td>0.002011</td>\n",
       "      <td>-0.002092</td>\n",
       "      <td>1.491381</td>\n",
       "      <td>1.539047</td>\n",
       "      <td>1.517514</td>\n",
       "      <td>2.978182</td>\n",
       "      <td>3.129510</td>\n",
       "      <td>3.003594</td>\n",
       "      <td>1.111880</td>\n",
       "      <td>1.116355</td>\n",
       "      <td>1.117298</td>\n",
       "      <td>1.692897</td>\n",
       "      <td>1.802572</td>\n",
       "      <td>1.800306</td>\n",
       "      <td>-3.141593</td>\n",
       "      <td>3.141593</td>\n",
       "      <td>-3.141593</td>\n",
       "      <td>-0.181417</td>\n",
       "      <td>2.754963</td>\n",
       "      <td>-2.573546</td>\n",
       "      <td>0.002448</td>\n",
       "      <td>0.004323</td>\n",
       "      <td>0.003780</td>\n",
       "      <td>3.536451</td>\n",
       "      <td>3.553066</td>\n",
       "      <td>3.763136</td>\n",
       "      <td>0.021705</td>\n",
       "      <td>0.023957</td>\n",
       "      <td>0.020911</td>\n",
       "      <td>0.057528</td>\n",
       "      <td>0.057195</td>\n",
       "      <td>0.057517</td>\n",
       "      <td>2.2</td>\n",
       "      <td>0</td>\n",
       "    </tr>\n",
       "    <tr>\n",
       "      <th>1</th>\n",
       "      <td>2020-11-13 07:43:41</td>\n",
       "      <td>3.643555</td>\n",
       "      <td>3.803711</td>\n",
       "      <td>4.164062</td>\n",
       "      <td>2.161249</td>\n",
       "      <td>2.163811</td>\n",
       "      <td>2.301946</td>\n",
       "      <td>7.126953</td>\n",
       "      <td>7.447266</td>\n",
       "      <td>7.727539</td>\n",
       "      <td>2.405001</td>\n",
       "      <td>2.415769</td>\n",
       "      <td>2.573205</td>\n",
       "      <td>0.000052</td>\n",
       "      <td>0.008745</td>\n",
       "      <td>-0.003142</td>\n",
       "      <td>1.491265</td>\n",
       "      <td>1.538511</td>\n",
       "      <td>1.518381</td>\n",
       "      <td>2.963389</td>\n",
       "      <td>3.082773</td>\n",
       "      <td>3.003080</td>\n",
       "      <td>1.112783</td>\n",
       "      <td>1.116442</td>\n",
       "      <td>1.117839</td>\n",
       "      <td>1.685856</td>\n",
       "      <td>1.757876</td>\n",
       "      <td>1.808932</td>\n",
       "      <td>-3.141593</td>\n",
       "      <td>-3.141593</td>\n",
       "      <td>-3.141593</td>\n",
       "      <td>-0.181857</td>\n",
       "      <td>2.755303</td>\n",
       "      <td>-2.573446</td>\n",
       "      <td>0.007313</td>\n",
       "      <td>0.011833</td>\n",
       "      <td>0.012369</td>\n",
       "      <td>3.521399</td>\n",
       "      <td>3.533756</td>\n",
       "      <td>3.747315</td>\n",
       "      <td>0.009876</td>\n",
       "      <td>0.010175</td>\n",
       "      <td>0.010687</td>\n",
       "      <td>0.011616</td>\n",
       "      <td>0.013211</td>\n",
       "      <td>0.010941</td>\n",
       "      <td>2.2</td>\n",
       "      <td>0</td>\n",
       "    </tr>\n",
       "    <tr>\n",
       "      <th>2</th>\n",
       "      <td>2020-11-13 07:43:41</td>\n",
       "      <td>3.683594</td>\n",
       "      <td>3.803711</td>\n",
       "      <td>4.164062</td>\n",
       "      <td>2.152920</td>\n",
       "      <td>2.151939</td>\n",
       "      <td>2.289333</td>\n",
       "      <td>7.166992</td>\n",
       "      <td>7.367188</td>\n",
       "      <td>7.727539</td>\n",
       "      <td>2.394561</td>\n",
       "      <td>2.401572</td>\n",
       "      <td>2.559190</td>\n",
       "      <td>0.004258</td>\n",
       "      <td>0.002918</td>\n",
       "      <td>-0.004127</td>\n",
       "      <td>1.491505</td>\n",
       "      <td>1.537529</td>\n",
       "      <td>1.517569</td>\n",
       "      <td>2.993029</td>\n",
       "      <td>3.067652</td>\n",
       "      <td>3.019525</td>\n",
       "      <td>1.112239</td>\n",
       "      <td>1.116004</td>\n",
       "      <td>1.117876</td>\n",
       "      <td>1.710975</td>\n",
       "      <td>1.767573</td>\n",
       "      <td>1.818897</td>\n",
       "      <td>-3.141593</td>\n",
       "      <td>-3.141593</td>\n",
       "      <td>3.141593</td>\n",
       "      <td>-0.103641</td>\n",
       "      <td>2.676847</td>\n",
       "      <td>-2.573206</td>\n",
       "      <td>0.010866</td>\n",
       "      <td>0.016296</td>\n",
       "      <td>0.012448</td>\n",
       "      <td>3.506221</td>\n",
       "      <td>3.519853</td>\n",
       "      <td>3.728701</td>\n",
       "      <td>0.017622</td>\n",
       "      <td>0.011568</td>\n",
       "      <td>0.014016</td>\n",
       "      <td>0.012954</td>\n",
       "      <td>0.016530</td>\n",
       "      <td>0.011328</td>\n",
       "      <td>2.2</td>\n",
       "      <td>0</td>\n",
       "    </tr>\n",
       "    <tr>\n",
       "      <th>3</th>\n",
       "      <td>2020-11-13 07:44:42</td>\n",
       "      <td>3.553467</td>\n",
       "      <td>3.753662</td>\n",
       "      <td>3.993896</td>\n",
       "      <td>2.134172</td>\n",
       "      <td>2.111470</td>\n",
       "      <td>2.258483</td>\n",
       "      <td>6.966797</td>\n",
       "      <td>7.247070</td>\n",
       "      <td>7.487305</td>\n",
       "      <td>2.371624</td>\n",
       "      <td>2.353266</td>\n",
       "      <td>2.520865</td>\n",
       "      <td>-0.000152</td>\n",
       "      <td>0.001546</td>\n",
       "      <td>0.000843</td>\n",
       "      <td>1.490338</td>\n",
       "      <td>1.533833</td>\n",
       "      <td>1.517199</td>\n",
       "      <td>2.937564</td>\n",
       "      <td>3.079579</td>\n",
       "      <td>2.970133</td>\n",
       "      <td>1.111262</td>\n",
       "      <td>1.114516</td>\n",
       "      <td>1.116176</td>\n",
       "      <td>1.665033</td>\n",
       "      <td>1.777748</td>\n",
       "      <td>1.768398</td>\n",
       "      <td>-3.141593</td>\n",
       "      <td>3.141593</td>\n",
       "      <td>-3.141593</td>\n",
       "      <td>-0.099437</td>\n",
       "      <td>2.592504</td>\n",
       "      <td>-2.493067</td>\n",
       "      <td>0.008985</td>\n",
       "      <td>0.014649</td>\n",
       "      <td>0.011038</td>\n",
       "      <td>3.385902</td>\n",
       "      <td>3.359254</td>\n",
       "      <td>3.581625</td>\n",
       "      <td>0.011735</td>\n",
       "      <td>0.008646</td>\n",
       "      <td>0.012069</td>\n",
       "      <td>0.008928</td>\n",
       "      <td>0.008072</td>\n",
       "      <td>0.006405</td>\n",
       "      <td>2.2</td>\n",
       "      <td>0</td>\n",
       "    </tr>\n",
       "    <tr>\n",
       "      <th>4</th>\n",
       "      <td>2020-11-13 07:44:42</td>\n",
       "      <td>3.593506</td>\n",
       "      <td>3.713623</td>\n",
       "      <td>4.073975</td>\n",
       "      <td>2.137425</td>\n",
       "      <td>2.114743</td>\n",
       "      <td>2.260646</td>\n",
       "      <td>7.006836</td>\n",
       "      <td>7.247070</td>\n",
       "      <td>7.607422</td>\n",
       "      <td>2.374335</td>\n",
       "      <td>2.356919</td>\n",
       "      <td>2.524138</td>\n",
       "      <td>0.001741</td>\n",
       "      <td>0.006429</td>\n",
       "      <td>-0.004894</td>\n",
       "      <td>1.489275</td>\n",
       "      <td>1.535224</td>\n",
       "      <td>1.518454</td>\n",
       "      <td>2.951073</td>\n",
       "      <td>3.074806</td>\n",
       "      <td>3.013869</td>\n",
       "      <td>1.110839</td>\n",
       "      <td>1.114518</td>\n",
       "      <td>1.116556</td>\n",
       "      <td>1.681231</td>\n",
       "      <td>1.756063</td>\n",
       "      <td>1.802129</td>\n",
       "      <td>-3.141593</td>\n",
       "      <td>3.141593</td>\n",
       "      <td>3.141593</td>\n",
       "      <td>-0.141278</td>\n",
       "      <td>2.634706</td>\n",
       "      <td>-2.493428</td>\n",
       "      <td>0.007743</td>\n",
       "      <td>0.009151</td>\n",
       "      <td>0.007339</td>\n",
       "      <td>3.380960</td>\n",
       "      <td>3.354816</td>\n",
       "      <td>3.573826</td>\n",
       "      <td>0.007737</td>\n",
       "      <td>0.006841</td>\n",
       "      <td>0.007718</td>\n",
       "      <td>0.011826</td>\n",
       "      <td>0.016674</td>\n",
       "      <td>0.015070</td>\n",
       "      <td>2.2</td>\n",
       "      <td>0</td>\n",
       "    </tr>\n",
       "    <tr>\n",
       "      <th>...</th>\n",
       "      <td>...</td>\n",
       "      <td>...</td>\n",
       "      <td>...</td>\n",
       "      <td>...</td>\n",
       "      <td>...</td>\n",
       "      <td>...</td>\n",
       "      <td>...</td>\n",
       "      <td>...</td>\n",
       "      <td>...</td>\n",
       "      <td>...</td>\n",
       "      <td>...</td>\n",
       "      <td>...</td>\n",
       "      <td>...</td>\n",
       "      <td>...</td>\n",
       "      <td>...</td>\n",
       "      <td>...</td>\n",
       "      <td>...</td>\n",
       "      <td>...</td>\n",
       "      <td>...</td>\n",
       "      <td>...</td>\n",
       "      <td>...</td>\n",
       "      <td>...</td>\n",
       "      <td>...</td>\n",
       "      <td>...</td>\n",
       "      <td>...</td>\n",
       "      <td>...</td>\n",
       "      <td>...</td>\n",
       "      <td>...</td>\n",
       "      <td>...</td>\n",
       "      <td>...</td>\n",
       "      <td>...</td>\n",
       "      <td>...</td>\n",
       "      <td>...</td>\n",
       "      <td>...</td>\n",
       "      <td>...</td>\n",
       "      <td>...</td>\n",
       "      <td>...</td>\n",
       "      <td>...</td>\n",
       "      <td>...</td>\n",
       "      <td>...</td>\n",
       "      <td>...</td>\n",
       "      <td>...</td>\n",
       "      <td>...</td>\n",
       "      <td>...</td>\n",
       "      <td>...</td>\n",
       "      <td>...</td>\n",
       "      <td>...</td>\n",
       "      <td>...</td>\n",
       "    </tr>\n",
       "    <tr>\n",
       "      <th>540</th>\n",
       "      <td>2021-02-01 09:20:28</td>\n",
       "      <td>3.923828</td>\n",
       "      <td>4.244141</td>\n",
       "      <td>3.883789</td>\n",
       "      <td>2.162550</td>\n",
       "      <td>2.260365</td>\n",
       "      <td>2.130198</td>\n",
       "      <td>7.647461</td>\n",
       "      <td>8.087891</td>\n",
       "      <td>7.327148</td>\n",
       "      <td>2.422519</td>\n",
       "      <td>2.535833</td>\n",
       "      <td>2.380814</td>\n",
       "      <td>-0.001043</td>\n",
       "      <td>-0.002810</td>\n",
       "      <td>0.003008</td>\n",
       "      <td>1.536194</td>\n",
       "      <td>1.535273</td>\n",
       "      <td>1.504256</td>\n",
       "      <td>3.156821</td>\n",
       "      <td>3.189442</td>\n",
       "      <td>3.077581</td>\n",
       "      <td>1.120214</td>\n",
       "      <td>1.121868</td>\n",
       "      <td>1.117649</td>\n",
       "      <td>1.814445</td>\n",
       "      <td>1.877635</td>\n",
       "      <td>1.823205</td>\n",
       "      <td>-3.141593</td>\n",
       "      <td>-3.141593</td>\n",
       "      <td>3.141593</td>\n",
       "      <td>-0.246521</td>\n",
       "      <td>3.055416</td>\n",
       "      <td>-2.808896</td>\n",
       "      <td>0.038284</td>\n",
       "      <td>0.028145</td>\n",
       "      <td>0.029937</td>\n",
       "      <td>3.475584</td>\n",
       "      <td>3.630410</td>\n",
       "      <td>3.402753</td>\n",
       "      <td>0.032822</td>\n",
       "      <td>0.039416</td>\n",
       "      <td>0.039435</td>\n",
       "      <td>0.008274</td>\n",
       "      <td>0.011170</td>\n",
       "      <td>0.012242</td>\n",
       "      <td>2.2</td>\n",
       "      <td>4</td>\n",
       "    </tr>\n",
       "    <tr>\n",
       "      <th>541</th>\n",
       "      <td>2020-11-27 09:44:40</td>\n",
       "      <td>4.114014</td>\n",
       "      <td>4.254150</td>\n",
       "      <td>4.354248</td>\n",
       "      <td>2.317741</td>\n",
       "      <td>2.345058</td>\n",
       "      <td>2.368120</td>\n",
       "      <td>8.208008</td>\n",
       "      <td>8.488281</td>\n",
       "      <td>8.608398</td>\n",
       "      <td>2.565389</td>\n",
       "      <td>2.615674</td>\n",
       "      <td>2.623164</td>\n",
       "      <td>-0.007842</td>\n",
       "      <td>-0.005381</td>\n",
       "      <td>0.004690</td>\n",
       "      <td>1.497498</td>\n",
       "      <td>1.546772</td>\n",
       "      <td>1.520381</td>\n",
       "      <td>3.199518</td>\n",
       "      <td>3.245160</td>\n",
       "      <td>3.281685</td>\n",
       "      <td>1.106849</td>\n",
       "      <td>1.115398</td>\n",
       "      <td>1.107699</td>\n",
       "      <td>1.775010</td>\n",
       "      <td>1.814092</td>\n",
       "      <td>1.838694</td>\n",
       "      <td>3.141593</td>\n",
       "      <td>-3.141593</td>\n",
       "      <td>-3.141593</td>\n",
       "      <td>-0.141238</td>\n",
       "      <td>3.236673</td>\n",
       "      <td>-3.095435</td>\n",
       "      <td>0.011463</td>\n",
       "      <td>0.010226</td>\n",
       "      <td>0.013758</td>\n",
       "      <td>3.775129</td>\n",
       "      <td>3.853328</td>\n",
       "      <td>3.854609</td>\n",
       "      <td>0.019651</td>\n",
       "      <td>0.018864</td>\n",
       "      <td>0.022646</td>\n",
       "      <td>0.026355</td>\n",
       "      <td>0.026668</td>\n",
       "      <td>0.026112</td>\n",
       "      <td>2.2</td>\n",
       "      <td>4</td>\n",
       "    </tr>\n",
       "    <tr>\n",
       "      <th>542</th>\n",
       "      <td>2020-11-23 04:18:05</td>\n",
       "      <td>4.033936</td>\n",
       "      <td>4.254150</td>\n",
       "      <td>4.154053</td>\n",
       "      <td>2.383315</td>\n",
       "      <td>2.445105</td>\n",
       "      <td>2.385898</td>\n",
       "      <td>8.007812</td>\n",
       "      <td>8.448242</td>\n",
       "      <td>8.167969</td>\n",
       "      <td>2.628925</td>\n",
       "      <td>2.727283</td>\n",
       "      <td>2.632066</td>\n",
       "      <td>-0.011192</td>\n",
       "      <td>-0.003106</td>\n",
       "      <td>0.004881</td>\n",
       "      <td>1.472531</td>\n",
       "      <td>1.544534</td>\n",
       "      <td>1.494731</td>\n",
       "      <td>3.046040</td>\n",
       "      <td>3.097677</td>\n",
       "      <td>3.103254</td>\n",
       "      <td>1.103054</td>\n",
       "      <td>1.115405</td>\n",
       "      <td>1.103176</td>\n",
       "      <td>1.692573</td>\n",
       "      <td>1.739864</td>\n",
       "      <td>1.741086</td>\n",
       "      <td>3.141593</td>\n",
       "      <td>3.141593</td>\n",
       "      <td>3.141593</td>\n",
       "      <td>-0.259433</td>\n",
       "      <td>3.233330</td>\n",
       "      <td>-2.973896</td>\n",
       "      <td>0.029913</td>\n",
       "      <td>0.023804</td>\n",
       "      <td>0.020584</td>\n",
       "      <td>3.870362</td>\n",
       "      <td>4.018053</td>\n",
       "      <td>3.869448</td>\n",
       "      <td>0.025109</td>\n",
       "      <td>0.032075</td>\n",
       "      <td>0.027805</td>\n",
       "      <td>0.025609</td>\n",
       "      <td>0.026685</td>\n",
       "      <td>0.020238</td>\n",
       "      <td>2.2</td>\n",
       "      <td>4</td>\n",
       "    </tr>\n",
       "    <tr>\n",
       "      <th>543</th>\n",
       "      <td>2021-01-30 12:01:40</td>\n",
       "      <td>3.923828</td>\n",
       "      <td>4.244141</td>\n",
       "      <td>4.083984</td>\n",
       "      <td>2.167375</td>\n",
       "      <td>2.278363</td>\n",
       "      <td>2.166874</td>\n",
       "      <td>7.647461</td>\n",
       "      <td>8.087891</td>\n",
       "      <td>7.647461</td>\n",
       "      <td>2.425845</td>\n",
       "      <td>2.552607</td>\n",
       "      <td>2.418923</td>\n",
       "      <td>0.002977</td>\n",
       "      <td>-0.002778</td>\n",
       "      <td>0.001644</td>\n",
       "      <td>1.537733</td>\n",
       "      <td>1.534741</td>\n",
       "      <td>1.505591</td>\n",
       "      <td>3.152493</td>\n",
       "      <td>3.168482</td>\n",
       "      <td>3.161515</td>\n",
       "      <td>1.119255</td>\n",
       "      <td>1.120369</td>\n",
       "      <td>1.116319</td>\n",
       "      <td>1.810406</td>\n",
       "      <td>1.862803</td>\n",
       "      <td>1.884735</td>\n",
       "      <td>-3.141593</td>\n",
       "      <td>-3.141593</td>\n",
       "      <td>-3.141593</td>\n",
       "      <td>-0.256570</td>\n",
       "      <td>3.059320</td>\n",
       "      <td>-2.802750</td>\n",
       "      <td>0.034190</td>\n",
       "      <td>0.040475</td>\n",
       "      <td>0.036055</td>\n",
       "      <td>3.492479</td>\n",
       "      <td>3.669023</td>\n",
       "      <td>3.470031</td>\n",
       "      <td>0.040631</td>\n",
       "      <td>0.041969</td>\n",
       "      <td>0.039443</td>\n",
       "      <td>0.012215</td>\n",
       "      <td>0.006580</td>\n",
       "      <td>0.012493</td>\n",
       "      <td>2.2</td>\n",
       "      <td>4</td>\n",
       "    </tr>\n",
       "    <tr>\n",
       "      <th>544</th>\n",
       "      <td>2021-01-29 08:47:40</td>\n",
       "      <td>3.883789</td>\n",
       "      <td>4.124023</td>\n",
       "      <td>3.843750</td>\n",
       "      <td>2.193360</td>\n",
       "      <td>2.272217</td>\n",
       "      <td>2.160348</td>\n",
       "      <td>7.607422</td>\n",
       "      <td>7.807617</td>\n",
       "      <td>7.166992</td>\n",
       "      <td>2.455623</td>\n",
       "      <td>2.541935</td>\n",
       "      <td>2.409007</td>\n",
       "      <td>0.002934</td>\n",
       "      <td>-0.004008</td>\n",
       "      <td>0.000186</td>\n",
       "      <td>1.525591</td>\n",
       "      <td>1.511776</td>\n",
       "      <td>1.481804</td>\n",
       "      <td>3.097960</td>\n",
       "      <td>3.071525</td>\n",
       "      <td>2.975082</td>\n",
       "      <td>1.119572</td>\n",
       "      <td>1.118703</td>\n",
       "      <td>1.115101</td>\n",
       "      <td>1.770703</td>\n",
       "      <td>1.814978</td>\n",
       "      <td>1.779228</td>\n",
       "      <td>-3.141593</td>\n",
       "      <td>3.141593</td>\n",
       "      <td>3.141593</td>\n",
       "      <td>-0.098716</td>\n",
       "      <td>2.900465</td>\n",
       "      <td>-2.801749</td>\n",
       "      <td>0.020397</td>\n",
       "      <td>0.026774</td>\n",
       "      <td>0.024462</td>\n",
       "      <td>3.485111</td>\n",
       "      <td>3.593394</td>\n",
       "      <td>3.400696</td>\n",
       "      <td>0.027705</td>\n",
       "      <td>0.029127</td>\n",
       "      <td>0.029089</td>\n",
       "      <td>0.008164</td>\n",
       "      <td>0.010184</td>\n",
       "      <td>0.014944</td>\n",
       "      <td>2.2</td>\n",
       "      <td>4</td>\n",
       "    </tr>\n",
       "  </tbody>\n",
       "</table>\n",
       "<p>220374 rows × 48 columns</p>\n",
       "</div>"
      ],
      "text/plain": [
       "                      0         1         2   ...        45   46  47\n",
       "0    2020-11-13 07:43:41  3.643555  3.883789  ...  0.057517  2.2   0\n",
       "1    2020-11-13 07:43:41  3.643555  3.803711  ...  0.010941  2.2   0\n",
       "2    2020-11-13 07:43:41  3.683594  3.803711  ...  0.011328  2.2   0\n",
       "3    2020-11-13 07:44:42  3.553467  3.753662  ...  0.006405  2.2   0\n",
       "4    2020-11-13 07:44:42  3.593506  3.713623  ...  0.015070  2.2   0\n",
       "..                   ...       ...       ...  ...       ...  ...  ..\n",
       "540  2021-02-01 09:20:28  3.923828  4.244141  ...  0.012242  2.2   4\n",
       "541  2020-11-27 09:44:40  4.114014  4.254150  ...  0.026112  2.2   4\n",
       "542  2020-11-23 04:18:05  4.033936  4.254150  ...  0.020238  2.2   4\n",
       "543  2021-01-30 12:01:40  3.923828  4.244141  ...  0.012493  2.2   4\n",
       "544  2021-01-29 08:47:40  3.883789  4.124023  ...  0.014944  2.2   4\n",
       "\n",
       "[220374 rows x 48 columns]"
      ]
     },
     "execution_count": 193,
     "metadata": {},
     "output_type": "execute_result"
    }
   ],
   "source": [
    "cur_train_99"
   ]
  },
  {
   "cell_type": "code",
   "execution_count": 194,
   "metadata": {
    "executionInfo": {
     "elapsed": 10,
     "status": "ok",
     "timestamp": 1631031697010,
     "user": {
      "displayName": "이서영",
      "photoUrl": "",
      "userId": "08706917529998634867"
     },
     "user_tz": -540
    },
    "id": "1J1MeLJt7yWx"
   },
   "outputs": [],
   "source": [
    "cur_train_99.columns = [\n",
    "        'Date',\n",
    "        'R_AbsMax', 'S_AbsMax', 'T_AbsMax', 'R_AbsMean', 'S_AbsMean','T_AbsMean',\n",
    "        'R_P2P', 'S_P2P', 'T_P2P', 'R_RMS', 'S_RMS', 'T_RMS', \n",
    "        'R_Skewness', 'S_Skewness', 'T_Skewness', 'R_Kurtosis', 'S_Kurtosis', 'T_Kurtosis',\n",
    "        'R_Crest', 'S_Crest', 'T_Crest', 'R_Shape', 'S_Shape', 'T_Shape',\n",
    "        'R_Impulse', 'S_Impulse', 'T_Impulse',\n",
    "        'RS_phase', 'ST_phase', 'TR_phase', 'RS_Level', 'ST_Level', 'TR_Level',\n",
    "        'R_1x', 'S_1x', 'T_1x', 'R_2x', 'S_2x', 'T_2x',\n",
    "        'R_3x', 'S_3x', 'T_3x', 'R_4x', 'S_4x', 'T_4x',\n",
    "        'WATT','LABEL'\n",
    "        ]"
   ]
  },
  {
   "cell_type": "code",
   "execution_count": 195,
   "metadata": {
    "colab": {
     "base_uri": "https://localhost:8080/",
     "height": 264
    },
    "executionInfo": {
     "elapsed": 10,
     "status": "ok",
     "timestamp": 1631031697010,
     "user": {
      "displayName": "이서영",
      "photoUrl": "",
      "userId": "08706917529998634867"
     },
     "user_tz": -540
    },
    "id": "3hc5HIY37yWx",
    "outputId": "bb71cd0f-eb67-4408-95aa-4e4243f63be2"
   },
   "outputs": [
    {
     "data": {
      "text/html": [
       "<div>\n",
       "<style scoped>\n",
       "    .dataframe tbody tr th:only-of-type {\n",
       "        vertical-align: middle;\n",
       "    }\n",
       "\n",
       "    .dataframe tbody tr th {\n",
       "        vertical-align: top;\n",
       "    }\n",
       "\n",
       "    .dataframe thead th {\n",
       "        text-align: right;\n",
       "    }\n",
       "</style>\n",
       "<table border=\"1\" class=\"dataframe\">\n",
       "  <thead>\n",
       "    <tr style=\"text-align: right;\">\n",
       "      <th></th>\n",
       "      <th>Date</th>\n",
       "      <th>R_AbsMax</th>\n",
       "      <th>S_AbsMax</th>\n",
       "      <th>T_AbsMax</th>\n",
       "      <th>R_AbsMean</th>\n",
       "      <th>S_AbsMean</th>\n",
       "      <th>T_AbsMean</th>\n",
       "      <th>R_P2P</th>\n",
       "      <th>S_P2P</th>\n",
       "      <th>T_P2P</th>\n",
       "      <th>R_RMS</th>\n",
       "      <th>S_RMS</th>\n",
       "      <th>T_RMS</th>\n",
       "      <th>R_Skewness</th>\n",
       "      <th>S_Skewness</th>\n",
       "      <th>T_Skewness</th>\n",
       "      <th>R_Kurtosis</th>\n",
       "      <th>S_Kurtosis</th>\n",
       "      <th>T_Kurtosis</th>\n",
       "      <th>R_Crest</th>\n",
       "      <th>S_Crest</th>\n",
       "      <th>T_Crest</th>\n",
       "      <th>R_Shape</th>\n",
       "      <th>S_Shape</th>\n",
       "      <th>T_Shape</th>\n",
       "      <th>R_Impulse</th>\n",
       "      <th>S_Impulse</th>\n",
       "      <th>T_Impulse</th>\n",
       "      <th>RS_phase</th>\n",
       "      <th>ST_phase</th>\n",
       "      <th>TR_phase</th>\n",
       "      <th>RS_Level</th>\n",
       "      <th>ST_Level</th>\n",
       "      <th>TR_Level</th>\n",
       "      <th>R_1x</th>\n",
       "      <th>S_1x</th>\n",
       "      <th>T_1x</th>\n",
       "      <th>R_2x</th>\n",
       "      <th>S_2x</th>\n",
       "      <th>T_2x</th>\n",
       "      <th>R_3x</th>\n",
       "      <th>S_3x</th>\n",
       "      <th>T_3x</th>\n",
       "      <th>R_4x</th>\n",
       "      <th>S_4x</th>\n",
       "      <th>T_4x</th>\n",
       "      <th>WATT</th>\n",
       "      <th>LABEL</th>\n",
       "    </tr>\n",
       "  </thead>\n",
       "  <tbody>\n",
       "    <tr>\n",
       "      <th>0</th>\n",
       "      <td>2020-11-13 07:43:41</td>\n",
       "      <td>3.643555</td>\n",
       "      <td>3.883789</td>\n",
       "      <td>4.124023</td>\n",
       "      <td>2.152260</td>\n",
       "      <td>2.154582</td>\n",
       "      <td>2.290735</td>\n",
       "      <td>7.126953</td>\n",
       "      <td>7.527344</td>\n",
       "      <td>7.687500</td>\n",
       "      <td>2.393055</td>\n",
       "      <td>2.405278</td>\n",
       "      <td>2.559434</td>\n",
       "      <td>0.003421</td>\n",
       "      <td>0.002011</td>\n",
       "      <td>-0.002092</td>\n",
       "      <td>1.491381</td>\n",
       "      <td>1.539047</td>\n",
       "      <td>1.517514</td>\n",
       "      <td>2.978182</td>\n",
       "      <td>3.129510</td>\n",
       "      <td>3.003594</td>\n",
       "      <td>1.111880</td>\n",
       "      <td>1.116355</td>\n",
       "      <td>1.117298</td>\n",
       "      <td>1.692897</td>\n",
       "      <td>1.802572</td>\n",
       "      <td>1.800306</td>\n",
       "      <td>-3.141593</td>\n",
       "      <td>3.141593</td>\n",
       "      <td>-3.141593</td>\n",
       "      <td>-0.181417</td>\n",
       "      <td>2.754963</td>\n",
       "      <td>-2.573546</td>\n",
       "      <td>0.002448</td>\n",
       "      <td>0.004323</td>\n",
       "      <td>0.003780</td>\n",
       "      <td>3.536451</td>\n",
       "      <td>3.553066</td>\n",
       "      <td>3.763136</td>\n",
       "      <td>0.021705</td>\n",
       "      <td>0.023957</td>\n",
       "      <td>0.020911</td>\n",
       "      <td>0.057528</td>\n",
       "      <td>0.057195</td>\n",
       "      <td>0.057517</td>\n",
       "      <td>2.2</td>\n",
       "      <td>0</td>\n",
       "    </tr>\n",
       "    <tr>\n",
       "      <th>1</th>\n",
       "      <td>2020-11-13 07:43:41</td>\n",
       "      <td>3.643555</td>\n",
       "      <td>3.803711</td>\n",
       "      <td>4.164062</td>\n",
       "      <td>2.161249</td>\n",
       "      <td>2.163811</td>\n",
       "      <td>2.301946</td>\n",
       "      <td>7.126953</td>\n",
       "      <td>7.447266</td>\n",
       "      <td>7.727539</td>\n",
       "      <td>2.405001</td>\n",
       "      <td>2.415769</td>\n",
       "      <td>2.573205</td>\n",
       "      <td>0.000052</td>\n",
       "      <td>0.008745</td>\n",
       "      <td>-0.003142</td>\n",
       "      <td>1.491265</td>\n",
       "      <td>1.538511</td>\n",
       "      <td>1.518381</td>\n",
       "      <td>2.963389</td>\n",
       "      <td>3.082773</td>\n",
       "      <td>3.003080</td>\n",
       "      <td>1.112783</td>\n",
       "      <td>1.116442</td>\n",
       "      <td>1.117839</td>\n",
       "      <td>1.685856</td>\n",
       "      <td>1.757876</td>\n",
       "      <td>1.808932</td>\n",
       "      <td>-3.141593</td>\n",
       "      <td>-3.141593</td>\n",
       "      <td>-3.141593</td>\n",
       "      <td>-0.181857</td>\n",
       "      <td>2.755303</td>\n",
       "      <td>-2.573446</td>\n",
       "      <td>0.007313</td>\n",
       "      <td>0.011833</td>\n",
       "      <td>0.012369</td>\n",
       "      <td>3.521399</td>\n",
       "      <td>3.533756</td>\n",
       "      <td>3.747315</td>\n",
       "      <td>0.009876</td>\n",
       "      <td>0.010175</td>\n",
       "      <td>0.010687</td>\n",
       "      <td>0.011616</td>\n",
       "      <td>0.013211</td>\n",
       "      <td>0.010941</td>\n",
       "      <td>2.2</td>\n",
       "      <td>0</td>\n",
       "    </tr>\n",
       "    <tr>\n",
       "      <th>2</th>\n",
       "      <td>2020-11-13 07:43:41</td>\n",
       "      <td>3.683594</td>\n",
       "      <td>3.803711</td>\n",
       "      <td>4.164062</td>\n",
       "      <td>2.152920</td>\n",
       "      <td>2.151939</td>\n",
       "      <td>2.289333</td>\n",
       "      <td>7.166992</td>\n",
       "      <td>7.367188</td>\n",
       "      <td>7.727539</td>\n",
       "      <td>2.394561</td>\n",
       "      <td>2.401572</td>\n",
       "      <td>2.559190</td>\n",
       "      <td>0.004258</td>\n",
       "      <td>0.002918</td>\n",
       "      <td>-0.004127</td>\n",
       "      <td>1.491505</td>\n",
       "      <td>1.537529</td>\n",
       "      <td>1.517569</td>\n",
       "      <td>2.993029</td>\n",
       "      <td>3.067652</td>\n",
       "      <td>3.019525</td>\n",
       "      <td>1.112239</td>\n",
       "      <td>1.116004</td>\n",
       "      <td>1.117876</td>\n",
       "      <td>1.710975</td>\n",
       "      <td>1.767573</td>\n",
       "      <td>1.818897</td>\n",
       "      <td>-3.141593</td>\n",
       "      <td>-3.141593</td>\n",
       "      <td>3.141593</td>\n",
       "      <td>-0.103641</td>\n",
       "      <td>2.676847</td>\n",
       "      <td>-2.573206</td>\n",
       "      <td>0.010866</td>\n",
       "      <td>0.016296</td>\n",
       "      <td>0.012448</td>\n",
       "      <td>3.506221</td>\n",
       "      <td>3.519853</td>\n",
       "      <td>3.728701</td>\n",
       "      <td>0.017622</td>\n",
       "      <td>0.011568</td>\n",
       "      <td>0.014016</td>\n",
       "      <td>0.012954</td>\n",
       "      <td>0.016530</td>\n",
       "      <td>0.011328</td>\n",
       "      <td>2.2</td>\n",
       "      <td>0</td>\n",
       "    </tr>\n",
       "  </tbody>\n",
       "</table>\n",
       "</div>"
      ],
      "text/plain": [
       "                  Date  R_AbsMax  S_AbsMax  ...      T_4x  WATT  LABEL\n",
       "0  2020-11-13 07:43:41  3.643555  3.883789  ...  0.057517   2.2      0\n",
       "1  2020-11-13 07:43:41  3.643555  3.803711  ...  0.010941   2.2      0\n",
       "2  2020-11-13 07:43:41  3.683594  3.803711  ...  0.011328   2.2      0\n",
       "\n",
       "[3 rows x 48 columns]"
      ]
     },
     "execution_count": 195,
     "metadata": {},
     "output_type": "execute_result"
    }
   ],
   "source": [
    "cur_train_99.head(3)"
   ]
  },
  {
   "cell_type": "markdown",
   "metadata": {
    "id": "kC8WDPO37yWx"
   },
   "source": [
    "# CUR ____ TR"
   ]
  },
  {
   "cell_type": "code",
   "execution_count": 196,
   "metadata": {
    "colab": {
     "base_uri": "https://localhost:8080/"
    },
    "executionInfo": {
     "elapsed": 461,
     "status": "ok",
     "timestamp": 1631031697462,
     "user": {
      "displayName": "이서영",
      "photoUrl": "",
      "userId": "08706917529998634867"
     },
     "user_tz": -540
    },
    "id": "GtS7tZZt7yWx",
    "outputId": "5d3684d3-36a8-425a-bc16-e56ac18df49d"
   },
   "outputs": [
    {
     "name": "stdout",
     "output_type": "stream",
     "text": [
      "38210\n",
      "38210\n"
     ]
    }
   ],
   "source": [
    "print(len(pd_cur_val_origin))\n",
    "print(len(lb_v_1) + len(lb_v_2)+len(lb_v_3) + len(lb_v_4) + len(lb_v_0))"
   ]
  },
  {
   "cell_type": "code",
   "execution_count": 197,
   "metadata": {
    "colab": {
     "base_uri": "https://localhost:8080/"
    },
    "executionInfo": {
     "elapsed": 10,
     "status": "ok",
     "timestamp": 1631031697463,
     "user": {
      "displayName": "이서영",
      "photoUrl": "",
      "userId": "08706917529998634867"
     },
     "user_tz": -540
    },
    "id": "nEypDmXe7yWx",
    "outputId": "eed929c0-f036-44a5-d69a-9c8ee2cca66e"
   },
   "outputs": [
    {
     "name": "stdout",
     "output_type": "stream",
     "text": [
      "68\n"
     ]
    }
   ],
   "source": [
    "split_n = int((len(lb_v_0) * 0.01) / 4)\n",
    "print(split_n)"
   ]
  },
  {
   "cell_type": "code",
   "execution_count": 198,
   "metadata": {
    "executionInfo": {
     "elapsed": 8,
     "status": "ok",
     "timestamp": 1631031697463,
     "user": {
      "displayName": "이서영",
      "photoUrl": "",
      "userId": "08706917529998634867"
     },
     "user_tz": -540
    },
    "id": "h6d4FAGg7yWx"
   },
   "outputs": [],
   "source": [
    "lb_v_1 = random.sample(lb_v_1, split_n)\n",
    "lb_v_2 = random.sample(lb_v_2, split_n)\n",
    "lb_v_3 = random.sample(lb_v_3, split_n)\n",
    "lb_v_4 = random.sample(lb_v_4, split_n)"
   ]
  },
  {
   "cell_type": "code",
   "execution_count": 199,
   "metadata": {
    "colab": {
     "base_uri": "https://localhost:8080/"
    },
    "executionInfo": {
     "elapsed": 7,
     "status": "ok",
     "timestamp": 1631031697463,
     "user": {
      "displayName": "이서영",
      "photoUrl": "",
      "userId": "08706917529998634867"
     },
     "user_tz": -540
    },
    "id": "4DzPvpC_7yWy",
    "outputId": "a865430b-3ea9-46b4-b5e5-646411a29ca6"
   },
   "outputs": [
    {
     "data": {
      "text/plain": [
       "68"
      ]
     },
     "execution_count": 199,
     "metadata": {},
     "output_type": "execute_result"
    }
   ],
   "source": [
    "len(lb_v_1)"
   ]
  },
  {
   "cell_type": "code",
   "execution_count": 200,
   "metadata": {
    "colab": {
     "base_uri": "https://localhost:8080/"
    },
    "executionInfo": {
     "elapsed": 6,
     "status": "ok",
     "timestamp": 1631031697464,
     "user": {
      "displayName": "이서영",
      "photoUrl": "",
      "userId": "08706917529998634867"
     },
     "user_tz": -540
    },
    "id": "599wkGWM7yWy",
    "outputId": "61e3fa11-dcd9-42dd-dcbb-b7ab528a16c7"
   },
   "outputs": [
    {
     "name": "stdout",
     "output_type": "stream",
     "text": [
      "272.85\n",
      "272\n"
     ]
    }
   ],
   "source": [
    "# 비교해보자 \n",
    "print(len(lb_v_0) * 0.01)\n",
    "print(len(lb_v_1) + len(lb_v_2)+len(lb_v_3) + len(lb_v_4))"
   ]
  },
  {
   "cell_type": "code",
   "execution_count": 201,
   "metadata": {
    "executionInfo": {
     "elapsed": 4,
     "status": "ok",
     "timestamp": 1631031697464,
     "user": {
      "displayName": "이서영",
      "photoUrl": "",
      "userId": "08706917529998634867"
     },
     "user_tz": -540
    },
    "id": "s7KHsDQ77yWy"
   },
   "outputs": [],
   "source": [
    "pd_lb_v_0 = pd.DataFrame(lb_v_0)\n",
    "pd_lb_v_1 = pd.DataFrame(lb_v_1)\n",
    "pd_lb_v_2 = pd.DataFrame(lb_v_2)\n",
    "pd_lb_v_3 = pd.DataFrame(lb_v_3)\n",
    "pd_lb_v_4 = pd.DataFrame(lb_v_4)\n",
    "\n",
    "cur_val_99 = pd.concat([pd_lb_v_0, pd_lb_v_1, pd_lb_v_2, pd_lb_v_3, pd_lb_v_4], axis=0)"
   ]
  },
  {
   "cell_type": "code",
   "execution_count": 202,
   "metadata": {
    "colab": {
     "base_uri": "https://localhost:8080/",
     "height": 779
    },
    "executionInfo": {
     "elapsed": 5,
     "status": "ok",
     "timestamp": 1631031697840,
     "user": {
      "displayName": "이서영",
      "photoUrl": "",
      "userId": "08706917529998634867"
     },
     "user_tz": -540
    },
    "id": "dIAt0K_97yWy",
    "outputId": "3e45b57e-63bd-473d-f26e-c21178003034"
   },
   "outputs": [
    {
     "data": {
      "text/html": [
       "<div>\n",
       "<style scoped>\n",
       "    .dataframe tbody tr th:only-of-type {\n",
       "        vertical-align: middle;\n",
       "    }\n",
       "\n",
       "    .dataframe tbody tr th {\n",
       "        vertical-align: top;\n",
       "    }\n",
       "\n",
       "    .dataframe thead th {\n",
       "        text-align: right;\n",
       "    }\n",
       "</style>\n",
       "<table border=\"1\" class=\"dataframe\">\n",
       "  <thead>\n",
       "    <tr style=\"text-align: right;\">\n",
       "      <th></th>\n",
       "      <th>0</th>\n",
       "      <th>1</th>\n",
       "      <th>2</th>\n",
       "      <th>3</th>\n",
       "      <th>4</th>\n",
       "      <th>5</th>\n",
       "      <th>6</th>\n",
       "      <th>7</th>\n",
       "      <th>8</th>\n",
       "      <th>9</th>\n",
       "      <th>10</th>\n",
       "      <th>11</th>\n",
       "      <th>12</th>\n",
       "      <th>13</th>\n",
       "      <th>14</th>\n",
       "      <th>15</th>\n",
       "      <th>16</th>\n",
       "      <th>17</th>\n",
       "      <th>18</th>\n",
       "      <th>19</th>\n",
       "      <th>20</th>\n",
       "      <th>21</th>\n",
       "      <th>22</th>\n",
       "      <th>23</th>\n",
       "      <th>24</th>\n",
       "      <th>25</th>\n",
       "      <th>26</th>\n",
       "      <th>27</th>\n",
       "      <th>28</th>\n",
       "      <th>29</th>\n",
       "      <th>30</th>\n",
       "      <th>31</th>\n",
       "      <th>32</th>\n",
       "      <th>33</th>\n",
       "      <th>34</th>\n",
       "      <th>35</th>\n",
       "      <th>36</th>\n",
       "      <th>37</th>\n",
       "      <th>38</th>\n",
       "      <th>39</th>\n",
       "      <th>40</th>\n",
       "      <th>41</th>\n",
       "      <th>42</th>\n",
       "      <th>43</th>\n",
       "      <th>44</th>\n",
       "      <th>45</th>\n",
       "      <th>46</th>\n",
       "      <th>47</th>\n",
       "    </tr>\n",
       "  </thead>\n",
       "  <tbody>\n",
       "    <tr>\n",
       "      <th>0</th>\n",
       "      <td>2020-11-04 20:12:54</td>\n",
       "      <td>3.793701</td>\n",
       "      <td>3.793701</td>\n",
       "      <td>4.154053</td>\n",
       "      <td>2.205342</td>\n",
       "      <td>2.169747</td>\n",
       "      <td>2.309003</td>\n",
       "      <td>7.327148</td>\n",
       "      <td>7.447266</td>\n",
       "      <td>7.727539</td>\n",
       "      <td>2.452880</td>\n",
       "      <td>2.421350</td>\n",
       "      <td>2.580566</td>\n",
       "      <td>0.004550</td>\n",
       "      <td>-0.000971</td>\n",
       "      <td>0.001870</td>\n",
       "      <td>1.490127</td>\n",
       "      <td>1.533284</td>\n",
       "      <td>1.518926</td>\n",
       "      <td>2.987162</td>\n",
       "      <td>3.075667</td>\n",
       "      <td>2.994513</td>\n",
       "      <td>1.112245</td>\n",
       "      <td>1.115959</td>\n",
       "      <td>1.117611</td>\n",
       "      <td>1.720233</td>\n",
       "      <td>1.748453</td>\n",
       "      <td>1.799068</td>\n",
       "      <td>-3.141593</td>\n",
       "      <td>3.141593</td>\n",
       "      <td>3.141593</td>\n",
       "      <td>-0.141378</td>\n",
       "      <td>2.756204</td>\n",
       "      <td>-2.614826</td>\n",
       "      <td>0.008610</td>\n",
       "      <td>0.006704</td>\n",
       "      <td>0.005422</td>\n",
       "      <td>3.463338</td>\n",
       "      <td>3.417413</td>\n",
       "      <td>3.626784</td>\n",
       "      <td>0.011671</td>\n",
       "      <td>0.012673</td>\n",
       "      <td>0.015285</td>\n",
       "      <td>0.014712</td>\n",
       "      <td>0.013995</td>\n",
       "      <td>0.008425</td>\n",
       "      <td>2.2</td>\n",
       "      <td>0</td>\n",
       "    </tr>\n",
       "    <tr>\n",
       "      <th>1</th>\n",
       "      <td>2020-11-04 20:12:54</td>\n",
       "      <td>3.673584</td>\n",
       "      <td>3.793701</td>\n",
       "      <td>4.154053</td>\n",
       "      <td>2.201408</td>\n",
       "      <td>2.165643</td>\n",
       "      <td>2.310865</td>\n",
       "      <td>7.207031</td>\n",
       "      <td>7.367188</td>\n",
       "      <td>7.687500</td>\n",
       "      <td>2.448460</td>\n",
       "      <td>2.416888</td>\n",
       "      <td>2.583111</td>\n",
       "      <td>0.001769</td>\n",
       "      <td>0.004248</td>\n",
       "      <td>-0.000203</td>\n",
       "      <td>1.488829</td>\n",
       "      <td>1.533670</td>\n",
       "      <td>1.519016</td>\n",
       "      <td>2.943496</td>\n",
       "      <td>3.048213</td>\n",
       "      <td>2.976062</td>\n",
       "      <td>1.112225</td>\n",
       "      <td>1.116014</td>\n",
       "      <td>1.117812</td>\n",
       "      <td>1.668743</td>\n",
       "      <td>1.751767</td>\n",
       "      <td>1.797618</td>\n",
       "      <td>-3.141593</td>\n",
       "      <td>3.141593</td>\n",
       "      <td>3.141593</td>\n",
       "      <td>-0.060539</td>\n",
       "      <td>2.675265</td>\n",
       "      <td>-2.614726</td>\n",
       "      <td>0.007360</td>\n",
       "      <td>0.006500</td>\n",
       "      <td>0.007636</td>\n",
       "      <td>3.490693</td>\n",
       "      <td>3.443414</td>\n",
       "      <td>3.666574</td>\n",
       "      <td>0.007045</td>\n",
       "      <td>0.007379</td>\n",
       "      <td>0.006799</td>\n",
       "      <td>0.006815</td>\n",
       "      <td>0.015612</td>\n",
       "      <td>0.010616</td>\n",
       "      <td>2.2</td>\n",
       "      <td>0</td>\n",
       "    </tr>\n",
       "    <tr>\n",
       "      <th>2</th>\n",
       "      <td>2020-11-04 20:12:54</td>\n",
       "      <td>3.673584</td>\n",
       "      <td>3.833740</td>\n",
       "      <td>4.154053</td>\n",
       "      <td>2.197003</td>\n",
       "      <td>2.162560</td>\n",
       "      <td>2.308042</td>\n",
       "      <td>7.207031</td>\n",
       "      <td>7.407227</td>\n",
       "      <td>7.727539</td>\n",
       "      <td>2.442441</td>\n",
       "      <td>2.413953</td>\n",
       "      <td>2.580329</td>\n",
       "      <td>0.005779</td>\n",
       "      <td>-0.001246</td>\n",
       "      <td>-0.000570</td>\n",
       "      <td>1.487704</td>\n",
       "      <td>1.533323</td>\n",
       "      <td>1.518998</td>\n",
       "      <td>2.950749</td>\n",
       "      <td>3.068504</td>\n",
       "      <td>2.994789</td>\n",
       "      <td>1.111715</td>\n",
       "      <td>1.116248</td>\n",
       "      <td>1.117973</td>\n",
       "      <td>1.672088</td>\n",
       "      <td>1.772779</td>\n",
       "      <td>1.799817</td>\n",
       "      <td>-3.141593</td>\n",
       "      <td>3.141593</td>\n",
       "      <td>-3.141593</td>\n",
       "      <td>-0.056795</td>\n",
       "      <td>2.673964</td>\n",
       "      <td>-2.617168</td>\n",
       "      <td>0.006502</td>\n",
       "      <td>0.005655</td>\n",
       "      <td>0.004288</td>\n",
       "      <td>3.484169</td>\n",
       "      <td>3.443272</td>\n",
       "      <td>3.664395</td>\n",
       "      <td>0.013236</td>\n",
       "      <td>0.011662</td>\n",
       "      <td>0.011017</td>\n",
       "      <td>0.014893</td>\n",
       "      <td>0.014687</td>\n",
       "      <td>0.008664</td>\n",
       "      <td>2.2</td>\n",
       "      <td>0</td>\n",
       "    </tr>\n",
       "    <tr>\n",
       "      <th>3</th>\n",
       "      <td>2020-11-04 20:13:52</td>\n",
       "      <td>3.803711</td>\n",
       "      <td>3.803711</td>\n",
       "      <td>4.164062</td>\n",
       "      <td>2.205392</td>\n",
       "      <td>2.169797</td>\n",
       "      <td>2.309413</td>\n",
       "      <td>7.327148</td>\n",
       "      <td>7.447266</td>\n",
       "      <td>7.727539</td>\n",
       "      <td>2.453230</td>\n",
       "      <td>2.421792</td>\n",
       "      <td>2.581679</td>\n",
       "      <td>0.004550</td>\n",
       "      <td>-0.000971</td>\n",
       "      <td>0.001870</td>\n",
       "      <td>1.490127</td>\n",
       "      <td>1.533284</td>\n",
       "      <td>1.518926</td>\n",
       "      <td>2.986735</td>\n",
       "      <td>3.075105</td>\n",
       "      <td>2.993222</td>\n",
       "      <td>1.112379</td>\n",
       "      <td>1.116138</td>\n",
       "      <td>1.117894</td>\n",
       "      <td>1.724733</td>\n",
       "      <td>1.753026</td>\n",
       "      <td>1.803083</td>\n",
       "      <td>-3.141593</td>\n",
       "      <td>3.141593</td>\n",
       "      <td>3.141593</td>\n",
       "      <td>-0.141378</td>\n",
       "      <td>2.756204</td>\n",
       "      <td>-2.614826</td>\n",
       "      <td>0.008610</td>\n",
       "      <td>0.006704</td>\n",
       "      <td>0.005422</td>\n",
       "      <td>3.463338</td>\n",
       "      <td>3.417413</td>\n",
       "      <td>3.626784</td>\n",
       "      <td>0.011671</td>\n",
       "      <td>0.012673</td>\n",
       "      <td>0.015285</td>\n",
       "      <td>0.014712</td>\n",
       "      <td>0.013995</td>\n",
       "      <td>0.008425</td>\n",
       "      <td>2.2</td>\n",
       "      <td>0</td>\n",
       "    </tr>\n",
       "    <tr>\n",
       "      <th>4</th>\n",
       "      <td>2020-11-04 20:13:52</td>\n",
       "      <td>3.683594</td>\n",
       "      <td>3.803711</td>\n",
       "      <td>4.164062</td>\n",
       "      <td>2.201448</td>\n",
       "      <td>2.165733</td>\n",
       "      <td>2.311195</td>\n",
       "      <td>7.207031</td>\n",
       "      <td>7.367188</td>\n",
       "      <td>7.687500</td>\n",
       "      <td>2.448811</td>\n",
       "      <td>2.417328</td>\n",
       "      <td>2.584219</td>\n",
       "      <td>0.001769</td>\n",
       "      <td>0.004248</td>\n",
       "      <td>-0.000203</td>\n",
       "      <td>1.488829</td>\n",
       "      <td>1.533670</td>\n",
       "      <td>1.519016</td>\n",
       "      <td>2.943074</td>\n",
       "      <td>3.047658</td>\n",
       "      <td>2.974786</td>\n",
       "      <td>1.112364</td>\n",
       "      <td>1.116171</td>\n",
       "      <td>1.118131</td>\n",
       "      <td>1.673260</td>\n",
       "      <td>1.756316</td>\n",
       "      <td>1.801693</td>\n",
       "      <td>-3.141593</td>\n",
       "      <td>3.141593</td>\n",
       "      <td>3.141593</td>\n",
       "      <td>-0.060539</td>\n",
       "      <td>2.675265</td>\n",
       "      <td>-2.614726</td>\n",
       "      <td>0.007360</td>\n",
       "      <td>0.006500</td>\n",
       "      <td>0.007636</td>\n",
       "      <td>3.490693</td>\n",
       "      <td>3.443414</td>\n",
       "      <td>3.666574</td>\n",
       "      <td>0.007045</td>\n",
       "      <td>0.007379</td>\n",
       "      <td>0.006799</td>\n",
       "      <td>0.006815</td>\n",
       "      <td>0.015612</td>\n",
       "      <td>0.010616</td>\n",
       "      <td>2.2</td>\n",
       "      <td>0</td>\n",
       "    </tr>\n",
       "    <tr>\n",
       "      <th>...</th>\n",
       "      <td>...</td>\n",
       "      <td>...</td>\n",
       "      <td>...</td>\n",
       "      <td>...</td>\n",
       "      <td>...</td>\n",
       "      <td>...</td>\n",
       "      <td>...</td>\n",
       "      <td>...</td>\n",
       "      <td>...</td>\n",
       "      <td>...</td>\n",
       "      <td>...</td>\n",
       "      <td>...</td>\n",
       "      <td>...</td>\n",
       "      <td>...</td>\n",
       "      <td>...</td>\n",
       "      <td>...</td>\n",
       "      <td>...</td>\n",
       "      <td>...</td>\n",
       "      <td>...</td>\n",
       "      <td>...</td>\n",
       "      <td>...</td>\n",
       "      <td>...</td>\n",
       "      <td>...</td>\n",
       "      <td>...</td>\n",
       "      <td>...</td>\n",
       "      <td>...</td>\n",
       "      <td>...</td>\n",
       "      <td>...</td>\n",
       "      <td>...</td>\n",
       "      <td>...</td>\n",
       "      <td>...</td>\n",
       "      <td>...</td>\n",
       "      <td>...</td>\n",
       "      <td>...</td>\n",
       "      <td>...</td>\n",
       "      <td>...</td>\n",
       "      <td>...</td>\n",
       "      <td>...</td>\n",
       "      <td>...</td>\n",
       "      <td>...</td>\n",
       "      <td>...</td>\n",
       "      <td>...</td>\n",
       "      <td>...</td>\n",
       "      <td>...</td>\n",
       "      <td>...</td>\n",
       "      <td>...</td>\n",
       "      <td>...</td>\n",
       "      <td>...</td>\n",
       "    </tr>\n",
       "    <tr>\n",
       "      <th>63</th>\n",
       "      <td>2020-11-03 21:18:03</td>\n",
       "      <td>4.098999</td>\n",
       "      <td>4.389282</td>\n",
       "      <td>4.259155</td>\n",
       "      <td>2.444800</td>\n",
       "      <td>2.522986</td>\n",
       "      <td>2.462057</td>\n",
       "      <td>8.167969</td>\n",
       "      <td>8.688477</td>\n",
       "      <td>8.408203</td>\n",
       "      <td>2.707278</td>\n",
       "      <td>2.817269</td>\n",
       "      <td>2.730550</td>\n",
       "      <td>-0.009245</td>\n",
       "      <td>-0.002507</td>\n",
       "      <td>0.006013</td>\n",
       "      <td>1.482517</td>\n",
       "      <td>1.535197</td>\n",
       "      <td>1.515165</td>\n",
       "      <td>3.017041</td>\n",
       "      <td>3.084007</td>\n",
       "      <td>3.079308</td>\n",
       "      <td>1.107362</td>\n",
       "      <td>1.116640</td>\n",
       "      <td>1.109052</td>\n",
       "      <td>1.676619</td>\n",
       "      <td>1.739717</td>\n",
       "      <td>1.729917</td>\n",
       "      <td>3.141593</td>\n",
       "      <td>3.141593</td>\n",
       "      <td>3.141593</td>\n",
       "      <td>-0.292505</td>\n",
       "      <td>3.353387</td>\n",
       "      <td>-3.060881</td>\n",
       "      <td>0.015706</td>\n",
       "      <td>0.014551</td>\n",
       "      <td>0.013413</td>\n",
       "      <td>4.013432</td>\n",
       "      <td>4.180293</td>\n",
       "      <td>4.047561</td>\n",
       "      <td>0.022645</td>\n",
       "      <td>0.021511</td>\n",
       "      <td>0.021657</td>\n",
       "      <td>0.029298</td>\n",
       "      <td>0.013492</td>\n",
       "      <td>0.024494</td>\n",
       "      <td>2.2</td>\n",
       "      <td>4</td>\n",
       "    </tr>\n",
       "    <tr>\n",
       "      <th>64</th>\n",
       "      <td>2021-01-21 14:26:45</td>\n",
       "      <td>3.843750</td>\n",
       "      <td>4.124023</td>\n",
       "      <td>3.803711</td>\n",
       "      <td>2.183070</td>\n",
       "      <td>2.283768</td>\n",
       "      <td>2.162250</td>\n",
       "      <td>7.527344</td>\n",
       "      <td>7.807617</td>\n",
       "      <td>7.166992</td>\n",
       "      <td>2.444272</td>\n",
       "      <td>2.559501</td>\n",
       "      <td>2.413223</td>\n",
       "      <td>0.001566</td>\n",
       "      <td>-0.000997</td>\n",
       "      <td>-0.000315</td>\n",
       "      <td>1.527269</td>\n",
       "      <td>1.522231</td>\n",
       "      <td>1.486834</td>\n",
       "      <td>3.079586</td>\n",
       "      <td>3.050445</td>\n",
       "      <td>2.969884</td>\n",
       "      <td>1.119649</td>\n",
       "      <td>1.120736</td>\n",
       "      <td>1.116071</td>\n",
       "      <td>1.760709</td>\n",
       "      <td>1.805798</td>\n",
       "      <td>1.759145</td>\n",
       "      <td>-3.141593</td>\n",
       "      <td>3.141593</td>\n",
       "      <td>3.141593</td>\n",
       "      <td>-0.134411</td>\n",
       "      <td>2.897562</td>\n",
       "      <td>-2.763151</td>\n",
       "      <td>0.026337</td>\n",
       "      <td>0.024540</td>\n",
       "      <td>0.024450</td>\n",
       "      <td>3.499118</td>\n",
       "      <td>3.651593</td>\n",
       "      <td>3.438307</td>\n",
       "      <td>0.024639</td>\n",
       "      <td>0.027316</td>\n",
       "      <td>0.028879</td>\n",
       "      <td>0.004319</td>\n",
       "      <td>0.016114</td>\n",
       "      <td>0.008935</td>\n",
       "      <td>2.2</td>\n",
       "      <td>4</td>\n",
       "    </tr>\n",
       "    <tr>\n",
       "      <th>65</th>\n",
       "      <td>2021-01-20 05:58:06</td>\n",
       "      <td>3.843750</td>\n",
       "      <td>4.284180</td>\n",
       "      <td>3.923828</td>\n",
       "      <td>2.156764</td>\n",
       "      <td>2.296080</td>\n",
       "      <td>2.163871</td>\n",
       "      <td>7.527344</td>\n",
       "      <td>8.087891</td>\n",
       "      <td>7.447266</td>\n",
       "      <td>2.418074</td>\n",
       "      <td>2.580644</td>\n",
       "      <td>2.417089</td>\n",
       "      <td>0.001633</td>\n",
       "      <td>-0.002171</td>\n",
       "      <td>0.001879</td>\n",
       "      <td>1.523236</td>\n",
       "      <td>1.529406</td>\n",
       "      <td>1.486196</td>\n",
       "      <td>3.112950</td>\n",
       "      <td>3.134060</td>\n",
       "      <td>3.081088</td>\n",
       "      <td>1.121158</td>\n",
       "      <td>1.123934</td>\n",
       "      <td>1.117021</td>\n",
       "      <td>1.782184</td>\n",
       "      <td>1.865867</td>\n",
       "      <td>1.813337</td>\n",
       "      <td>-3.141593</td>\n",
       "      <td>-3.141593</td>\n",
       "      <td>3.141593</td>\n",
       "      <td>-0.254588</td>\n",
       "      <td>3.017059</td>\n",
       "      <td>-2.762470</td>\n",
       "      <td>0.025312</td>\n",
       "      <td>0.024480</td>\n",
       "      <td>0.024495</td>\n",
       "      <td>3.665007</td>\n",
       "      <td>3.901317</td>\n",
       "      <td>3.652716</td>\n",
       "      <td>0.022886</td>\n",
       "      <td>0.023607</td>\n",
       "      <td>0.024540</td>\n",
       "      <td>0.008201</td>\n",
       "      <td>0.008697</td>\n",
       "      <td>0.008391</td>\n",
       "      <td>2.2</td>\n",
       "      <td>4</td>\n",
       "    </tr>\n",
       "    <tr>\n",
       "      <th>66</th>\n",
       "      <td>2020-11-05 20:15:27</td>\n",
       "      <td>4.554443</td>\n",
       "      <td>4.814697</td>\n",
       "      <td>4.754639</td>\n",
       "      <td>2.517957</td>\n",
       "      <td>2.600887</td>\n",
       "      <td>2.533342</td>\n",
       "      <td>9.048828</td>\n",
       "      <td>9.569336</td>\n",
       "      <td>9.369141</td>\n",
       "      <td>2.801026</td>\n",
       "      <td>2.917654</td>\n",
       "      <td>2.830122</td>\n",
       "      <td>-0.004164</td>\n",
       "      <td>-0.007920</td>\n",
       "      <td>0.004517</td>\n",
       "      <td>1.528339</td>\n",
       "      <td>1.571766</td>\n",
       "      <td>1.567663</td>\n",
       "      <td>3.230540</td>\n",
       "      <td>3.279805</td>\n",
       "      <td>3.310507</td>\n",
       "      <td>1.112420</td>\n",
       "      <td>1.121792</td>\n",
       "      <td>1.117150</td>\n",
       "      <td>1.808786</td>\n",
       "      <td>1.851175</td>\n",
       "      <td>1.876825</td>\n",
       "      <td>3.141593</td>\n",
       "      <td>-3.141593</td>\n",
       "      <td>-3.141593</td>\n",
       "      <td>-0.290483</td>\n",
       "      <td>3.791774</td>\n",
       "      <td>-3.501291</td>\n",
       "      <td>0.011491</td>\n",
       "      <td>0.014530</td>\n",
       "      <td>0.012727</td>\n",
       "      <td>3.954967</td>\n",
       "      <td>4.121005</td>\n",
       "      <td>3.992524</td>\n",
       "      <td>0.012922</td>\n",
       "      <td>0.012985</td>\n",
       "      <td>0.013675</td>\n",
       "      <td>0.033185</td>\n",
       "      <td>0.020771</td>\n",
       "      <td>0.017665</td>\n",
       "      <td>2.2</td>\n",
       "      <td>4</td>\n",
       "    </tr>\n",
       "    <tr>\n",
       "      <th>67</th>\n",
       "      <td>2020-11-03 23:18:06</td>\n",
       "      <td>4.013916</td>\n",
       "      <td>4.354248</td>\n",
       "      <td>4.334229</td>\n",
       "      <td>2.444805</td>\n",
       "      <td>2.539608</td>\n",
       "      <td>2.460991</td>\n",
       "      <td>8.007812</td>\n",
       "      <td>8.648438</td>\n",
       "      <td>8.488281</td>\n",
       "      <td>2.704341</td>\n",
       "      <td>2.839611</td>\n",
       "      <td>2.735473</td>\n",
       "      <td>-0.008644</td>\n",
       "      <td>-0.003991</td>\n",
       "      <td>0.008654</td>\n",
       "      <td>1.467088</td>\n",
       "      <td>1.528266</td>\n",
       "      <td>1.513728</td>\n",
       "      <td>2.961096</td>\n",
       "      <td>3.045641</td>\n",
       "      <td>3.103040</td>\n",
       "      <td>1.106158</td>\n",
       "      <td>1.118130</td>\n",
       "      <td>1.111533</td>\n",
       "      <td>1.641814</td>\n",
       "      <td>1.714536</td>\n",
       "      <td>1.761172</td>\n",
       "      <td>3.141593</td>\n",
       "      <td>3.141593</td>\n",
       "      <td>3.141593</td>\n",
       "      <td>-0.335167</td>\n",
       "      <td>3.314108</td>\n",
       "      <td>-2.978941</td>\n",
       "      <td>0.018846</td>\n",
       "      <td>0.017299</td>\n",
       "      <td>0.023157</td>\n",
       "      <td>3.963696</td>\n",
       "      <td>4.164000</td>\n",
       "      <td>4.006647</td>\n",
       "      <td>0.016118</td>\n",
       "      <td>0.014504</td>\n",
       "      <td>0.019394</td>\n",
       "      <td>0.032713</td>\n",
       "      <td>0.018706</td>\n",
       "      <td>0.027476</td>\n",
       "      <td>2.2</td>\n",
       "      <td>4</td>\n",
       "    </tr>\n",
       "  </tbody>\n",
       "</table>\n",
       "<p>27557 rows × 48 columns</p>\n",
       "</div>"
      ],
      "text/plain": [
       "                     0         1         2   ...        45   46  47\n",
       "0   2020-11-04 20:12:54  3.793701  3.793701  ...  0.008425  2.2   0\n",
       "1   2020-11-04 20:12:54  3.673584  3.793701  ...  0.010616  2.2   0\n",
       "2   2020-11-04 20:12:54  3.673584  3.833740  ...  0.008664  2.2   0\n",
       "3   2020-11-04 20:13:52  3.803711  3.803711  ...  0.008425  2.2   0\n",
       "4   2020-11-04 20:13:52  3.683594  3.803711  ...  0.010616  2.2   0\n",
       "..                  ...       ...       ...  ...       ...  ...  ..\n",
       "63  2020-11-03 21:18:03  4.098999  4.389282  ...  0.024494  2.2   4\n",
       "64  2021-01-21 14:26:45  3.843750  4.124023  ...  0.008935  2.2   4\n",
       "65  2021-01-20 05:58:06  3.843750  4.284180  ...  0.008391  2.2   4\n",
       "66  2020-11-05 20:15:27  4.554443  4.814697  ...  0.017665  2.2   4\n",
       "67  2020-11-03 23:18:06  4.013916  4.354248  ...  0.027476  2.2   4\n",
       "\n",
       "[27557 rows x 48 columns]"
      ]
     },
     "execution_count": 202,
     "metadata": {},
     "output_type": "execute_result"
    }
   ],
   "source": [
    "cur_val_99"
   ]
  },
  {
   "cell_type": "code",
   "execution_count": 203,
   "metadata": {
    "executionInfo": {
     "elapsed": 2,
     "status": "ok",
     "timestamp": 1631031699781,
     "user": {
      "displayName": "이서영",
      "photoUrl": "",
      "userId": "08706917529998634867"
     },
     "user_tz": -540
    },
    "id": "LSQ58EYy7yWy"
   },
   "outputs": [],
   "source": [
    "cur_val_99.columns = [\n",
    "        'Date',\n",
    "        'R_AbsMax', 'S_AbsMax', 'T_AbsMax', 'R_AbsMean', 'S_AbsMean','T_AbsMean',\n",
    "        'R_P2P', 'S_P2P', 'T_P2P', 'R_RMS', 'S_RMS', 'T_RMS', \n",
    "        'R_Skewness', 'S_Skewness', 'T_Skewness', 'R_Kurtosis', 'S_Kurtosis', 'T_Kurtosis',\n",
    "        'R_Crest', 'S_Crest', 'T_Crest', 'R_Shape', 'S_Shape', 'T_Shape',\n",
    "        'R_Impulse', 'S_Impulse', 'T_Impulse',\n",
    "        'RS_phase', 'ST_phase', 'TR_phase', 'RS_Level', 'ST_Level', 'TR_Level',\n",
    "        'R_1x', 'S_1x', 'T_1x', 'R_2x', 'S_2x', 'T_2x',\n",
    "        'R_3x', 'S_3x', 'T_3x', 'R_4x', 'S_4x', 'T_4x',\n",
    "        'WATT','LABEL'\n",
    "        ]"
   ]
  },
  {
   "cell_type": "code",
   "execution_count": 204,
   "metadata": {
    "colab": {
     "base_uri": "https://localhost:8080/",
     "height": 264
    },
    "executionInfo": {
     "elapsed": 358,
     "status": "ok",
     "timestamp": 1631031700486,
     "user": {
      "displayName": "이서영",
      "photoUrl": "",
      "userId": "08706917529998634867"
     },
     "user_tz": -540
    },
    "id": "T1RhxgHR7yWz",
    "outputId": "6e48e935-193b-40dd-d772-54aac4c054ee"
   },
   "outputs": [
    {
     "data": {
      "text/html": [
       "<div>\n",
       "<style scoped>\n",
       "    .dataframe tbody tr th:only-of-type {\n",
       "        vertical-align: middle;\n",
       "    }\n",
       "\n",
       "    .dataframe tbody tr th {\n",
       "        vertical-align: top;\n",
       "    }\n",
       "\n",
       "    .dataframe thead th {\n",
       "        text-align: right;\n",
       "    }\n",
       "</style>\n",
       "<table border=\"1\" class=\"dataframe\">\n",
       "  <thead>\n",
       "    <tr style=\"text-align: right;\">\n",
       "      <th></th>\n",
       "      <th>Date</th>\n",
       "      <th>R_AbsMax</th>\n",
       "      <th>S_AbsMax</th>\n",
       "      <th>T_AbsMax</th>\n",
       "      <th>R_AbsMean</th>\n",
       "      <th>S_AbsMean</th>\n",
       "      <th>T_AbsMean</th>\n",
       "      <th>R_P2P</th>\n",
       "      <th>S_P2P</th>\n",
       "      <th>T_P2P</th>\n",
       "      <th>R_RMS</th>\n",
       "      <th>S_RMS</th>\n",
       "      <th>T_RMS</th>\n",
       "      <th>R_Skewness</th>\n",
       "      <th>S_Skewness</th>\n",
       "      <th>T_Skewness</th>\n",
       "      <th>R_Kurtosis</th>\n",
       "      <th>S_Kurtosis</th>\n",
       "      <th>T_Kurtosis</th>\n",
       "      <th>R_Crest</th>\n",
       "      <th>S_Crest</th>\n",
       "      <th>T_Crest</th>\n",
       "      <th>R_Shape</th>\n",
       "      <th>S_Shape</th>\n",
       "      <th>T_Shape</th>\n",
       "      <th>R_Impulse</th>\n",
       "      <th>S_Impulse</th>\n",
       "      <th>T_Impulse</th>\n",
       "      <th>RS_phase</th>\n",
       "      <th>ST_phase</th>\n",
       "      <th>TR_phase</th>\n",
       "      <th>RS_Level</th>\n",
       "      <th>ST_Level</th>\n",
       "      <th>TR_Level</th>\n",
       "      <th>R_1x</th>\n",
       "      <th>S_1x</th>\n",
       "      <th>T_1x</th>\n",
       "      <th>R_2x</th>\n",
       "      <th>S_2x</th>\n",
       "      <th>T_2x</th>\n",
       "      <th>R_3x</th>\n",
       "      <th>S_3x</th>\n",
       "      <th>T_3x</th>\n",
       "      <th>R_4x</th>\n",
       "      <th>S_4x</th>\n",
       "      <th>T_4x</th>\n",
       "      <th>WATT</th>\n",
       "      <th>LABEL</th>\n",
       "    </tr>\n",
       "  </thead>\n",
       "  <tbody>\n",
       "    <tr>\n",
       "      <th>0</th>\n",
       "      <td>2020-11-04 20:12:54</td>\n",
       "      <td>3.793701</td>\n",
       "      <td>3.793701</td>\n",
       "      <td>4.154053</td>\n",
       "      <td>2.205342</td>\n",
       "      <td>2.169747</td>\n",
       "      <td>2.309003</td>\n",
       "      <td>7.327148</td>\n",
       "      <td>7.447266</td>\n",
       "      <td>7.727539</td>\n",
       "      <td>2.452880</td>\n",
       "      <td>2.421350</td>\n",
       "      <td>2.580566</td>\n",
       "      <td>0.004550</td>\n",
       "      <td>-0.000971</td>\n",
       "      <td>0.001870</td>\n",
       "      <td>1.490127</td>\n",
       "      <td>1.533284</td>\n",
       "      <td>1.518926</td>\n",
       "      <td>2.987162</td>\n",
       "      <td>3.075667</td>\n",
       "      <td>2.994513</td>\n",
       "      <td>1.112245</td>\n",
       "      <td>1.115959</td>\n",
       "      <td>1.117611</td>\n",
       "      <td>1.720233</td>\n",
       "      <td>1.748453</td>\n",
       "      <td>1.799068</td>\n",
       "      <td>-3.141593</td>\n",
       "      <td>3.141593</td>\n",
       "      <td>3.141593</td>\n",
       "      <td>-0.141378</td>\n",
       "      <td>2.756204</td>\n",
       "      <td>-2.614826</td>\n",
       "      <td>0.008610</td>\n",
       "      <td>0.006704</td>\n",
       "      <td>0.005422</td>\n",
       "      <td>3.463338</td>\n",
       "      <td>3.417413</td>\n",
       "      <td>3.626784</td>\n",
       "      <td>0.011671</td>\n",
       "      <td>0.012673</td>\n",
       "      <td>0.015285</td>\n",
       "      <td>0.014712</td>\n",
       "      <td>0.013995</td>\n",
       "      <td>0.008425</td>\n",
       "      <td>2.2</td>\n",
       "      <td>0</td>\n",
       "    </tr>\n",
       "    <tr>\n",
       "      <th>1</th>\n",
       "      <td>2020-11-04 20:12:54</td>\n",
       "      <td>3.673584</td>\n",
       "      <td>3.793701</td>\n",
       "      <td>4.154053</td>\n",
       "      <td>2.201408</td>\n",
       "      <td>2.165643</td>\n",
       "      <td>2.310865</td>\n",
       "      <td>7.207031</td>\n",
       "      <td>7.367188</td>\n",
       "      <td>7.687500</td>\n",
       "      <td>2.448460</td>\n",
       "      <td>2.416888</td>\n",
       "      <td>2.583111</td>\n",
       "      <td>0.001769</td>\n",
       "      <td>0.004248</td>\n",
       "      <td>-0.000203</td>\n",
       "      <td>1.488829</td>\n",
       "      <td>1.533670</td>\n",
       "      <td>1.519016</td>\n",
       "      <td>2.943496</td>\n",
       "      <td>3.048213</td>\n",
       "      <td>2.976062</td>\n",
       "      <td>1.112225</td>\n",
       "      <td>1.116014</td>\n",
       "      <td>1.117812</td>\n",
       "      <td>1.668743</td>\n",
       "      <td>1.751767</td>\n",
       "      <td>1.797618</td>\n",
       "      <td>-3.141593</td>\n",
       "      <td>3.141593</td>\n",
       "      <td>3.141593</td>\n",
       "      <td>-0.060539</td>\n",
       "      <td>2.675265</td>\n",
       "      <td>-2.614726</td>\n",
       "      <td>0.007360</td>\n",
       "      <td>0.006500</td>\n",
       "      <td>0.007636</td>\n",
       "      <td>3.490693</td>\n",
       "      <td>3.443414</td>\n",
       "      <td>3.666574</td>\n",
       "      <td>0.007045</td>\n",
       "      <td>0.007379</td>\n",
       "      <td>0.006799</td>\n",
       "      <td>0.006815</td>\n",
       "      <td>0.015612</td>\n",
       "      <td>0.010616</td>\n",
       "      <td>2.2</td>\n",
       "      <td>0</td>\n",
       "    </tr>\n",
       "    <tr>\n",
       "      <th>2</th>\n",
       "      <td>2020-11-04 20:12:54</td>\n",
       "      <td>3.673584</td>\n",
       "      <td>3.833740</td>\n",
       "      <td>4.154053</td>\n",
       "      <td>2.197003</td>\n",
       "      <td>2.162560</td>\n",
       "      <td>2.308042</td>\n",
       "      <td>7.207031</td>\n",
       "      <td>7.407227</td>\n",
       "      <td>7.727539</td>\n",
       "      <td>2.442441</td>\n",
       "      <td>2.413953</td>\n",
       "      <td>2.580329</td>\n",
       "      <td>0.005779</td>\n",
       "      <td>-0.001246</td>\n",
       "      <td>-0.000570</td>\n",
       "      <td>1.487704</td>\n",
       "      <td>1.533323</td>\n",
       "      <td>1.518998</td>\n",
       "      <td>2.950749</td>\n",
       "      <td>3.068504</td>\n",
       "      <td>2.994789</td>\n",
       "      <td>1.111715</td>\n",
       "      <td>1.116248</td>\n",
       "      <td>1.117973</td>\n",
       "      <td>1.672088</td>\n",
       "      <td>1.772779</td>\n",
       "      <td>1.799817</td>\n",
       "      <td>-3.141593</td>\n",
       "      <td>3.141593</td>\n",
       "      <td>-3.141593</td>\n",
       "      <td>-0.056795</td>\n",
       "      <td>2.673964</td>\n",
       "      <td>-2.617168</td>\n",
       "      <td>0.006502</td>\n",
       "      <td>0.005655</td>\n",
       "      <td>0.004288</td>\n",
       "      <td>3.484169</td>\n",
       "      <td>3.443272</td>\n",
       "      <td>3.664395</td>\n",
       "      <td>0.013236</td>\n",
       "      <td>0.011662</td>\n",
       "      <td>0.011017</td>\n",
       "      <td>0.014893</td>\n",
       "      <td>0.014687</td>\n",
       "      <td>0.008664</td>\n",
       "      <td>2.2</td>\n",
       "      <td>0</td>\n",
       "    </tr>\n",
       "  </tbody>\n",
       "</table>\n",
       "</div>"
      ],
      "text/plain": [
       "                  Date  R_AbsMax  S_AbsMax  ...      T_4x  WATT  LABEL\n",
       "0  2020-11-04 20:12:54  3.793701  3.793701  ...  0.008425   2.2      0\n",
       "1  2020-11-04 20:12:54  3.673584  3.793701  ...  0.010616   2.2      0\n",
       "2  2020-11-04 20:12:54  3.673584  3.833740  ...  0.008664   2.2      0\n",
       "\n",
       "[3 rows x 48 columns]"
      ]
     },
     "execution_count": 204,
     "metadata": {},
     "output_type": "execute_result"
    }
   ],
   "source": [
    "cur_val_99.head(3)"
   ]
  },
  {
   "cell_type": "code",
   "execution_count": 205,
   "metadata": {
    "colab": {
     "base_uri": "https://localhost:8080/"
    },
    "executionInfo": {
     "elapsed": 4,
     "status": "ok",
     "timestamp": 1631031701200,
     "user": {
      "displayName": "이서영",
      "photoUrl": "",
      "userId": "08706917529998634867"
     },
     "user_tz": -540
    },
    "id": "z0h6ZPyb7yWz",
    "outputId": "4f827710-df6c-4e53-ddab-f31d0f38f5d5"
   },
   "outputs": [
    {
     "name": "stdout",
     "output_type": "stream",
     "text": [
      "(220374, 48)\n",
      "(27557, 48)\n"
     ]
    }
   ],
   "source": [
    "print(cur_train_99.shape)\n",
    "print(cur_val_99.shape)"
   ]
  },
  {
   "cell_type": "code",
   "execution_count": 207,
   "metadata": {
    "executionInfo": {
     "elapsed": 253,
     "status": "ok",
     "timestamp": 1631031750446,
     "user": {
      "displayName": "이서영",
      "photoUrl": "",
      "userId": "08706917529998634867"
     },
     "user_tz": -540
    },
    "id": "lvlKiOb57yWz"
   },
   "outputs": [],
   "source": [
    "pd_cur_tr_99 = cur_train_99.drop(columns = ['Date','WATT','LABEL'])\n",
    "pd_cur_val_99 = cur_val_99.drop(columns = ['Date','WATT','LABEL'])\n",
    "\n",
    "pd_cur_tr_99 = pd_cur_tr_99.drop([\"R_Skewness\", \"S_Skewness\", \"T_Skewness\", \"R_Kurtosis\", \"R_Impulse\", \"ST_phase\", \"TR_phase\",\"T_Kurtosis\", \"RS_Level\"],axis=1)\n",
    "pd_cur_val_99 = pd_cur_val_99.drop([\"R_Skewness\", \"S_Skewness\", \"T_Skewness\", \"R_Kurtosis\", \"R_Impulse\", \"ST_phase\", \"TR_phase\",\"T_Kurtosis\", \"RS_Level\"],axis=1)"
   ]
  },
  {
   "cell_type": "code",
   "execution_count": 208,
   "metadata": {
    "colab": {
     "base_uri": "https://localhost:8080/",
     "height": 162
    },
    "executionInfo": {
     "elapsed": 250,
     "status": "ok",
     "timestamp": 1631031763582,
     "user": {
      "displayName": "이서영",
      "photoUrl": "",
      "userId": "08706917529998634867"
     },
     "user_tz": -540
    },
    "id": "T6C-vnmtD8j6",
    "outputId": "55b79d88-dc9c-459d-ceae-cc29f320404c"
   },
   "outputs": [
    {
     "data": {
      "text/html": [
       "<div>\n",
       "<style scoped>\n",
       "    .dataframe tbody tr th:only-of-type {\n",
       "        vertical-align: middle;\n",
       "    }\n",
       "\n",
       "    .dataframe tbody tr th {\n",
       "        vertical-align: top;\n",
       "    }\n",
       "\n",
       "    .dataframe thead th {\n",
       "        text-align: right;\n",
       "    }\n",
       "</style>\n",
       "<table border=\"1\" class=\"dataframe\">\n",
       "  <thead>\n",
       "    <tr style=\"text-align: right;\">\n",
       "      <th></th>\n",
       "      <th>R_AbsMax</th>\n",
       "      <th>S_AbsMax</th>\n",
       "      <th>T_AbsMax</th>\n",
       "      <th>R_AbsMean</th>\n",
       "      <th>S_AbsMean</th>\n",
       "      <th>T_AbsMean</th>\n",
       "      <th>R_P2P</th>\n",
       "      <th>S_P2P</th>\n",
       "      <th>T_P2P</th>\n",
       "      <th>R_RMS</th>\n",
       "      <th>S_RMS</th>\n",
       "      <th>T_RMS</th>\n",
       "      <th>S_Kurtosis</th>\n",
       "      <th>R_Crest</th>\n",
       "      <th>S_Crest</th>\n",
       "      <th>T_Crest</th>\n",
       "      <th>R_Shape</th>\n",
       "      <th>S_Shape</th>\n",
       "      <th>T_Shape</th>\n",
       "      <th>S_Impulse</th>\n",
       "      <th>T_Impulse</th>\n",
       "      <th>RS_phase</th>\n",
       "      <th>ST_Level</th>\n",
       "      <th>TR_Level</th>\n",
       "      <th>R_1x</th>\n",
       "      <th>S_1x</th>\n",
       "      <th>T_1x</th>\n",
       "      <th>R_2x</th>\n",
       "      <th>S_2x</th>\n",
       "      <th>T_2x</th>\n",
       "      <th>R_3x</th>\n",
       "      <th>S_3x</th>\n",
       "      <th>T_3x</th>\n",
       "      <th>R_4x</th>\n",
       "      <th>S_4x</th>\n",
       "      <th>T_4x</th>\n",
       "    </tr>\n",
       "  </thead>\n",
       "  <tbody>\n",
       "    <tr>\n",
       "      <th>0</th>\n",
       "      <td>3.643555</td>\n",
       "      <td>3.883789</td>\n",
       "      <td>4.124023</td>\n",
       "      <td>2.152260</td>\n",
       "      <td>2.154582</td>\n",
       "      <td>2.290735</td>\n",
       "      <td>7.126953</td>\n",
       "      <td>7.527344</td>\n",
       "      <td>7.687500</td>\n",
       "      <td>2.393055</td>\n",
       "      <td>2.405278</td>\n",
       "      <td>2.559434</td>\n",
       "      <td>1.539047</td>\n",
       "      <td>2.978182</td>\n",
       "      <td>3.129510</td>\n",
       "      <td>3.003594</td>\n",
       "      <td>1.111880</td>\n",
       "      <td>1.116355</td>\n",
       "      <td>1.117298</td>\n",
       "      <td>1.802572</td>\n",
       "      <td>1.800306</td>\n",
       "      <td>-3.141593</td>\n",
       "      <td>2.754963</td>\n",
       "      <td>-2.573546</td>\n",
       "      <td>0.002448</td>\n",
       "      <td>0.004323</td>\n",
       "      <td>0.003780</td>\n",
       "      <td>3.536451</td>\n",
       "      <td>3.553066</td>\n",
       "      <td>3.763136</td>\n",
       "      <td>0.021705</td>\n",
       "      <td>0.023957</td>\n",
       "      <td>0.020911</td>\n",
       "      <td>0.057528</td>\n",
       "      <td>0.057195</td>\n",
       "      <td>0.057517</td>\n",
       "    </tr>\n",
       "    <tr>\n",
       "      <th>1</th>\n",
       "      <td>3.643555</td>\n",
       "      <td>3.803711</td>\n",
       "      <td>4.164062</td>\n",
       "      <td>2.161249</td>\n",
       "      <td>2.163811</td>\n",
       "      <td>2.301946</td>\n",
       "      <td>7.126953</td>\n",
       "      <td>7.447266</td>\n",
       "      <td>7.727539</td>\n",
       "      <td>2.405001</td>\n",
       "      <td>2.415769</td>\n",
       "      <td>2.573205</td>\n",
       "      <td>1.538511</td>\n",
       "      <td>2.963389</td>\n",
       "      <td>3.082773</td>\n",
       "      <td>3.003080</td>\n",
       "      <td>1.112783</td>\n",
       "      <td>1.116442</td>\n",
       "      <td>1.117839</td>\n",
       "      <td>1.757876</td>\n",
       "      <td>1.808932</td>\n",
       "      <td>-3.141593</td>\n",
       "      <td>2.755303</td>\n",
       "      <td>-2.573446</td>\n",
       "      <td>0.007313</td>\n",
       "      <td>0.011833</td>\n",
       "      <td>0.012369</td>\n",
       "      <td>3.521399</td>\n",
       "      <td>3.533756</td>\n",
       "      <td>3.747315</td>\n",
       "      <td>0.009876</td>\n",
       "      <td>0.010175</td>\n",
       "      <td>0.010687</td>\n",
       "      <td>0.011616</td>\n",
       "      <td>0.013211</td>\n",
       "      <td>0.010941</td>\n",
       "    </tr>\n",
       "    <tr>\n",
       "      <th>2</th>\n",
       "      <td>3.683594</td>\n",
       "      <td>3.803711</td>\n",
       "      <td>4.164062</td>\n",
       "      <td>2.152920</td>\n",
       "      <td>2.151939</td>\n",
       "      <td>2.289333</td>\n",
       "      <td>7.166992</td>\n",
       "      <td>7.367188</td>\n",
       "      <td>7.727539</td>\n",
       "      <td>2.394561</td>\n",
       "      <td>2.401572</td>\n",
       "      <td>2.559190</td>\n",
       "      <td>1.537529</td>\n",
       "      <td>2.993029</td>\n",
       "      <td>3.067652</td>\n",
       "      <td>3.019525</td>\n",
       "      <td>1.112239</td>\n",
       "      <td>1.116004</td>\n",
       "      <td>1.117876</td>\n",
       "      <td>1.767573</td>\n",
       "      <td>1.818897</td>\n",
       "      <td>-3.141593</td>\n",
       "      <td>2.676847</td>\n",
       "      <td>-2.573206</td>\n",
       "      <td>0.010866</td>\n",
       "      <td>0.016296</td>\n",
       "      <td>0.012448</td>\n",
       "      <td>3.506221</td>\n",
       "      <td>3.519853</td>\n",
       "      <td>3.728701</td>\n",
       "      <td>0.017622</td>\n",
       "      <td>0.011568</td>\n",
       "      <td>0.014016</td>\n",
       "      <td>0.012954</td>\n",
       "      <td>0.016530</td>\n",
       "      <td>0.011328</td>\n",
       "    </tr>\n",
       "  </tbody>\n",
       "</table>\n",
       "</div>"
      ],
      "text/plain": [
       "   R_AbsMax  S_AbsMax  T_AbsMax  ...      R_4x      S_4x      T_4x\n",
       "0  3.643555  3.883789  4.124023  ...  0.057528  0.057195  0.057517\n",
       "1  3.643555  3.803711  4.164062  ...  0.011616  0.013211  0.010941\n",
       "2  3.683594  3.803711  4.164062  ...  0.012954  0.016530  0.011328\n",
       "\n",
       "[3 rows x 36 columns]"
      ]
     },
     "execution_count": 208,
     "metadata": {},
     "output_type": "execute_result"
    }
   ],
   "source": [
    "pd_cur_tr_99.head(3)"
   ]
  },
  {
   "cell_type": "code",
   "execution_count": 209,
   "metadata": {
    "executionInfo": {
     "elapsed": 801,
     "status": "ok",
     "timestamp": 1631031769067,
     "user": {
      "displayName": "이서영",
      "photoUrl": "",
      "userId": "08706917529998634867"
     },
     "user_tz": -540
    },
    "id": "YQ8LW_ikD5Jf"
   },
   "outputs": [],
   "source": [
    "np_cur_tr_99 = pd_cur_tr_99.to_numpy()\n",
    "np_cur_val_99 = pd_cur_val_99.to_numpy()\n",
    "\n",
    "#라벨 추출\n",
    "np_tr_99 = cur_train_99.to_numpy()\n",
    "np_vl_99 = cur_val_99.to_numpy()"
   ]
  },
  {
   "cell_type": "code",
   "execution_count": 210,
   "metadata": {
    "colab": {
     "base_uri": "https://localhost:8080/"
    },
    "executionInfo": {
     "elapsed": 274,
     "status": "ok",
     "timestamp": 1631031778720,
     "user": {
      "displayName": "이서영",
      "photoUrl": "",
      "userId": "08706917529998634867"
     },
     "user_tz": -540
    },
    "id": "aUVuW2i27yWz",
    "outputId": "4b2fc769-96e3-49a1-a6da-7afc20d1ce7a"
   },
   "outputs": [
    {
     "name": "stdout",
     "output_type": "stream",
     "text": [
      "[0 0 0 ... 4 4 4]\n",
      "[0 0 0 ... 4 4 4]\n"
     ]
    }
   ],
   "source": [
    "tr_lb_99 = np_tr_99[:,-1]\n",
    "v_lb_99 = np_vl_99[:, -1]\n",
    "\n",
    "print(tr_lb_99)\n",
    "print(v_lb_99)"
   ]
  },
  {
   "cell_type": "code",
   "execution_count": 235,
   "metadata": {
    "executionInfo": {
     "elapsed": 327,
     "status": "ok",
     "timestamp": 1631031912250,
     "user": {
      "displayName": "이서영",
      "photoUrl": "",
      "userId": "08706917529998634867"
     },
     "user_tz": -540
    },
    "id": "GZVHZCT97yWz"
   },
   "outputs": [],
   "source": [
    "x_train, x_test, y_train, y_test = train_test_split(pd_cur_tr_99, tr_lb_99, test_size=0.2, random_state=42)"
   ]
  },
  {
   "cell_type": "code",
   "execution_count": 236,
   "metadata": {
    "colab": {
     "base_uri": "https://localhost:8080/"
    },
    "executionInfo": {
     "elapsed": 4,
     "status": "ok",
     "timestamp": 1631031913446,
     "user": {
      "displayName": "이서영",
      "photoUrl": "",
      "userId": "08706917529998634867"
     },
     "user_tz": -540
    },
    "id": "zZYsPkEu7yWz",
    "outputId": "41a8cc51-88a0-4425-a830-356fe23744e1"
   },
   "outputs": [
    {
     "name": "stdout",
     "output_type": "stream",
     "text": [
      "(176299, 36)\n",
      "(44075, 36)\n",
      "==================================================\n",
      "(176299,)\n",
      "(44075,)\n",
      "==================================================\n",
      "(27557, 36)\n",
      "(27557,)\n"
     ]
    }
   ],
   "source": [
    "print(x_train.shape)\n",
    "print(x_test.shape)\n",
    "\n",
    "print(\"=\"*50)\n",
    "\n",
    "print(y_train.shape)\n",
    "print(y_test.shape)\n",
    "\n",
    "print(\"=\"*50)\n",
    "\n",
    "x_valid = pd_cur_val_99\n",
    "y_valid = v_lb_99\n",
    "\n",
    "print(x_valid.shape)\n",
    "print(y_valid.shape)"
   ]
  },
  {
   "cell_type": "code",
   "execution_count": 237,
   "metadata": {
    "colab": {
     "base_uri": "https://localhost:8080/"
    },
    "executionInfo": {
     "elapsed": 383,
     "status": "ok",
     "timestamp": 1631031914907,
     "user": {
      "displayName": "이서영",
      "photoUrl": "",
      "userId": "08706917529998634867"
     },
     "user_tz": -540
    },
    "id": "mbLUTzp9B-n1",
    "outputId": "a9167125-1b82-43a3-b748-314e429ae894"
   },
   "outputs": [
    {
     "data": {
      "text/plain": [
       "array([0, 1, 2, 3, 4], dtype=object)"
      ]
     },
     "execution_count": 237,
     "metadata": {},
     "output_type": "execute_result"
    }
   ],
   "source": [
    "classes = np.unique(np.concatenate((y_train, y_test), axis=0))  # classes = array([-1,  1])\n",
    "classes"
   ]
  },
  {
   "cell_type": "code",
   "execution_count": 238,
   "metadata": {
    "colab": {
     "base_uri": "https://localhost:8080/",
     "height": 585
    },
    "executionInfo": {
     "elapsed": 1189,
     "status": "ok",
     "timestamp": 1631031916094,
     "user": {
      "displayName": "이서영",
      "photoUrl": "",
      "userId": "08706917529998634867"
     },
     "user_tz": -540
    },
    "id": "_BV8RjHJ7yW0",
    "outputId": "a11d6c8d-7cf8-40fd-91c4-4f057fa9b7eb"
   },
   "outputs": [
    {
     "data": {
      "image/png": "[encoded data removed]",
      "text/plain": [
       "<Figure size 1080x576 with 3 Axes>"
      ]
     },
     "metadata": {
      "needs_background": "light"
     },
     "output_type": "display_data"
    }
   ],
   "source": [
    "x = np.arange(len(classes))  # Plot의 X축의 개수 구하기\n",
    "\n",
    "labels = [\"Normal\", \"AF\", \"BL\", \"SF\", \"BF\"]   # Plot의 X축의 이름 구하기\n",
    "\n",
    "values_train = [(y_train_99 == i).sum() for i in classes]  # Train 데이터의 정상/비정상 각 총 개수\n",
    "values_valid = [(y_valid == i).sum() for i in classes]  # Test 데이터의 정상/비정상 각 총 개수\n",
    "values_test = [(y_test_99 == i).sum() for i in classes]  # Test 데이터의 정상/비정상 각 총 개수\n",
    "\n",
    "plt.figure(figsize=(15,8))  # Plot 틀(Figure)의 Size 설정 (5X3)\n",
    "\n",
    "plt.subplot(1,3,1)   # Plot 틀(Figure) 내 3개의 subplot 중 첫 번째(왼쪽) 지정\n",
    "plt.title(\"Training Data\")  # subplot 제목\n",
    "plt.bar(x, values_train, width=0.6, color=[\"lightcoral\", \"wheat\",\"turquoise\",\"lightblue\",\"plum\"])  # Train 데이터의 정상/비정상 개수 BarPlot\n",
    "plt.ylim([0, 30000])\n",
    "plt.xticks(x, labels)  # X축에 변수 기입\n",
    "\n",
    "plt.subplot(1,3,2)  # Plot 틀(Figure) 내 3개의 subplot 중 두 번째(가운데) 지정\n",
    "plt.title(\"Validation Data\")\n",
    "plt.bar(x, values_valid, width=0.6,color=[\"lightcoral\", \"wheat\",\"turquoise\",\"lightblue\",\"plum\"])  # Test 데이터의 정상/비정상 개수 BarPlot\n",
    "plt.ylim([0, 5000])\n",
    "plt.xticks(x, labels)  \n",
    "\n",
    "plt.subplot(1,3,3)  # Plot 틀(Figure) 내 3개의 subplot 중 세 번째(오른쪽) 지정\n",
    "plt.title(\"Test Data\")\n",
    "plt.bar(x, values_test, width=0.6, color=[\"lightcoral\", \"wheat\",\"turquoise\",\"lightblue\",\"plum\"])  # Test 데이터의 정상/비정상 개수 BarPlot\n",
    "plt.ylim([0, 8000])\n",
    "plt.xticks(x, labels)\n",
    "\n",
    "plt.tight_layout()  # 그림 저장\n",
    "plt.savefig(folder_path +'/img/99.5%_data_status.png', dpi=100, bbox_inches='tight')  # 그림 저장\n",
    "plt.show()  # 그림 출력"
   ]
  },
  {
   "cell_type": "code",
   "execution_count": 239,
   "metadata": {
    "colab": {
     "base_uri": "https://localhost:8080/"
    },
    "executionInfo": {
     "elapsed": 11,
     "status": "ok",
     "timestamp": 1631031916095,
     "user": {
      "displayName": "이서영",
      "photoUrl": "",
      "userId": "08706917529998634867"
     },
     "user_tz": -540
    },
    "id": "-Iq3LiHU7yW0",
    "outputId": "bcc5de7f-298f-41d5-c6c3-cd0028d34a13"
   },
   "outputs": [
    {
     "name": "stdout",
     "output_type": "stream",
     "text": [
      "x_train_exp의 형태: (176299, 36, 1)\n",
      "y_train_exp의 형태: (176299,)\n",
      "==================================================\n",
      "x_valid_exp의 형태: (27557, 36, 1)\n",
      "y_valid_exp의 형태: (27557,)\n",
      "==================================================\n",
      "x_test_exp의 형태: (44075, 36, 1)\n",
      "y_test_exp의 형태: (44075,)\n"
     ]
    }
   ],
   "source": [
    "# CNN, RNN 모델의 입력 변수는 채널 축 1개 차원을 확장시킨 3D Tensor이다.\n",
    "# 즉 아래 CNN, RNN 모델은 x_train, x_valid, x_test를 입력 변수로 넣지 않고, \n",
    "# x_train_exp, x_valid_exp, x_test_exp을 넣는다. \n",
    "x_train_exp = np.expand_dims(x_train, -1)  # 채널 축 1개 차원을 확장 시킨(Expand) X_train\n",
    "x_valid_exp = np.expand_dims(x_valid, -1)  # 채널 축 1개 차원을 확장 시킨(Expand) X_vaild \n",
    "x_test_exp = np.expand_dims(x_test, -1)  # 채널 축 1개 차원을 확장 시킨(Expand) X_test\n",
    "\n",
    "# 위와 동일한 코드\n",
    "# x_train_exp = x_train.reshape((x_train.shape[0], x_train.shape[1], 1))\n",
    "# x_valid_exp = x_train.reshape((x_valid.shape[0], x_valid.shape[1], 1))\n",
    "# x_test_exp = x_test.reshape((x_test.shape[0], x_test.shape[1], 1))\n",
    "\n",
    "print(\"x_train_exp의 형태:\", x_train_exp.shape)\n",
    "print(\"y_train_exp의 형태:\", y_train.shape)\n",
    "\n",
    "print(\"=\" * 50)\n",
    "\n",
    "print(\"x_valid_exp의 형태:\", x_valid_exp.shape)\n",
    "print(\"y_valid_exp의 형태:\", y_valid.shape)\n",
    "\n",
    "print(\"=\" * 50)\n",
    "\n",
    "print(\"x_test_exp의 형태:\", x_test_exp.shape)\n",
    "print(\"y_test_exp의 형태:\", y_test.shape)"
   ]
  },
  {
   "cell_type": "code",
   "execution_count": 256,
   "metadata": {
    "executionInfo": {
     "elapsed": 291,
     "status": "ok",
     "timestamp": 1631032412421,
     "user": {
      "displayName": "이서영",
      "photoUrl": "",
      "userId": "08706917529998634867"
     },
     "user_tz": -540
    },
    "id": "2T5Ie_aRDF2y"
   },
   "outputs": [],
   "source": [
    "x_train_exp = np.asarray(x_train_exp).astype('float32')\n",
    "y_train = np.asarray(y_train).astype('float32')\n",
    "y_valid = np.asarray(y_valid).astype('float32')\n",
    "x_valid_exp = np.asarray(x_valid_exp).astype('float32')\n",
    "\n",
    "\n",
    "x_test_exp = np.asarray(x_test_exp).astype('float32')\n",
    "y_test = np.asarray(y_test).astype('float32')"
   ]
  },
  {
   "cell_type": "markdown",
   "metadata": {
    "id": "xsFLRnKjC579"
   },
   "source": [
    "# LSTM"
   ]
  },
  {
   "cell_type": "code",
   "execution_count": 249,
   "metadata": {
    "executionInfo": {
     "elapsed": 368,
     "status": "ok",
     "timestamp": 1631032143276,
     "user": {
      "displayName": "이서영",
      "photoUrl": "",
      "userId": "08706917529998634867"
     },
     "user_tz": -540
    },
    "id": "i_D8c-fBCjz8"
   },
   "outputs": [],
   "source": [
    "def make_lstm_model():\n",
    "  model=Sequential()\n",
    "  model.add(LSTM(units=256, return_sequences=True))\n",
    "  model.add(Flatten())\n",
    "  model.add(Dense(100, activation='relu'))\n",
    "  model. add(Dense(5, activation='softmax'))\n",
    "  return model"
   ]
  },
  {
   "cell_type": "markdown",
   "metadata": {
    "id": "izOW1vAYF2aA"
   },
   "source": []
  },
  {
   "cell_type": "code",
   "execution_count": 250,
   "metadata": {
    "executionInfo": {
     "elapsed": 2,
     "status": "ok",
     "timestamp": 1631032143276,
     "user": {
      "displayName": "이서영",
      "photoUrl": "",
      "userId": "08706917529998634867"
     },
     "user_tz": -540
    },
    "id": "CeippyNiC7O9"
   },
   "outputs": [],
   "source": [
    "lstm = make_lstm_model()"
   ]
  },
  {
   "cell_type": "code",
   "execution_count": 251,
   "metadata": {
    "executionInfo": {
     "elapsed": 2,
     "status": "ok",
     "timestamp": 1631032143625,
     "user": {
      "displayName": "이서영",
      "photoUrl": "",
      "userId": "08706917529998634867"
     },
     "user_tz": -540
    },
    "id": "rhrE7YUhC8zR"
   },
   "outputs": [],
   "source": [
    "EPOCHS = 300\n",
    "BATCH_SIZE = 64"
   ]
  },
  {
   "cell_type": "code",
   "execution_count": 252,
   "metadata": {
    "executionInfo": {
     "elapsed": 2,
     "status": "ok",
     "timestamp": 1631032143625,
     "user": {
      "displayName": "이서영",
      "photoUrl": "",
      "userId": "08706917529998634867"
     },
     "user_tz": -540
    },
    "id": "_wIVZ3SGC-Ah"
   },
   "outputs": [],
   "source": [
    "lstm.compile(loss=\"sparse_categorical_crossentropy\", \n",
    "                  optimizer='adam', \n",
    "                  metrics=[\"accuracy\"]\n",
    "                 )"
   ]
  },
  {
   "cell_type": "code",
   "execution_count": 253,
   "metadata": {
    "executionInfo": {
     "elapsed": 3,
     "status": "ok",
     "timestamp": 1631032143970,
     "user": {
      "displayName": "이서영",
      "photoUrl": "",
      "userId": "08706917529998634867"
     },
     "user_tz": -540
    },
    "id": "pVAKKdOMC-yO"
   },
   "outputs": [],
   "source": [
    "callbacks = [ModelCheckpoint(folder_path + '/best_model.h5',\n",
    "                             monitor='val_loss',\n",
    "                             save_best_only=True),\n",
    "             ReduceLROnPlateau(\n",
    "                 monitor=\"val_loss\", factor=0.5, patience=20, min_lr=0.0001\n",
    "                 ),\n",
    "             EarlyStopping(monitor=\"val_loss\", patience=10, verbose=1)\n",
    "             ]"
   ]
  },
  {
   "cell_type": "code",
   "execution_count": 254,
   "metadata": {
    "colab": {
     "base_uri": "https://localhost:8080/"
    },
    "executionInfo": {
     "elapsed": 188139,
     "status": "ok",
     "timestamp": 1631032332107,
     "user": {
      "displayName": "이서영",
      "photoUrl": "",
      "userId": "08706917529998634867"
     },
     "user_tz": -540
    },
    "id": "xCWu8GCRC_fL",
    "outputId": "07ffc707-6a4e-4d91-e75c-3963015a9168"
   },
   "outputs": [
    {
     "name": "stdout",
     "output_type": "stream",
     "text": [
      "Epoch 1/300\n",
      "2755/2755 [==============================] - 18s 5ms/step - loss: 0.0627 - accuracy: 0.9902 - val_loss: 0.0531 - val_accuracy: 0.9901\n",
      "Epoch 2/300\n",
      "2755/2755 [==============================] - 13s 5ms/step - loss: 0.0465 - accuracy: 0.9906 - val_loss: 0.0555 - val_accuracy: 0.9839\n",
      "Epoch 3/300\n",
      "2755/2755 [==============================] - 13s 5ms/step - loss: 0.0324 - accuracy: 0.9922 - val_loss: 0.0728 - val_accuracy: 0.9834\n",
      "Epoch 4/300\n",
      "2755/2755 [==============================] - 13s 5ms/step - loss: 0.0291 - accuracy: 0.9926 - val_loss: 0.0483 - val_accuracy: 0.9833\n",
      "Epoch 5/300\n",
      "2755/2755 [==============================] - 13s 5ms/step - loss: 0.0261 - accuracy: 0.9932 - val_loss: 0.0675 - val_accuracy: 0.9830\n",
      "Epoch 6/300\n",
      "2755/2755 [==============================] - 13s 5ms/step - loss: 0.0245 - accuracy: 0.9936 - val_loss: 0.0590 - val_accuracy: 0.9835\n",
      "Epoch 7/300\n",
      "2755/2755 [==============================] - 13s 5ms/step - loss: 0.0231 - accuracy: 0.9939 - val_loss: 0.0767 - val_accuracy: 0.9819\n",
      "Epoch 8/300\n",
      "2755/2755 [==============================] - 13s 5ms/step - loss: 0.0215 - accuracy: 0.9944 - val_loss: 0.0688 - val_accuracy: 0.9802\n",
      "Epoch 9/300\n",
      "2755/2755 [==============================] - 13s 5ms/step - loss: 0.0205 - accuracy: 0.9945 - val_loss: 0.0802 - val_accuracy: 0.9826\n",
      "Epoch 10/300\n",
      "2755/2755 [==============================] - 13s 5ms/step - loss: 0.0194 - accuracy: 0.9948 - val_loss: 0.0638 - val_accuracy: 0.9849\n",
      "Epoch 11/300\n",
      "2755/2755 [==============================] - 13s 5ms/step - loss: 0.0184 - accuracy: 0.9949 - val_loss: 0.0830 - val_accuracy: 0.9857\n",
      "Epoch 12/300\n",
      "2755/2755 [==============================] - 13s 5ms/step - loss: 0.0182 - accuracy: 0.9949 - val_loss: 0.0603 - val_accuracy: 0.9846\n",
      "Epoch 13/300\n",
      "2755/2755 [==============================] - 13s 5ms/step - loss: 0.0173 - accuracy: 0.9951 - val_loss: 0.0655 - val_accuracy: 0.9858\n",
      "Epoch 14/300\n",
      "2755/2755 [==============================] - 13s 5ms/step - loss: 0.0166 - accuracy: 0.9955 - val_loss: 0.0530 - val_accuracy: 0.9857\n",
      "Epoch 00014: early stopping\n"
     ]
    }
   ],
   "source": [
    "history = lstm.fit(\n",
    "    x_train_exp,\n",
    "    y_train,\n",
    "    batch_size=BATCH_SIZE,\n",
    "    epochs=EPOCHS,\n",
    "    callbacks=callbacks,\n",
    "    validation_data=(x_valid_exp, y_valid),\n",
    "    verbose=1\n",
    ")"
   ]
  },
  {
   "cell_type": "code",
   "execution_count": 257,
   "metadata": {
    "colab": {
     "base_uri": "https://localhost:8080/"
    },
    "executionInfo": {
     "elapsed": 3854,
     "status": "ok",
     "timestamp": 1631032419241,
     "user": {
      "displayName": "이서영",
      "photoUrl": "",
      "userId": "08706917529998634867"
     },
     "user_tz": -540
    },
    "id": "2WJznt9_DAsk",
    "outputId": "f23127ce-a9eb-40c6-f898-6640b7b59000"
   },
   "outputs": [
    {
     "name": "stdout",
     "output_type": "stream",
     "text": [
      "1378/1378 [==============================] - 4s 3ms/step - loss: 0.0160 - accuracy: 0.9951\n",
      "\n",
      "Test accuracy 0.995076596736908\n",
      "\n",
      "Test loss 0.016032325103878975\n",
      "accuracy: 99.51%\n"
     ]
    }
   ],
   "source": [
    "scores = lstm.evaluate(x_test_exp, y_test)\n",
    "\n",
    "print(\"\\n\"\"Test accuracy\", scores[1])\n",
    "print(\"\\n\"\"Test loss\", scores[0])\n",
    "print(\"%s: %.2f%%\" % (lstm.metrics_names[1], scores[1]*100))"
   ]
  },
  {
   "cell_type": "code",
   "execution_count": null,
   "metadata": {
    "executionInfo": {
     "elapsed": 4,
     "status": "aborted",
     "timestamp": 1631032332108,
     "user": {
      "displayName": "이서영",
      "photoUrl": "",
      "userId": "08706917529998634867"
     },
     "user_tz": -540
    },
    "id": "j5Q1YVc9F29T"
   },
   "outputs": [],
   "source": []
  }
 ],
 "metadata": {
  "accelerator": "GPU",
  "colab": {
   "collapsed_sections": [],
   "machine_shape": "hm",
   "name": "3.99%_lstm.ipynb",
   "provenance": []
  },
  "kernelspec": {
   "display_name": "Python 3",
   "language": "python",
   "name": "python3"
  },
  "language_info": {
   "codemirror_mode": {
    "name": "ipython",
    "version": 3
   },
   "file_extension": ".py",
   "mimetype": "text/x-python",
   "name": "python",
   "nbconvert_exporter": "python",
   "pygments_lexer": "ipython3",
   "version": "3.8.5"
  }
 },
 "nbformat": 4,
 "nbformat_minor": 4
}
