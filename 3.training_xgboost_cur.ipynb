{
 "cells": [
  {
   "cell_type": "markdown",
   "metadata": {},
   "source": [
    "# CUR _ XGBoost "
   ]
  },
  {
   "cell_type": "code",
   "execution_count": 20,
   "metadata": {},
   "outputs": [],
   "source": [
    "from time import sleep\n",
    "import numpy as np\n",
    "import pandas as pd\n",
    "\n",
    "import scipy\n",
    "import sklearn \n",
    "from sklearn.metrics import accuracy_score, classification_report\n",
    "\n",
    "from scipy.stats import skew, kurtosis"
   ]
  },
  {
   "cell_type": "code",
   "execution_count": 21,
   "metadata": {},
   "outputs": [],
   "source": [
    "folder_path = \"C:/Users/qhrrl/CodeExamples/3.Paper/0.Dataset\""
   ]
  },
  {
   "cell_type": "code",
   "execution_count": 22,
   "metadata": {},
   "outputs": [],
   "source": [
    "pd_train = pd.read_csv(folder_path + '/cur_training_all.csv')\n",
    "pd_val = pd.read_csv(folder_path + '/cur_validation_all.csv')"
   ]
  },
  {
   "cell_type": "code",
   "execution_count": 23,
   "metadata": {},
   "outputs": [
    {
     "name": "stdout",
     "output_type": "stream",
     "text": [
      "(305534, 48)\n",
      "(38210, 48)\n",
      "305534\n",
      "38210\n"
     ]
    }
   ],
   "source": [
    "print(pd_train.shape)\n",
    "print(pd_val.shape)\n",
    "\n",
    "print(len(pd_train))\n",
    "print(len(pd_val))"
   ]
  },
  {
   "cell_type": "code",
   "execution_count": 24,
   "metadata": {},
   "outputs": [],
   "source": [
    "np_train = pd_train.to_numpy()\n",
    "np_val = pd_val.to_numpy()\n",
    "\n",
    "tr_labels = np_train[:,-1]\n",
    "y_valid = np_val[:, -1]"
   ]
  },
  {
   "cell_type": "code",
   "execution_count": 25,
   "metadata": {},
   "outputs": [],
   "source": [
    "pd_train = pd_train.drop(columns = ['Date','WATT','LABEL'])\n",
    "pd_val = pd_val.drop(columns = ['Date','WATT','LABEL'])"
   ]
  },
  {
   "cell_type": "code",
   "execution_count": 26,
   "metadata": {},
   "outputs": [],
   "source": [
    "train = pd_train.to_numpy()\n",
    "x_valid = pd_val.to_numpy()"
   ]
  },
  {
   "cell_type": "code",
   "execution_count": 27,
   "metadata": {},
   "outputs": [],
   "source": [
    "from sklearn.model_selection import train_test_split\n",
    "\n",
    "x_train, x_test, y_train, y_test = train_test_split(train, tr_labels, test_size=0.2, random_state=42)"
   ]
  },
  {
   "cell_type": "code",
   "execution_count": 28,
   "metadata": {},
   "outputs": [],
   "source": [
    "from xgboost import XGBClassifier\n",
    "\n",
    "\"\"\"\n",
    "# 반드시 튜닝해야할 파라미터는  min_child_weight / max_depth / gamma\n",
    "\"\"\"\n",
    "\n",
    "xgb = XGBClassifier(\n",
    "    learning_rate=0.1, \n",
    "    n_estimators=500, \n",
    "    max_depth=5,\n",
    "    min_child_weight=3, \n",
    "    gamma=0.2, \n",
    "    subsample=0.6, \n",
    "    colsample_bytree=1.0,\n",
    "    objective='multi:softprob', \n",
    "    nthread=4, \n",
    "    scale_pos_weight=1, \n",
    "    seed=27)"
   ]
  },
  {
   "cell_type": "code",
   "execution_count": null,
   "metadata": {},
   "outputs": [],
   "source": [
    "from sklearn.model_selection import GridSearchCV\n",
    "\n",
    "# grid search를 하고 싶을 경우 아래 Code를 주석 해제\n",
    "\n",
    "parameters = {\n",
    "    \"learning_rate\" : [0.1, 0.01, 0.001, 0.0001],\n",
    "   # \"eta\"    : [0.05, 0.10, 0.15, 0.20, 0.25, 0.30 ] ,\n",
    "    \"max_depth\"        : [ 3, 4, 5, 6, 8, 10, 12, 15],\n",
    "      \"min_child_weight\" : [ 1, 3, 5, 7 ],\n",
    "      \"gamma\"            : [ 0.0, 0.1, 0.2 , 0.3, 0.4],\n",
    "      \"colsample_bytree\" : [ 0.3, 0.4, 0.5 , 0.7 ]\n",
    "      }\n",
    "\n",
    "grid = GridSearchCV(xgb,\n",
    "                    parameters, n_jobs=4,\n",
    "                    scoring=\"neg_log_loss\",\n",
    "                    cv=5)\n",
    "grid.fit(\n",
    "    x_train.squeeze(), \n",
    "    y_train, \n",
    "    eval_metric=\"auc\", \n",
    "    eval_set=[(x_train, y_train), (x_valid, y_valid)], \n",
    "    verbose=True)\n",
    "\n",
    "##여기까지 실행했는데 계속 500epoch가 반복되고 코드가 끝나지 않아서 뒤에는 실행을 못햇습니다."
   ]
  },
  {
   "cell_type": "code",
   "execution_count": null,
   "metadata": {},
   "outputs": [],
   "source": [
    "#XGboost평가\n",
    "\n",
    "from sklearn.metrics import accuracy_score, roc_auc_score, f1_score\n",
    "\n",
    "y_pred = xgb.predict(x_test)\n",
    "y_pred_proba = xgb.predict_proba(x_test)[:, 1]\n",
    "\n",
    "print(\"\\nAbout xgboost model\")\n",
    "print(\"Accuracy : %.4g\" % accuracy_score(y_test, y_pred))\n",
    "print(\"AUC Score (training set): %f\" % roc_auc_score(y_test, y_pred_proba))\n",
    "print(\"F1 Score (training set): %f\" % f1_score(y_test, y_pred))"
   ]
  },
  {
   "cell_type": "code",
   "execution_count": null,
   "metadata": {},
   "outputs": [],
   "source": [
    "draw_confusion_matrix(xgb, x_test, y_test, \"xgboost\")"
   ]
  },
  {
   "cell_type": "code",
   "execution_count": null,
   "metadata": {},
   "outputs": [],
   "source": [
    "draw_roc(xgb, x_test, y_test, \"xgboost\")"
   ]
  }
 ],
 "metadata": {
  "kernelspec": {
   "display_name": "Python 3",
   "language": "python",
   "name": "python3"
  },
  "language_info": {
   "codemirror_mode": {
    "name": "ipython",
    "version": 3
   },
   "file_extension": ".py",
   "mimetype": "text/x-python",
   "name": "python",
   "nbconvert_exporter": "python",
   "pygments_lexer": "ipython3",
   "version": "3.8.5"
  }
 },
 "nbformat": 4,
 "nbformat_minor": 4
}
